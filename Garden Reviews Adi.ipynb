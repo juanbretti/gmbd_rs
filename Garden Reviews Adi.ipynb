{
 "cells": [
  {
   "cell_type": "code",
   "execution_count": 67,
   "metadata": {},
   "outputs": [],
   "source": [
    "import pandas as pd\n",
    "import gzip\n",
    "\n",
    "def parse(path):\n",
    "  g = gzip.open(path, 'rb')\n",
    "  for l in g:\n",
    "    yield eval(l)\n",
    "\n",
    "def getDF(path):\n",
    "  i = 0\n",
    "  df = {}\n",
    "  for d in parse(path):\n",
    "    df[i] = d\n",
    "    i += 1\n",
    "  return pd.DataFrame.from_dict(df, orient='index')\n",
    "\n",
    "df = getDF('/Users/addisonpelayo/Desktop/reviews_Patio_Lawn_and_Garden_5.json.gz')"
   ]
  },
  {
   "cell_type": "code",
   "execution_count": 68,
   "metadata": {},
   "outputs": [
    {
     "data": {
      "text/html": [
       "<div>\n",
       "<style scoped>\n",
       "    .dataframe tbody tr th:only-of-type {\n",
       "        vertical-align: middle;\n",
       "    }\n",
       "\n",
       "    .dataframe tbody tr th {\n",
       "        vertical-align: top;\n",
       "    }\n",
       "\n",
       "    .dataframe thead th {\n",
       "        text-align: right;\n",
       "    }\n",
       "</style>\n",
       "<table border=\"1\" class=\"dataframe\">\n",
       "  <thead>\n",
       "    <tr style=\"text-align: right;\">\n",
       "      <th></th>\n",
       "      <th>reviewerID</th>\n",
       "      <th>asin</th>\n",
       "      <th>reviewerName</th>\n",
       "      <th>helpful</th>\n",
       "      <th>reviewText</th>\n",
       "      <th>overall</th>\n",
       "      <th>summary</th>\n",
       "      <th>unixReviewTime</th>\n",
       "      <th>reviewTime</th>\n",
       "    </tr>\n",
       "  </thead>\n",
       "  <tbody>\n",
       "    <tr>\n",
       "      <th>0</th>\n",
       "      <td>A1JZFGZEZVWQPY</td>\n",
       "      <td>B00002N674</td>\n",
       "      <td>Carter H \"1amazonreviewer@gmail . com\"</td>\n",
       "      <td>[4, 4]</td>\n",
       "      <td>Good USA company that stands behind their prod...</td>\n",
       "      <td>4.0</td>\n",
       "      <td>Great Hoses</td>\n",
       "      <td>1308614400</td>\n",
       "      <td>06 21, 2011</td>\n",
       "    </tr>\n",
       "    <tr>\n",
       "      <th>1</th>\n",
       "      <td>A32JCI4AK2JTTG</td>\n",
       "      <td>B00002N674</td>\n",
       "      <td>Darryl Bennett \"Fuzzy342\"</td>\n",
       "      <td>[0, 0]</td>\n",
       "      <td>This is a high quality 8 ply hose. I have had ...</td>\n",
       "      <td>5.0</td>\n",
       "      <td>Gilmour 10-58050 8-ply Flexogen Hose 5/8-Inch ...</td>\n",
       "      <td>1402272000</td>\n",
       "      <td>06 9, 2014</td>\n",
       "    </tr>\n",
       "    <tr>\n",
       "      <th>2</th>\n",
       "      <td>A3N0P5AAMP6XD2</td>\n",
       "      <td>B00002N674</td>\n",
       "      <td>H B</td>\n",
       "      <td>[2, 3]</td>\n",
       "      <td>It's probably one of the best hoses I've ever ...</td>\n",
       "      <td>4.0</td>\n",
       "      <td>Very satisfied!</td>\n",
       "      <td>1336176000</td>\n",
       "      <td>05 5, 2012</td>\n",
       "    </tr>\n",
       "    <tr>\n",
       "      <th>3</th>\n",
       "      <td>A2QK7UNJ857YG</td>\n",
       "      <td>B00002N674</td>\n",
       "      <td>Jason</td>\n",
       "      <td>[0, 0]</td>\n",
       "      <td>I probably should have bought something a bit ...</td>\n",
       "      <td>5.0</td>\n",
       "      <td>Very high quality</td>\n",
       "      <td>1373846400</td>\n",
       "      <td>07 15, 2013</td>\n",
       "    </tr>\n",
       "    <tr>\n",
       "      <th>4</th>\n",
       "      <td>AS0CYBAN6EM06</td>\n",
       "      <td>B00002N674</td>\n",
       "      <td>jimmy</td>\n",
       "      <td>[1, 1]</td>\n",
       "      <td>I bought three of these 5/8-inch Flexogen hose...</td>\n",
       "      <td>5.0</td>\n",
       "      <td>Good Hoses</td>\n",
       "      <td>1375660800</td>\n",
       "      <td>08 5, 2013</td>\n",
       "    </tr>\n",
       "    <tr>\n",
       "      <th>...</th>\n",
       "      <td>...</td>\n",
       "      <td>...</td>\n",
       "      <td>...</td>\n",
       "      <td>...</td>\n",
       "      <td>...</td>\n",
       "      <td>...</td>\n",
       "      <td>...</td>\n",
       "      <td>...</td>\n",
       "      <td>...</td>\n",
       "    </tr>\n",
       "    <tr>\n",
       "      <th>13267</th>\n",
       "      <td>AT53ZTTO707MB</td>\n",
       "      <td>B00KS0F4FI</td>\n",
       "      <td>I Do The Speed Limit</td>\n",
       "      <td>[1, 2]</td>\n",
       "      <td>Simple.  Perfect.  Plenty big enough.  Durable...</td>\n",
       "      <td>5.0</td>\n",
       "      <td>Great pair of claws</td>\n",
       "      <td>1403827200</td>\n",
       "      <td>06 27, 2014</td>\n",
       "    </tr>\n",
       "    <tr>\n",
       "      <th>13268</th>\n",
       "      <td>AYB4ELCS5AM8P</td>\n",
       "      <td>B00KS0F4FI</td>\n",
       "      <td>John B. Goode \"JBG\"</td>\n",
       "      <td>[0, 0]</td>\n",
       "      <td>These claws are fantastic. They are made of ha...</td>\n",
       "      <td>5.0</td>\n",
       "      <td>Sharp...</td>\n",
       "      <td>1405123200</td>\n",
       "      <td>07 12, 2014</td>\n",
       "    </tr>\n",
       "    <tr>\n",
       "      <th>13269</th>\n",
       "      <td>AZMY6E8B52L2T</td>\n",
       "      <td>B00KS0F4FI</td>\n",
       "      <td>JP \"J.P.\"</td>\n",
       "      <td>[1, 3]</td>\n",
       "      <td>I really like theseOuddy Heat Resistant Meat C...</td>\n",
       "      <td>5.0</td>\n",
       "      <td>Really Helpful...</td>\n",
       "      <td>1405123200</td>\n",
       "      <td>07 12, 2014</td>\n",
       "    </tr>\n",
       "    <tr>\n",
       "      <th>13270</th>\n",
       "      <td>AEC90GPFKLAAW</td>\n",
       "      <td>B00KS0F4FI</td>\n",
       "      <td>Lisa Kearns \"Lisa Kearns\"</td>\n",
       "      <td>[0, 0]</td>\n",
       "      <td>I make pulled pork in the crock pot pretty oft...</td>\n",
       "      <td>5.0</td>\n",
       "      <td>Shreds meat perfectly!</td>\n",
       "      <td>1405468800</td>\n",
       "      <td>07 16, 2014</td>\n",
       "    </tr>\n",
       "    <tr>\n",
       "      <th>13271</th>\n",
       "      <td>A3LGT6UZL99IW1</td>\n",
       "      <td>B00KS0F4FI</td>\n",
       "      <td>Richard C. Drew \"Anaal Nathra/Uthe vas Bethod...</td>\n",
       "      <td>[1, 2]</td>\n",
       "      <td>When I first saw these, I thought &amp;#34;Hmmm. W...</td>\n",
       "      <td>5.0</td>\n",
       "      <td>Get all Wolverine on your meat</td>\n",
       "      <td>1403740800</td>\n",
       "      <td>06 26, 2014</td>\n",
       "    </tr>\n",
       "  </tbody>\n",
       "</table>\n",
       "<p>13272 rows × 9 columns</p>\n",
       "</div>"
      ],
      "text/plain": [
       "           reviewerID        asin  \\\n",
       "0      A1JZFGZEZVWQPY  B00002N674   \n",
       "1      A32JCI4AK2JTTG  B00002N674   \n",
       "2      A3N0P5AAMP6XD2  B00002N674   \n",
       "3       A2QK7UNJ857YG  B00002N674   \n",
       "4       AS0CYBAN6EM06  B00002N674   \n",
       "...               ...         ...   \n",
       "13267   AT53ZTTO707MB  B00KS0F4FI   \n",
       "13268   AYB4ELCS5AM8P  B00KS0F4FI   \n",
       "13269   AZMY6E8B52L2T  B00KS0F4FI   \n",
       "13270   AEC90GPFKLAAW  B00KS0F4FI   \n",
       "13271  A3LGT6UZL99IW1  B00KS0F4FI   \n",
       "\n",
       "                                           reviewerName helpful  \\\n",
       "0                Carter H \"1amazonreviewer@gmail . com\"  [4, 4]   \n",
       "1                             Darryl Bennett \"Fuzzy342\"  [0, 0]   \n",
       "2                                                   H B  [2, 3]   \n",
       "3                                                 Jason  [0, 0]   \n",
       "4                                                 jimmy  [1, 1]   \n",
       "...                                                 ...     ...   \n",
       "13267                              I Do The Speed Limit  [1, 2]   \n",
       "13268                               John B. Goode \"JBG\"  [0, 0]   \n",
       "13269                                         JP \"J.P.\"  [1, 3]   \n",
       "13270                         Lisa Kearns \"Lisa Kearns\"  [0, 0]   \n",
       "13271  Richard C. Drew \"Anaal Nathra/Uthe vas Bethod...  [1, 2]   \n",
       "\n",
       "                                              reviewText  overall  \\\n",
       "0      Good USA company that stands behind their prod...      4.0   \n",
       "1      This is a high quality 8 ply hose. I have had ...      5.0   \n",
       "2      It's probably one of the best hoses I've ever ...      4.0   \n",
       "3      I probably should have bought something a bit ...      5.0   \n",
       "4      I bought three of these 5/8-inch Flexogen hose...      5.0   \n",
       "...                                                  ...      ...   \n",
       "13267  Simple.  Perfect.  Plenty big enough.  Durable...      5.0   \n",
       "13268  These claws are fantastic. They are made of ha...      5.0   \n",
       "13269  I really like theseOuddy Heat Resistant Meat C...      5.0   \n",
       "13270  I make pulled pork in the crock pot pretty oft...      5.0   \n",
       "13271  When I first saw these, I thought &#34;Hmmm. W...      5.0   \n",
       "\n",
       "                                                 summary  unixReviewTime  \\\n",
       "0                                            Great Hoses      1308614400   \n",
       "1      Gilmour 10-58050 8-ply Flexogen Hose 5/8-Inch ...      1402272000   \n",
       "2                                        Very satisfied!      1336176000   \n",
       "3                                      Very high quality      1373846400   \n",
       "4                                             Good Hoses      1375660800   \n",
       "...                                                  ...             ...   \n",
       "13267                                Great pair of claws      1403827200   \n",
       "13268                                           Sharp...      1405123200   \n",
       "13269                                  Really Helpful...      1405123200   \n",
       "13270                             Shreds meat perfectly!      1405468800   \n",
       "13271                     Get all Wolverine on your meat      1403740800   \n",
       "\n",
       "        reviewTime  \n",
       "0      06 21, 2011  \n",
       "1       06 9, 2014  \n",
       "2       05 5, 2012  \n",
       "3      07 15, 2013  \n",
       "4       08 5, 2013  \n",
       "...            ...  \n",
       "13267  06 27, 2014  \n",
       "13268  07 12, 2014  \n",
       "13269  07 12, 2014  \n",
       "13270  07 16, 2014  \n",
       "13271  06 26, 2014  \n",
       "\n",
       "[13272 rows x 9 columns]"
      ]
     },
     "execution_count": 68,
     "metadata": {},
     "output_type": "execute_result"
    }
   ],
   "source": [
    "df"
   ]
  },
  {
   "cell_type": "code",
   "execution_count": 69,
   "metadata": {},
   "outputs": [
    {
     "data": {
      "text/html": [
       "        <script type=\"text/javascript\">\n",
       "        window.PlotlyConfig = {MathJaxConfig: 'local'};\n",
       "        if (window.MathJax) {MathJax.Hub.Config({SVG: {font: \"STIX-Web\"}});}\n",
       "        if (typeof require !== 'undefined') {\n",
       "        require.undef(\"plotly\");\n",
       "        requirejs.config({\n",
       "            paths: {\n",
       "                'plotly': ['https://cdn.plot.ly/plotly-latest.min']\n",
       "            }\n",
       "        });\n",
       "        require(['plotly'], function(Plotly) {\n",
       "            window._Plotly = Plotly;\n",
       "        });\n",
       "        }\n",
       "        </script>\n",
       "        "
      ]
     },
     "metadata": {},
     "output_type": "display_data"
    },
    {
     "data": {
      "application/vnd.plotly.v1+json": {
       "config": {
        "linkText": "Export to plot.ly",
        "plotlyServerURL": "https://plot.ly",
        "showLink": false
       },
       "data": [
        {
         "text": [
          "53.0 %",
          "25.5 %",
          "12.5 %",
          "5.1 %",
          "3.9 %"
         ],
         "textfont": {
          "color": "#000000"
         },
         "textposition": "auto",
         "type": "bar",
         "x": [
          5,
          4,
          3,
          2,
          1
         ],
         "y": [
          7037,
          3384,
          1659,
          673,
          519
         ]
        }
       ],
       "layout": {
        "template": {
         "data": {
          "bar": [
           {
            "error_x": {
             "color": "#2a3f5f"
            },
            "error_y": {
             "color": "#2a3f5f"
            },
            "marker": {
             "line": {
              "color": "#E5ECF6",
              "width": 0.5
             }
            },
            "type": "bar"
           }
          ],
          "barpolar": [
           {
            "marker": {
             "line": {
              "color": "#E5ECF6",
              "width": 0.5
             }
            },
            "type": "barpolar"
           }
          ],
          "carpet": [
           {
            "aaxis": {
             "endlinecolor": "#2a3f5f",
             "gridcolor": "white",
             "linecolor": "white",
             "minorgridcolor": "white",
             "startlinecolor": "#2a3f5f"
            },
            "baxis": {
             "endlinecolor": "#2a3f5f",
             "gridcolor": "white",
             "linecolor": "white",
             "minorgridcolor": "white",
             "startlinecolor": "#2a3f5f"
            },
            "type": "carpet"
           }
          ],
          "choropleth": [
           {
            "colorbar": {
             "outlinewidth": 0,
             "ticks": ""
            },
            "type": "choropleth"
           }
          ],
          "contour": [
           {
            "colorbar": {
             "outlinewidth": 0,
             "ticks": ""
            },
            "colorscale": [
             [
              0,
              "#0d0887"
             ],
             [
              0.1111111111111111,
              "#46039f"
             ],
             [
              0.2222222222222222,
              "#7201a8"
             ],
             [
              0.3333333333333333,
              "#9c179e"
             ],
             [
              0.4444444444444444,
              "#bd3786"
             ],
             [
              0.5555555555555556,
              "#d8576b"
             ],
             [
              0.6666666666666666,
              "#ed7953"
             ],
             [
              0.7777777777777778,
              "#fb9f3a"
             ],
             [
              0.8888888888888888,
              "#fdca26"
             ],
             [
              1,
              "#f0f921"
             ]
            ],
            "type": "contour"
           }
          ],
          "contourcarpet": [
           {
            "colorbar": {
             "outlinewidth": 0,
             "ticks": ""
            },
            "type": "contourcarpet"
           }
          ],
          "heatmap": [
           {
            "colorbar": {
             "outlinewidth": 0,
             "ticks": ""
            },
            "colorscale": [
             [
              0,
              "#0d0887"
             ],
             [
              0.1111111111111111,
              "#46039f"
             ],
             [
              0.2222222222222222,
              "#7201a8"
             ],
             [
              0.3333333333333333,
              "#9c179e"
             ],
             [
              0.4444444444444444,
              "#bd3786"
             ],
             [
              0.5555555555555556,
              "#d8576b"
             ],
             [
              0.6666666666666666,
              "#ed7953"
             ],
             [
              0.7777777777777778,
              "#fb9f3a"
             ],
             [
              0.8888888888888888,
              "#fdca26"
             ],
             [
              1,
              "#f0f921"
             ]
            ],
            "type": "heatmap"
           }
          ],
          "heatmapgl": [
           {
            "colorbar": {
             "outlinewidth": 0,
             "ticks": ""
            },
            "colorscale": [
             [
              0,
              "#0d0887"
             ],
             [
              0.1111111111111111,
              "#46039f"
             ],
             [
              0.2222222222222222,
              "#7201a8"
             ],
             [
              0.3333333333333333,
              "#9c179e"
             ],
             [
              0.4444444444444444,
              "#bd3786"
             ],
             [
              0.5555555555555556,
              "#d8576b"
             ],
             [
              0.6666666666666666,
              "#ed7953"
             ],
             [
              0.7777777777777778,
              "#fb9f3a"
             ],
             [
              0.8888888888888888,
              "#fdca26"
             ],
             [
              1,
              "#f0f921"
             ]
            ],
            "type": "heatmapgl"
           }
          ],
          "histogram": [
           {
            "marker": {
             "colorbar": {
              "outlinewidth": 0,
              "ticks": ""
             }
            },
            "type": "histogram"
           }
          ],
          "histogram2d": [
           {
            "colorbar": {
             "outlinewidth": 0,
             "ticks": ""
            },
            "colorscale": [
             [
              0,
              "#0d0887"
             ],
             [
              0.1111111111111111,
              "#46039f"
             ],
             [
              0.2222222222222222,
              "#7201a8"
             ],
             [
              0.3333333333333333,
              "#9c179e"
             ],
             [
              0.4444444444444444,
              "#bd3786"
             ],
             [
              0.5555555555555556,
              "#d8576b"
             ],
             [
              0.6666666666666666,
              "#ed7953"
             ],
             [
              0.7777777777777778,
              "#fb9f3a"
             ],
             [
              0.8888888888888888,
              "#fdca26"
             ],
             [
              1,
              "#f0f921"
             ]
            ],
            "type": "histogram2d"
           }
          ],
          "histogram2dcontour": [
           {
            "colorbar": {
             "outlinewidth": 0,
             "ticks": ""
            },
            "colorscale": [
             [
              0,
              "#0d0887"
             ],
             [
              0.1111111111111111,
              "#46039f"
             ],
             [
              0.2222222222222222,
              "#7201a8"
             ],
             [
              0.3333333333333333,
              "#9c179e"
             ],
             [
              0.4444444444444444,
              "#bd3786"
             ],
             [
              0.5555555555555556,
              "#d8576b"
             ],
             [
              0.6666666666666666,
              "#ed7953"
             ],
             [
              0.7777777777777778,
              "#fb9f3a"
             ],
             [
              0.8888888888888888,
              "#fdca26"
             ],
             [
              1,
              "#f0f921"
             ]
            ],
            "type": "histogram2dcontour"
           }
          ],
          "mesh3d": [
           {
            "colorbar": {
             "outlinewidth": 0,
             "ticks": ""
            },
            "type": "mesh3d"
           }
          ],
          "parcoords": [
           {
            "line": {
             "colorbar": {
              "outlinewidth": 0,
              "ticks": ""
             }
            },
            "type": "parcoords"
           }
          ],
          "pie": [
           {
            "automargin": true,
            "type": "pie"
           }
          ],
          "scatter": [
           {
            "marker": {
             "colorbar": {
              "outlinewidth": 0,
              "ticks": ""
             }
            },
            "type": "scatter"
           }
          ],
          "scatter3d": [
           {
            "line": {
             "colorbar": {
              "outlinewidth": 0,
              "ticks": ""
             }
            },
            "marker": {
             "colorbar": {
              "outlinewidth": 0,
              "ticks": ""
             }
            },
            "type": "scatter3d"
           }
          ],
          "scattercarpet": [
           {
            "marker": {
             "colorbar": {
              "outlinewidth": 0,
              "ticks": ""
             }
            },
            "type": "scattercarpet"
           }
          ],
          "scattergeo": [
           {
            "marker": {
             "colorbar": {
              "outlinewidth": 0,
              "ticks": ""
             }
            },
            "type": "scattergeo"
           }
          ],
          "scattergl": [
           {
            "marker": {
             "colorbar": {
              "outlinewidth": 0,
              "ticks": ""
             }
            },
            "type": "scattergl"
           }
          ],
          "scattermapbox": [
           {
            "marker": {
             "colorbar": {
              "outlinewidth": 0,
              "ticks": ""
             }
            },
            "type": "scattermapbox"
           }
          ],
          "scatterpolar": [
           {
            "marker": {
             "colorbar": {
              "outlinewidth": 0,
              "ticks": ""
             }
            },
            "type": "scatterpolar"
           }
          ],
          "scatterpolargl": [
           {
            "marker": {
             "colorbar": {
              "outlinewidth": 0,
              "ticks": ""
             }
            },
            "type": "scatterpolargl"
           }
          ],
          "scatterternary": [
           {
            "marker": {
             "colorbar": {
              "outlinewidth": 0,
              "ticks": ""
             }
            },
            "type": "scatterternary"
           }
          ],
          "surface": [
           {
            "colorbar": {
             "outlinewidth": 0,
             "ticks": ""
            },
            "colorscale": [
             [
              0,
              "#0d0887"
             ],
             [
              0.1111111111111111,
              "#46039f"
             ],
             [
              0.2222222222222222,
              "#7201a8"
             ],
             [
              0.3333333333333333,
              "#9c179e"
             ],
             [
              0.4444444444444444,
              "#bd3786"
             ],
             [
              0.5555555555555556,
              "#d8576b"
             ],
             [
              0.6666666666666666,
              "#ed7953"
             ],
             [
              0.7777777777777778,
              "#fb9f3a"
             ],
             [
              0.8888888888888888,
              "#fdca26"
             ],
             [
              1,
              "#f0f921"
             ]
            ],
            "type": "surface"
           }
          ],
          "table": [
           {
            "cells": {
             "fill": {
              "color": "#EBF0F8"
             },
             "line": {
              "color": "white"
             }
            },
            "header": {
             "fill": {
              "color": "#C8D4E3"
             },
             "line": {
              "color": "white"
             }
            },
            "type": "table"
           }
          ]
         },
         "layout": {
          "annotationdefaults": {
           "arrowcolor": "#2a3f5f",
           "arrowhead": 0,
           "arrowwidth": 1
          },
          "coloraxis": {
           "colorbar": {
            "outlinewidth": 0,
            "ticks": ""
           }
          },
          "colorscale": {
           "diverging": [
            [
             0,
             "#8e0152"
            ],
            [
             0.1,
             "#c51b7d"
            ],
            [
             0.2,
             "#de77ae"
            ],
            [
             0.3,
             "#f1b6da"
            ],
            [
             0.4,
             "#fde0ef"
            ],
            [
             0.5,
             "#f7f7f7"
            ],
            [
             0.6,
             "#e6f5d0"
            ],
            [
             0.7,
             "#b8e186"
            ],
            [
             0.8,
             "#7fbc41"
            ],
            [
             0.9,
             "#4d9221"
            ],
            [
             1,
             "#276419"
            ]
           ],
           "sequential": [
            [
             0,
             "#0d0887"
            ],
            [
             0.1111111111111111,
             "#46039f"
            ],
            [
             0.2222222222222222,
             "#7201a8"
            ],
            [
             0.3333333333333333,
             "#9c179e"
            ],
            [
             0.4444444444444444,
             "#bd3786"
            ],
            [
             0.5555555555555556,
             "#d8576b"
            ],
            [
             0.6666666666666666,
             "#ed7953"
            ],
            [
             0.7777777777777778,
             "#fb9f3a"
            ],
            [
             0.8888888888888888,
             "#fdca26"
            ],
            [
             1,
             "#f0f921"
            ]
           ],
           "sequentialminus": [
            [
             0,
             "#0d0887"
            ],
            [
             0.1111111111111111,
             "#46039f"
            ],
            [
             0.2222222222222222,
             "#7201a8"
            ],
            [
             0.3333333333333333,
             "#9c179e"
            ],
            [
             0.4444444444444444,
             "#bd3786"
            ],
            [
             0.5555555555555556,
             "#d8576b"
            ],
            [
             0.6666666666666666,
             "#ed7953"
            ],
            [
             0.7777777777777778,
             "#fb9f3a"
            ],
            [
             0.8888888888888888,
             "#fdca26"
            ],
            [
             1,
             "#f0f921"
            ]
           ]
          },
          "colorway": [
           "#636efa",
           "#EF553B",
           "#00cc96",
           "#ab63fa",
           "#FFA15A",
           "#19d3f3",
           "#FF6692",
           "#B6E880",
           "#FF97FF",
           "#FECB52"
          ],
          "font": {
           "color": "#2a3f5f"
          },
          "geo": {
           "bgcolor": "white",
           "lakecolor": "white",
           "landcolor": "#E5ECF6",
           "showlakes": true,
           "showland": true,
           "subunitcolor": "white"
          },
          "hoverlabel": {
           "align": "left"
          },
          "hovermode": "closest",
          "mapbox": {
           "style": "light"
          },
          "paper_bgcolor": "white",
          "plot_bgcolor": "#E5ECF6",
          "polar": {
           "angularaxis": {
            "gridcolor": "white",
            "linecolor": "white",
            "ticks": ""
           },
           "bgcolor": "#E5ECF6",
           "radialaxis": {
            "gridcolor": "white",
            "linecolor": "white",
            "ticks": ""
           }
          },
          "scene": {
           "xaxis": {
            "backgroundcolor": "#E5ECF6",
            "gridcolor": "white",
            "gridwidth": 2,
            "linecolor": "white",
            "showbackground": true,
            "ticks": "",
            "zerolinecolor": "white"
           },
           "yaxis": {
            "backgroundcolor": "#E5ECF6",
            "gridcolor": "white",
            "gridwidth": 2,
            "linecolor": "white",
            "showbackground": true,
            "ticks": "",
            "zerolinecolor": "white"
           },
           "zaxis": {
            "backgroundcolor": "#E5ECF6",
            "gridcolor": "white",
            "gridwidth": 2,
            "linecolor": "white",
            "showbackground": true,
            "ticks": "",
            "zerolinecolor": "white"
           }
          },
          "shapedefaults": {
           "line": {
            "color": "#2a3f5f"
           }
          },
          "ternary": {
           "aaxis": {
            "gridcolor": "white",
            "linecolor": "white",
            "ticks": ""
           },
           "baxis": {
            "gridcolor": "white",
            "linecolor": "white",
            "ticks": ""
           },
           "bgcolor": "#E5ECF6",
           "caxis": {
            "gridcolor": "white",
            "linecolor": "white",
            "ticks": ""
           }
          },
          "title": {
           "x": 0.05
          },
          "xaxis": {
           "automargin": true,
           "gridcolor": "white",
           "linecolor": "white",
           "ticks": "",
           "title": {
            "standoff": 15
           },
           "zerolinecolor": "white",
           "zerolinewidth": 2
          },
          "yaxis": {
           "automargin": true,
           "gridcolor": "white",
           "linecolor": "white",
           "ticks": "",
           "title": {
            "standoff": 15
           },
           "zerolinecolor": "white",
           "zerolinewidth": 2
          }
         }
        },
        "title": {
         "text": "Distribution Of 13272 patio, lawn and garden ratings"
        },
        "xaxis": {
         "title": {
          "text": "Rating"
         }
        },
        "yaxis": {
         "title": {
          "text": "Count"
         }
        }
       }
      },
      "text/html": [
       "<div>                            <div id=\"35d84848-293d-493a-b5c5-4f85d43d45f5\" class=\"plotly-graph-div\" style=\"height:525px; width:100%;\"></div>            <script type=\"text/javascript\">                require([\"plotly\"], function(Plotly) {                    window.PLOTLYENV=window.PLOTLYENV || {};                                    if (document.getElementById(\"35d84848-293d-493a-b5c5-4f85d43d45f5\")) {                    Plotly.newPlot(                        \"35d84848-293d-493a-b5c5-4f85d43d45f5\",                        [{\"text\": [\"53.0 %\", \"25.5 %\", \"12.5 %\", \"5.1 %\", \"3.9 %\"], \"textfont\": {\"color\": \"#000000\"}, \"textposition\": \"auto\", \"type\": \"bar\", \"x\": [5.0, 4.0, 3.0, 2.0, 1.0], \"y\": [7037, 3384, 1659, 673, 519]}],                        {\"template\": {\"data\": {\"bar\": [{\"error_x\": {\"color\": \"#2a3f5f\"}, \"error_y\": {\"color\": \"#2a3f5f\"}, \"marker\": {\"line\": {\"color\": \"#E5ECF6\", \"width\": 0.5}}, \"type\": \"bar\"}], \"barpolar\": [{\"marker\": {\"line\": {\"color\": \"#E5ECF6\", \"width\": 0.5}}, \"type\": \"barpolar\"}], \"carpet\": [{\"aaxis\": {\"endlinecolor\": \"#2a3f5f\", \"gridcolor\": \"white\", \"linecolor\": \"white\", \"minorgridcolor\": \"white\", \"startlinecolor\": \"#2a3f5f\"}, \"baxis\": {\"endlinecolor\": \"#2a3f5f\", \"gridcolor\": \"white\", \"linecolor\": \"white\", \"minorgridcolor\": \"white\", \"startlinecolor\": \"#2a3f5f\"}, \"type\": \"carpet\"}], \"choropleth\": [{\"colorbar\": {\"outlinewidth\": 0, \"ticks\": \"\"}, \"type\": \"choropleth\"}], \"contour\": [{\"colorbar\": {\"outlinewidth\": 0, \"ticks\": \"\"}, \"colorscale\": [[0.0, \"#0d0887\"], [0.1111111111111111, \"#46039f\"], [0.2222222222222222, \"#7201a8\"], [0.3333333333333333, \"#9c179e\"], [0.4444444444444444, \"#bd3786\"], [0.5555555555555556, \"#d8576b\"], [0.6666666666666666, \"#ed7953\"], [0.7777777777777778, \"#fb9f3a\"], [0.8888888888888888, \"#fdca26\"], [1.0, \"#f0f921\"]], \"type\": \"contour\"}], \"contourcarpet\": [{\"colorbar\": {\"outlinewidth\": 0, \"ticks\": \"\"}, \"type\": \"contourcarpet\"}], \"heatmap\": [{\"colorbar\": {\"outlinewidth\": 0, \"ticks\": \"\"}, \"colorscale\": [[0.0, \"#0d0887\"], [0.1111111111111111, \"#46039f\"], [0.2222222222222222, \"#7201a8\"], [0.3333333333333333, \"#9c179e\"], [0.4444444444444444, \"#bd3786\"], [0.5555555555555556, \"#d8576b\"], [0.6666666666666666, \"#ed7953\"], [0.7777777777777778, \"#fb9f3a\"], [0.8888888888888888, \"#fdca26\"], [1.0, \"#f0f921\"]], \"type\": \"heatmap\"}], \"heatmapgl\": [{\"colorbar\": {\"outlinewidth\": 0, \"ticks\": \"\"}, \"colorscale\": [[0.0, \"#0d0887\"], [0.1111111111111111, \"#46039f\"], [0.2222222222222222, \"#7201a8\"], [0.3333333333333333, \"#9c179e\"], [0.4444444444444444, \"#bd3786\"], [0.5555555555555556, \"#d8576b\"], [0.6666666666666666, \"#ed7953\"], [0.7777777777777778, \"#fb9f3a\"], [0.8888888888888888, \"#fdca26\"], [1.0, \"#f0f921\"]], \"type\": \"heatmapgl\"}], \"histogram\": [{\"marker\": {\"colorbar\": {\"outlinewidth\": 0, \"ticks\": \"\"}}, \"type\": \"histogram\"}], \"histogram2d\": [{\"colorbar\": {\"outlinewidth\": 0, \"ticks\": \"\"}, \"colorscale\": [[0.0, \"#0d0887\"], [0.1111111111111111, \"#46039f\"], [0.2222222222222222, \"#7201a8\"], [0.3333333333333333, \"#9c179e\"], [0.4444444444444444, \"#bd3786\"], [0.5555555555555556, \"#d8576b\"], [0.6666666666666666, \"#ed7953\"], [0.7777777777777778, \"#fb9f3a\"], [0.8888888888888888, \"#fdca26\"], [1.0, \"#f0f921\"]], \"type\": \"histogram2d\"}], \"histogram2dcontour\": [{\"colorbar\": {\"outlinewidth\": 0, \"ticks\": \"\"}, \"colorscale\": [[0.0, \"#0d0887\"], [0.1111111111111111, \"#46039f\"], [0.2222222222222222, \"#7201a8\"], [0.3333333333333333, \"#9c179e\"], [0.4444444444444444, \"#bd3786\"], [0.5555555555555556, \"#d8576b\"], [0.6666666666666666, \"#ed7953\"], [0.7777777777777778, \"#fb9f3a\"], [0.8888888888888888, \"#fdca26\"], [1.0, \"#f0f921\"]], \"type\": \"histogram2dcontour\"}], \"mesh3d\": [{\"colorbar\": {\"outlinewidth\": 0, \"ticks\": \"\"}, \"type\": \"mesh3d\"}], \"parcoords\": [{\"line\": {\"colorbar\": {\"outlinewidth\": 0, \"ticks\": \"\"}}, \"type\": \"parcoords\"}], \"pie\": [{\"automargin\": true, \"type\": \"pie\"}], \"scatter\": [{\"marker\": {\"colorbar\": {\"outlinewidth\": 0, \"ticks\": \"\"}}, \"type\": \"scatter\"}], \"scatter3d\": [{\"line\": {\"colorbar\": {\"outlinewidth\": 0, \"ticks\": \"\"}}, \"marker\": {\"colorbar\": {\"outlinewidth\": 0, \"ticks\": \"\"}}, \"type\": \"scatter3d\"}], \"scattercarpet\": [{\"marker\": {\"colorbar\": {\"outlinewidth\": 0, \"ticks\": \"\"}}, \"type\": \"scattercarpet\"}], \"scattergeo\": [{\"marker\": {\"colorbar\": {\"outlinewidth\": 0, \"ticks\": \"\"}}, \"type\": \"scattergeo\"}], \"scattergl\": [{\"marker\": {\"colorbar\": {\"outlinewidth\": 0, \"ticks\": \"\"}}, \"type\": \"scattergl\"}], \"scattermapbox\": [{\"marker\": {\"colorbar\": {\"outlinewidth\": 0, \"ticks\": \"\"}}, \"type\": \"scattermapbox\"}], \"scatterpolar\": [{\"marker\": {\"colorbar\": {\"outlinewidth\": 0, \"ticks\": \"\"}}, \"type\": \"scatterpolar\"}], \"scatterpolargl\": [{\"marker\": {\"colorbar\": {\"outlinewidth\": 0, \"ticks\": \"\"}}, \"type\": \"scatterpolargl\"}], \"scatterternary\": [{\"marker\": {\"colorbar\": {\"outlinewidth\": 0, \"ticks\": \"\"}}, \"type\": \"scatterternary\"}], \"surface\": [{\"colorbar\": {\"outlinewidth\": 0, \"ticks\": \"\"}, \"colorscale\": [[0.0, \"#0d0887\"], [0.1111111111111111, \"#46039f\"], [0.2222222222222222, \"#7201a8\"], [0.3333333333333333, \"#9c179e\"], [0.4444444444444444, \"#bd3786\"], [0.5555555555555556, \"#d8576b\"], [0.6666666666666666, \"#ed7953\"], [0.7777777777777778, \"#fb9f3a\"], [0.8888888888888888, \"#fdca26\"], [1.0, \"#f0f921\"]], \"type\": \"surface\"}], \"table\": [{\"cells\": {\"fill\": {\"color\": \"#EBF0F8\"}, \"line\": {\"color\": \"white\"}}, \"header\": {\"fill\": {\"color\": \"#C8D4E3\"}, \"line\": {\"color\": \"white\"}}, \"type\": \"table\"}]}, \"layout\": {\"annotationdefaults\": {\"arrowcolor\": \"#2a3f5f\", \"arrowhead\": 0, \"arrowwidth\": 1}, \"coloraxis\": {\"colorbar\": {\"outlinewidth\": 0, \"ticks\": \"\"}}, \"colorscale\": {\"diverging\": [[0, \"#8e0152\"], [0.1, \"#c51b7d\"], [0.2, \"#de77ae\"], [0.3, \"#f1b6da\"], [0.4, \"#fde0ef\"], [0.5, \"#f7f7f7\"], [0.6, \"#e6f5d0\"], [0.7, \"#b8e186\"], [0.8, \"#7fbc41\"], [0.9, \"#4d9221\"], [1, \"#276419\"]], \"sequential\": [[0.0, \"#0d0887\"], [0.1111111111111111, \"#46039f\"], [0.2222222222222222, \"#7201a8\"], [0.3333333333333333, \"#9c179e\"], [0.4444444444444444, \"#bd3786\"], [0.5555555555555556, \"#d8576b\"], [0.6666666666666666, \"#ed7953\"], [0.7777777777777778, \"#fb9f3a\"], [0.8888888888888888, \"#fdca26\"], [1.0, \"#f0f921\"]], \"sequentialminus\": [[0.0, \"#0d0887\"], [0.1111111111111111, \"#46039f\"], [0.2222222222222222, \"#7201a8\"], [0.3333333333333333, \"#9c179e\"], [0.4444444444444444, \"#bd3786\"], [0.5555555555555556, \"#d8576b\"], [0.6666666666666666, \"#ed7953\"], [0.7777777777777778, \"#fb9f3a\"], [0.8888888888888888, \"#fdca26\"], [1.0, \"#f0f921\"]]}, \"colorway\": [\"#636efa\", \"#EF553B\", \"#00cc96\", \"#ab63fa\", \"#FFA15A\", \"#19d3f3\", \"#FF6692\", \"#B6E880\", \"#FF97FF\", \"#FECB52\"], \"font\": {\"color\": \"#2a3f5f\"}, \"geo\": {\"bgcolor\": \"white\", \"lakecolor\": \"white\", \"landcolor\": \"#E5ECF6\", \"showlakes\": true, \"showland\": true, \"subunitcolor\": \"white\"}, \"hoverlabel\": {\"align\": \"left\"}, \"hovermode\": \"closest\", \"mapbox\": {\"style\": \"light\"}, \"paper_bgcolor\": \"white\", \"plot_bgcolor\": \"#E5ECF6\", \"polar\": {\"angularaxis\": {\"gridcolor\": \"white\", \"linecolor\": \"white\", \"ticks\": \"\"}, \"bgcolor\": \"#E5ECF6\", \"radialaxis\": {\"gridcolor\": \"white\", \"linecolor\": \"white\", \"ticks\": \"\"}}, \"scene\": {\"xaxis\": {\"backgroundcolor\": \"#E5ECF6\", \"gridcolor\": \"white\", \"gridwidth\": 2, \"linecolor\": \"white\", \"showbackground\": true, \"ticks\": \"\", \"zerolinecolor\": \"white\"}, \"yaxis\": {\"backgroundcolor\": \"#E5ECF6\", \"gridcolor\": \"white\", \"gridwidth\": 2, \"linecolor\": \"white\", \"showbackground\": true, \"ticks\": \"\", \"zerolinecolor\": \"white\"}, \"zaxis\": {\"backgroundcolor\": \"#E5ECF6\", \"gridcolor\": \"white\", \"gridwidth\": 2, \"linecolor\": \"white\", \"showbackground\": true, \"ticks\": \"\", \"zerolinecolor\": \"white\"}}, \"shapedefaults\": {\"line\": {\"color\": \"#2a3f5f\"}}, \"ternary\": {\"aaxis\": {\"gridcolor\": \"white\", \"linecolor\": \"white\", \"ticks\": \"\"}, \"baxis\": {\"gridcolor\": \"white\", \"linecolor\": \"white\", \"ticks\": \"\"}, \"bgcolor\": \"#E5ECF6\", \"caxis\": {\"gridcolor\": \"white\", \"linecolor\": \"white\", \"ticks\": \"\"}}, \"title\": {\"x\": 0.05}, \"xaxis\": {\"automargin\": true, \"gridcolor\": \"white\", \"linecolor\": \"white\", \"ticks\": \"\", \"title\": {\"standoff\": 15}, \"zerolinecolor\": \"white\", \"zerolinewidth\": 2}, \"yaxis\": {\"automargin\": true, \"gridcolor\": \"white\", \"linecolor\": \"white\", \"ticks\": \"\", \"title\": {\"standoff\": 15}, \"zerolinecolor\": \"white\", \"zerolinewidth\": 2}}}, \"title\": {\"text\": \"Distribution Of 13272 patio, lawn and garden ratings\"}, \"xaxis\": {\"title\": {\"text\": \"Rating\"}}, \"yaxis\": {\"title\": {\"text\": \"Count\"}}},                        {\"responsive\": true}                    ).then(function(){\n",
       "                            \n",
       "var gd = document.getElementById('35d84848-293d-493a-b5c5-4f85d43d45f5');\n",
       "var x = new MutationObserver(function (mutations, observer) {{\n",
       "        var display = window.getComputedStyle(gd).display;\n",
       "        if (!display || display === 'none') {{\n",
       "            console.log([gd, 'removed!']);\n",
       "            Plotly.purge(gd);\n",
       "            observer.disconnect();\n",
       "        }}\n",
       "}});\n",
       "\n",
       "// Listen for the removal of the full notebook cells\n",
       "var notebookContainer = gd.closest('#notebook-container');\n",
       "if (notebookContainer) {{\n",
       "    x.observe(notebookContainer, {childList: true});\n",
       "}}\n",
       "\n",
       "// Listen for the clearing of the current output cell\n",
       "var outputEl = gd.closest('.output');\n",
       "if (outputEl) {{\n",
       "    x.observe(outputEl, {childList: true});\n",
       "}}\n",
       "\n",
       "                        })                };                });            </script>        </div>"
      ]
     },
     "metadata": {},
     "output_type": "display_data"
    }
   ],
   "source": [
    "from plotly.offline import init_notebook_mode, plot, iplot\n",
    "import plotly.graph_objs as go\n",
    "init_notebook_mode(connected=True)\n",
    "\n",
    "# Count the number of times each rating appears in the dataset\n",
    "data = df['overall'].value_counts().sort_index(ascending=False)\n",
    "\n",
    "# Create the histogram\n",
    "trace = go.Bar(x = data.index,\n",
    "               text = ['{:.1f} %'.format(val) for val in (data.values / df.shape[0] * 100)],\n",
    "               textposition = 'auto',\n",
    "               textfont = dict(color = '#000000'),\n",
    "               y = data.values,\n",
    "               )\n",
    "# Create layout\n",
    "layout = dict(title = 'Distribution Of {} patio, lawn and garden ratings'.format(df.shape[0]),\n",
    "              xaxis = dict(title = 'Rating'),\n",
    "              yaxis = dict(title = 'Count'))\n",
    "# Create plot\n",
    "fig = go.Figure(data=[trace], layout=layout)\n",
    "iplot(fig)"
   ]
  },
  {
   "cell_type": "code",
   "execution_count": 70,
   "metadata": {},
   "outputs": [
    {
     "data": {
      "application/vnd.plotly.v1+json": {
       "config": {
        "linkText": "Export to plot.ly",
        "plotlyServerURL": "https://plot.ly",
        "showLink": false
       },
       "data": [
        {
         "name": "Ratings",
         "type": "histogram",
         "x": [
          6,
          5,
          8,
          9,
          9,
          10,
          7,
          11,
          6,
          27,
          36,
          5,
          8,
          7,
          5,
          20,
          5,
          5,
          5,
          7,
          6,
          5,
          16,
          6,
          6,
          12,
          6,
          5,
          11,
          6,
          18,
          14,
          6,
          17,
          5,
          5,
          6,
          5,
          9,
          14,
          6,
          9,
          6,
          11,
          5,
          35,
          28,
          25,
          9,
          6,
          5,
          8,
          5,
          8,
          5,
          6,
          14,
          7,
          7,
          7,
          6,
          18,
          11,
          10,
          6,
          6,
          36,
          6,
          11,
          6,
          11,
          5,
          6,
          6,
          11,
          5,
          14,
          5,
          36,
          8,
          13,
          35,
          9,
          5,
          9,
          10,
          6,
          10,
          8,
          12,
          5,
          7,
          61,
          11,
          7,
          11,
          8,
          5,
          9,
          6,
          18,
          27,
          22,
          17,
          15,
          10,
          13,
          9,
          5,
          6,
          6,
          5,
          6,
          5,
          6,
          6,
          5,
          14,
          5,
          11,
          5,
          10,
          11,
          6,
          8,
          5,
          30,
          6,
          5,
          28,
          6,
          5,
          7,
          5,
          7,
          9,
          7,
          6,
          6,
          15,
          14,
          9,
          6,
          7,
          7,
          39,
          5,
          6,
          5,
          14,
          6,
          5,
          9,
          7,
          7,
          5,
          5,
          16,
          5,
          14,
          6,
          6,
          7,
          10,
          9,
          5,
          12,
          296,
          6,
          7,
          7,
          5,
          5,
          6,
          5,
          8,
          19,
          5,
          16,
          8,
          11,
          6,
          13,
          5,
          9,
          5,
          10,
          8,
          12,
          53,
          16,
          8,
          7,
          15,
          9,
          8,
          78,
          6,
          15,
          7,
          6,
          9,
          8,
          8,
          11,
          10,
          12,
          12,
          13,
          15,
          5,
          29,
          8,
          17,
          18,
          6,
          10,
          9,
          7,
          5,
          5,
          6,
          12,
          11,
          5,
          6,
          6,
          12,
          15,
          117,
          7,
          9,
          8,
          24,
          8,
          14,
          5,
          32,
          29,
          41,
          8,
          8,
          8,
          6,
          5,
          8,
          28,
          5,
          5,
          5,
          5,
          74,
          11,
          6,
          5,
          33,
          6,
          5,
          9,
          9,
          33,
          7,
          6,
          19,
          12,
          16,
          15,
          47,
          37,
          5,
          5,
          16,
          36,
          20,
          14,
          5,
          36,
          5,
          6,
          17,
          7,
          7,
          7,
          35,
          6,
          17,
          17,
          6,
          10,
          14,
          10,
          15,
          11,
          10,
          7,
          5,
          8,
          36,
          33,
          23,
          7,
          9,
          16,
          11,
          8,
          7,
          10,
          31,
          6,
          12,
          10,
          6,
          45,
          5,
          5,
          6,
          8,
          5,
          15,
          16,
          7,
          6,
          6,
          12,
          5,
          6,
          5,
          9,
          6,
          10,
          8,
          11,
          6,
          7,
          25,
          9,
          7,
          35,
          6,
          6,
          6,
          5,
          5,
          64,
          8,
          8,
          7,
          8,
          7,
          14,
          6,
          64,
          12,
          7,
          5,
          9,
          5,
          5,
          5,
          10,
          6,
          11,
          5,
          6,
          16,
          10,
          15,
          11,
          7,
          6,
          18,
          30,
          5,
          6,
          7,
          12,
          7,
          20,
          10,
          5,
          28,
          5,
          8,
          9,
          6,
          11,
          5,
          70,
          24,
          7,
          10,
          5,
          5,
          11,
          6,
          6,
          6,
          11,
          9,
          5,
          5,
          5,
          6,
          32,
          23,
          5,
          13,
          21,
          6,
          11,
          6,
          9,
          5,
          6,
          8,
          9,
          14,
          7,
          13,
          5,
          10,
          11,
          5,
          5,
          6,
          6,
          8,
          13,
          9,
          7,
          9,
          5,
          26,
          41,
          18,
          10,
          9,
          12,
          5,
          5,
          8,
          6,
          5,
          11,
          12,
          5,
          5,
          6,
          5,
          52,
          9,
          5,
          5,
          10,
          9,
          11,
          6,
          7,
          12,
          5,
          9,
          7,
          11,
          14,
          12,
          5,
          6,
          26,
          23,
          5,
          42,
          7,
          5,
          5,
          6,
          6,
          15,
          13,
          7,
          19,
          7,
          30,
          6,
          7,
          11,
          5,
          12,
          18,
          8,
          7,
          10,
          5,
          7,
          30,
          6,
          5,
          5,
          16,
          12,
          5,
          8,
          5,
          20,
          6,
          59,
          8,
          8,
          8,
          8,
          6,
          5,
          7,
          6,
          10,
          10,
          11,
          10,
          5,
          7,
          6,
          6,
          6,
          9,
          7,
          36,
          30,
          32,
          34,
          9,
          6,
          8,
          8,
          8,
          8,
          9,
          5,
          7,
          6,
          5,
          5,
          5,
          6,
          6,
          6,
          6,
          12,
          6,
          5,
          6,
          5,
          46,
          5,
          9,
          62,
          5,
          6,
          6,
          10,
          9,
          8,
          5,
          5,
          6,
          9,
          22,
          24,
          12,
          12,
          10,
          8,
          7,
          5,
          5,
          12,
          5,
          6,
          5,
          138,
          5,
          9,
          13,
          13,
          8,
          6,
          14,
          12,
          8,
          9,
          22,
          11,
          7,
          5,
          39,
          5,
          5,
          5,
          11,
          10,
          5,
          12,
          5,
          27,
          8,
          26,
          7,
          7,
          6,
          5,
          6,
          5,
          8,
          5,
          38,
          5,
          8,
          8,
          13,
          13,
          8,
          10,
          5,
          5,
          83,
          7,
          5,
          6,
          9,
          17,
          5,
          5,
          7,
          5,
          7,
          9,
          5,
          12,
          6,
          26,
          6,
          6,
          8,
          6,
          15,
          5,
          42,
          10,
          7,
          8,
          15,
          6,
          7,
          5,
          8,
          18,
          9,
          13,
          12,
          5,
          18,
          9,
          6,
          6,
          6,
          5,
          6,
          49,
          7,
          8,
          15,
          45,
          5,
          5,
          25,
          9,
          9,
          6,
          7,
          12,
          6,
          6,
          5,
          8,
          8,
          8,
          16,
          33,
          6,
          5,
          27,
          7,
          5,
          13,
          11,
          5,
          33,
          5,
          6,
          25,
          23,
          32,
          12,
          31,
          5,
          20,
          11,
          7,
          5,
          8,
          11,
          8,
          5,
          6,
          14,
          27,
          18,
          37,
          19,
          10,
          6,
          7,
          6,
          5,
          71,
          7,
          9,
          7,
          6,
          8,
          7,
          42,
          15,
          13,
          6,
          5,
          6,
          5,
          7,
          6,
          5,
          5,
          9,
          11,
          9,
          5,
          5,
          11,
          9,
          6,
          8,
          29,
          14,
          32,
          8,
          5,
          58,
          21,
          11,
          11,
          22,
          17,
          5,
          81,
          50,
          7,
          25,
          7,
          8,
          20,
          20,
          28,
          13,
          18,
          7,
          6,
          6,
          5,
          16,
          35,
          13,
          24,
          11,
          34,
          5,
          5,
          6,
          7,
          9,
          20,
          31,
          11,
          26,
          23,
          55,
          14,
          37,
          36,
          45,
          42,
          24,
          12,
          7,
          6,
          5,
          7,
          5,
          24,
          8,
          46,
          5,
          28,
          24,
          5,
          5,
          6,
          9,
          8,
          7,
          10,
          5,
          11,
          8,
          74,
          11,
          5,
          10,
          11,
          12,
          12,
          16,
          9,
          6,
          9,
          14,
          27,
          19,
          23,
          18,
          14,
          60,
          28,
          7,
          16,
          68,
          19,
          36,
          10,
          5,
          5,
          12,
          40,
          29,
          34,
          5,
          61,
          11,
          6,
          33,
          21,
          28,
          17,
          12,
          11,
          6,
          6,
          11,
          8,
          7,
          31,
          38,
          51,
          45,
          40,
          43,
          12,
          175,
          13,
          17,
          7,
          48,
          13,
          46,
          5,
          8,
          9,
          7,
          13,
          13,
          5,
          11,
          6,
          14,
          5,
          6,
          26,
          17,
          20,
          13,
          36,
          10,
          10,
          6,
          5,
          13,
          23,
          37,
          32,
          50,
          12,
          16,
          11,
          13,
          18,
          41,
          16,
          33,
          19,
          9,
          20,
          45,
          19,
          6,
          13,
          36,
          35,
          31,
          40,
          7,
          11,
          34,
          7,
          10,
          14,
          30,
          30,
          22,
          29,
          24,
          12,
          29,
          28,
          5,
          35,
          10,
          12,
          7,
          12,
          12,
          6,
          11,
          13,
          17,
          17,
          6,
          8,
          8,
          5,
          16,
          5,
          16,
          11,
          5,
          12
         ],
         "xbins": {
          "size": 2,
          "start": 0
         }
        }
       ],
       "layout": {
        "bargap": 0.2,
        "template": {
         "data": {
          "bar": [
           {
            "error_x": {
             "color": "#2a3f5f"
            },
            "error_y": {
             "color": "#2a3f5f"
            },
            "marker": {
             "line": {
              "color": "#E5ECF6",
              "width": 0.5
             }
            },
            "type": "bar"
           }
          ],
          "barpolar": [
           {
            "marker": {
             "line": {
              "color": "#E5ECF6",
              "width": 0.5
             }
            },
            "type": "barpolar"
           }
          ],
          "carpet": [
           {
            "aaxis": {
             "endlinecolor": "#2a3f5f",
             "gridcolor": "white",
             "linecolor": "white",
             "minorgridcolor": "white",
             "startlinecolor": "#2a3f5f"
            },
            "baxis": {
             "endlinecolor": "#2a3f5f",
             "gridcolor": "white",
             "linecolor": "white",
             "minorgridcolor": "white",
             "startlinecolor": "#2a3f5f"
            },
            "type": "carpet"
           }
          ],
          "choropleth": [
           {
            "colorbar": {
             "outlinewidth": 0,
             "ticks": ""
            },
            "type": "choropleth"
           }
          ],
          "contour": [
           {
            "colorbar": {
             "outlinewidth": 0,
             "ticks": ""
            },
            "colorscale": [
             [
              0,
              "#0d0887"
             ],
             [
              0.1111111111111111,
              "#46039f"
             ],
             [
              0.2222222222222222,
              "#7201a8"
             ],
             [
              0.3333333333333333,
              "#9c179e"
             ],
             [
              0.4444444444444444,
              "#bd3786"
             ],
             [
              0.5555555555555556,
              "#d8576b"
             ],
             [
              0.6666666666666666,
              "#ed7953"
             ],
             [
              0.7777777777777778,
              "#fb9f3a"
             ],
             [
              0.8888888888888888,
              "#fdca26"
             ],
             [
              1,
              "#f0f921"
             ]
            ],
            "type": "contour"
           }
          ],
          "contourcarpet": [
           {
            "colorbar": {
             "outlinewidth": 0,
             "ticks": ""
            },
            "type": "contourcarpet"
           }
          ],
          "heatmap": [
           {
            "colorbar": {
             "outlinewidth": 0,
             "ticks": ""
            },
            "colorscale": [
             [
              0,
              "#0d0887"
             ],
             [
              0.1111111111111111,
              "#46039f"
             ],
             [
              0.2222222222222222,
              "#7201a8"
             ],
             [
              0.3333333333333333,
              "#9c179e"
             ],
             [
              0.4444444444444444,
              "#bd3786"
             ],
             [
              0.5555555555555556,
              "#d8576b"
             ],
             [
              0.6666666666666666,
              "#ed7953"
             ],
             [
              0.7777777777777778,
              "#fb9f3a"
             ],
             [
              0.8888888888888888,
              "#fdca26"
             ],
             [
              1,
              "#f0f921"
             ]
            ],
            "type": "heatmap"
           }
          ],
          "heatmapgl": [
           {
            "colorbar": {
             "outlinewidth": 0,
             "ticks": ""
            },
            "colorscale": [
             [
              0,
              "#0d0887"
             ],
             [
              0.1111111111111111,
              "#46039f"
             ],
             [
              0.2222222222222222,
              "#7201a8"
             ],
             [
              0.3333333333333333,
              "#9c179e"
             ],
             [
              0.4444444444444444,
              "#bd3786"
             ],
             [
              0.5555555555555556,
              "#d8576b"
             ],
             [
              0.6666666666666666,
              "#ed7953"
             ],
             [
              0.7777777777777778,
              "#fb9f3a"
             ],
             [
              0.8888888888888888,
              "#fdca26"
             ],
             [
              1,
              "#f0f921"
             ]
            ],
            "type": "heatmapgl"
           }
          ],
          "histogram": [
           {
            "marker": {
             "colorbar": {
              "outlinewidth": 0,
              "ticks": ""
             }
            },
            "type": "histogram"
           }
          ],
          "histogram2d": [
           {
            "colorbar": {
             "outlinewidth": 0,
             "ticks": ""
            },
            "colorscale": [
             [
              0,
              "#0d0887"
             ],
             [
              0.1111111111111111,
              "#46039f"
             ],
             [
              0.2222222222222222,
              "#7201a8"
             ],
             [
              0.3333333333333333,
              "#9c179e"
             ],
             [
              0.4444444444444444,
              "#bd3786"
             ],
             [
              0.5555555555555556,
              "#d8576b"
             ],
             [
              0.6666666666666666,
              "#ed7953"
             ],
             [
              0.7777777777777778,
              "#fb9f3a"
             ],
             [
              0.8888888888888888,
              "#fdca26"
             ],
             [
              1,
              "#f0f921"
             ]
            ],
            "type": "histogram2d"
           }
          ],
          "histogram2dcontour": [
           {
            "colorbar": {
             "outlinewidth": 0,
             "ticks": ""
            },
            "colorscale": [
             [
              0,
              "#0d0887"
             ],
             [
              0.1111111111111111,
              "#46039f"
             ],
             [
              0.2222222222222222,
              "#7201a8"
             ],
             [
              0.3333333333333333,
              "#9c179e"
             ],
             [
              0.4444444444444444,
              "#bd3786"
             ],
             [
              0.5555555555555556,
              "#d8576b"
             ],
             [
              0.6666666666666666,
              "#ed7953"
             ],
             [
              0.7777777777777778,
              "#fb9f3a"
             ],
             [
              0.8888888888888888,
              "#fdca26"
             ],
             [
              1,
              "#f0f921"
             ]
            ],
            "type": "histogram2dcontour"
           }
          ],
          "mesh3d": [
           {
            "colorbar": {
             "outlinewidth": 0,
             "ticks": ""
            },
            "type": "mesh3d"
           }
          ],
          "parcoords": [
           {
            "line": {
             "colorbar": {
              "outlinewidth": 0,
              "ticks": ""
             }
            },
            "type": "parcoords"
           }
          ],
          "pie": [
           {
            "automargin": true,
            "type": "pie"
           }
          ],
          "scatter": [
           {
            "marker": {
             "colorbar": {
              "outlinewidth": 0,
              "ticks": ""
             }
            },
            "type": "scatter"
           }
          ],
          "scatter3d": [
           {
            "line": {
             "colorbar": {
              "outlinewidth": 0,
              "ticks": ""
             }
            },
            "marker": {
             "colorbar": {
              "outlinewidth": 0,
              "ticks": ""
             }
            },
            "type": "scatter3d"
           }
          ],
          "scattercarpet": [
           {
            "marker": {
             "colorbar": {
              "outlinewidth": 0,
              "ticks": ""
             }
            },
            "type": "scattercarpet"
           }
          ],
          "scattergeo": [
           {
            "marker": {
             "colorbar": {
              "outlinewidth": 0,
              "ticks": ""
             }
            },
            "type": "scattergeo"
           }
          ],
          "scattergl": [
           {
            "marker": {
             "colorbar": {
              "outlinewidth": 0,
              "ticks": ""
             }
            },
            "type": "scattergl"
           }
          ],
          "scattermapbox": [
           {
            "marker": {
             "colorbar": {
              "outlinewidth": 0,
              "ticks": ""
             }
            },
            "type": "scattermapbox"
           }
          ],
          "scatterpolar": [
           {
            "marker": {
             "colorbar": {
              "outlinewidth": 0,
              "ticks": ""
             }
            },
            "type": "scatterpolar"
           }
          ],
          "scatterpolargl": [
           {
            "marker": {
             "colorbar": {
              "outlinewidth": 0,
              "ticks": ""
             }
            },
            "type": "scatterpolargl"
           }
          ],
          "scatterternary": [
           {
            "marker": {
             "colorbar": {
              "outlinewidth": 0,
              "ticks": ""
             }
            },
            "type": "scatterternary"
           }
          ],
          "surface": [
           {
            "colorbar": {
             "outlinewidth": 0,
             "ticks": ""
            },
            "colorscale": [
             [
              0,
              "#0d0887"
             ],
             [
              0.1111111111111111,
              "#46039f"
             ],
             [
              0.2222222222222222,
              "#7201a8"
             ],
             [
              0.3333333333333333,
              "#9c179e"
             ],
             [
              0.4444444444444444,
              "#bd3786"
             ],
             [
              0.5555555555555556,
              "#d8576b"
             ],
             [
              0.6666666666666666,
              "#ed7953"
             ],
             [
              0.7777777777777778,
              "#fb9f3a"
             ],
             [
              0.8888888888888888,
              "#fdca26"
             ],
             [
              1,
              "#f0f921"
             ]
            ],
            "type": "surface"
           }
          ],
          "table": [
           {
            "cells": {
             "fill": {
              "color": "#EBF0F8"
             },
             "line": {
              "color": "white"
             }
            },
            "header": {
             "fill": {
              "color": "#C8D4E3"
             },
             "line": {
              "color": "white"
             }
            },
            "type": "table"
           }
          ]
         },
         "layout": {
          "annotationdefaults": {
           "arrowcolor": "#2a3f5f",
           "arrowhead": 0,
           "arrowwidth": 1
          },
          "coloraxis": {
           "colorbar": {
            "outlinewidth": 0,
            "ticks": ""
           }
          },
          "colorscale": {
           "diverging": [
            [
             0,
             "#8e0152"
            ],
            [
             0.1,
             "#c51b7d"
            ],
            [
             0.2,
             "#de77ae"
            ],
            [
             0.3,
             "#f1b6da"
            ],
            [
             0.4,
             "#fde0ef"
            ],
            [
             0.5,
             "#f7f7f7"
            ],
            [
             0.6,
             "#e6f5d0"
            ],
            [
             0.7,
             "#b8e186"
            ],
            [
             0.8,
             "#7fbc41"
            ],
            [
             0.9,
             "#4d9221"
            ],
            [
             1,
             "#276419"
            ]
           ],
           "sequential": [
            [
             0,
             "#0d0887"
            ],
            [
             0.1111111111111111,
             "#46039f"
            ],
            [
             0.2222222222222222,
             "#7201a8"
            ],
            [
             0.3333333333333333,
             "#9c179e"
            ],
            [
             0.4444444444444444,
             "#bd3786"
            ],
            [
             0.5555555555555556,
             "#d8576b"
            ],
            [
             0.6666666666666666,
             "#ed7953"
            ],
            [
             0.7777777777777778,
             "#fb9f3a"
            ],
            [
             0.8888888888888888,
             "#fdca26"
            ],
            [
             1,
             "#f0f921"
            ]
           ],
           "sequentialminus": [
            [
             0,
             "#0d0887"
            ],
            [
             0.1111111111111111,
             "#46039f"
            ],
            [
             0.2222222222222222,
             "#7201a8"
            ],
            [
             0.3333333333333333,
             "#9c179e"
            ],
            [
             0.4444444444444444,
             "#bd3786"
            ],
            [
             0.5555555555555556,
             "#d8576b"
            ],
            [
             0.6666666666666666,
             "#ed7953"
            ],
            [
             0.7777777777777778,
             "#fb9f3a"
            ],
            [
             0.8888888888888888,
             "#fdca26"
            ],
            [
             1,
             "#f0f921"
            ]
           ]
          },
          "colorway": [
           "#636efa",
           "#EF553B",
           "#00cc96",
           "#ab63fa",
           "#FFA15A",
           "#19d3f3",
           "#FF6692",
           "#B6E880",
           "#FF97FF",
           "#FECB52"
          ],
          "font": {
           "color": "#2a3f5f"
          },
          "geo": {
           "bgcolor": "white",
           "lakecolor": "white",
           "landcolor": "#E5ECF6",
           "showlakes": true,
           "showland": true,
           "subunitcolor": "white"
          },
          "hoverlabel": {
           "align": "left"
          },
          "hovermode": "closest",
          "mapbox": {
           "style": "light"
          },
          "paper_bgcolor": "white",
          "plot_bgcolor": "#E5ECF6",
          "polar": {
           "angularaxis": {
            "gridcolor": "white",
            "linecolor": "white",
            "ticks": ""
           },
           "bgcolor": "#E5ECF6",
           "radialaxis": {
            "gridcolor": "white",
            "linecolor": "white",
            "ticks": ""
           }
          },
          "scene": {
           "xaxis": {
            "backgroundcolor": "#E5ECF6",
            "gridcolor": "white",
            "gridwidth": 2,
            "linecolor": "white",
            "showbackground": true,
            "ticks": "",
            "zerolinecolor": "white"
           },
           "yaxis": {
            "backgroundcolor": "#E5ECF6",
            "gridcolor": "white",
            "gridwidth": 2,
            "linecolor": "white",
            "showbackground": true,
            "ticks": "",
            "zerolinecolor": "white"
           },
           "zaxis": {
            "backgroundcolor": "#E5ECF6",
            "gridcolor": "white",
            "gridwidth": 2,
            "linecolor": "white",
            "showbackground": true,
            "ticks": "",
            "zerolinecolor": "white"
           }
          },
          "shapedefaults": {
           "line": {
            "color": "#2a3f5f"
           }
          },
          "ternary": {
           "aaxis": {
            "gridcolor": "white",
            "linecolor": "white",
            "ticks": ""
           },
           "baxis": {
            "gridcolor": "white",
            "linecolor": "white",
            "ticks": ""
           },
           "bgcolor": "#E5ECF6",
           "caxis": {
            "gridcolor": "white",
            "linecolor": "white",
            "ticks": ""
           }
          },
          "title": {
           "x": 0.05
          },
          "xaxis": {
           "automargin": true,
           "gridcolor": "white",
           "linecolor": "white",
           "ticks": "",
           "title": {
            "standoff": 15
           },
           "zerolinecolor": "white",
           "zerolinewidth": 2
          },
          "yaxis": {
           "automargin": true,
           "gridcolor": "white",
           "linecolor": "white",
           "ticks": "",
           "title": {
            "standoff": 15
           },
           "zerolinecolor": "white",
           "zerolinewidth": 2
          }
         }
        },
        "title": {
         "text": "Distribution Of Number of Ratings Per garden"
        },
        "xaxis": {
         "title": {
          "text": "Number of Ratings Per Garden"
         }
        },
        "yaxis": {
         "title": {
          "text": "Count"
         }
        }
       }
      },
      "text/html": [
       "<div>                            <div id=\"6c4b0d2e-d201-4052-9cf8-8e841f227f96\" class=\"plotly-graph-div\" style=\"height:525px; width:100%;\"></div>            <script type=\"text/javascript\">                require([\"plotly\"], function(Plotly) {                    window.PLOTLYENV=window.PLOTLYENV || {};                                    if (document.getElementById(\"6c4b0d2e-d201-4052-9cf8-8e841f227f96\")) {                    Plotly.newPlot(                        \"6c4b0d2e-d201-4052-9cf8-8e841f227f96\",                        [{\"name\": \"Ratings\", \"type\": \"histogram\", \"x\": [6, 5, 8, 9, 9, 10, 7, 11, 6, 27, 36, 5, 8, 7, 5, 20, 5, 5, 5, 7, 6, 5, 16, 6, 6, 12, 6, 5, 11, 6, 18, 14, 6, 17, 5, 5, 6, 5, 9, 14, 6, 9, 6, 11, 5, 35, 28, 25, 9, 6, 5, 8, 5, 8, 5, 6, 14, 7, 7, 7, 6, 18, 11, 10, 6, 6, 36, 6, 11, 6, 11, 5, 6, 6, 11, 5, 14, 5, 36, 8, 13, 35, 9, 5, 9, 10, 6, 10, 8, 12, 5, 7, 61, 11, 7, 11, 8, 5, 9, 6, 18, 27, 22, 17, 15, 10, 13, 9, 5, 6, 6, 5, 6, 5, 6, 6, 5, 14, 5, 11, 5, 10, 11, 6, 8, 5, 30, 6, 5, 28, 6, 5, 7, 5, 7, 9, 7, 6, 6, 15, 14, 9, 6, 7, 7, 39, 5, 6, 5, 14, 6, 5, 9, 7, 7, 5, 5, 16, 5, 14, 6, 6, 7, 10, 9, 5, 12, 296, 6, 7, 7, 5, 5, 6, 5, 8, 19, 5, 16, 8, 11, 6, 13, 5, 9, 5, 10, 8, 12, 53, 16, 8, 7, 15, 9, 8, 78, 6, 15, 7, 6, 9, 8, 8, 11, 10, 12, 12, 13, 15, 5, 29, 8, 17, 18, 6, 10, 9, 7, 5, 5, 6, 12, 11, 5, 6, 6, 12, 15, 117, 7, 9, 8, 24, 8, 14, 5, 32, 29, 41, 8, 8, 8, 6, 5, 8, 28, 5, 5, 5, 5, 74, 11, 6, 5, 33, 6, 5, 9, 9, 33, 7, 6, 19, 12, 16, 15, 47, 37, 5, 5, 16, 36, 20, 14, 5, 36, 5, 6, 17, 7, 7, 7, 35, 6, 17, 17, 6, 10, 14, 10, 15, 11, 10, 7, 5, 8, 36, 33, 23, 7, 9, 16, 11, 8, 7, 10, 31, 6, 12, 10, 6, 45, 5, 5, 6, 8, 5, 15, 16, 7, 6, 6, 12, 5, 6, 5, 9, 6, 10, 8, 11, 6, 7, 25, 9, 7, 35, 6, 6, 6, 5, 5, 64, 8, 8, 7, 8, 7, 14, 6, 64, 12, 7, 5, 9, 5, 5, 5, 10, 6, 11, 5, 6, 16, 10, 15, 11, 7, 6, 18, 30, 5, 6, 7, 12, 7, 20, 10, 5, 28, 5, 8, 9, 6, 11, 5, 70, 24, 7, 10, 5, 5, 11, 6, 6, 6, 11, 9, 5, 5, 5, 6, 32, 23, 5, 13, 21, 6, 11, 6, 9, 5, 6, 8, 9, 14, 7, 13, 5, 10, 11, 5, 5, 6, 6, 8, 13, 9, 7, 9, 5, 26, 41, 18, 10, 9, 12, 5, 5, 8, 6, 5, 11, 12, 5, 5, 6, 5, 52, 9, 5, 5, 10, 9, 11, 6, 7, 12, 5, 9, 7, 11, 14, 12, 5, 6, 26, 23, 5, 42, 7, 5, 5, 6, 6, 15, 13, 7, 19, 7, 30, 6, 7, 11, 5, 12, 18, 8, 7, 10, 5, 7, 30, 6, 5, 5, 16, 12, 5, 8, 5, 20, 6, 59, 8, 8, 8, 8, 6, 5, 7, 6, 10, 10, 11, 10, 5, 7, 6, 6, 6, 9, 7, 36, 30, 32, 34, 9, 6, 8, 8, 8, 8, 9, 5, 7, 6, 5, 5, 5, 6, 6, 6, 6, 12, 6, 5, 6, 5, 46, 5, 9, 62, 5, 6, 6, 10, 9, 8, 5, 5, 6, 9, 22, 24, 12, 12, 10, 8, 7, 5, 5, 12, 5, 6, 5, 138, 5, 9, 13, 13, 8, 6, 14, 12, 8, 9, 22, 11, 7, 5, 39, 5, 5, 5, 11, 10, 5, 12, 5, 27, 8, 26, 7, 7, 6, 5, 6, 5, 8, 5, 38, 5, 8, 8, 13, 13, 8, 10, 5, 5, 83, 7, 5, 6, 9, 17, 5, 5, 7, 5, 7, 9, 5, 12, 6, 26, 6, 6, 8, 6, 15, 5, 42, 10, 7, 8, 15, 6, 7, 5, 8, 18, 9, 13, 12, 5, 18, 9, 6, 6, 6, 5, 6, 49, 7, 8, 15, 45, 5, 5, 25, 9, 9, 6, 7, 12, 6, 6, 5, 8, 8, 8, 16, 33, 6, 5, 27, 7, 5, 13, 11, 5, 33, 5, 6, 25, 23, 32, 12, 31, 5, 20, 11, 7, 5, 8, 11, 8, 5, 6, 14, 27, 18, 37, 19, 10, 6, 7, 6, 5, 71, 7, 9, 7, 6, 8, 7, 42, 15, 13, 6, 5, 6, 5, 7, 6, 5, 5, 9, 11, 9, 5, 5, 11, 9, 6, 8, 29, 14, 32, 8, 5, 58, 21, 11, 11, 22, 17, 5, 81, 50, 7, 25, 7, 8, 20, 20, 28, 13, 18, 7, 6, 6, 5, 16, 35, 13, 24, 11, 34, 5, 5, 6, 7, 9, 20, 31, 11, 26, 23, 55, 14, 37, 36, 45, 42, 24, 12, 7, 6, 5, 7, 5, 24, 8, 46, 5, 28, 24, 5, 5, 6, 9, 8, 7, 10, 5, 11, 8, 74, 11, 5, 10, 11, 12, 12, 16, 9, 6, 9, 14, 27, 19, 23, 18, 14, 60, 28, 7, 16, 68, 19, 36, 10, 5, 5, 12, 40, 29, 34, 5, 61, 11, 6, 33, 21, 28, 17, 12, 11, 6, 6, 11, 8, 7, 31, 38, 51, 45, 40, 43, 12, 175, 13, 17, 7, 48, 13, 46, 5, 8, 9, 7, 13, 13, 5, 11, 6, 14, 5, 6, 26, 17, 20, 13, 36, 10, 10, 6, 5, 13, 23, 37, 32, 50, 12, 16, 11, 13, 18, 41, 16, 33, 19, 9, 20, 45, 19, 6, 13, 36, 35, 31, 40, 7, 11, 34, 7, 10, 14, 30, 30, 22, 29, 24, 12, 29, 28, 5, 35, 10, 12, 7, 12, 12, 6, 11, 13, 17, 17, 6, 8, 8, 5, 16, 5, 16, 11, 5, 12], \"xbins\": {\"size\": 2, \"start\": 0}}],                        {\"bargap\": 0.2, \"template\": {\"data\": {\"bar\": [{\"error_x\": {\"color\": \"#2a3f5f\"}, \"error_y\": {\"color\": \"#2a3f5f\"}, \"marker\": {\"line\": {\"color\": \"#E5ECF6\", \"width\": 0.5}}, \"type\": \"bar\"}], \"barpolar\": [{\"marker\": {\"line\": {\"color\": \"#E5ECF6\", \"width\": 0.5}}, \"type\": \"barpolar\"}], \"carpet\": [{\"aaxis\": {\"endlinecolor\": \"#2a3f5f\", \"gridcolor\": \"white\", \"linecolor\": \"white\", \"minorgridcolor\": \"white\", \"startlinecolor\": \"#2a3f5f\"}, \"baxis\": {\"endlinecolor\": \"#2a3f5f\", \"gridcolor\": \"white\", \"linecolor\": \"white\", \"minorgridcolor\": \"white\", \"startlinecolor\": \"#2a3f5f\"}, \"type\": \"carpet\"}], \"choropleth\": [{\"colorbar\": {\"outlinewidth\": 0, \"ticks\": \"\"}, \"type\": \"choropleth\"}], \"contour\": [{\"colorbar\": {\"outlinewidth\": 0, \"ticks\": \"\"}, \"colorscale\": [[0.0, \"#0d0887\"], [0.1111111111111111, \"#46039f\"], [0.2222222222222222, \"#7201a8\"], [0.3333333333333333, \"#9c179e\"], [0.4444444444444444, \"#bd3786\"], [0.5555555555555556, \"#d8576b\"], [0.6666666666666666, \"#ed7953\"], [0.7777777777777778, \"#fb9f3a\"], [0.8888888888888888, \"#fdca26\"], [1.0, \"#f0f921\"]], \"type\": \"contour\"}], \"contourcarpet\": [{\"colorbar\": {\"outlinewidth\": 0, \"ticks\": \"\"}, \"type\": \"contourcarpet\"}], \"heatmap\": [{\"colorbar\": {\"outlinewidth\": 0, \"ticks\": \"\"}, \"colorscale\": [[0.0, \"#0d0887\"], [0.1111111111111111, \"#46039f\"], [0.2222222222222222, \"#7201a8\"], [0.3333333333333333, \"#9c179e\"], [0.4444444444444444, \"#bd3786\"], [0.5555555555555556, \"#d8576b\"], [0.6666666666666666, \"#ed7953\"], [0.7777777777777778, \"#fb9f3a\"], [0.8888888888888888, \"#fdca26\"], [1.0, \"#f0f921\"]], \"type\": \"heatmap\"}], \"heatmapgl\": [{\"colorbar\": {\"outlinewidth\": 0, \"ticks\": \"\"}, \"colorscale\": [[0.0, \"#0d0887\"], [0.1111111111111111, \"#46039f\"], [0.2222222222222222, \"#7201a8\"], [0.3333333333333333, \"#9c179e\"], [0.4444444444444444, \"#bd3786\"], [0.5555555555555556, \"#d8576b\"], [0.6666666666666666, \"#ed7953\"], [0.7777777777777778, \"#fb9f3a\"], [0.8888888888888888, \"#fdca26\"], [1.0, \"#f0f921\"]], \"type\": \"heatmapgl\"}], \"histogram\": [{\"marker\": {\"colorbar\": {\"outlinewidth\": 0, \"ticks\": \"\"}}, \"type\": \"histogram\"}], \"histogram2d\": [{\"colorbar\": {\"outlinewidth\": 0, \"ticks\": \"\"}, \"colorscale\": [[0.0, \"#0d0887\"], [0.1111111111111111, \"#46039f\"], [0.2222222222222222, \"#7201a8\"], [0.3333333333333333, \"#9c179e\"], [0.4444444444444444, \"#bd3786\"], [0.5555555555555556, \"#d8576b\"], [0.6666666666666666, \"#ed7953\"], [0.7777777777777778, \"#fb9f3a\"], [0.8888888888888888, \"#fdca26\"], [1.0, \"#f0f921\"]], \"type\": \"histogram2d\"}], \"histogram2dcontour\": [{\"colorbar\": {\"outlinewidth\": 0, \"ticks\": \"\"}, \"colorscale\": [[0.0, \"#0d0887\"], [0.1111111111111111, \"#46039f\"], [0.2222222222222222, \"#7201a8\"], [0.3333333333333333, \"#9c179e\"], [0.4444444444444444, \"#bd3786\"], [0.5555555555555556, \"#d8576b\"], [0.6666666666666666, \"#ed7953\"], [0.7777777777777778, \"#fb9f3a\"], [0.8888888888888888, \"#fdca26\"], [1.0, \"#f0f921\"]], \"type\": \"histogram2dcontour\"}], \"mesh3d\": [{\"colorbar\": {\"outlinewidth\": 0, \"ticks\": \"\"}, \"type\": \"mesh3d\"}], \"parcoords\": [{\"line\": {\"colorbar\": {\"outlinewidth\": 0, \"ticks\": \"\"}}, \"type\": \"parcoords\"}], \"pie\": [{\"automargin\": true, \"type\": \"pie\"}], \"scatter\": [{\"marker\": {\"colorbar\": {\"outlinewidth\": 0, \"ticks\": \"\"}}, \"type\": \"scatter\"}], \"scatter3d\": [{\"line\": {\"colorbar\": {\"outlinewidth\": 0, \"ticks\": \"\"}}, \"marker\": {\"colorbar\": {\"outlinewidth\": 0, \"ticks\": \"\"}}, \"type\": \"scatter3d\"}], \"scattercarpet\": [{\"marker\": {\"colorbar\": {\"outlinewidth\": 0, \"ticks\": \"\"}}, \"type\": \"scattercarpet\"}], \"scattergeo\": [{\"marker\": {\"colorbar\": {\"outlinewidth\": 0, \"ticks\": \"\"}}, \"type\": \"scattergeo\"}], \"scattergl\": [{\"marker\": {\"colorbar\": {\"outlinewidth\": 0, \"ticks\": \"\"}}, \"type\": \"scattergl\"}], \"scattermapbox\": [{\"marker\": {\"colorbar\": {\"outlinewidth\": 0, \"ticks\": \"\"}}, \"type\": \"scattermapbox\"}], \"scatterpolar\": [{\"marker\": {\"colorbar\": {\"outlinewidth\": 0, \"ticks\": \"\"}}, \"type\": \"scatterpolar\"}], \"scatterpolargl\": [{\"marker\": {\"colorbar\": {\"outlinewidth\": 0, \"ticks\": \"\"}}, \"type\": \"scatterpolargl\"}], \"scatterternary\": [{\"marker\": {\"colorbar\": {\"outlinewidth\": 0, \"ticks\": \"\"}}, \"type\": \"scatterternary\"}], \"surface\": [{\"colorbar\": {\"outlinewidth\": 0, \"ticks\": \"\"}, \"colorscale\": [[0.0, \"#0d0887\"], [0.1111111111111111, \"#46039f\"], [0.2222222222222222, \"#7201a8\"], [0.3333333333333333, \"#9c179e\"], [0.4444444444444444, \"#bd3786\"], [0.5555555555555556, \"#d8576b\"], [0.6666666666666666, \"#ed7953\"], [0.7777777777777778, \"#fb9f3a\"], [0.8888888888888888, \"#fdca26\"], [1.0, \"#f0f921\"]], \"type\": \"surface\"}], \"table\": [{\"cells\": {\"fill\": {\"color\": \"#EBF0F8\"}, \"line\": {\"color\": \"white\"}}, \"header\": {\"fill\": {\"color\": \"#C8D4E3\"}, \"line\": {\"color\": \"white\"}}, \"type\": \"table\"}]}, \"layout\": {\"annotationdefaults\": {\"arrowcolor\": \"#2a3f5f\", \"arrowhead\": 0, \"arrowwidth\": 1}, \"coloraxis\": {\"colorbar\": {\"outlinewidth\": 0, \"ticks\": \"\"}}, \"colorscale\": {\"diverging\": [[0, \"#8e0152\"], [0.1, \"#c51b7d\"], [0.2, \"#de77ae\"], [0.3, \"#f1b6da\"], [0.4, \"#fde0ef\"], [0.5, \"#f7f7f7\"], [0.6, \"#e6f5d0\"], [0.7, \"#b8e186\"], [0.8, \"#7fbc41\"], [0.9, \"#4d9221\"], [1, \"#276419\"]], \"sequential\": [[0.0, \"#0d0887\"], [0.1111111111111111, \"#46039f\"], [0.2222222222222222, \"#7201a8\"], [0.3333333333333333, \"#9c179e\"], [0.4444444444444444, \"#bd3786\"], [0.5555555555555556, \"#d8576b\"], [0.6666666666666666, \"#ed7953\"], [0.7777777777777778, \"#fb9f3a\"], [0.8888888888888888, \"#fdca26\"], [1.0, \"#f0f921\"]], \"sequentialminus\": [[0.0, \"#0d0887\"], [0.1111111111111111, \"#46039f\"], [0.2222222222222222, \"#7201a8\"], [0.3333333333333333, \"#9c179e\"], [0.4444444444444444, \"#bd3786\"], [0.5555555555555556, \"#d8576b\"], [0.6666666666666666, \"#ed7953\"], [0.7777777777777778, \"#fb9f3a\"], [0.8888888888888888, \"#fdca26\"], [1.0, \"#f0f921\"]]}, \"colorway\": [\"#636efa\", \"#EF553B\", \"#00cc96\", \"#ab63fa\", \"#FFA15A\", \"#19d3f3\", \"#FF6692\", \"#B6E880\", \"#FF97FF\", \"#FECB52\"], \"font\": {\"color\": \"#2a3f5f\"}, \"geo\": {\"bgcolor\": \"white\", \"lakecolor\": \"white\", \"landcolor\": \"#E5ECF6\", \"showlakes\": true, \"showland\": true, \"subunitcolor\": \"white\"}, \"hoverlabel\": {\"align\": \"left\"}, \"hovermode\": \"closest\", \"mapbox\": {\"style\": \"light\"}, \"paper_bgcolor\": \"white\", \"plot_bgcolor\": \"#E5ECF6\", \"polar\": {\"angularaxis\": {\"gridcolor\": \"white\", \"linecolor\": \"white\", \"ticks\": \"\"}, \"bgcolor\": \"#E5ECF6\", \"radialaxis\": {\"gridcolor\": \"white\", \"linecolor\": \"white\", \"ticks\": \"\"}}, \"scene\": {\"xaxis\": {\"backgroundcolor\": \"#E5ECF6\", \"gridcolor\": \"white\", \"gridwidth\": 2, \"linecolor\": \"white\", \"showbackground\": true, \"ticks\": \"\", \"zerolinecolor\": \"white\"}, \"yaxis\": {\"backgroundcolor\": \"#E5ECF6\", \"gridcolor\": \"white\", \"gridwidth\": 2, \"linecolor\": \"white\", \"showbackground\": true, \"ticks\": \"\", \"zerolinecolor\": \"white\"}, \"zaxis\": {\"backgroundcolor\": \"#E5ECF6\", \"gridcolor\": \"white\", \"gridwidth\": 2, \"linecolor\": \"white\", \"showbackground\": true, \"ticks\": \"\", \"zerolinecolor\": \"white\"}}, \"shapedefaults\": {\"line\": {\"color\": \"#2a3f5f\"}}, \"ternary\": {\"aaxis\": {\"gridcolor\": \"white\", \"linecolor\": \"white\", \"ticks\": \"\"}, \"baxis\": {\"gridcolor\": \"white\", \"linecolor\": \"white\", \"ticks\": \"\"}, \"bgcolor\": \"#E5ECF6\", \"caxis\": {\"gridcolor\": \"white\", \"linecolor\": \"white\", \"ticks\": \"\"}}, \"title\": {\"x\": 0.05}, \"xaxis\": {\"automargin\": true, \"gridcolor\": \"white\", \"linecolor\": \"white\", \"ticks\": \"\", \"title\": {\"standoff\": 15}, \"zerolinecolor\": \"white\", \"zerolinewidth\": 2}, \"yaxis\": {\"automargin\": true, \"gridcolor\": \"white\", \"linecolor\": \"white\", \"ticks\": \"\", \"title\": {\"standoff\": 15}, \"zerolinecolor\": \"white\", \"zerolinewidth\": 2}}}, \"title\": {\"text\": \"Distribution Of Number of Ratings Per garden\"}, \"xaxis\": {\"title\": {\"text\": \"Number of Ratings Per Garden\"}}, \"yaxis\": {\"title\": {\"text\": \"Count\"}}},                        {\"responsive\": true}                    ).then(function(){\n",
       "                            \n",
       "var gd = document.getElementById('6c4b0d2e-d201-4052-9cf8-8e841f227f96');\n",
       "var x = new MutationObserver(function (mutations, observer) {{\n",
       "        var display = window.getComputedStyle(gd).display;\n",
       "        if (!display || display === 'none') {{\n",
       "            console.log([gd, 'removed!']);\n",
       "            Plotly.purge(gd);\n",
       "            observer.disconnect();\n",
       "        }}\n",
       "}});\n",
       "\n",
       "// Listen for the removal of the full notebook cells\n",
       "var notebookContainer = gd.closest('#notebook-container');\n",
       "if (notebookContainer) {{\n",
       "    x.observe(notebookContainer, {childList: true});\n",
       "}}\n",
       "\n",
       "// Listen for the clearing of the current output cell\n",
       "var outputEl = gd.closest('.output');\n",
       "if (outputEl) {{\n",
       "    x.observe(outputEl, {childList: true});\n",
       "}}\n",
       "\n",
       "                        })                };                });            </script>        </div>"
      ]
     },
     "metadata": {},
     "output_type": "display_data"
    }
   ],
   "source": [
    "# Number of ratings per movie\n",
    "data = df.groupby('asin')['overall'].count()\n",
    "\n",
    "# Create trace\n",
    "trace = go.Histogram(x = data.values,\n",
    "                     name = 'Ratings',\n",
    "                     xbins = dict(start = 0,size = 2))\n",
    "# Create layout\n",
    "layout = go.Layout(title = 'Distribution Of Number of Ratings Per garden',\n",
    "                   xaxis = dict(title = 'Number of Ratings Per Garden'),\n",
    "                   yaxis = dict(title = 'Count'),\n",
    "                   bargap = 0.2)\n",
    "\n",
    "# Create plot\n",
    "fig = go.Figure(data=[trace], layout=layout)\n",
    "iplot(fig)"
   ]
  },
  {
   "cell_type": "code",
   "execution_count": 71,
   "metadata": {},
   "outputs": [
    {
     "data": {
      "application/vnd.plotly.v1+json": {
       "config": {
        "linkText": "Export to plot.ly",
        "plotlyServerURL": "https://plot.ly",
        "showLink": false
       },
       "data": [
        {
         "name": "Ratings",
         "type": "histogram",
         "x": [
          66,
          7,
          5,
          14,
          8,
          5,
          7,
          6,
          5,
          6,
          7,
          8,
          16,
          6,
          6,
          5,
          6,
          22,
          13,
          7,
          30,
          5,
          9,
          5,
          7,
          5,
          5,
          5,
          8,
          6,
          6,
          8,
          5,
          11,
          9,
          6,
          10,
          6,
          9,
          5,
          7,
          8,
          8,
          6,
          7,
          5,
          5,
          5,
          5,
          8,
          9,
          5,
          5,
          10,
          8,
          5,
          6,
          6,
          9,
          6,
          5,
          11,
          8,
          10,
          7,
          5,
          7,
          5,
          5,
          7,
          7,
          5,
          5,
          6,
          5,
          10,
          11,
          10,
          8,
          13,
          5,
          11,
          5,
          5,
          5,
          5,
          10,
          6,
          7,
          7,
          7,
          5,
          8,
          5,
          24,
          5,
          18,
          9,
          5,
          5,
          5,
          6,
          7,
          11,
          6,
          5,
          5,
          9,
          5,
          5,
          5,
          7,
          6,
          5,
          6,
          10,
          5,
          5,
          7,
          5,
          6,
          11,
          6,
          37,
          9,
          18,
          5,
          10,
          20,
          5,
          5,
          8,
          8,
          10,
          5,
          7,
          9,
          21,
          5,
          9,
          5,
          6,
          7,
          9,
          6,
          6,
          18,
          6,
          6,
          5,
          6,
          9,
          13,
          15,
          10,
          7,
          5,
          8,
          5,
          5,
          6,
          10,
          5,
          10,
          6,
          17,
          5,
          6,
          6,
          14,
          7,
          11,
          5,
          21,
          5,
          32,
          9,
          13,
          5,
          5,
          7,
          7,
          18,
          5,
          6,
          5,
          5,
          5,
          5,
          5,
          10,
          8,
          6,
          7,
          7,
          7,
          8,
          9,
          5,
          10,
          5,
          11,
          5,
          5,
          5,
          6,
          5,
          7,
          5,
          7,
          5,
          22,
          6,
          7,
          8,
          7,
          9,
          5,
          7,
          5,
          8,
          5,
          5,
          5,
          5,
          5,
          7,
          9,
          8,
          10,
          16,
          7,
          6,
          11,
          8,
          5,
          10,
          9,
          5,
          6,
          9,
          5,
          9,
          5,
          5,
          6,
          11,
          5,
          5,
          8,
          5,
          14,
          5,
          8,
          5,
          7,
          5,
          5,
          6,
          5,
          5,
          7,
          6,
          11,
          6,
          9,
          7,
          5,
          6,
          5,
          5,
          8,
          6,
          9,
          9,
          9,
          10,
          9,
          32,
          5,
          5,
          5,
          5,
          5,
          12,
          6,
          5,
          9,
          18,
          5,
          9,
          6,
          5,
          17,
          6,
          8,
          11,
          6,
          5,
          20,
          5,
          5,
          20,
          6,
          9,
          7,
          11,
          6,
          8,
          7,
          8,
          8,
          5,
          7,
          5,
          5,
          5,
          6,
          20,
          6,
          5,
          5,
          6,
          5,
          14,
          8,
          5,
          5,
          5,
          10,
          5,
          7,
          5,
          11,
          7,
          7,
          15,
          6,
          13,
          20,
          6,
          5,
          20,
          13,
          5,
          5,
          7,
          6,
          5,
          5,
          5,
          7,
          11,
          5,
          10,
          5,
          5,
          21,
          23,
          5,
          15,
          5,
          7,
          6,
          5,
          7,
          10,
          18,
          10,
          6,
          5,
          12,
          13,
          8,
          8,
          5,
          14,
          5,
          14,
          5,
          5,
          5,
          6,
          5,
          38,
          9,
          10,
          5,
          5,
          5,
          7,
          6,
          10,
          7,
          6,
          6,
          19,
          6,
          11,
          11,
          22,
          5,
          6,
          7,
          7,
          5,
          5,
          7,
          9,
          8,
          7,
          8,
          8,
          6,
          23,
          5,
          5,
          9,
          5,
          11,
          8,
          24,
          5,
          8,
          19,
          6,
          5,
          5,
          8,
          8,
          35,
          8,
          5,
          8,
          11,
          25,
          5,
          5,
          5,
          8,
          5,
          5,
          5,
          5,
          5,
          5,
          7,
          6,
          5,
          5,
          5,
          5,
          6,
          11,
          6,
          5,
          7,
          7,
          12,
          5,
          5,
          9,
          19,
          5,
          8,
          5,
          8,
          15,
          6,
          19,
          6,
          13,
          7,
          7,
          5,
          8,
          10,
          11,
          5,
          16,
          8,
          5,
          6,
          5,
          7,
          12,
          16,
          5,
          5,
          12,
          16,
          6,
          7,
          6,
          10,
          5,
          6,
          5,
          5,
          5,
          9,
          43,
          8,
          5,
          5,
          9,
          12,
          5,
          5,
          5,
          6,
          5,
          6,
          5,
          6,
          7,
          6,
          20,
          8,
          6,
          6,
          6,
          5,
          5,
          5,
          10,
          5,
          8,
          6,
          9,
          7,
          13,
          5,
          9,
          5,
          5,
          5,
          5,
          5,
          5,
          8,
          5,
          5,
          7,
          5,
          5,
          6,
          6,
          5,
          9,
          10,
          5,
          13,
          8,
          7,
          6,
          5,
          5,
          8,
          13,
          10,
          5,
          6,
          12,
          8,
          6,
          5,
          5,
          6,
          5,
          10,
          8,
          11,
          6,
          7,
          11,
          5,
          6,
          6,
          10,
          8,
          6,
          8,
          5,
          5,
          12,
          5,
          5,
          11,
          5,
          5,
          6,
          7,
          6,
          6,
          5,
          10,
          7,
          5,
          5,
          6,
          6,
          11,
          21,
          5,
          6,
          13,
          6,
          5,
          5,
          6,
          5,
          10,
          13,
          6,
          7,
          6,
          6,
          6,
          5,
          8,
          5,
          5,
          6,
          5,
          5,
          5,
          5,
          6,
          6,
          23,
          5,
          7,
          5,
          5,
          8,
          10,
          7,
          10,
          6,
          8,
          6,
          12,
          8,
          6,
          5,
          7,
          5,
          6,
          6,
          5,
          8,
          34,
          6,
          5,
          7,
          7,
          9,
          8,
          11,
          5,
          6,
          10,
          10,
          5,
          5,
          6,
          5,
          6,
          5,
          5,
          10,
          5,
          5,
          7,
          7,
          6,
          5,
          5,
          10,
          5,
          6,
          5,
          11,
          5,
          12,
          6,
          5,
          21,
          5,
          5,
          7,
          12,
          6,
          5,
          11,
          12,
          14,
          6,
          7,
          5,
          5,
          5,
          5,
          5,
          9,
          5,
          5,
          5,
          6,
          5,
          5,
          16,
          5,
          8,
          11,
          5,
          10,
          10,
          7,
          8,
          6,
          5,
          5,
          5,
          14,
          5,
          5,
          5,
          19,
          9,
          6,
          5,
          5,
          6,
          5,
          5,
          6,
          18,
          5,
          5,
          7,
          6,
          5,
          8,
          8,
          9,
          10,
          6,
          8,
          5,
          6,
          34,
          7,
          5,
          5,
          9,
          10,
          10,
          5,
          6,
          7,
          7,
          9,
          5,
          6,
          8,
          5,
          10,
          15,
          6,
          7,
          5,
          9,
          7,
          5,
          11,
          9,
          33,
          5,
          6,
          6,
          5,
          11,
          12,
          5,
          5,
          13,
          8,
          5,
          11,
          6,
          7,
          9,
          5,
          5,
          5,
          7,
          6,
          14,
          12,
          8,
          8,
          6,
          5,
          6,
          9,
          6,
          6,
          5,
          5,
          6,
          8,
          5,
          5,
          5,
          5,
          5,
          11,
          5,
          14,
          8,
          17,
          5,
          5,
          10,
          14,
          5,
          6,
          15,
          7,
          22,
          8,
          5,
          5,
          16,
          10,
          6,
          5,
          5,
          5,
          8,
          5,
          6,
          7,
          6,
          5,
          8,
          6,
          5,
          6,
          8,
          5,
          7,
          9,
          5,
          12,
          7,
          6,
          5,
          9,
          5,
          7,
          11,
          6,
          8,
          5,
          7,
          5,
          5,
          8,
          5,
          8,
          7,
          14,
          5,
          5,
          5,
          6,
          22,
          11,
          8,
          5,
          5,
          10,
          6,
          5,
          6,
          5,
          7,
          6,
          8,
          6,
          11,
          5,
          6,
          7,
          9,
          22,
          8,
          6,
          8,
          5,
          5,
          6,
          9,
          7,
          5,
          13,
          9,
          5,
          6,
          5,
          5,
          10,
          6,
          6,
          15,
          11,
          6,
          5,
          6,
          34,
          17,
          7,
          5,
          5,
          5,
          16,
          5,
          9,
          5,
          8,
          5,
          5,
          5,
          8,
          5,
          5,
          5,
          5,
          7,
          6,
          16,
          10,
          5,
          6,
          10,
          6,
          8,
          5,
          7,
          8,
          5,
          13,
          7,
          10,
          8,
          5,
          8,
          5,
          6,
          11,
          9,
          7,
          9,
          5,
          25,
          5,
          8,
          7,
          5,
          8,
          5,
          6,
          9,
          31,
          5,
          7,
          8,
          7,
          7,
          5,
          35,
          5,
          12,
          5,
          16,
          11,
          7,
          7,
          6,
          5,
          5,
          8,
          9,
          6,
          8,
          5,
          5,
          6,
          14,
          8,
          5,
          6,
          6,
          8,
          5,
          22,
          5,
          7,
          8,
          10,
          6,
          10,
          8,
          11,
          5,
          7,
          12,
          7,
          5,
          5,
          7,
          5,
          5,
          5,
          5,
          6,
          5,
          26,
          11,
          11,
          5,
          5,
          5,
          5,
          5,
          7,
          5,
          5,
          17,
          5,
          7,
          5,
          5,
          5,
          10,
          6,
          27,
          5,
          5,
          5,
          8,
          11,
          5,
          8,
          9,
          7,
          6,
          5,
          6,
          8,
          5,
          9,
          6,
          6,
          7,
          5,
          5,
          5,
          6,
          6,
          5,
          9,
          5,
          5,
          6,
          7,
          5,
          6,
          5,
          5,
          6,
          5,
          6,
          5,
          7,
          8,
          10,
          6,
          7,
          5,
          5,
          21,
          5,
          5,
          5,
          13,
          5,
          7,
          6,
          5,
          11,
          6,
          9,
          9,
          5,
          5,
          5,
          7,
          5,
          6,
          5,
          19,
          9,
          5,
          5,
          5,
          6,
          43,
          22,
          5,
          6,
          7,
          8,
          7,
          7,
          5,
          5,
          5,
          13,
          6,
          10,
          5,
          6,
          5,
          6,
          5,
          8,
          12,
          8,
          5,
          15,
          9,
          6,
          8,
          11,
          11,
          5,
          6,
          9,
          5,
          6,
          6,
          5,
          8,
          7,
          6,
          6,
          5,
          8,
          12,
          5,
          6,
          14,
          5,
          6,
          15,
          5,
          5,
          6,
          7,
          5,
          6,
          19,
          5,
          5,
          10,
          5,
          5,
          6,
          5,
          11,
          8,
          6,
          5,
          11,
          7,
          6,
          6,
          5,
          7,
          5,
          8,
          15,
          7,
          10,
          8,
          5,
          5,
          9,
          33,
          17,
          6,
          10,
          7,
          8,
          34,
          15,
          5,
          5,
          5,
          5,
          5,
          5,
          6,
          5,
          5,
          9,
          8,
          9,
          5,
          8,
          5,
          5,
          5,
          5,
          7,
          6,
          10,
          6,
          15,
          7,
          5,
          8,
          5,
          8,
          13,
          5,
          7,
          6,
          11,
          6,
          7,
          7,
          7,
          15,
          6,
          12,
          7,
          5,
          8,
          10,
          7,
          6,
          5,
          13,
          5,
          17,
          15,
          5,
          18,
          6,
          12,
          5,
          6,
          8,
          10,
          7,
          13,
          21,
          5,
          33,
          5,
          11,
          11,
          15,
          6,
          6,
          7,
          6,
          7,
          5,
          26,
          5,
          18,
          5,
          6,
          5,
          12,
          6,
          7,
          6,
          5,
          7,
          6,
          6,
          5,
          10,
          13,
          5,
          5,
          8,
          6,
          5,
          7,
          7,
          6,
          11,
          9,
          5,
          7,
          6,
          5,
          9,
          5,
          7,
          7,
          6,
          5,
          12,
          6,
          7,
          8,
          5,
          5,
          6,
          7,
          15,
          6,
          6,
          6,
          9,
          5,
          6,
          8,
          5,
          5,
          16,
          6,
          7,
          5,
          8,
          5,
          7,
          13,
          6,
          6,
          9,
          5,
          5,
          6,
          7,
          6,
          7,
          6,
          5,
          6,
          7,
          8,
          5,
          8,
          5,
          5,
          5,
          17,
          7,
          5,
          14,
          8,
          6,
          14,
          5,
          6,
          6,
          6,
          5,
          7,
          5,
          5,
          5,
          8,
          7,
          5,
          11,
          5,
          5,
          11,
          5,
          5,
          40,
          15,
          8,
          5,
          5,
          5,
          7,
          5,
          6,
          5,
          6,
          6,
          5,
          5,
          6,
          6,
          12,
          5,
          5,
          9,
          8,
          6,
          11,
          15,
          14,
          6,
          5,
          8,
          9,
          7,
          6,
          16,
          7,
          5,
          7,
          13,
          12,
          6,
          7,
          6,
          8,
          5,
          7,
          5,
          8,
          9,
          5,
          5,
          5,
          9,
          7,
          9,
          7,
          5,
          8,
          12,
          10,
          8,
          6,
          5,
          17,
          5,
          7,
          5,
          5,
          9,
          5,
          6,
          5,
          6,
          7,
          6,
          7,
          13,
          14,
          24,
          5,
          13,
          8,
          10,
          7,
          5,
          5,
          6,
          5,
          7,
          7,
          5,
          11,
          5,
          5,
          5,
          7,
          6,
          7,
          6,
          10,
          6,
          10,
          9,
          5,
          18,
          6,
          5,
          6,
          15,
          5,
          5,
          7,
          5,
          6,
          5,
          5,
          5,
          6,
          8,
          5,
          6,
          5,
          8,
          5,
          5,
          5,
          34,
          7,
          5,
          5,
          7,
          10,
          6,
          5,
          6,
          5,
          10,
          10,
          8,
          11,
          5,
          6,
          10,
          7,
          5,
          5,
          5,
          5,
          11,
          5,
          8,
          7,
          6,
          10,
          13,
          8,
          5,
          8,
          6,
          5,
          5,
          6,
          8,
          5,
          8,
          5,
          8,
          6,
          6,
          8,
          5,
          13,
          7,
          6,
          6,
          6,
          6,
          5,
          5,
          5,
          5,
          5,
          5,
          6,
          5,
          6,
          22,
          5,
          8,
          5,
          8,
          6,
          6,
          12,
          21,
          5,
          7,
          5,
          6,
          5,
          5,
          10,
          7,
          6,
          9,
          5,
          5,
          6,
          5,
          10,
          5,
          12,
          8,
          8,
          10,
          5,
          5,
          31,
          7,
          10,
          5,
          5,
          5,
          5,
          5,
          6,
          10,
          5,
          5,
          10,
          5,
          12,
          6,
          9,
          5,
          6,
          8,
          5,
          6,
          20,
          8,
          10,
          6,
          5,
          5,
          7,
          14,
          6,
          5,
          8,
          5,
          18,
          16,
          6,
          7,
          5,
          8,
          5,
          6,
          6,
          5,
          6,
          5,
          6,
          6,
          5,
          5,
          8,
          5,
          6,
          5,
          8,
          6,
          8,
          6,
          21,
          26,
          12,
          5,
          9,
          6,
          5,
          5,
          5,
          6,
          8,
          6,
          17,
          6,
          7,
          5,
          5,
          7,
          8,
          5,
          24,
          6,
          5
         ],
         "xbins": {
          "size": 2,
          "start": 0
         }
        }
       ],
       "layout": {
        "bargap": 0.2,
        "template": {
         "data": {
          "bar": [
           {
            "error_x": {
             "color": "#2a3f5f"
            },
            "error_y": {
             "color": "#2a3f5f"
            },
            "marker": {
             "line": {
              "color": "#E5ECF6",
              "width": 0.5
             }
            },
            "type": "bar"
           }
          ],
          "barpolar": [
           {
            "marker": {
             "line": {
              "color": "#E5ECF6",
              "width": 0.5
             }
            },
            "type": "barpolar"
           }
          ],
          "carpet": [
           {
            "aaxis": {
             "endlinecolor": "#2a3f5f",
             "gridcolor": "white",
             "linecolor": "white",
             "minorgridcolor": "white",
             "startlinecolor": "#2a3f5f"
            },
            "baxis": {
             "endlinecolor": "#2a3f5f",
             "gridcolor": "white",
             "linecolor": "white",
             "minorgridcolor": "white",
             "startlinecolor": "#2a3f5f"
            },
            "type": "carpet"
           }
          ],
          "choropleth": [
           {
            "colorbar": {
             "outlinewidth": 0,
             "ticks": ""
            },
            "type": "choropleth"
           }
          ],
          "contour": [
           {
            "colorbar": {
             "outlinewidth": 0,
             "ticks": ""
            },
            "colorscale": [
             [
              0,
              "#0d0887"
             ],
             [
              0.1111111111111111,
              "#46039f"
             ],
             [
              0.2222222222222222,
              "#7201a8"
             ],
             [
              0.3333333333333333,
              "#9c179e"
             ],
             [
              0.4444444444444444,
              "#bd3786"
             ],
             [
              0.5555555555555556,
              "#d8576b"
             ],
             [
              0.6666666666666666,
              "#ed7953"
             ],
             [
              0.7777777777777778,
              "#fb9f3a"
             ],
             [
              0.8888888888888888,
              "#fdca26"
             ],
             [
              1,
              "#f0f921"
             ]
            ],
            "type": "contour"
           }
          ],
          "contourcarpet": [
           {
            "colorbar": {
             "outlinewidth": 0,
             "ticks": ""
            },
            "type": "contourcarpet"
           }
          ],
          "heatmap": [
           {
            "colorbar": {
             "outlinewidth": 0,
             "ticks": ""
            },
            "colorscale": [
             [
              0,
              "#0d0887"
             ],
             [
              0.1111111111111111,
              "#46039f"
             ],
             [
              0.2222222222222222,
              "#7201a8"
             ],
             [
              0.3333333333333333,
              "#9c179e"
             ],
             [
              0.4444444444444444,
              "#bd3786"
             ],
             [
              0.5555555555555556,
              "#d8576b"
             ],
             [
              0.6666666666666666,
              "#ed7953"
             ],
             [
              0.7777777777777778,
              "#fb9f3a"
             ],
             [
              0.8888888888888888,
              "#fdca26"
             ],
             [
              1,
              "#f0f921"
             ]
            ],
            "type": "heatmap"
           }
          ],
          "heatmapgl": [
           {
            "colorbar": {
             "outlinewidth": 0,
             "ticks": ""
            },
            "colorscale": [
             [
              0,
              "#0d0887"
             ],
             [
              0.1111111111111111,
              "#46039f"
             ],
             [
              0.2222222222222222,
              "#7201a8"
             ],
             [
              0.3333333333333333,
              "#9c179e"
             ],
             [
              0.4444444444444444,
              "#bd3786"
             ],
             [
              0.5555555555555556,
              "#d8576b"
             ],
             [
              0.6666666666666666,
              "#ed7953"
             ],
             [
              0.7777777777777778,
              "#fb9f3a"
             ],
             [
              0.8888888888888888,
              "#fdca26"
             ],
             [
              1,
              "#f0f921"
             ]
            ],
            "type": "heatmapgl"
           }
          ],
          "histogram": [
           {
            "marker": {
             "colorbar": {
              "outlinewidth": 0,
              "ticks": ""
             }
            },
            "type": "histogram"
           }
          ],
          "histogram2d": [
           {
            "colorbar": {
             "outlinewidth": 0,
             "ticks": ""
            },
            "colorscale": [
             [
              0,
              "#0d0887"
             ],
             [
              0.1111111111111111,
              "#46039f"
             ],
             [
              0.2222222222222222,
              "#7201a8"
             ],
             [
              0.3333333333333333,
              "#9c179e"
             ],
             [
              0.4444444444444444,
              "#bd3786"
             ],
             [
              0.5555555555555556,
              "#d8576b"
             ],
             [
              0.6666666666666666,
              "#ed7953"
             ],
             [
              0.7777777777777778,
              "#fb9f3a"
             ],
             [
              0.8888888888888888,
              "#fdca26"
             ],
             [
              1,
              "#f0f921"
             ]
            ],
            "type": "histogram2d"
           }
          ],
          "histogram2dcontour": [
           {
            "colorbar": {
             "outlinewidth": 0,
             "ticks": ""
            },
            "colorscale": [
             [
              0,
              "#0d0887"
             ],
             [
              0.1111111111111111,
              "#46039f"
             ],
             [
              0.2222222222222222,
              "#7201a8"
             ],
             [
              0.3333333333333333,
              "#9c179e"
             ],
             [
              0.4444444444444444,
              "#bd3786"
             ],
             [
              0.5555555555555556,
              "#d8576b"
             ],
             [
              0.6666666666666666,
              "#ed7953"
             ],
             [
              0.7777777777777778,
              "#fb9f3a"
             ],
             [
              0.8888888888888888,
              "#fdca26"
             ],
             [
              1,
              "#f0f921"
             ]
            ],
            "type": "histogram2dcontour"
           }
          ],
          "mesh3d": [
           {
            "colorbar": {
             "outlinewidth": 0,
             "ticks": ""
            },
            "type": "mesh3d"
           }
          ],
          "parcoords": [
           {
            "line": {
             "colorbar": {
              "outlinewidth": 0,
              "ticks": ""
             }
            },
            "type": "parcoords"
           }
          ],
          "pie": [
           {
            "automargin": true,
            "type": "pie"
           }
          ],
          "scatter": [
           {
            "marker": {
             "colorbar": {
              "outlinewidth": 0,
              "ticks": ""
             }
            },
            "type": "scatter"
           }
          ],
          "scatter3d": [
           {
            "line": {
             "colorbar": {
              "outlinewidth": 0,
              "ticks": ""
             }
            },
            "marker": {
             "colorbar": {
              "outlinewidth": 0,
              "ticks": ""
             }
            },
            "type": "scatter3d"
           }
          ],
          "scattercarpet": [
           {
            "marker": {
             "colorbar": {
              "outlinewidth": 0,
              "ticks": ""
             }
            },
            "type": "scattercarpet"
           }
          ],
          "scattergeo": [
           {
            "marker": {
             "colorbar": {
              "outlinewidth": 0,
              "ticks": ""
             }
            },
            "type": "scattergeo"
           }
          ],
          "scattergl": [
           {
            "marker": {
             "colorbar": {
              "outlinewidth": 0,
              "ticks": ""
             }
            },
            "type": "scattergl"
           }
          ],
          "scattermapbox": [
           {
            "marker": {
             "colorbar": {
              "outlinewidth": 0,
              "ticks": ""
             }
            },
            "type": "scattermapbox"
           }
          ],
          "scatterpolar": [
           {
            "marker": {
             "colorbar": {
              "outlinewidth": 0,
              "ticks": ""
             }
            },
            "type": "scatterpolar"
           }
          ],
          "scatterpolargl": [
           {
            "marker": {
             "colorbar": {
              "outlinewidth": 0,
              "ticks": ""
             }
            },
            "type": "scatterpolargl"
           }
          ],
          "scatterternary": [
           {
            "marker": {
             "colorbar": {
              "outlinewidth": 0,
              "ticks": ""
             }
            },
            "type": "scatterternary"
           }
          ],
          "surface": [
           {
            "colorbar": {
             "outlinewidth": 0,
             "ticks": ""
            },
            "colorscale": [
             [
              0,
              "#0d0887"
             ],
             [
              0.1111111111111111,
              "#46039f"
             ],
             [
              0.2222222222222222,
              "#7201a8"
             ],
             [
              0.3333333333333333,
              "#9c179e"
             ],
             [
              0.4444444444444444,
              "#bd3786"
             ],
             [
              0.5555555555555556,
              "#d8576b"
             ],
             [
              0.6666666666666666,
              "#ed7953"
             ],
             [
              0.7777777777777778,
              "#fb9f3a"
             ],
             [
              0.8888888888888888,
              "#fdca26"
             ],
             [
              1,
              "#f0f921"
             ]
            ],
            "type": "surface"
           }
          ],
          "table": [
           {
            "cells": {
             "fill": {
              "color": "#EBF0F8"
             },
             "line": {
              "color": "white"
             }
            },
            "header": {
             "fill": {
              "color": "#C8D4E3"
             },
             "line": {
              "color": "white"
             }
            },
            "type": "table"
           }
          ]
         },
         "layout": {
          "annotationdefaults": {
           "arrowcolor": "#2a3f5f",
           "arrowhead": 0,
           "arrowwidth": 1
          },
          "coloraxis": {
           "colorbar": {
            "outlinewidth": 0,
            "ticks": ""
           }
          },
          "colorscale": {
           "diverging": [
            [
             0,
             "#8e0152"
            ],
            [
             0.1,
             "#c51b7d"
            ],
            [
             0.2,
             "#de77ae"
            ],
            [
             0.3,
             "#f1b6da"
            ],
            [
             0.4,
             "#fde0ef"
            ],
            [
             0.5,
             "#f7f7f7"
            ],
            [
             0.6,
             "#e6f5d0"
            ],
            [
             0.7,
             "#b8e186"
            ],
            [
             0.8,
             "#7fbc41"
            ],
            [
             0.9,
             "#4d9221"
            ],
            [
             1,
             "#276419"
            ]
           ],
           "sequential": [
            [
             0,
             "#0d0887"
            ],
            [
             0.1111111111111111,
             "#46039f"
            ],
            [
             0.2222222222222222,
             "#7201a8"
            ],
            [
             0.3333333333333333,
             "#9c179e"
            ],
            [
             0.4444444444444444,
             "#bd3786"
            ],
            [
             0.5555555555555556,
             "#d8576b"
            ],
            [
             0.6666666666666666,
             "#ed7953"
            ],
            [
             0.7777777777777778,
             "#fb9f3a"
            ],
            [
             0.8888888888888888,
             "#fdca26"
            ],
            [
             1,
             "#f0f921"
            ]
           ],
           "sequentialminus": [
            [
             0,
             "#0d0887"
            ],
            [
             0.1111111111111111,
             "#46039f"
            ],
            [
             0.2222222222222222,
             "#7201a8"
            ],
            [
             0.3333333333333333,
             "#9c179e"
            ],
            [
             0.4444444444444444,
             "#bd3786"
            ],
            [
             0.5555555555555556,
             "#d8576b"
            ],
            [
             0.6666666666666666,
             "#ed7953"
            ],
            [
             0.7777777777777778,
             "#fb9f3a"
            ],
            [
             0.8888888888888888,
             "#fdca26"
            ],
            [
             1,
             "#f0f921"
            ]
           ]
          },
          "colorway": [
           "#636efa",
           "#EF553B",
           "#00cc96",
           "#ab63fa",
           "#FFA15A",
           "#19d3f3",
           "#FF6692",
           "#B6E880",
           "#FF97FF",
           "#FECB52"
          ],
          "font": {
           "color": "#2a3f5f"
          },
          "geo": {
           "bgcolor": "white",
           "lakecolor": "white",
           "landcolor": "#E5ECF6",
           "showlakes": true,
           "showland": true,
           "subunitcolor": "white"
          },
          "hoverlabel": {
           "align": "left"
          },
          "hovermode": "closest",
          "mapbox": {
           "style": "light"
          },
          "paper_bgcolor": "white",
          "plot_bgcolor": "#E5ECF6",
          "polar": {
           "angularaxis": {
            "gridcolor": "white",
            "linecolor": "white",
            "ticks": ""
           },
           "bgcolor": "#E5ECF6",
           "radialaxis": {
            "gridcolor": "white",
            "linecolor": "white",
            "ticks": ""
           }
          },
          "scene": {
           "xaxis": {
            "backgroundcolor": "#E5ECF6",
            "gridcolor": "white",
            "gridwidth": 2,
            "linecolor": "white",
            "showbackground": true,
            "ticks": "",
            "zerolinecolor": "white"
           },
           "yaxis": {
            "backgroundcolor": "#E5ECF6",
            "gridcolor": "white",
            "gridwidth": 2,
            "linecolor": "white",
            "showbackground": true,
            "ticks": "",
            "zerolinecolor": "white"
           },
           "zaxis": {
            "backgroundcolor": "#E5ECF6",
            "gridcolor": "white",
            "gridwidth": 2,
            "linecolor": "white",
            "showbackground": true,
            "ticks": "",
            "zerolinecolor": "white"
           }
          },
          "shapedefaults": {
           "line": {
            "color": "#2a3f5f"
           }
          },
          "ternary": {
           "aaxis": {
            "gridcolor": "white",
            "linecolor": "white",
            "ticks": ""
           },
           "baxis": {
            "gridcolor": "white",
            "linecolor": "white",
            "ticks": ""
           },
           "bgcolor": "#E5ECF6",
           "caxis": {
            "gridcolor": "white",
            "linecolor": "white",
            "ticks": ""
           }
          },
          "title": {
           "x": 0.05
          },
          "xaxis": {
           "automargin": true,
           "gridcolor": "white",
           "linecolor": "white",
           "ticks": "",
           "title": {
            "standoff": 15
           },
           "zerolinecolor": "white",
           "zerolinewidth": 2
          },
          "yaxis": {
           "automargin": true,
           "gridcolor": "white",
           "linecolor": "white",
           "ticks": "",
           "title": {
            "standoff": 15
           },
           "zerolinecolor": "white",
           "zerolinewidth": 2
          }
         }
        },
        "title": {
         "text": "Distribution Of Number of Ratings Per User"
        },
        "xaxis": {
         "title": {
          "text": "Ratings Per User"
         }
        },
        "yaxis": {
         "title": {
          "text": "Count"
         }
        }
       }
      },
      "text/html": [
       "<div>                            <div id=\"942d8c83-9924-4db6-a5e1-e4a7d4f948a6\" class=\"plotly-graph-div\" style=\"height:525px; width:100%;\"></div>            <script type=\"text/javascript\">                require([\"plotly\"], function(Plotly) {                    window.PLOTLYENV=window.PLOTLYENV || {};                                    if (document.getElementById(\"942d8c83-9924-4db6-a5e1-e4a7d4f948a6\")) {                    Plotly.newPlot(                        \"942d8c83-9924-4db6-a5e1-e4a7d4f948a6\",                        [{\"name\": \"Ratings\", \"type\": \"histogram\", \"x\": [66, 7, 5, 14, 8, 5, 7, 6, 5, 6, 7, 8, 16, 6, 6, 5, 6, 22, 13, 7, 30, 5, 9, 5, 7, 5, 5, 5, 8, 6, 6, 8, 5, 11, 9, 6, 10, 6, 9, 5, 7, 8, 8, 6, 7, 5, 5, 5, 5, 8, 9, 5, 5, 10, 8, 5, 6, 6, 9, 6, 5, 11, 8, 10, 7, 5, 7, 5, 5, 7, 7, 5, 5, 6, 5, 10, 11, 10, 8, 13, 5, 11, 5, 5, 5, 5, 10, 6, 7, 7, 7, 5, 8, 5, 24, 5, 18, 9, 5, 5, 5, 6, 7, 11, 6, 5, 5, 9, 5, 5, 5, 7, 6, 5, 6, 10, 5, 5, 7, 5, 6, 11, 6, 37, 9, 18, 5, 10, 20, 5, 5, 8, 8, 10, 5, 7, 9, 21, 5, 9, 5, 6, 7, 9, 6, 6, 18, 6, 6, 5, 6, 9, 13, 15, 10, 7, 5, 8, 5, 5, 6, 10, 5, 10, 6, 17, 5, 6, 6, 14, 7, 11, 5, 21, 5, 32, 9, 13, 5, 5, 7, 7, 18, 5, 6, 5, 5, 5, 5, 5, 10, 8, 6, 7, 7, 7, 8, 9, 5, 10, 5, 11, 5, 5, 5, 6, 5, 7, 5, 7, 5, 22, 6, 7, 8, 7, 9, 5, 7, 5, 8, 5, 5, 5, 5, 5, 7, 9, 8, 10, 16, 7, 6, 11, 8, 5, 10, 9, 5, 6, 9, 5, 9, 5, 5, 6, 11, 5, 5, 8, 5, 14, 5, 8, 5, 7, 5, 5, 6, 5, 5, 7, 6, 11, 6, 9, 7, 5, 6, 5, 5, 8, 6, 9, 9, 9, 10, 9, 32, 5, 5, 5, 5, 5, 12, 6, 5, 9, 18, 5, 9, 6, 5, 17, 6, 8, 11, 6, 5, 20, 5, 5, 20, 6, 9, 7, 11, 6, 8, 7, 8, 8, 5, 7, 5, 5, 5, 6, 20, 6, 5, 5, 6, 5, 14, 8, 5, 5, 5, 10, 5, 7, 5, 11, 7, 7, 15, 6, 13, 20, 6, 5, 20, 13, 5, 5, 7, 6, 5, 5, 5, 7, 11, 5, 10, 5, 5, 21, 23, 5, 15, 5, 7, 6, 5, 7, 10, 18, 10, 6, 5, 12, 13, 8, 8, 5, 14, 5, 14, 5, 5, 5, 6, 5, 38, 9, 10, 5, 5, 5, 7, 6, 10, 7, 6, 6, 19, 6, 11, 11, 22, 5, 6, 7, 7, 5, 5, 7, 9, 8, 7, 8, 8, 6, 23, 5, 5, 9, 5, 11, 8, 24, 5, 8, 19, 6, 5, 5, 8, 8, 35, 8, 5, 8, 11, 25, 5, 5, 5, 8, 5, 5, 5, 5, 5, 5, 7, 6, 5, 5, 5, 5, 6, 11, 6, 5, 7, 7, 12, 5, 5, 9, 19, 5, 8, 5, 8, 15, 6, 19, 6, 13, 7, 7, 5, 8, 10, 11, 5, 16, 8, 5, 6, 5, 7, 12, 16, 5, 5, 12, 16, 6, 7, 6, 10, 5, 6, 5, 5, 5, 9, 43, 8, 5, 5, 9, 12, 5, 5, 5, 6, 5, 6, 5, 6, 7, 6, 20, 8, 6, 6, 6, 5, 5, 5, 10, 5, 8, 6, 9, 7, 13, 5, 9, 5, 5, 5, 5, 5, 5, 8, 5, 5, 7, 5, 5, 6, 6, 5, 9, 10, 5, 13, 8, 7, 6, 5, 5, 8, 13, 10, 5, 6, 12, 8, 6, 5, 5, 6, 5, 10, 8, 11, 6, 7, 11, 5, 6, 6, 10, 8, 6, 8, 5, 5, 12, 5, 5, 11, 5, 5, 6, 7, 6, 6, 5, 10, 7, 5, 5, 6, 6, 11, 21, 5, 6, 13, 6, 5, 5, 6, 5, 10, 13, 6, 7, 6, 6, 6, 5, 8, 5, 5, 6, 5, 5, 5, 5, 6, 6, 23, 5, 7, 5, 5, 8, 10, 7, 10, 6, 8, 6, 12, 8, 6, 5, 7, 5, 6, 6, 5, 8, 34, 6, 5, 7, 7, 9, 8, 11, 5, 6, 10, 10, 5, 5, 6, 5, 6, 5, 5, 10, 5, 5, 7, 7, 6, 5, 5, 10, 5, 6, 5, 11, 5, 12, 6, 5, 21, 5, 5, 7, 12, 6, 5, 11, 12, 14, 6, 7, 5, 5, 5, 5, 5, 9, 5, 5, 5, 6, 5, 5, 16, 5, 8, 11, 5, 10, 10, 7, 8, 6, 5, 5, 5, 14, 5, 5, 5, 19, 9, 6, 5, 5, 6, 5, 5, 6, 18, 5, 5, 7, 6, 5, 8, 8, 9, 10, 6, 8, 5, 6, 34, 7, 5, 5, 9, 10, 10, 5, 6, 7, 7, 9, 5, 6, 8, 5, 10, 15, 6, 7, 5, 9, 7, 5, 11, 9, 33, 5, 6, 6, 5, 11, 12, 5, 5, 13, 8, 5, 11, 6, 7, 9, 5, 5, 5, 7, 6, 14, 12, 8, 8, 6, 5, 6, 9, 6, 6, 5, 5, 6, 8, 5, 5, 5, 5, 5, 11, 5, 14, 8, 17, 5, 5, 10, 14, 5, 6, 15, 7, 22, 8, 5, 5, 16, 10, 6, 5, 5, 5, 8, 5, 6, 7, 6, 5, 8, 6, 5, 6, 8, 5, 7, 9, 5, 12, 7, 6, 5, 9, 5, 7, 11, 6, 8, 5, 7, 5, 5, 8, 5, 8, 7, 14, 5, 5, 5, 6, 22, 11, 8, 5, 5, 10, 6, 5, 6, 5, 7, 6, 8, 6, 11, 5, 6, 7, 9, 22, 8, 6, 8, 5, 5, 6, 9, 7, 5, 13, 9, 5, 6, 5, 5, 10, 6, 6, 15, 11, 6, 5, 6, 34, 17, 7, 5, 5, 5, 16, 5, 9, 5, 8, 5, 5, 5, 8, 5, 5, 5, 5, 7, 6, 16, 10, 5, 6, 10, 6, 8, 5, 7, 8, 5, 13, 7, 10, 8, 5, 8, 5, 6, 11, 9, 7, 9, 5, 25, 5, 8, 7, 5, 8, 5, 6, 9, 31, 5, 7, 8, 7, 7, 5, 35, 5, 12, 5, 16, 11, 7, 7, 6, 5, 5, 8, 9, 6, 8, 5, 5, 6, 14, 8, 5, 6, 6, 8, 5, 22, 5, 7, 8, 10, 6, 10, 8, 11, 5, 7, 12, 7, 5, 5, 7, 5, 5, 5, 5, 6, 5, 26, 11, 11, 5, 5, 5, 5, 5, 7, 5, 5, 17, 5, 7, 5, 5, 5, 10, 6, 27, 5, 5, 5, 8, 11, 5, 8, 9, 7, 6, 5, 6, 8, 5, 9, 6, 6, 7, 5, 5, 5, 6, 6, 5, 9, 5, 5, 6, 7, 5, 6, 5, 5, 6, 5, 6, 5, 7, 8, 10, 6, 7, 5, 5, 21, 5, 5, 5, 13, 5, 7, 6, 5, 11, 6, 9, 9, 5, 5, 5, 7, 5, 6, 5, 19, 9, 5, 5, 5, 6, 43, 22, 5, 6, 7, 8, 7, 7, 5, 5, 5, 13, 6, 10, 5, 6, 5, 6, 5, 8, 12, 8, 5, 15, 9, 6, 8, 11, 11, 5, 6, 9, 5, 6, 6, 5, 8, 7, 6, 6, 5, 8, 12, 5, 6, 14, 5, 6, 15, 5, 5, 6, 7, 5, 6, 19, 5, 5, 10, 5, 5, 6, 5, 11, 8, 6, 5, 11, 7, 6, 6, 5, 7, 5, 8, 15, 7, 10, 8, 5, 5, 9, 33, 17, 6, 10, 7, 8, 34, 15, 5, 5, 5, 5, 5, 5, 6, 5, 5, 9, 8, 9, 5, 8, 5, 5, 5, 5, 7, 6, 10, 6, 15, 7, 5, 8, 5, 8, 13, 5, 7, 6, 11, 6, 7, 7, 7, 15, 6, 12, 7, 5, 8, 10, 7, 6, 5, 13, 5, 17, 15, 5, 18, 6, 12, 5, 6, 8, 10, 7, 13, 21, 5, 33, 5, 11, 11, 15, 6, 6, 7, 6, 7, 5, 26, 5, 18, 5, 6, 5, 12, 6, 7, 6, 5, 7, 6, 6, 5, 10, 13, 5, 5, 8, 6, 5, 7, 7, 6, 11, 9, 5, 7, 6, 5, 9, 5, 7, 7, 6, 5, 12, 6, 7, 8, 5, 5, 6, 7, 15, 6, 6, 6, 9, 5, 6, 8, 5, 5, 16, 6, 7, 5, 8, 5, 7, 13, 6, 6, 9, 5, 5, 6, 7, 6, 7, 6, 5, 6, 7, 8, 5, 8, 5, 5, 5, 17, 7, 5, 14, 8, 6, 14, 5, 6, 6, 6, 5, 7, 5, 5, 5, 8, 7, 5, 11, 5, 5, 11, 5, 5, 40, 15, 8, 5, 5, 5, 7, 5, 6, 5, 6, 6, 5, 5, 6, 6, 12, 5, 5, 9, 8, 6, 11, 15, 14, 6, 5, 8, 9, 7, 6, 16, 7, 5, 7, 13, 12, 6, 7, 6, 8, 5, 7, 5, 8, 9, 5, 5, 5, 9, 7, 9, 7, 5, 8, 12, 10, 8, 6, 5, 17, 5, 7, 5, 5, 9, 5, 6, 5, 6, 7, 6, 7, 13, 14, 24, 5, 13, 8, 10, 7, 5, 5, 6, 5, 7, 7, 5, 11, 5, 5, 5, 7, 6, 7, 6, 10, 6, 10, 9, 5, 18, 6, 5, 6, 15, 5, 5, 7, 5, 6, 5, 5, 5, 6, 8, 5, 6, 5, 8, 5, 5, 5, 34, 7, 5, 5, 7, 10, 6, 5, 6, 5, 10, 10, 8, 11, 5, 6, 10, 7, 5, 5, 5, 5, 11, 5, 8, 7, 6, 10, 13, 8, 5, 8, 6, 5, 5, 6, 8, 5, 8, 5, 8, 6, 6, 8, 5, 13, 7, 6, 6, 6, 6, 5, 5, 5, 5, 5, 5, 6, 5, 6, 22, 5, 8, 5, 8, 6, 6, 12, 21, 5, 7, 5, 6, 5, 5, 10, 7, 6, 9, 5, 5, 6, 5, 10, 5, 12, 8, 8, 10, 5, 5, 31, 7, 10, 5, 5, 5, 5, 5, 6, 10, 5, 5, 10, 5, 12, 6, 9, 5, 6, 8, 5, 6, 20, 8, 10, 6, 5, 5, 7, 14, 6, 5, 8, 5, 18, 16, 6, 7, 5, 8, 5, 6, 6, 5, 6, 5, 6, 6, 5, 5, 8, 5, 6, 5, 8, 6, 8, 6, 21, 26, 12, 5, 9, 6, 5, 5, 5, 6, 8, 6, 17, 6, 7, 5, 5, 7, 8, 5, 24, 6, 5], \"xbins\": {\"size\": 2, \"start\": 0}}],                        {\"bargap\": 0.2, \"template\": {\"data\": {\"bar\": [{\"error_x\": {\"color\": \"#2a3f5f\"}, \"error_y\": {\"color\": \"#2a3f5f\"}, \"marker\": {\"line\": {\"color\": \"#E5ECF6\", \"width\": 0.5}}, \"type\": \"bar\"}], \"barpolar\": [{\"marker\": {\"line\": {\"color\": \"#E5ECF6\", \"width\": 0.5}}, \"type\": \"barpolar\"}], \"carpet\": [{\"aaxis\": {\"endlinecolor\": \"#2a3f5f\", \"gridcolor\": \"white\", \"linecolor\": \"white\", \"minorgridcolor\": \"white\", \"startlinecolor\": \"#2a3f5f\"}, \"baxis\": {\"endlinecolor\": \"#2a3f5f\", \"gridcolor\": \"white\", \"linecolor\": \"white\", \"minorgridcolor\": \"white\", \"startlinecolor\": \"#2a3f5f\"}, \"type\": \"carpet\"}], \"choropleth\": [{\"colorbar\": {\"outlinewidth\": 0, \"ticks\": \"\"}, \"type\": \"choropleth\"}], \"contour\": [{\"colorbar\": {\"outlinewidth\": 0, \"ticks\": \"\"}, \"colorscale\": [[0.0, \"#0d0887\"], [0.1111111111111111, \"#46039f\"], [0.2222222222222222, \"#7201a8\"], [0.3333333333333333, \"#9c179e\"], [0.4444444444444444, \"#bd3786\"], [0.5555555555555556, \"#d8576b\"], [0.6666666666666666, \"#ed7953\"], [0.7777777777777778, \"#fb9f3a\"], [0.8888888888888888, \"#fdca26\"], [1.0, \"#f0f921\"]], \"type\": \"contour\"}], \"contourcarpet\": [{\"colorbar\": {\"outlinewidth\": 0, \"ticks\": \"\"}, \"type\": \"contourcarpet\"}], \"heatmap\": [{\"colorbar\": {\"outlinewidth\": 0, \"ticks\": \"\"}, \"colorscale\": [[0.0, \"#0d0887\"], [0.1111111111111111, \"#46039f\"], [0.2222222222222222, \"#7201a8\"], [0.3333333333333333, \"#9c179e\"], [0.4444444444444444, \"#bd3786\"], [0.5555555555555556, \"#d8576b\"], [0.6666666666666666, \"#ed7953\"], [0.7777777777777778, \"#fb9f3a\"], [0.8888888888888888, \"#fdca26\"], [1.0, \"#f0f921\"]], \"type\": \"heatmap\"}], \"heatmapgl\": [{\"colorbar\": {\"outlinewidth\": 0, \"ticks\": \"\"}, \"colorscale\": [[0.0, \"#0d0887\"], [0.1111111111111111, \"#46039f\"], [0.2222222222222222, \"#7201a8\"], [0.3333333333333333, \"#9c179e\"], [0.4444444444444444, \"#bd3786\"], [0.5555555555555556, \"#d8576b\"], [0.6666666666666666, \"#ed7953\"], [0.7777777777777778, \"#fb9f3a\"], [0.8888888888888888, \"#fdca26\"], [1.0, \"#f0f921\"]], \"type\": \"heatmapgl\"}], \"histogram\": [{\"marker\": {\"colorbar\": {\"outlinewidth\": 0, \"ticks\": \"\"}}, \"type\": \"histogram\"}], \"histogram2d\": [{\"colorbar\": {\"outlinewidth\": 0, \"ticks\": \"\"}, \"colorscale\": [[0.0, \"#0d0887\"], [0.1111111111111111, \"#46039f\"], [0.2222222222222222, \"#7201a8\"], [0.3333333333333333, \"#9c179e\"], [0.4444444444444444, \"#bd3786\"], [0.5555555555555556, \"#d8576b\"], [0.6666666666666666, \"#ed7953\"], [0.7777777777777778, \"#fb9f3a\"], [0.8888888888888888, \"#fdca26\"], [1.0, \"#f0f921\"]], \"type\": \"histogram2d\"}], \"histogram2dcontour\": [{\"colorbar\": {\"outlinewidth\": 0, \"ticks\": \"\"}, \"colorscale\": [[0.0, \"#0d0887\"], [0.1111111111111111, \"#46039f\"], [0.2222222222222222, \"#7201a8\"], [0.3333333333333333, \"#9c179e\"], [0.4444444444444444, \"#bd3786\"], [0.5555555555555556, \"#d8576b\"], [0.6666666666666666, \"#ed7953\"], [0.7777777777777778, \"#fb9f3a\"], [0.8888888888888888, \"#fdca26\"], [1.0, \"#f0f921\"]], \"type\": \"histogram2dcontour\"}], \"mesh3d\": [{\"colorbar\": {\"outlinewidth\": 0, \"ticks\": \"\"}, \"type\": \"mesh3d\"}], \"parcoords\": [{\"line\": {\"colorbar\": {\"outlinewidth\": 0, \"ticks\": \"\"}}, \"type\": \"parcoords\"}], \"pie\": [{\"automargin\": true, \"type\": \"pie\"}], \"scatter\": [{\"marker\": {\"colorbar\": {\"outlinewidth\": 0, \"ticks\": \"\"}}, \"type\": \"scatter\"}], \"scatter3d\": [{\"line\": {\"colorbar\": {\"outlinewidth\": 0, \"ticks\": \"\"}}, \"marker\": {\"colorbar\": {\"outlinewidth\": 0, \"ticks\": \"\"}}, \"type\": \"scatter3d\"}], \"scattercarpet\": [{\"marker\": {\"colorbar\": {\"outlinewidth\": 0, \"ticks\": \"\"}}, \"type\": \"scattercarpet\"}], \"scattergeo\": [{\"marker\": {\"colorbar\": {\"outlinewidth\": 0, \"ticks\": \"\"}}, \"type\": \"scattergeo\"}], \"scattergl\": [{\"marker\": {\"colorbar\": {\"outlinewidth\": 0, \"ticks\": \"\"}}, \"type\": \"scattergl\"}], \"scattermapbox\": [{\"marker\": {\"colorbar\": {\"outlinewidth\": 0, \"ticks\": \"\"}}, \"type\": \"scattermapbox\"}], \"scatterpolar\": [{\"marker\": {\"colorbar\": {\"outlinewidth\": 0, \"ticks\": \"\"}}, \"type\": \"scatterpolar\"}], \"scatterpolargl\": [{\"marker\": {\"colorbar\": {\"outlinewidth\": 0, \"ticks\": \"\"}}, \"type\": \"scatterpolargl\"}], \"scatterternary\": [{\"marker\": {\"colorbar\": {\"outlinewidth\": 0, \"ticks\": \"\"}}, \"type\": \"scatterternary\"}], \"surface\": [{\"colorbar\": {\"outlinewidth\": 0, \"ticks\": \"\"}, \"colorscale\": [[0.0, \"#0d0887\"], [0.1111111111111111, \"#46039f\"], [0.2222222222222222, \"#7201a8\"], [0.3333333333333333, \"#9c179e\"], [0.4444444444444444, \"#bd3786\"], [0.5555555555555556, \"#d8576b\"], [0.6666666666666666, \"#ed7953\"], [0.7777777777777778, \"#fb9f3a\"], [0.8888888888888888, \"#fdca26\"], [1.0, \"#f0f921\"]], \"type\": \"surface\"}], \"table\": [{\"cells\": {\"fill\": {\"color\": \"#EBF0F8\"}, \"line\": {\"color\": \"white\"}}, \"header\": {\"fill\": {\"color\": \"#C8D4E3\"}, \"line\": {\"color\": \"white\"}}, \"type\": \"table\"}]}, \"layout\": {\"annotationdefaults\": {\"arrowcolor\": \"#2a3f5f\", \"arrowhead\": 0, \"arrowwidth\": 1}, \"coloraxis\": {\"colorbar\": {\"outlinewidth\": 0, \"ticks\": \"\"}}, \"colorscale\": {\"diverging\": [[0, \"#8e0152\"], [0.1, \"#c51b7d\"], [0.2, \"#de77ae\"], [0.3, \"#f1b6da\"], [0.4, \"#fde0ef\"], [0.5, \"#f7f7f7\"], [0.6, \"#e6f5d0\"], [0.7, \"#b8e186\"], [0.8, \"#7fbc41\"], [0.9, \"#4d9221\"], [1, \"#276419\"]], \"sequential\": [[0.0, \"#0d0887\"], [0.1111111111111111, \"#46039f\"], [0.2222222222222222, \"#7201a8\"], [0.3333333333333333, \"#9c179e\"], [0.4444444444444444, \"#bd3786\"], [0.5555555555555556, \"#d8576b\"], [0.6666666666666666, \"#ed7953\"], [0.7777777777777778, \"#fb9f3a\"], [0.8888888888888888, \"#fdca26\"], [1.0, \"#f0f921\"]], \"sequentialminus\": [[0.0, \"#0d0887\"], [0.1111111111111111, \"#46039f\"], [0.2222222222222222, \"#7201a8\"], [0.3333333333333333, \"#9c179e\"], [0.4444444444444444, \"#bd3786\"], [0.5555555555555556, \"#d8576b\"], [0.6666666666666666, \"#ed7953\"], [0.7777777777777778, \"#fb9f3a\"], [0.8888888888888888, \"#fdca26\"], [1.0, \"#f0f921\"]]}, \"colorway\": [\"#636efa\", \"#EF553B\", \"#00cc96\", \"#ab63fa\", \"#FFA15A\", \"#19d3f3\", \"#FF6692\", \"#B6E880\", \"#FF97FF\", \"#FECB52\"], \"font\": {\"color\": \"#2a3f5f\"}, \"geo\": {\"bgcolor\": \"white\", \"lakecolor\": \"white\", \"landcolor\": \"#E5ECF6\", \"showlakes\": true, \"showland\": true, \"subunitcolor\": \"white\"}, \"hoverlabel\": {\"align\": \"left\"}, \"hovermode\": \"closest\", \"mapbox\": {\"style\": \"light\"}, \"paper_bgcolor\": \"white\", \"plot_bgcolor\": \"#E5ECF6\", \"polar\": {\"angularaxis\": {\"gridcolor\": \"white\", \"linecolor\": \"white\", \"ticks\": \"\"}, \"bgcolor\": \"#E5ECF6\", \"radialaxis\": {\"gridcolor\": \"white\", \"linecolor\": \"white\", \"ticks\": \"\"}}, \"scene\": {\"xaxis\": {\"backgroundcolor\": \"#E5ECF6\", \"gridcolor\": \"white\", \"gridwidth\": 2, \"linecolor\": \"white\", \"showbackground\": true, \"ticks\": \"\", \"zerolinecolor\": \"white\"}, \"yaxis\": {\"backgroundcolor\": \"#E5ECF6\", \"gridcolor\": \"white\", \"gridwidth\": 2, \"linecolor\": \"white\", \"showbackground\": true, \"ticks\": \"\", \"zerolinecolor\": \"white\"}, \"zaxis\": {\"backgroundcolor\": \"#E5ECF6\", \"gridcolor\": \"white\", \"gridwidth\": 2, \"linecolor\": \"white\", \"showbackground\": true, \"ticks\": \"\", \"zerolinecolor\": \"white\"}}, \"shapedefaults\": {\"line\": {\"color\": \"#2a3f5f\"}}, \"ternary\": {\"aaxis\": {\"gridcolor\": \"white\", \"linecolor\": \"white\", \"ticks\": \"\"}, \"baxis\": {\"gridcolor\": \"white\", \"linecolor\": \"white\", \"ticks\": \"\"}, \"bgcolor\": \"#E5ECF6\", \"caxis\": {\"gridcolor\": \"white\", \"linecolor\": \"white\", \"ticks\": \"\"}}, \"title\": {\"x\": 0.05}, \"xaxis\": {\"automargin\": true, \"gridcolor\": \"white\", \"linecolor\": \"white\", \"ticks\": \"\", \"title\": {\"standoff\": 15}, \"zerolinecolor\": \"white\", \"zerolinewidth\": 2}, \"yaxis\": {\"automargin\": true, \"gridcolor\": \"white\", \"linecolor\": \"white\", \"ticks\": \"\", \"title\": {\"standoff\": 15}, \"zerolinecolor\": \"white\", \"zerolinewidth\": 2}}}, \"title\": {\"text\": \"Distribution Of Number of Ratings Per User\"}, \"xaxis\": {\"title\": {\"text\": \"Ratings Per User\"}}, \"yaxis\": {\"title\": {\"text\": \"Count\"}}},                        {\"responsive\": true}                    ).then(function(){\n",
       "                            \n",
       "var gd = document.getElementById('942d8c83-9924-4db6-a5e1-e4a7d4f948a6');\n",
       "var x = new MutationObserver(function (mutations, observer) {{\n",
       "        var display = window.getComputedStyle(gd).display;\n",
       "        if (!display || display === 'none') {{\n",
       "            console.log([gd, 'removed!']);\n",
       "            Plotly.purge(gd);\n",
       "            observer.disconnect();\n",
       "        }}\n",
       "}});\n",
       "\n",
       "// Listen for the removal of the full notebook cells\n",
       "var notebookContainer = gd.closest('#notebook-container');\n",
       "if (notebookContainer) {{\n",
       "    x.observe(notebookContainer, {childList: true});\n",
       "}}\n",
       "\n",
       "// Listen for the clearing of the current output cell\n",
       "var outputEl = gd.closest('.output');\n",
       "if (outputEl) {{\n",
       "    x.observe(outputEl, {childList: true});\n",
       "}}\n",
       "\n",
       "                        })                };                });            </script>        </div>"
      ]
     },
     "metadata": {},
     "output_type": "display_data"
    }
   ],
   "source": [
    "# Number of ratings per user\n",
    "data = df.groupby('reviewerID')['overall'].count()\n",
    "\n",
    "# Create trace\n",
    "trace = go.Histogram(x = data.values,\n",
    "                     name = 'Ratings',\n",
    "                     xbins = dict(start = 0, size = 2))\n",
    "# Create layout\n",
    "layout = go.Layout(title = 'Distribution Of Number of Ratings Per User',\n",
    "                   xaxis = dict(title = 'Ratings Per User'),\n",
    "                   yaxis = dict(title = 'Count'),\n",
    "                   bargap = 0.2)\n",
    "\n",
    "# Create plot\n",
    "fig = go.Figure(data=[trace], layout=layout)\n",
    "iplot(fig)"
   ]
  },
  {
   "cell_type": "code",
   "execution_count": 72,
   "metadata": {},
   "outputs": [],
   "source": [
    "from surprise import Dataset\n",
    "from surprise import Reader\n",
    "\n",
    "reader = Reader(rating_scale=(1, 5))\n",
    "data = Dataset.load_from_df(df[['reviewerID', 'asin', 'overall']], reader)"
   ]
  },
  {
   "cell_type": "code",
   "execution_count": 73,
   "metadata": {},
   "outputs": [],
   "source": [
    "import numpy as np\n",
    "from sklearn.model_selection import train_test_split\n",
    "\n",
    "# df2 = df.iloc[:30000, :]\n",
    "# df2 = df2.groupby('reviewerID').filter(lambda x: len(x) >= 5)\n",
    "data_train, data_test = train_test_split(df, test_size=0.20, random_state=42, stratify=df['reviewerID'])"
   ]
  },
  {
   "cell_type": "code",
   "execution_count": 74,
   "metadata": {},
   "outputs": [],
   "source": [
    "from surprise import Dataset\n",
    "from surprise import Reader\n",
    "reader = Reader(rating_scale=(1, 5))\n",
    "data_train_cf = Dataset.load_from_df(data_train[['reviewerID', 'asin', 'overall']], reader)\n",
    "data_test_cf = Dataset.load_from_df(data_test[['reviewerID', 'asin', 'overall']], reader)"
   ]
  },
  {
   "cell_type": "code",
   "execution_count": 75,
   "metadata": {},
   "outputs": [],
   "source": [
    "from surprise import KNNBaseline\n",
    "\n",
    "# To use item-based cosine similarity\n",
    "sim_options = {\n",
    "    \"name\": \"cosine\",\n",
    "    \"user_based\": False,  # Compute  similarities between items\n",
    "}\n",
    "knn = KNNBaseline(sim_options=sim_options)"
   ]
  },
  {
   "cell_type": "code",
   "execution_count": 76,
   "metadata": {},
   "outputs": [
    {
     "name": "stdout",
     "output_type": "stream",
     "text": [
      "Estimating biases using als...\n",
      "Computing the cosine similarity matrix...\n",
      "Done computing similarity matrix.\n",
      "Estimating biases using als...\n",
      "Computing the cosine similarity matrix...\n",
      "Done computing similarity matrix.\n",
      "Estimating biases using als...\n",
      "Computing the cosine similarity matrix...\n",
      "Done computing similarity matrix.\n",
      "Evaluating RMSE of algorithm KNNBaseline on 3 split(s).\n",
      "\n",
      "                  Fold 1  Fold 2  Fold 3  Mean    Std     \n",
      "RMSE (testset)    1.0716  1.0832  1.0566  1.0705  0.0109  \n",
      "Fit time          0.09    0.06    0.08    0.08    0.01    \n",
      "Test time         0.07    0.07    0.14    0.09    0.03    \n"
     ]
    }
   ],
   "source": [
    "from surprise.model_selection import cross_validate\n",
    "\n",
    "results = cross_validate(knn, data, measures=['RMSE'], cv=3, verbose=True)"
   ]
  },
  {
   "cell_type": "code",
   "execution_count": 77,
   "metadata": {},
   "outputs": [
    {
     "name": "stdout",
     "output_type": "stream",
     "text": [
      "Evaluating RMSE of algorithm NormalPredictor on 3 split(s).\n",
      "\n",
      "                  Fold 1  Fold 2  Fold 3  Mean    Std     \n",
      "RMSE (testset)    1.4041  1.4171  1.3823  1.4012  0.0144  \n",
      "Fit time          0.01    0.01    0.01    0.01    0.00    \n",
      "Test time         0.03    0.02    0.02    0.03    0.00    \n"
     ]
    },
    {
     "data": {
      "text/plain": [
       "{'test_rmse': array([1.40413582, 1.41713734, 1.38229593]),\n",
       " 'fit_time': (0.01346898078918457, 0.013476133346557617, 0.011932849884033203),\n",
       " 'test_time': (0.03415513038635254,\n",
       "  0.024823665618896484,\n",
       "  0.022956132888793945)}"
      ]
     },
     "execution_count": 77,
     "metadata": {},
     "output_type": "execute_result"
    }
   ],
   "source": [
    "from surprise import NormalPredictor\n",
    "\n",
    "cross_validate(NormalPredictor(), data, measures=['RMSE'], cv=3, verbose=True)"
   ]
  },
  {
   "cell_type": "code",
   "execution_count": 78,
   "metadata": {},
   "outputs": [
    {
     "name": "stdout",
     "output_type": "stream",
     "text": [
      "Estimating biases using als...\n",
      "Computing the msd similarity matrix...\n",
      "Done computing similarity matrix.\n",
      "Estimating biases using als...\n",
      "Computing the msd similarity matrix...\n",
      "Done computing similarity matrix.\n",
      "Estimating biases using als...\n",
      "Computing the msd similarity matrix...\n",
      "Done computing similarity matrix.\n",
      "Estimating biases using als...\n",
      "Computing the msd similarity matrix...\n",
      "Done computing similarity matrix.\n",
      "Estimating biases using als...\n",
      "Computing the msd similarity matrix...\n",
      "Done computing similarity matrix.\n",
      "Estimating biases using als...\n",
      "Computing the msd similarity matrix...\n",
      "Done computing similarity matrix.\n",
      "Estimating biases using als...\n",
      "Computing the msd similarity matrix...\n",
      "Done computing similarity matrix.\n",
      "Estimating biases using als...\n",
      "Computing the msd similarity matrix...\n",
      "Done computing similarity matrix.\n",
      "Estimating biases using als...\n",
      "Computing the msd similarity matrix...\n",
      "Done computing similarity matrix.\n",
      "Estimating biases using als...\n",
      "Computing the msd similarity matrix...\n",
      "Done computing similarity matrix.\n",
      "Estimating biases using als...\n",
      "Computing the msd similarity matrix...\n",
      "Done computing similarity matrix.\n",
      "Estimating biases using als...\n",
      "Computing the msd similarity matrix...\n",
      "Done computing similarity matrix.\n",
      "Estimating biases using als...\n",
      "Computing the msd similarity matrix...\n",
      "Done computing similarity matrix.\n",
      "Estimating biases using als...\n",
      "Computing the msd similarity matrix...\n",
      "Done computing similarity matrix.\n",
      "Estimating biases using als...\n",
      "Computing the msd similarity matrix...\n",
      "Done computing similarity matrix.\n",
      "Estimating biases using als...\n",
      "Computing the msd similarity matrix...\n",
      "Done computing similarity matrix.\n",
      "Estimating biases using als...\n",
      "Computing the msd similarity matrix...\n",
      "Done computing similarity matrix.\n",
      "Estimating biases using als...\n",
      "Computing the msd similarity matrix...\n",
      "Done computing similarity matrix.\n",
      "Estimating biases using als...\n",
      "Computing the cosine similarity matrix...\n",
      "Done computing similarity matrix.\n",
      "Estimating biases using als...\n",
      "Computing the cosine similarity matrix...\n",
      "Done computing similarity matrix.\n",
      "Estimating biases using als...\n",
      "Computing the cosine similarity matrix...\n",
      "Done computing similarity matrix.\n",
      "Estimating biases using als...\n",
      "Computing the cosine similarity matrix...\n",
      "Done computing similarity matrix.\n",
      "Estimating biases using als...\n",
      "Computing the cosine similarity matrix...\n",
      "Done computing similarity matrix.\n",
      "Estimating biases using als...\n",
      "Computing the cosine similarity matrix...\n",
      "Done computing similarity matrix.\n",
      "Estimating biases using als...\n",
      "Computing the cosine similarity matrix...\n",
      "Done computing similarity matrix.\n",
      "Estimating biases using als...\n",
      "Computing the cosine similarity matrix...\n",
      "Done computing similarity matrix.\n",
      "Estimating biases using als...\n",
      "Computing the cosine similarity matrix...\n",
      "Done computing similarity matrix.\n",
      "Estimating biases using als...\n",
      "Computing the cosine similarity matrix...\n",
      "Done computing similarity matrix.\n",
      "Estimating biases using als...\n",
      "Computing the cosine similarity matrix...\n",
      "Done computing similarity matrix.\n",
      "Estimating biases using als...\n",
      "Computing the cosine similarity matrix...\n",
      "Done computing similarity matrix.\n",
      "Estimating biases using als...\n",
      "Computing the cosine similarity matrix...\n",
      "Done computing similarity matrix.\n",
      "Estimating biases using als...\n",
      "Computing the cosine similarity matrix...\n",
      "Done computing similarity matrix.\n",
      "Estimating biases using als...\n",
      "Computing the cosine similarity matrix...\n",
      "Done computing similarity matrix.\n",
      "Estimating biases using als...\n",
      "Computing the cosine similarity matrix...\n",
      "Done computing similarity matrix.\n",
      "Estimating biases using als...\n",
      "Computing the cosine similarity matrix...\n",
      "Done computing similarity matrix.\n",
      "Estimating biases using als...\n",
      "Computing the cosine similarity matrix...\n",
      "Done computing similarity matrix.\n",
      "1.0026716230731176\n",
      "{'sim_options': {'name': 'msd', 'min_support': 5, 'user_based': True}}\n"
     ]
    }
   ],
   "source": [
    "from surprise import KNNBaseline\n",
    "from surprise.model_selection import GridSearchCV\n",
    "\n",
    "sim_options = {\n",
    "    \"name\": [\"msd\", \"cosine\"],\n",
    "    \"min_support\": [3, 4, 5],\n",
    "    \"user_based\": [False, True],\n",
    "}\n",
    "\n",
    "param_grid = {\"sim_options\": sim_options}\n",
    "\n",
    "gs = GridSearchCV(KNNBaseline, param_grid, measures=[\"rmse\", \"mae\"], cv=3)\n",
    "gs.fit(data)\n",
    "\n",
    "print(gs.best_score[\"rmse\"])\n",
    "print(gs.best_params[\"rmse\"])"
   ]
  },
  {
   "cell_type": "code",
   "execution_count": 79,
   "metadata": {},
   "outputs": [],
   "source": [
    "from surprise import AlgoBase\n",
    "from surprise import Dataset\n",
    "from surprise.model_selection import cross_validate\n",
    "from surprise import PredictionImpossible\n",
    "\n",
    "class GroupAlgorithm(AlgoBase):\n",
    "\n",
    "    def __init__(self, sim_options={}, bsl_options={}):\n",
    "\n",
    "        AlgoBase.__init__(self, sim_options=sim_options, bsl_options=bsl_options)\n",
    "\n",
    "    def fit(self, trainset):\n",
    "\n",
    "        AlgoBase.fit(self, trainset)\n",
    "\n",
    "        # Compute baselines and similarities\n",
    "        self.bu, self.bi = self.compute_baselines()\n",
    "        self.sim = self.compute_similarities()\n",
    "\n",
    "        return self\n",
    "\n",
    "    def estimate(self, u, i):\n",
    "\n",
    "        if not (self.trainset.knows_user(u) and self.trainset.knows_item(i)):\n",
    "            raise PredictionImpossible('User and/or item is unknown.')\n",
    "\n",
    "        # Compute similarities between u and v, where v describes all other users that have also rated item i.\n",
    "        neighbors = [(v, self.sim[u, v]) for (v, r) in self.trainset.ir[i]]\n",
    "        # Sort these neighbors by similarity\n",
    "        neighbors = sorted(neighbors, key=lambda x: x[1], reverse=True)\n",
    "\n",
    "        print('The 3 nearest neighbors of user', str(u), 'are:')\n",
    "        for v, sim_uv in neighbors[:3]:\n",
    "            print('user {0:} with sim {1:1.2f}'.format(v, sim_uv))\n",
    "\n",
    "        # Return the baseline estimate\n",
    "        bsl = self.trainset.global_mean + self.bu[u] + self.bi[i]\n",
    "        return bsl\n"
   ]
  },
  {
   "cell_type": "code",
   "execution_count": 80,
   "metadata": {},
   "outputs": [],
   "source": [
    "from surprise import SVDpp\n",
    "\n",
    "# We'll use the famous SVD algorithm.\n",
    "svd = SVDpp()\n",
    "\n",
    "results = cross_validate(svd, data, measures=['RMSE'], cv=3, verbose=False)"
   ]
  },
  {
   "cell_type": "code",
   "execution_count": 81,
   "metadata": {},
   "outputs": [
    {
     "name": "stdout",
     "output_type": "stream",
     "text": [
      "Testing <surprise.prediction_algorithms.matrix_factorization.SVD object at 0x7fc7585ad650>\n",
      "Testing <surprise.prediction_algorithms.matrix_factorization.SVDpp object at 0x7fc75bc4b990>\n",
      "Testing <surprise.prediction_algorithms.slope_one.SlopeOne object at 0x7fc7439c9a10>\n",
      "Testing <surprise.prediction_algorithms.matrix_factorization.NMF object at 0x7fc7439c97d0>\n",
      "Testing <surprise.prediction_algorithms.random_pred.NormalPredictor object at 0x7fc74161f850>\n",
      "Testing <surprise.prediction_algorithms.knns.KNNBaseline object at 0x7fc75cde9790>\n",
      "Estimating biases using als...\n",
      "Computing the msd similarity matrix...\n",
      "Done computing similarity matrix.\n",
      "Estimating biases using als...\n",
      "Computing the msd similarity matrix...\n",
      "Done computing similarity matrix.\n",
      "Estimating biases using als...\n",
      "Computing the msd similarity matrix...\n",
      "Done computing similarity matrix.\n",
      "Testing <surprise.prediction_algorithms.baseline_only.BaselineOnly object at 0x7fc74376b910>\n",
      "Estimating biases using als...\n",
      "Estimating biases using als...\n",
      "Estimating biases using als...\n",
      "Testing <surprise.prediction_algorithms.co_clustering.CoClustering object at 0x7fc759f21a90>\n"
     ]
    },
    {
     "data": {
      "text/html": [
       "<div>\n",
       "<style scoped>\n",
       "    .dataframe tbody tr th:only-of-type {\n",
       "        vertical-align: middle;\n",
       "    }\n",
       "\n",
       "    .dataframe tbody tr th {\n",
       "        vertical-align: top;\n",
       "    }\n",
       "\n",
       "    .dataframe thead th {\n",
       "        text-align: right;\n",
       "    }\n",
       "</style>\n",
       "<table border=\"1\" class=\"dataframe\">\n",
       "  <thead>\n",
       "    <tr style=\"text-align: right;\">\n",
       "      <th></th>\n",
       "      <th>test_rmse</th>\n",
       "      <th>fit_time</th>\n",
       "      <th>test_time</th>\n",
       "    </tr>\n",
       "    <tr>\n",
       "      <th>Algorithm</th>\n",
       "      <th></th>\n",
       "      <th></th>\n",
       "      <th></th>\n",
       "    </tr>\n",
       "  </thead>\n",
       "  <tbody>\n",
       "    <tr>\n",
       "      <th>SVDpp</th>\n",
       "      <td>0.990275</td>\n",
       "      <td>1.414313</td>\n",
       "      <td>0.072275</td>\n",
       "    </tr>\n",
       "    <tr>\n",
       "      <th>BaselineOnly</th>\n",
       "      <td>0.993869</td>\n",
       "      <td>0.015190</td>\n",
       "      <td>0.016881</td>\n",
       "    </tr>\n",
       "    <tr>\n",
       "      <th>SVD</th>\n",
       "      <td>0.996130</td>\n",
       "      <td>0.466117</td>\n",
       "      <td>0.024606</td>\n",
       "    </tr>\n",
       "    <tr>\n",
       "      <th>KNNBaseline</th>\n",
       "      <td>1.073561</td>\n",
       "      <td>0.076690</td>\n",
       "      <td>0.162509</td>\n",
       "    </tr>\n",
       "    <tr>\n",
       "      <th>CoClustering</th>\n",
       "      <td>1.107380</td>\n",
       "      <td>0.348575</td>\n",
       "      <td>0.019335</td>\n",
       "    </tr>\n",
       "    <tr>\n",
       "      <th>SlopeOne</th>\n",
       "      <td>1.168458</td>\n",
       "      <td>0.036387</td>\n",
       "      <td>0.033404</td>\n",
       "    </tr>\n",
       "    <tr>\n",
       "      <th>NMF</th>\n",
       "      <td>1.198193</td>\n",
       "      <td>0.542307</td>\n",
       "      <td>0.019300</td>\n",
       "    </tr>\n",
       "    <tr>\n",
       "      <th>NormalPredictor</th>\n",
       "      <td>1.391469</td>\n",
       "      <td>0.010205</td>\n",
       "      <td>0.026634</td>\n",
       "    </tr>\n",
       "  </tbody>\n",
       "</table>\n",
       "</div>"
      ],
      "text/plain": [
       "                 test_rmse  fit_time  test_time\n",
       "Algorithm                                      \n",
       "SVDpp             0.990275  1.414313   0.072275\n",
       "BaselineOnly      0.993869  0.015190   0.016881\n",
       "SVD               0.996130  0.466117   0.024606\n",
       "KNNBaseline       1.073561  0.076690   0.162509\n",
       "CoClustering      1.107380  0.348575   0.019335\n",
       "SlopeOne          1.168458  0.036387   0.033404\n",
       "NMF               1.198193  0.542307   0.019300\n",
       "NormalPredictor   1.391469  0.010205   0.026634"
      ]
     },
     "execution_count": 81,
     "metadata": {},
     "output_type": "execute_result"
    }
   ],
   "source": [
    "from surprise import SVD\n",
    "from surprise import BaselineOnly\n",
    "from surprise import NMF\n",
    "from surprise import SlopeOne\n",
    "from surprise import CoClustering\n",
    "\n",
    "benchmark = []\n",
    "# Iterate over all algorithms\n",
    "for algorithm in [SVD(), SVDpp(), SlopeOne(), NMF(), NormalPredictor(), KNNBaseline(), BaselineOnly(), CoClustering()]:\n",
    "    \n",
    "    print(\"Testing {}\".format(algorithm))\n",
    "    # Perform cross validation\n",
    "    results = cross_validate(algorithm, data, measures=['RMSE'], cv=3, verbose=False)\n",
    "    \n",
    "    # Get results & append algorithm name\n",
    "    tmp = pd.DataFrame.from_dict(results).mean(axis=0)\n",
    "    tmp = tmp.append(pd.Series([str(algorithm).split(' ')[0].split('.')[-1]], index=['Algorithm']))\n",
    "    benchmark.append(tmp)\n",
    "    \n",
    "pd.DataFrame(benchmark).set_index('Algorithm').sort_values('test_rmse')    "
   ]
  },
  {
   "cell_type": "code",
   "execution_count": 82,
   "metadata": {},
   "outputs": [
    {
     "name": "stdout",
     "output_type": "stream",
     "text": [
      "Estimating biases using als...\n",
      "Computing the pearson_baseline similarity matrix...\n",
      "Done computing similarity matrix.\n",
      "\n",
      "The 10 nearest neighbors of B00KS0F4FI are:\n",
      "\n",
      "\t B00J96ZBB4\n",
      "\t B00JPWZY32\n",
      "\t B00AA8WPGY\n",
      "\t B000F0BVYE\n",
      "\t B008RGCJ5I\n",
      "\t B00IPL91M4\n",
      "\t B000BWY8KK\n",
      "\t B00C88DV6M\n",
      "\t B000A0VOD2\n",
      "\t B00008Z9ZG\n"
     ]
    }
   ],
   "source": [
    "# Execute KNN\n",
    "sim_options = {'name': 'pearson_baseline', 'user_based': False}\n",
    "knn = KNNBaseline(sim_options=sim_options)\n",
    "knn.fit(data.build_full_trainset())\n",
    "\n",
    "# Target item to analyze its neighbourhood\n",
    "garden_name = 'B00KS0F4FI'\n",
    "\n",
    "# Get the closes neighbourds\n",
    "neighbors = knn.get_neighbors(knn.trainset.to_inner_iid(garden_name), k=10)\n",
    "# Translate the internal ids used in the algorithm to the movie names\n",
    "neighbors = (knn.trainset.to_raw_iid(asin) for asin in neighbors)\n",
    "\n",
    "print()\n",
    "print('The 10 nearest neighbors of {} are:\\n'.format(garden_name))\n",
    "for asin in neighbors:\n",
    "    print(\"\\t\",asin)"
   ]
  },
  {
   "cell_type": "code",
   "execution_count": 83,
   "metadata": {},
   "outputs": [
    {
     "name": "stdout",
     "output_type": "stream",
     "text": [
      "Top 15 gardens:\n"
     ]
    },
    {
     "data": {
      "text/plain": [
       "[(-1.1472198346138023, 'B000WEOQV8'),\n",
       " (-1.1415475657706953, 'B000A1E690'),\n",
       " (-1.1100521984635014, 'B000GD3L0C'),\n",
       " (-1.100691810020144, 'B000H1W8FC'),\n",
       " (-1.0512478370333238, 'B00J96ZBB4'),\n",
       " (-1.0080871849879756, 'B00004SD72'),\n",
       " (-0.9887992327657904, 'B0007ZGUK2'),\n",
       " (-0.9558111783253785, 'B00002N6AN'),\n",
       " (-0.9416264895500175, 'B000EI8QUE'),\n",
       " (-0.9320074883285218, 'B003RDKKV6'),\n",
       " (-0.922876343871306, 'B002JUOWB2'),\n",
       " (-0.9134749831708324, 'B000EVE2ZE'),\n",
       " (-0.8912664182690753, 'B00004TBMV'),\n",
       " (-0.8910646109673245, 'B000NZZG3S'),\n",
       " (-0.8883462862191162, 'B000F97DYC')]"
      ]
     },
     "execution_count": 83,
     "metadata": {},
     "output_type": "execute_result"
    }
   ],
   "source": [
    "garden_bias = [(b, data.build_full_trainset().to_raw_iid(i)) for i, b in enumerate(svd.bi)]\n",
    "print(\"Top 15 gardens:\")\n",
    "sorted(garden_bias, key=lambda x: x[0])[:15]"
   ]
  },
  {
   "cell_type": "code",
   "execution_count": 84,
   "metadata": {},
   "outputs": [
    {
     "name": "stdout",
     "output_type": "stream",
     "text": [
      "Top 15 gardens:\n"
     ]
    },
    {
     "data": {
      "text/plain": [
       "[(0.6288364725011645, 'B003959G9Y'),\n",
       " (0.615853379787031, 'B000BQPW6A'),\n",
       " (0.6058526263910817, 'B0007UQ2N2'),\n",
       " (0.5562974298719514, 'B000HHQAQY'),\n",
       " (0.5370288814636456, 'B000WEPFOA'),\n",
       " (0.5342957041995842, 'B000ZZU960'),\n",
       " (0.5213371738725929, 'B000W496PO'),\n",
       " (0.5199723948760979, 'B0012RS2I2'),\n",
       " (0.5157433023821215, 'B0006U2FJ8'),\n",
       " (0.5014155945985518, 'B000RYL1NE'),\n",
       " (0.5011868895576673, 'B00004RA0O'),\n",
       " (0.48736848700367696, 'B003TSE7A4'),\n",
       " (0.48461643297819545, 'B0031045XE'),\n",
       " (0.48369466519285403, 'B00008GS96'),\n",
       " (0.4825255488372925, 'B000EVE17S')]"
      ]
     },
     "execution_count": 84,
     "metadata": {},
     "output_type": "execute_result"
    }
   ],
   "source": [
    "print(\"Top 15 gardens:\")\n",
    "sorted(garden_bias, key=lambda x: -x[0])[:15]"
   ]
  },
  {
   "cell_type": "code",
   "execution_count": 85,
   "metadata": {},
   "outputs": [
    {
     "data": {
      "text/plain": [
       "(0.722473917608561, 'A3919C6CEY5A3G')"
      ]
     },
     "execution_count": 85,
     "metadata": {},
     "output_type": "execute_result"
    }
   ],
   "source": [
    "user_bias = [(b, data.build_full_trainset().to_raw_uid(i)) for i, b in enumerate(svd.bu)]\n",
    "sorted(user_bias, key=lambda x: x[0])[-1]"
   ]
  },
  {
   "cell_type": "code",
   "execution_count": 86,
   "metadata": {},
   "outputs": [
    {
     "data": {
      "text/html": [
       "<div>\n",
       "<style scoped>\n",
       "    .dataframe tbody tr th:only-of-type {\n",
       "        vertical-align: middle;\n",
       "    }\n",
       "\n",
       "    .dataframe tbody tr th {\n",
       "        vertical-align: top;\n",
       "    }\n",
       "\n",
       "    .dataframe thead th {\n",
       "        text-align: right;\n",
       "    }\n",
       "</style>\n",
       "<table border=\"1\" class=\"dataframe\">\n",
       "  <thead>\n",
       "    <tr style=\"text-align: right;\">\n",
       "      <th></th>\n",
       "      <th>reviewerID</th>\n",
       "      <th>asin</th>\n",
       "      <th>reviewerName</th>\n",
       "      <th>helpful</th>\n",
       "      <th>reviewText</th>\n",
       "      <th>overall</th>\n",
       "      <th>summary</th>\n",
       "      <th>unixReviewTime</th>\n",
       "      <th>reviewTime</th>\n",
       "    </tr>\n",
       "  </thead>\n",
       "  <tbody>\n",
       "    <tr>\n",
       "      <th>1231</th>\n",
       "      <td>A3919C6CEY5A3G</td>\n",
       "      <td>B0002IU8UW</td>\n",
       "      <td>NaN</td>\n",
       "      <td>[0, 0]</td>\n",
       "      <td>as described, came quick, no issues</td>\n",
       "      <td>5.0</td>\n",
       "      <td>As described</td>\n",
       "      <td>1405382400</td>\n",
       "      <td>07 15, 2014</td>\n",
       "    </tr>\n",
       "    <tr>\n",
       "      <th>6776</th>\n",
       "      <td>A3919C6CEY5A3G</td>\n",
       "      <td>B002JUOWB2</td>\n",
       "      <td>NaN</td>\n",
       "      <td>[0, 0]</td>\n",
       "      <td>Working Great. Wouldn't have minded handles, b...</td>\n",
       "      <td>5.0</td>\n",
       "      <td>Very happy with this</td>\n",
       "      <td>1405382400</td>\n",
       "      <td>07 15, 2014</td>\n",
       "    </tr>\n",
       "    <tr>\n",
       "      <th>7765</th>\n",
       "      <td>A3919C6CEY5A3G</td>\n",
       "      <td>B003MOD2HY</td>\n",
       "      <td>NaN</td>\n",
       "      <td>[0, 0]</td>\n",
       "      <td>Very happy with this purchase. Expanded to be ...</td>\n",
       "      <td>5.0</td>\n",
       "      <td>Great purchase</td>\n",
       "      <td>1405382400</td>\n",
       "      <td>07 15, 2014</td>\n",
       "    </tr>\n",
       "    <tr>\n",
       "      <th>8267</th>\n",
       "      <td>A3919C6CEY5A3G</td>\n",
       "      <td>B004IAM29K</td>\n",
       "      <td>NaN</td>\n",
       "      <td>[0, 0]</td>\n",
       "      <td>as described</td>\n",
       "      <td>5.0</td>\n",
       "      <td>As described</td>\n",
       "      <td>1405382400</td>\n",
       "      <td>07 15, 2014</td>\n",
       "    </tr>\n",
       "    <tr>\n",
       "      <th>13255</th>\n",
       "      <td>A3919C6CEY5A3G</td>\n",
       "      <td>B00JUQI4JO</td>\n",
       "      <td>andrew scott mallory</td>\n",
       "      <td>[0, 0]</td>\n",
       "      <td>smaller then i thought but they are as describ...</td>\n",
       "      <td>5.0</td>\n",
       "      <td>As described</td>\n",
       "      <td>1405382400</td>\n",
       "      <td>07 15, 2014</td>\n",
       "    </tr>\n",
       "  </tbody>\n",
       "</table>\n",
       "</div>"
      ],
      "text/plain": [
       "           reviewerID        asin          reviewerName helpful  \\\n",
       "1231   A3919C6CEY5A3G  B0002IU8UW                   NaN  [0, 0]   \n",
       "6776   A3919C6CEY5A3G  B002JUOWB2                   NaN  [0, 0]   \n",
       "7765   A3919C6CEY5A3G  B003MOD2HY                   NaN  [0, 0]   \n",
       "8267   A3919C6CEY5A3G  B004IAM29K                   NaN  [0, 0]   \n",
       "13255  A3919C6CEY5A3G  B00JUQI4JO  andrew scott mallory  [0, 0]   \n",
       "\n",
       "                                              reviewText  overall  \\\n",
       "1231                 as described, came quick, no issues      5.0   \n",
       "6776   Working Great. Wouldn't have minded handles, b...      5.0   \n",
       "7765   Very happy with this purchase. Expanded to be ...      5.0   \n",
       "8267                                        as described      5.0   \n",
       "13255  smaller then i thought but they are as describ...      5.0   \n",
       "\n",
       "                    summary  unixReviewTime   reviewTime  \n",
       "1231           As described      1405382400  07 15, 2014  \n",
       "6776   Very happy with this      1405382400  07 15, 2014  \n",
       "7765         Great purchase      1405382400  07 15, 2014  \n",
       "8267           As described      1405382400  07 15, 2014  \n",
       "13255          As described      1405382400  07 15, 2014  "
      ]
     },
     "execution_count": 86,
     "metadata": {},
     "output_type": "execute_result"
    }
   ],
   "source": [
    "df[df.reviewerID == 'A3919C6CEY5A3G']"
   ]
  },
  {
   "cell_type": "code",
   "execution_count": 87,
   "metadata": {},
   "outputs": [
    {
     "data": {
      "text/plain": [
       "(-1.3516171764204068, 'A2YB7DLC3FOR7W')"
      ]
     },
     "execution_count": 87,
     "metadata": {},
     "output_type": "execute_result"
    }
   ],
   "source": [
    "sorted(user_bias, key=lambda x: x[0])[0]"
   ]
  },
  {
   "cell_type": "code",
   "execution_count": 88,
   "metadata": {},
   "outputs": [
    {
     "data": {
      "text/html": [
       "<div>\n",
       "<style scoped>\n",
       "    .dataframe tbody tr th:only-of-type {\n",
       "        vertical-align: middle;\n",
       "    }\n",
       "\n",
       "    .dataframe tbody tr th {\n",
       "        vertical-align: top;\n",
       "    }\n",
       "\n",
       "    .dataframe thead th {\n",
       "        text-align: right;\n",
       "    }\n",
       "</style>\n",
       "<table border=\"1\" class=\"dataframe\">\n",
       "  <thead>\n",
       "    <tr style=\"text-align: right;\">\n",
       "      <th></th>\n",
       "      <th>reviewerID</th>\n",
       "      <th>asin</th>\n",
       "      <th>reviewerName</th>\n",
       "      <th>helpful</th>\n",
       "      <th>reviewText</th>\n",
       "      <th>overall</th>\n",
       "      <th>summary</th>\n",
       "      <th>unixReviewTime</th>\n",
       "      <th>reviewTime</th>\n",
       "    </tr>\n",
       "  </thead>\n",
       "  <tbody>\n",
       "    <tr>\n",
       "      <th>822</th>\n",
       "      <td>A2YB7DLC3FOR7W</td>\n",
       "      <td>B00008GS96</td>\n",
       "      <td>Pamela V \"&amp;#34;MS V&amp;#34;\"</td>\n",
       "      <td>[3, 4]</td>\n",
       "      <td>I'm glad this gadget came with two double A ba...</td>\n",
       "      <td>4.0</td>\n",
       "      <td>Works fine - but fairly hard to handle!</td>\n",
       "      <td>1149811200</td>\n",
       "      <td>06 9, 2006</td>\n",
       "    </tr>\n",
       "    <tr>\n",
       "      <th>3969</th>\n",
       "      <td>A2YB7DLC3FOR7W</td>\n",
       "      <td>B000MV5V6A</td>\n",
       "      <td>Pamela V \"&amp;#34;MS V&amp;#34;\"</td>\n",
       "      <td>[1, 1]</td>\n",
       "      <td>Havahart Easy Set Live Animal Cage Trap is sim...</td>\n",
       "      <td>5.0</td>\n",
       "      <td>Humane Way to Relocate Destructive Wild Animals</td>\n",
       "      <td>1367280000</td>\n",
       "      <td>04 30, 2013</td>\n",
       "    </tr>\n",
       "    <tr>\n",
       "      <th>6180</th>\n",
       "      <td>A2YB7DLC3FOR7W</td>\n",
       "      <td>B001JJCW0M</td>\n",
       "      <td>Pamela V \"&amp;#34;MS V&amp;#34;\"</td>\n",
       "      <td>[2, 2]</td>\n",
       "      <td>The Victor M260 Multi-Kill electronic mouse tr...</td>\n",
       "      <td>2.0</td>\n",
       "      <td>Not working; the mice liveth!</td>\n",
       "      <td>1309737600</td>\n",
       "      <td>07 4, 2011</td>\n",
       "    </tr>\n",
       "    <tr>\n",
       "      <th>6440</th>\n",
       "      <td>A2YB7DLC3FOR7W</td>\n",
       "      <td>B001UTY5MY</td>\n",
       "      <td>Pamela V \"&amp;#34;MS V&amp;#34;\"</td>\n",
       "      <td>[0, 0]</td>\n",
       "      <td>I bought this as a gift for my mother, and she...</td>\n",
       "      <td>5.0</td>\n",
       "      <td>My Mom Loved It!</td>\n",
       "      <td>1387324800</td>\n",
       "      <td>12 18, 2013</td>\n",
       "    </tr>\n",
       "    <tr>\n",
       "      <th>9176</th>\n",
       "      <td>A2YB7DLC3FOR7W</td>\n",
       "      <td>B0060UO4SS</td>\n",
       "      <td>Pamela V \"&amp;#34;MS V&amp;#34;\"</td>\n",
       "      <td>[0, 1]</td>\n",
       "      <td>I use my Havahart 1064 Large 2-door easy set t...</td>\n",
       "      <td>4.0</td>\n",
       "      <td>A bit fast on the trigger, but works as it should</td>\n",
       "      <td>1367798400</td>\n",
       "      <td>05 6, 2013</td>\n",
       "    </tr>\n",
       "    <tr>\n",
       "      <th>11283</th>\n",
       "      <td>A2YB7DLC3FOR7W</td>\n",
       "      <td>B00B7H7SRI</td>\n",
       "      <td>Pamela V \"&amp;#34;MS V&amp;#34;\"</td>\n",
       "      <td>[3, 4]</td>\n",
       "      <td>I live on 5 acres and have many bushes, plants...</td>\n",
       "      <td>5.0</td>\n",
       "      <td>Fantastic Set!  More Power Than Expected!</td>\n",
       "      <td>1372636800</td>\n",
       "      <td>07 1, 2013</td>\n",
       "    </tr>\n",
       "    <tr>\n",
       "      <th>12842</th>\n",
       "      <td>A2YB7DLC3FOR7W</td>\n",
       "      <td>B00GSQ6HXO</td>\n",
       "      <td>Pamela V \"&amp;#34;MS V&amp;#34;\"</td>\n",
       "      <td>[1, 2]</td>\n",
       "      <td>Just this morning I sat on the steps of my fro...</td>\n",
       "      <td>5.0</td>\n",
       "      <td>Perfect Timing!</td>\n",
       "      <td>1398038400</td>\n",
       "      <td>04 21, 2014</td>\n",
       "    </tr>\n",
       "    <tr>\n",
       "      <th>12985</th>\n",
       "      <td>A2YB7DLC3FOR7W</td>\n",
       "      <td>B00GVL015Q</td>\n",
       "      <td>Pamela V \"&amp;#34;MS V&amp;#34;\"</td>\n",
       "      <td>[3, 3]</td>\n",
       "      <td>This is a lovely hummingbird feeder.  It has a...</td>\n",
       "      <td>5.0</td>\n",
       "      <td>Cute Copper &amp; Glass Hummingbird Feeder!</td>\n",
       "      <td>1398038400</td>\n",
       "      <td>04 21, 2014</td>\n",
       "    </tr>\n",
       "  </tbody>\n",
       "</table>\n",
       "</div>"
      ],
      "text/plain": [
       "           reviewerID        asin               reviewerName helpful  \\\n",
       "822    A2YB7DLC3FOR7W  B00008GS96  Pamela V \"&#34;MS V&#34;\"  [3, 4]   \n",
       "3969   A2YB7DLC3FOR7W  B000MV5V6A  Pamela V \"&#34;MS V&#34;\"  [1, 1]   \n",
       "6180   A2YB7DLC3FOR7W  B001JJCW0M  Pamela V \"&#34;MS V&#34;\"  [2, 2]   \n",
       "6440   A2YB7DLC3FOR7W  B001UTY5MY  Pamela V \"&#34;MS V&#34;\"  [0, 0]   \n",
       "9176   A2YB7DLC3FOR7W  B0060UO4SS  Pamela V \"&#34;MS V&#34;\"  [0, 1]   \n",
       "11283  A2YB7DLC3FOR7W  B00B7H7SRI  Pamela V \"&#34;MS V&#34;\"  [3, 4]   \n",
       "12842  A2YB7DLC3FOR7W  B00GSQ6HXO  Pamela V \"&#34;MS V&#34;\"  [1, 2]   \n",
       "12985  A2YB7DLC3FOR7W  B00GVL015Q  Pamela V \"&#34;MS V&#34;\"  [3, 3]   \n",
       "\n",
       "                                              reviewText  overall  \\\n",
       "822    I'm glad this gadget came with two double A ba...      4.0   \n",
       "3969   Havahart Easy Set Live Animal Cage Trap is sim...      5.0   \n",
       "6180   The Victor M260 Multi-Kill electronic mouse tr...      2.0   \n",
       "6440   I bought this as a gift for my mother, and she...      5.0   \n",
       "9176   I use my Havahart 1064 Large 2-door easy set t...      4.0   \n",
       "11283  I live on 5 acres and have many bushes, plants...      5.0   \n",
       "12842  Just this morning I sat on the steps of my fro...      5.0   \n",
       "12985  This is a lovely hummingbird feeder.  It has a...      5.0   \n",
       "\n",
       "                                                 summary  unixReviewTime  \\\n",
       "822              Works fine - but fairly hard to handle!      1149811200   \n",
       "3969     Humane Way to Relocate Destructive Wild Animals      1367280000   \n",
       "6180                       Not working; the mice liveth!      1309737600   \n",
       "6440                                    My Mom Loved It!      1387324800   \n",
       "9176   A bit fast on the trigger, but works as it should      1367798400   \n",
       "11283          Fantastic Set!  More Power Than Expected!      1372636800   \n",
       "12842                                    Perfect Timing!      1398038400   \n",
       "12985            Cute Copper & Glass Hummingbird Feeder!      1398038400   \n",
       "\n",
       "        reviewTime  \n",
       "822     06 9, 2006  \n",
       "3969   04 30, 2013  \n",
       "6180    07 4, 2011  \n",
       "6440   12 18, 2013  \n",
       "9176    05 6, 2013  \n",
       "11283   07 1, 2013  \n",
       "12842  04 21, 2014  \n",
       "12985  04 21, 2014  "
      ]
     },
     "execution_count": 88,
     "metadata": {},
     "output_type": "execute_result"
    }
   ],
   "source": [
    "df[df.reviewerID == 'A2YB7DLC3FOR7W']"
   ]
  },
  {
   "cell_type": "code",
   "execution_count": null,
   "metadata": {},
   "outputs": [],
   "source": []
  }
 ],
 "metadata": {
  "kernelspec": {
   "display_name": "Python 3",
   "language": "python",
   "name": "python3"
  },
  "language_info": {
   "codemirror_mode": {
    "name": "ipython",
    "version": 3
   },
   "file_extension": ".py",
   "mimetype": "text/x-python",
   "name": "python",
   "nbconvert_exporter": "python",
   "pygments_lexer": "ipython3",
   "version": "3.7.6"
  }
 },
 "nbformat": 4,
 "nbformat_minor": 4
}
