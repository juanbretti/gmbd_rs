{
 "cells": [
  {
   "cell_type": "code",
   "execution_count": null,
   "metadata": {},
   "outputs": [],
   "source": [
    "##! pip install numpy # Numpy is required by surprise\n",
    "##! pip install scikit-surprise"
   ]
  },
  {
   "cell_type": "markdown",
   "metadata": {},
   "source": [
    "# Patio, lawn and garden ratings\n",
    "\n",
    "This dataset was downloaded from Amazon dataset that is publicly available at (http://jmcauley.ucsd.edu/data/amazon/). This dataset contains user reviews (numerical rating and textual comment) towards amazon products on patio, lawn and garden products category.\n"
   ]
  },
  {
   "cell_type": "markdown",
   "metadata": {},
   "source": [
    "# Read Data"
   ]
  },
  {
   "cell_type": "code",
   "execution_count": 1,
   "metadata": {},
   "outputs": [],
   "source": [
    "import pandas as pd"
   ]
  },
  {
   "cell_type": "code",
   "execution_count": 2,
   "metadata": {},
   "outputs": [],
   "source": [
    "import gzip\n",
    "\n",
    "def parse(path):\n",
    "  g = gzip.open(path, 'rb')\n",
    "  for l in g:\n",
    "    yield eval(l)\n",
    "\n",
    "def getDF(path):\n",
    "  i = 0\n",
    "  df = {}\n",
    "  for d in parse(path):\n",
    "    df[i] = d\n",
    "    i += 1\n",
    "  return pd.DataFrame.from_dict(df, orient='index')\n",
    "\n",
    "# df = getDF('Patio_Lawn_and_Garden_5.jason')\n",
    "df = getDF('C:/Users/magpanta/Documents/IE University/IE Global Master on Big Data/Classes/21. Recommendations engines/Assignment/reviews_Patio_Lawn_and_Garden_5.json.gz')"
   ]
  },
  {
   "cell_type": "code",
   "execution_count": 3,
   "metadata": {},
   "outputs": [
    {
     "data": {
      "text/html": [
       "<div>\n",
       "<style scoped>\n",
       "    .dataframe tbody tr th:only-of-type {\n",
       "        vertical-align: middle;\n",
       "    }\n",
       "\n",
       "    .dataframe tbody tr th {\n",
       "        vertical-align: top;\n",
       "    }\n",
       "\n",
       "    .dataframe thead th {\n",
       "        text-align: right;\n",
       "    }\n",
       "</style>\n",
       "<table border=\"1\" class=\"dataframe\">\n",
       "  <thead>\n",
       "    <tr style=\"text-align: right;\">\n",
       "      <th></th>\n",
       "      <th>reviewerID</th>\n",
       "      <th>asin</th>\n",
       "      <th>reviewerName</th>\n",
       "      <th>helpful</th>\n",
       "      <th>reviewText</th>\n",
       "      <th>overall</th>\n",
       "      <th>summary</th>\n",
       "      <th>unixReviewTime</th>\n",
       "      <th>reviewTime</th>\n",
       "    </tr>\n",
       "  </thead>\n",
       "  <tbody>\n",
       "    <tr>\n",
       "      <th>0</th>\n",
       "      <td>A1JZFGZEZVWQPY</td>\n",
       "      <td>B00002N674</td>\n",
       "      <td>Carter H \"1amazonreviewer@gmail . com\"</td>\n",
       "      <td>[4, 4]</td>\n",
       "      <td>Good USA company that stands behind their prod...</td>\n",
       "      <td>4.0</td>\n",
       "      <td>Great Hoses</td>\n",
       "      <td>1308614400</td>\n",
       "      <td>06 21, 2011</td>\n",
       "    </tr>\n",
       "    <tr>\n",
       "      <th>1</th>\n",
       "      <td>A32JCI4AK2JTTG</td>\n",
       "      <td>B00002N674</td>\n",
       "      <td>Darryl Bennett \"Fuzzy342\"</td>\n",
       "      <td>[0, 0]</td>\n",
       "      <td>This is a high quality 8 ply hose. I have had ...</td>\n",
       "      <td>5.0</td>\n",
       "      <td>Gilmour 10-58050 8-ply Flexogen Hose 5/8-Inch ...</td>\n",
       "      <td>1402272000</td>\n",
       "      <td>06 9, 2014</td>\n",
       "    </tr>\n",
       "    <tr>\n",
       "      <th>2</th>\n",
       "      <td>A3N0P5AAMP6XD2</td>\n",
       "      <td>B00002N674</td>\n",
       "      <td>H B</td>\n",
       "      <td>[2, 3]</td>\n",
       "      <td>It's probably one of the best hoses I've ever ...</td>\n",
       "      <td>4.0</td>\n",
       "      <td>Very satisfied!</td>\n",
       "      <td>1336176000</td>\n",
       "      <td>05 5, 2012</td>\n",
       "    </tr>\n",
       "    <tr>\n",
       "      <th>3</th>\n",
       "      <td>A2QK7UNJ857YG</td>\n",
       "      <td>B00002N674</td>\n",
       "      <td>Jason</td>\n",
       "      <td>[0, 0]</td>\n",
       "      <td>I probably should have bought something a bit ...</td>\n",
       "      <td>5.0</td>\n",
       "      <td>Very high quality</td>\n",
       "      <td>1373846400</td>\n",
       "      <td>07 15, 2013</td>\n",
       "    </tr>\n",
       "    <tr>\n",
       "      <th>4</th>\n",
       "      <td>AS0CYBAN6EM06</td>\n",
       "      <td>B00002N674</td>\n",
       "      <td>jimmy</td>\n",
       "      <td>[1, 1]</td>\n",
       "      <td>I bought three of these 5/8-inch Flexogen hose...</td>\n",
       "      <td>5.0</td>\n",
       "      <td>Good Hoses</td>\n",
       "      <td>1375660800</td>\n",
       "      <td>08 5, 2013</td>\n",
       "    </tr>\n",
       "    <tr>\n",
       "      <th>...</th>\n",
       "      <td>...</td>\n",
       "      <td>...</td>\n",
       "      <td>...</td>\n",
       "      <td>...</td>\n",
       "      <td>...</td>\n",
       "      <td>...</td>\n",
       "      <td>...</td>\n",
       "      <td>...</td>\n",
       "      <td>...</td>\n",
       "    </tr>\n",
       "    <tr>\n",
       "      <th>13267</th>\n",
       "      <td>AT53ZTTO707MB</td>\n",
       "      <td>B00KS0F4FI</td>\n",
       "      <td>I Do The Speed Limit</td>\n",
       "      <td>[1, 2]</td>\n",
       "      <td>Simple.  Perfect.  Plenty big enough.  Durable...</td>\n",
       "      <td>5.0</td>\n",
       "      <td>Great pair of claws</td>\n",
       "      <td>1403827200</td>\n",
       "      <td>06 27, 2014</td>\n",
       "    </tr>\n",
       "    <tr>\n",
       "      <th>13268</th>\n",
       "      <td>AYB4ELCS5AM8P</td>\n",
       "      <td>B00KS0F4FI</td>\n",
       "      <td>John B. Goode \"JBG\"</td>\n",
       "      <td>[0, 0]</td>\n",
       "      <td>These claws are fantastic. They are made of ha...</td>\n",
       "      <td>5.0</td>\n",
       "      <td>Sharp...</td>\n",
       "      <td>1405123200</td>\n",
       "      <td>07 12, 2014</td>\n",
       "    </tr>\n",
       "    <tr>\n",
       "      <th>13269</th>\n",
       "      <td>AZMY6E8B52L2T</td>\n",
       "      <td>B00KS0F4FI</td>\n",
       "      <td>JP \"J.P.\"</td>\n",
       "      <td>[1, 3]</td>\n",
       "      <td>I really like theseOuddy Heat Resistant Meat C...</td>\n",
       "      <td>5.0</td>\n",
       "      <td>Really Helpful...</td>\n",
       "      <td>1405123200</td>\n",
       "      <td>07 12, 2014</td>\n",
       "    </tr>\n",
       "    <tr>\n",
       "      <th>13270</th>\n",
       "      <td>AEC90GPFKLAAW</td>\n",
       "      <td>B00KS0F4FI</td>\n",
       "      <td>Lisa Kearns \"Lisa Kearns\"</td>\n",
       "      <td>[0, 0]</td>\n",
       "      <td>I make pulled pork in the crock pot pretty oft...</td>\n",
       "      <td>5.0</td>\n",
       "      <td>Shreds meat perfectly!</td>\n",
       "      <td>1405468800</td>\n",
       "      <td>07 16, 2014</td>\n",
       "    </tr>\n",
       "    <tr>\n",
       "      <th>13271</th>\n",
       "      <td>A3LGT6UZL99IW1</td>\n",
       "      <td>B00KS0F4FI</td>\n",
       "      <td>Richard C. Drew \"Anaal Nathra/Uthe vas Bethod...</td>\n",
       "      <td>[1, 2]</td>\n",
       "      <td>When I first saw these, I thought &amp;#34;Hmmm. W...</td>\n",
       "      <td>5.0</td>\n",
       "      <td>Get all Wolverine on your meat</td>\n",
       "      <td>1403740800</td>\n",
       "      <td>06 26, 2014</td>\n",
       "    </tr>\n",
       "  </tbody>\n",
       "</table>\n",
       "<p>13272 rows × 9 columns</p>\n",
       "</div>"
      ],
      "text/plain": [
       "           reviewerID        asin  \\\n",
       "0      A1JZFGZEZVWQPY  B00002N674   \n",
       "1      A32JCI4AK2JTTG  B00002N674   \n",
       "2      A3N0P5AAMP6XD2  B00002N674   \n",
       "3       A2QK7UNJ857YG  B00002N674   \n",
       "4       AS0CYBAN6EM06  B00002N674   \n",
       "...               ...         ...   \n",
       "13267   AT53ZTTO707MB  B00KS0F4FI   \n",
       "13268   AYB4ELCS5AM8P  B00KS0F4FI   \n",
       "13269   AZMY6E8B52L2T  B00KS0F4FI   \n",
       "13270   AEC90GPFKLAAW  B00KS0F4FI   \n",
       "13271  A3LGT6UZL99IW1  B00KS0F4FI   \n",
       "\n",
       "                                           reviewerName helpful  \\\n",
       "0                Carter H \"1amazonreviewer@gmail . com\"  [4, 4]   \n",
       "1                             Darryl Bennett \"Fuzzy342\"  [0, 0]   \n",
       "2                                                   H B  [2, 3]   \n",
       "3                                                 Jason  [0, 0]   \n",
       "4                                                 jimmy  [1, 1]   \n",
       "...                                                 ...     ...   \n",
       "13267                              I Do The Speed Limit  [1, 2]   \n",
       "13268                               John B. Goode \"JBG\"  [0, 0]   \n",
       "13269                                         JP \"J.P.\"  [1, 3]   \n",
       "13270                         Lisa Kearns \"Lisa Kearns\"  [0, 0]   \n",
       "13271  Richard C. Drew \"Anaal Nathra/Uthe vas Bethod...  [1, 2]   \n",
       "\n",
       "                                              reviewText  overall  \\\n",
       "0      Good USA company that stands behind their prod...      4.0   \n",
       "1      This is a high quality 8 ply hose. I have had ...      5.0   \n",
       "2      It's probably one of the best hoses I've ever ...      4.0   \n",
       "3      I probably should have bought something a bit ...      5.0   \n",
       "4      I bought three of these 5/8-inch Flexogen hose...      5.0   \n",
       "...                                                  ...      ...   \n",
       "13267  Simple.  Perfect.  Plenty big enough.  Durable...      5.0   \n",
       "13268  These claws are fantastic. They are made of ha...      5.0   \n",
       "13269  I really like theseOuddy Heat Resistant Meat C...      5.0   \n",
       "13270  I make pulled pork in the crock pot pretty oft...      5.0   \n",
       "13271  When I first saw these, I thought &#34;Hmmm. W...      5.0   \n",
       "\n",
       "                                                 summary  unixReviewTime  \\\n",
       "0                                            Great Hoses      1308614400   \n",
       "1      Gilmour 10-58050 8-ply Flexogen Hose 5/8-Inch ...      1402272000   \n",
       "2                                        Very satisfied!      1336176000   \n",
       "3                                      Very high quality      1373846400   \n",
       "4                                             Good Hoses      1375660800   \n",
       "...                                                  ...             ...   \n",
       "13267                                Great pair of claws      1403827200   \n",
       "13268                                           Sharp...      1405123200   \n",
       "13269                                  Really Helpful...      1405123200   \n",
       "13270                             Shreds meat perfectly!      1405468800   \n",
       "13271                     Get all Wolverine on your meat      1403740800   \n",
       "\n",
       "        reviewTime  \n",
       "0      06 21, 2011  \n",
       "1       06 9, 2014  \n",
       "2       05 5, 2012  \n",
       "3      07 15, 2013  \n",
       "4       08 5, 2013  \n",
       "...            ...  \n",
       "13267  06 27, 2014  \n",
       "13268  07 12, 2014  \n",
       "13269  07 12, 2014  \n",
       "13270  07 16, 2014  \n",
       "13271  06 26, 2014  \n",
       "\n",
       "[13272 rows x 9 columns]"
      ]
     },
     "execution_count": 3,
     "metadata": {},
     "output_type": "execute_result"
    }
   ],
   "source": [
    "df"
   ]
  },
  {
   "cell_type": "markdown",
   "metadata": {},
   "source": [
    "Visualizing the dataset to ensure that everything looks good"
   ]
  },
  {
   "cell_type": "code",
   "execution_count": 4,
   "metadata": {},
   "outputs": [
    {
     "name": "stdout",
     "output_type": "stream",
     "text": [
      "Dataset shape: (13272, 9)\n",
      "-Dataset examples-\n",
      "       reviewerID        asin                            reviewerName helpful  \\\n",
      "0  A1JZFGZEZVWQPY  B00002N674  Carter H \"1amazonreviewer@gmail . com\"  [4, 4]   \n",
      "\n",
      "                                          reviewText  overall      summary  \\\n",
      "0  Good USA company that stands behind their prod...      4.0  Great Hoses   \n",
      "\n",
      "   unixReviewTime   reviewTime  \n",
      "0      1308614400  06 21, 2011  \n"
     ]
    }
   ],
   "source": [
    "print('Dataset shape: {}'.format(df.shape))\n",
    "print('-Dataset examples-')\n",
    "print(df.iloc[::20000, :])"
   ]
  },
  {
   "cell_type": "markdown",
   "metadata": {},
   "source": [
    "# Analyze the data\n"
   ]
  },
  {
   "cell_type": "markdown",
   "metadata": {},
   "source": [
    "### Ratings distribution\n",
    "\n",
    "Here we are analyzing the distribution of ratings to understand among other things:\n",
    "\n",
    "- The rating scale: is it 0-5, 1-5, 1-10....\n",
    "- The distribution of the ratings: are the users biased to high or low rates?\n",
    "- Are the users using the entire rating scale? e.g.: sometimes people performs binary ratings even if you provide them with a more granular scale (5 good, 1 bad and nothing in between)\n"
   ]
  },
  {
   "cell_type": "code",
   "execution_count": 9,
   "metadata": {},
   "outputs": [
    {
     "data": {
      "text/html": [
       "        <script type=\"text/javascript\">\n",
       "        window.PlotlyConfig = {MathJaxConfig: 'local'};\n",
       "        if (window.MathJax) {MathJax.Hub.Config({SVG: {font: \"STIX-Web\"}});}\n",
       "        if (typeof require !== 'undefined') {\n",
       "        require.undef(\"plotly\");\n",
       "        requirejs.config({\n",
       "            paths: {\n",
       "                'plotly': ['https://cdn.plot.ly/plotly-latest.min']\n",
       "            }\n",
       "        });\n",
       "        require(['plotly'], function(Plotly) {\n",
       "            window._Plotly = Plotly;\n",
       "        });\n",
       "        }\n",
       "        </script>\n",
       "        "
      ]
     },
     "metadata": {},
     "output_type": "display_data"
    },
    {
     "data": {
      "application/vnd.plotly.v1+json": {
       "config": {
        "linkText": "Export to plot.ly",
        "plotlyServerURL": "https://plot.ly",
        "showLink": false
       },
       "data": [
        {
         "text": [
          "53.0 %",
          "25.5 %",
          "12.5 %",
          "5.1 %",
          "3.9 %"
         ],
         "textfont": {
          "color": "#000000"
         },
         "textposition": "auto",
         "type": "bar",
         "x": [
          5,
          4,
          3,
          2,
          1
         ],
         "y": [
          7037,
          3384,
          1659,
          673,
          519
         ]
        }
       ],
       "layout": {
        "template": {
         "data": {
          "bar": [
           {
            "error_x": {
             "color": "#2a3f5f"
            },
            "error_y": {
             "color": "#2a3f5f"
            },
            "marker": {
             "line": {
              "color": "#E5ECF6",
              "width": 0.5
             }
            },
            "type": "bar"
           }
          ],
          "barpolar": [
           {
            "marker": {
             "line": {
              "color": "#E5ECF6",
              "width": 0.5
             }
            },
            "type": "barpolar"
           }
          ],
          "carpet": [
           {
            "aaxis": {
             "endlinecolor": "#2a3f5f",
             "gridcolor": "white",
             "linecolor": "white",
             "minorgridcolor": "white",
             "startlinecolor": "#2a3f5f"
            },
            "baxis": {
             "endlinecolor": "#2a3f5f",
             "gridcolor": "white",
             "linecolor": "white",
             "minorgridcolor": "white",
             "startlinecolor": "#2a3f5f"
            },
            "type": "carpet"
           }
          ],
          "choropleth": [
           {
            "colorbar": {
             "outlinewidth": 0,
             "ticks": ""
            },
            "type": "choropleth"
           }
          ],
          "contour": [
           {
            "colorbar": {
             "outlinewidth": 0,
             "ticks": ""
            },
            "colorscale": [
             [
              0,
              "#0d0887"
             ],
             [
              0.1111111111111111,
              "#46039f"
             ],
             [
              0.2222222222222222,
              "#7201a8"
             ],
             [
              0.3333333333333333,
              "#9c179e"
             ],
             [
              0.4444444444444444,
              "#bd3786"
             ],
             [
              0.5555555555555556,
              "#d8576b"
             ],
             [
              0.6666666666666666,
              "#ed7953"
             ],
             [
              0.7777777777777778,
              "#fb9f3a"
             ],
             [
              0.8888888888888888,
              "#fdca26"
             ],
             [
              1,
              "#f0f921"
             ]
            ],
            "type": "contour"
           }
          ],
          "contourcarpet": [
           {
            "colorbar": {
             "outlinewidth": 0,
             "ticks": ""
            },
            "type": "contourcarpet"
           }
          ],
          "heatmap": [
           {
            "colorbar": {
             "outlinewidth": 0,
             "ticks": ""
            },
            "colorscale": [
             [
              0,
              "#0d0887"
             ],
             [
              0.1111111111111111,
              "#46039f"
             ],
             [
              0.2222222222222222,
              "#7201a8"
             ],
             [
              0.3333333333333333,
              "#9c179e"
             ],
             [
              0.4444444444444444,
              "#bd3786"
             ],
             [
              0.5555555555555556,
              "#d8576b"
             ],
             [
              0.6666666666666666,
              "#ed7953"
             ],
             [
              0.7777777777777778,
              "#fb9f3a"
             ],
             [
              0.8888888888888888,
              "#fdca26"
             ],
             [
              1,
              "#f0f921"
             ]
            ],
            "type": "heatmap"
           }
          ],
          "heatmapgl": [
           {
            "colorbar": {
             "outlinewidth": 0,
             "ticks": ""
            },
            "colorscale": [
             [
              0,
              "#0d0887"
             ],
             [
              0.1111111111111111,
              "#46039f"
             ],
             [
              0.2222222222222222,
              "#7201a8"
             ],
             [
              0.3333333333333333,
              "#9c179e"
             ],
             [
              0.4444444444444444,
              "#bd3786"
             ],
             [
              0.5555555555555556,
              "#d8576b"
             ],
             [
              0.6666666666666666,
              "#ed7953"
             ],
             [
              0.7777777777777778,
              "#fb9f3a"
             ],
             [
              0.8888888888888888,
              "#fdca26"
             ],
             [
              1,
              "#f0f921"
             ]
            ],
            "type": "heatmapgl"
           }
          ],
          "histogram": [
           {
            "marker": {
             "colorbar": {
              "outlinewidth": 0,
              "ticks": ""
             }
            },
            "type": "histogram"
           }
          ],
          "histogram2d": [
           {
            "colorbar": {
             "outlinewidth": 0,
             "ticks": ""
            },
            "colorscale": [
             [
              0,
              "#0d0887"
             ],
             [
              0.1111111111111111,
              "#46039f"
             ],
             [
              0.2222222222222222,
              "#7201a8"
             ],
             [
              0.3333333333333333,
              "#9c179e"
             ],
             [
              0.4444444444444444,
              "#bd3786"
             ],
             [
              0.5555555555555556,
              "#d8576b"
             ],
             [
              0.6666666666666666,
              "#ed7953"
             ],
             [
              0.7777777777777778,
              "#fb9f3a"
             ],
             [
              0.8888888888888888,
              "#fdca26"
             ],
             [
              1,
              "#f0f921"
             ]
            ],
            "type": "histogram2d"
           }
          ],
          "histogram2dcontour": [
           {
            "colorbar": {
             "outlinewidth": 0,
             "ticks": ""
            },
            "colorscale": [
             [
              0,
              "#0d0887"
             ],
             [
              0.1111111111111111,
              "#46039f"
             ],
             [
              0.2222222222222222,
              "#7201a8"
             ],
             [
              0.3333333333333333,
              "#9c179e"
             ],
             [
              0.4444444444444444,
              "#bd3786"
             ],
             [
              0.5555555555555556,
              "#d8576b"
             ],
             [
              0.6666666666666666,
              "#ed7953"
             ],
             [
              0.7777777777777778,
              "#fb9f3a"
             ],
             [
              0.8888888888888888,
              "#fdca26"
             ],
             [
              1,
              "#f0f921"
             ]
            ],
            "type": "histogram2dcontour"
           }
          ],
          "mesh3d": [
           {
            "colorbar": {
             "outlinewidth": 0,
             "ticks": ""
            },
            "type": "mesh3d"
           }
          ],
          "parcoords": [
           {
            "line": {
             "colorbar": {
              "outlinewidth": 0,
              "ticks": ""
             }
            },
            "type": "parcoords"
           }
          ],
          "pie": [
           {
            "automargin": true,
            "type": "pie"
           }
          ],
          "scatter": [
           {
            "marker": {
             "colorbar": {
              "outlinewidth": 0,
              "ticks": ""
             }
            },
            "type": "scatter"
           }
          ],
          "scatter3d": [
           {
            "line": {
             "colorbar": {
              "outlinewidth": 0,
              "ticks": ""
             }
            },
            "marker": {
             "colorbar": {
              "outlinewidth": 0,
              "ticks": ""
             }
            },
            "type": "scatter3d"
           }
          ],
          "scattercarpet": [
           {
            "marker": {
             "colorbar": {
              "outlinewidth": 0,
              "ticks": ""
             }
            },
            "type": "scattercarpet"
           }
          ],
          "scattergeo": [
           {
            "marker": {
             "colorbar": {
              "outlinewidth": 0,
              "ticks": ""
             }
            },
            "type": "scattergeo"
           }
          ],
          "scattergl": [
           {
            "marker": {
             "colorbar": {
              "outlinewidth": 0,
              "ticks": ""
             }
            },
            "type": "scattergl"
           }
          ],
          "scattermapbox": [
           {
            "marker": {
             "colorbar": {
              "outlinewidth": 0,
              "ticks": ""
             }
            },
            "type": "scattermapbox"
           }
          ],
          "scatterpolar": [
           {
            "marker": {
             "colorbar": {
              "outlinewidth": 0,
              "ticks": ""
             }
            },
            "type": "scatterpolar"
           }
          ],
          "scatterpolargl": [
           {
            "marker": {
             "colorbar": {
              "outlinewidth": 0,
              "ticks": ""
             }
            },
            "type": "scatterpolargl"
           }
          ],
          "scatterternary": [
           {
            "marker": {
             "colorbar": {
              "outlinewidth": 0,
              "ticks": ""
             }
            },
            "type": "scatterternary"
           }
          ],
          "surface": [
           {
            "colorbar": {
             "outlinewidth": 0,
             "ticks": ""
            },
            "colorscale": [
             [
              0,
              "#0d0887"
             ],
             [
              0.1111111111111111,
              "#46039f"
             ],
             [
              0.2222222222222222,
              "#7201a8"
             ],
             [
              0.3333333333333333,
              "#9c179e"
             ],
             [
              0.4444444444444444,
              "#bd3786"
             ],
             [
              0.5555555555555556,
              "#d8576b"
             ],
             [
              0.6666666666666666,
              "#ed7953"
             ],
             [
              0.7777777777777778,
              "#fb9f3a"
             ],
             [
              0.8888888888888888,
              "#fdca26"
             ],
             [
              1,
              "#f0f921"
             ]
            ],
            "type": "surface"
           }
          ],
          "table": [
           {
            "cells": {
             "fill": {
              "color": "#EBF0F8"
             },
             "line": {
              "color": "white"
             }
            },
            "header": {
             "fill": {
              "color": "#C8D4E3"
             },
             "line": {
              "color": "white"
             }
            },
            "type": "table"
           }
          ]
         },
         "layout": {
          "annotationdefaults": {
           "arrowcolor": "#2a3f5f",
           "arrowhead": 0,
           "arrowwidth": 1
          },
          "coloraxis": {
           "colorbar": {
            "outlinewidth": 0,
            "ticks": ""
           }
          },
          "colorscale": {
           "diverging": [
            [
             0,
             "#8e0152"
            ],
            [
             0.1,
             "#c51b7d"
            ],
            [
             0.2,
             "#de77ae"
            ],
            [
             0.3,
             "#f1b6da"
            ],
            [
             0.4,
             "#fde0ef"
            ],
            [
             0.5,
             "#f7f7f7"
            ],
            [
             0.6,
             "#e6f5d0"
            ],
            [
             0.7,
             "#b8e186"
            ],
            [
             0.8,
             "#7fbc41"
            ],
            [
             0.9,
             "#4d9221"
            ],
            [
             1,
             "#276419"
            ]
           ],
           "sequential": [
            [
             0,
             "#0d0887"
            ],
            [
             0.1111111111111111,
             "#46039f"
            ],
            [
             0.2222222222222222,
             "#7201a8"
            ],
            [
             0.3333333333333333,
             "#9c179e"
            ],
            [
             0.4444444444444444,
             "#bd3786"
            ],
            [
             0.5555555555555556,
             "#d8576b"
            ],
            [
             0.6666666666666666,
             "#ed7953"
            ],
            [
             0.7777777777777778,
             "#fb9f3a"
            ],
            [
             0.8888888888888888,
             "#fdca26"
            ],
            [
             1,
             "#f0f921"
            ]
           ],
           "sequentialminus": [
            [
             0,
             "#0d0887"
            ],
            [
             0.1111111111111111,
             "#46039f"
            ],
            [
             0.2222222222222222,
             "#7201a8"
            ],
            [
             0.3333333333333333,
             "#9c179e"
            ],
            [
             0.4444444444444444,
             "#bd3786"
            ],
            [
             0.5555555555555556,
             "#d8576b"
            ],
            [
             0.6666666666666666,
             "#ed7953"
            ],
            [
             0.7777777777777778,
             "#fb9f3a"
            ],
            [
             0.8888888888888888,
             "#fdca26"
            ],
            [
             1,
             "#f0f921"
            ]
           ]
          },
          "colorway": [
           "#636efa",
           "#EF553B",
           "#00cc96",
           "#ab63fa",
           "#FFA15A",
           "#19d3f3",
           "#FF6692",
           "#B6E880",
           "#FF97FF",
           "#FECB52"
          ],
          "font": {
           "color": "#2a3f5f"
          },
          "geo": {
           "bgcolor": "white",
           "lakecolor": "white",
           "landcolor": "#E5ECF6",
           "showlakes": true,
           "showland": true,
           "subunitcolor": "white"
          },
          "hoverlabel": {
           "align": "left"
          },
          "hovermode": "closest",
          "mapbox": {
           "style": "light"
          },
          "paper_bgcolor": "white",
          "plot_bgcolor": "#E5ECF6",
          "polar": {
           "angularaxis": {
            "gridcolor": "white",
            "linecolor": "white",
            "ticks": ""
           },
           "bgcolor": "#E5ECF6",
           "radialaxis": {
            "gridcolor": "white",
            "linecolor": "white",
            "ticks": ""
           }
          },
          "scene": {
           "xaxis": {
            "backgroundcolor": "#E5ECF6",
            "gridcolor": "white",
            "gridwidth": 2,
            "linecolor": "white",
            "showbackground": true,
            "ticks": "",
            "zerolinecolor": "white"
           },
           "yaxis": {
            "backgroundcolor": "#E5ECF6",
            "gridcolor": "white",
            "gridwidth": 2,
            "linecolor": "white",
            "showbackground": true,
            "ticks": "",
            "zerolinecolor": "white"
           },
           "zaxis": {
            "backgroundcolor": "#E5ECF6",
            "gridcolor": "white",
            "gridwidth": 2,
            "linecolor": "white",
            "showbackground": true,
            "ticks": "",
            "zerolinecolor": "white"
           }
          },
          "shapedefaults": {
           "line": {
            "color": "#2a3f5f"
           }
          },
          "ternary": {
           "aaxis": {
            "gridcolor": "white",
            "linecolor": "white",
            "ticks": ""
           },
           "baxis": {
            "gridcolor": "white",
            "linecolor": "white",
            "ticks": ""
           },
           "bgcolor": "#E5ECF6",
           "caxis": {
            "gridcolor": "white",
            "linecolor": "white",
            "ticks": ""
           }
          },
          "title": {
           "x": 0.05
          },
          "xaxis": {
           "automargin": true,
           "gridcolor": "white",
           "linecolor": "white",
           "ticks": "",
           "title": {
            "standoff": 15
           },
           "zerolinecolor": "white",
           "zerolinewidth": 2
          },
          "yaxis": {
           "automargin": true,
           "gridcolor": "white",
           "linecolor": "white",
           "ticks": "",
           "title": {
            "standoff": 15
           },
           "zerolinecolor": "white",
           "zerolinewidth": 2
          }
         }
        },
        "title": {
         "text": "Distribution Of 13272 patio, lawn and garden ratings"
        },
        "xaxis": {
         "title": {
          "text": "Rating"
         }
        },
        "yaxis": {
         "title": {
          "text": "Count"
         }
        }
       }
      },
      "text/html": [
       "<div>                            <div id=\"2b7c32d6-ddc2-46fe-8102-0c45817da578\" class=\"plotly-graph-div\" style=\"height:525px; width:100%;\"></div>            <script type=\"text/javascript\">                require([\"plotly\"], function(Plotly) {                    window.PLOTLYENV=window.PLOTLYENV || {};                                    if (document.getElementById(\"2b7c32d6-ddc2-46fe-8102-0c45817da578\")) {                    Plotly.newPlot(                        \"2b7c32d6-ddc2-46fe-8102-0c45817da578\",                        [{\"text\": [\"53.0 %\", \"25.5 %\", \"12.5 %\", \"5.1 %\", \"3.9 %\"], \"textfont\": {\"color\": \"#000000\"}, \"textposition\": \"auto\", \"type\": \"bar\", \"x\": [5.0, 4.0, 3.0, 2.0, 1.0], \"y\": [7037, 3384, 1659, 673, 519]}],                        {\"template\": {\"data\": {\"bar\": [{\"error_x\": {\"color\": \"#2a3f5f\"}, \"error_y\": {\"color\": \"#2a3f5f\"}, \"marker\": {\"line\": {\"color\": \"#E5ECF6\", \"width\": 0.5}}, \"type\": \"bar\"}], \"barpolar\": [{\"marker\": {\"line\": {\"color\": \"#E5ECF6\", \"width\": 0.5}}, \"type\": \"barpolar\"}], \"carpet\": [{\"aaxis\": {\"endlinecolor\": \"#2a3f5f\", \"gridcolor\": \"white\", \"linecolor\": \"white\", \"minorgridcolor\": \"white\", \"startlinecolor\": \"#2a3f5f\"}, \"baxis\": {\"endlinecolor\": \"#2a3f5f\", \"gridcolor\": \"white\", \"linecolor\": \"white\", \"minorgridcolor\": \"white\", \"startlinecolor\": \"#2a3f5f\"}, \"type\": \"carpet\"}], \"choropleth\": [{\"colorbar\": {\"outlinewidth\": 0, \"ticks\": \"\"}, \"type\": \"choropleth\"}], \"contour\": [{\"colorbar\": {\"outlinewidth\": 0, \"ticks\": \"\"}, \"colorscale\": [[0.0, \"#0d0887\"], [0.1111111111111111, \"#46039f\"], [0.2222222222222222, \"#7201a8\"], [0.3333333333333333, \"#9c179e\"], [0.4444444444444444, \"#bd3786\"], [0.5555555555555556, \"#d8576b\"], [0.6666666666666666, \"#ed7953\"], [0.7777777777777778, \"#fb9f3a\"], [0.8888888888888888, \"#fdca26\"], [1.0, \"#f0f921\"]], \"type\": \"contour\"}], \"contourcarpet\": [{\"colorbar\": {\"outlinewidth\": 0, \"ticks\": \"\"}, \"type\": \"contourcarpet\"}], \"heatmap\": [{\"colorbar\": {\"outlinewidth\": 0, \"ticks\": \"\"}, \"colorscale\": [[0.0, \"#0d0887\"], [0.1111111111111111, \"#46039f\"], [0.2222222222222222, \"#7201a8\"], [0.3333333333333333, \"#9c179e\"], [0.4444444444444444, \"#bd3786\"], [0.5555555555555556, \"#d8576b\"], [0.6666666666666666, \"#ed7953\"], [0.7777777777777778, \"#fb9f3a\"], [0.8888888888888888, \"#fdca26\"], [1.0, \"#f0f921\"]], \"type\": \"heatmap\"}], \"heatmapgl\": [{\"colorbar\": {\"outlinewidth\": 0, \"ticks\": \"\"}, \"colorscale\": [[0.0, \"#0d0887\"], [0.1111111111111111, \"#46039f\"], [0.2222222222222222, \"#7201a8\"], [0.3333333333333333, \"#9c179e\"], [0.4444444444444444, \"#bd3786\"], [0.5555555555555556, \"#d8576b\"], [0.6666666666666666, \"#ed7953\"], [0.7777777777777778, \"#fb9f3a\"], [0.8888888888888888, \"#fdca26\"], [1.0, \"#f0f921\"]], \"type\": \"heatmapgl\"}], \"histogram\": [{\"marker\": {\"colorbar\": {\"outlinewidth\": 0, \"ticks\": \"\"}}, \"type\": \"histogram\"}], \"histogram2d\": [{\"colorbar\": {\"outlinewidth\": 0, \"ticks\": \"\"}, \"colorscale\": [[0.0, \"#0d0887\"], [0.1111111111111111, \"#46039f\"], [0.2222222222222222, \"#7201a8\"], [0.3333333333333333, \"#9c179e\"], [0.4444444444444444, \"#bd3786\"], [0.5555555555555556, \"#d8576b\"], [0.6666666666666666, \"#ed7953\"], [0.7777777777777778, \"#fb9f3a\"], [0.8888888888888888, \"#fdca26\"], [1.0, \"#f0f921\"]], \"type\": \"histogram2d\"}], \"histogram2dcontour\": [{\"colorbar\": {\"outlinewidth\": 0, \"ticks\": \"\"}, \"colorscale\": [[0.0, \"#0d0887\"], [0.1111111111111111, \"#46039f\"], [0.2222222222222222, \"#7201a8\"], [0.3333333333333333, \"#9c179e\"], [0.4444444444444444, \"#bd3786\"], [0.5555555555555556, \"#d8576b\"], [0.6666666666666666, \"#ed7953\"], [0.7777777777777778, \"#fb9f3a\"], [0.8888888888888888, \"#fdca26\"], [1.0, \"#f0f921\"]], \"type\": \"histogram2dcontour\"}], \"mesh3d\": [{\"colorbar\": {\"outlinewidth\": 0, \"ticks\": \"\"}, \"type\": \"mesh3d\"}], \"parcoords\": [{\"line\": {\"colorbar\": {\"outlinewidth\": 0, \"ticks\": \"\"}}, \"type\": \"parcoords\"}], \"pie\": [{\"automargin\": true, \"type\": \"pie\"}], \"scatter\": [{\"marker\": {\"colorbar\": {\"outlinewidth\": 0, \"ticks\": \"\"}}, \"type\": \"scatter\"}], \"scatter3d\": [{\"line\": {\"colorbar\": {\"outlinewidth\": 0, \"ticks\": \"\"}}, \"marker\": {\"colorbar\": {\"outlinewidth\": 0, \"ticks\": \"\"}}, \"type\": \"scatter3d\"}], \"scattercarpet\": [{\"marker\": {\"colorbar\": {\"outlinewidth\": 0, \"ticks\": \"\"}}, \"type\": \"scattercarpet\"}], \"scattergeo\": [{\"marker\": {\"colorbar\": {\"outlinewidth\": 0, \"ticks\": \"\"}}, \"type\": \"scattergeo\"}], \"scattergl\": [{\"marker\": {\"colorbar\": {\"outlinewidth\": 0, \"ticks\": \"\"}}, \"type\": \"scattergl\"}], \"scattermapbox\": [{\"marker\": {\"colorbar\": {\"outlinewidth\": 0, \"ticks\": \"\"}}, \"type\": \"scattermapbox\"}], \"scatterpolar\": [{\"marker\": {\"colorbar\": {\"outlinewidth\": 0, \"ticks\": \"\"}}, \"type\": \"scatterpolar\"}], \"scatterpolargl\": [{\"marker\": {\"colorbar\": {\"outlinewidth\": 0, \"ticks\": \"\"}}, \"type\": \"scatterpolargl\"}], \"scatterternary\": [{\"marker\": {\"colorbar\": {\"outlinewidth\": 0, \"ticks\": \"\"}}, \"type\": \"scatterternary\"}], \"surface\": [{\"colorbar\": {\"outlinewidth\": 0, \"ticks\": \"\"}, \"colorscale\": [[0.0, \"#0d0887\"], [0.1111111111111111, \"#46039f\"], [0.2222222222222222, \"#7201a8\"], [0.3333333333333333, \"#9c179e\"], [0.4444444444444444, \"#bd3786\"], [0.5555555555555556, \"#d8576b\"], [0.6666666666666666, \"#ed7953\"], [0.7777777777777778, \"#fb9f3a\"], [0.8888888888888888, \"#fdca26\"], [1.0, \"#f0f921\"]], \"type\": \"surface\"}], \"table\": [{\"cells\": {\"fill\": {\"color\": \"#EBF0F8\"}, \"line\": {\"color\": \"white\"}}, \"header\": {\"fill\": {\"color\": \"#C8D4E3\"}, \"line\": {\"color\": \"white\"}}, \"type\": \"table\"}]}, \"layout\": {\"annotationdefaults\": {\"arrowcolor\": \"#2a3f5f\", \"arrowhead\": 0, \"arrowwidth\": 1}, \"coloraxis\": {\"colorbar\": {\"outlinewidth\": 0, \"ticks\": \"\"}}, \"colorscale\": {\"diverging\": [[0, \"#8e0152\"], [0.1, \"#c51b7d\"], [0.2, \"#de77ae\"], [0.3, \"#f1b6da\"], [0.4, \"#fde0ef\"], [0.5, \"#f7f7f7\"], [0.6, \"#e6f5d0\"], [0.7, \"#b8e186\"], [0.8, \"#7fbc41\"], [0.9, \"#4d9221\"], [1, \"#276419\"]], \"sequential\": [[0.0, \"#0d0887\"], [0.1111111111111111, \"#46039f\"], [0.2222222222222222, \"#7201a8\"], [0.3333333333333333, \"#9c179e\"], [0.4444444444444444, \"#bd3786\"], [0.5555555555555556, \"#d8576b\"], [0.6666666666666666, \"#ed7953\"], [0.7777777777777778, \"#fb9f3a\"], [0.8888888888888888, \"#fdca26\"], [1.0, \"#f0f921\"]], \"sequentialminus\": [[0.0, \"#0d0887\"], [0.1111111111111111, \"#46039f\"], [0.2222222222222222, \"#7201a8\"], [0.3333333333333333, \"#9c179e\"], [0.4444444444444444, \"#bd3786\"], [0.5555555555555556, \"#d8576b\"], [0.6666666666666666, \"#ed7953\"], [0.7777777777777778, \"#fb9f3a\"], [0.8888888888888888, \"#fdca26\"], [1.0, \"#f0f921\"]]}, \"colorway\": [\"#636efa\", \"#EF553B\", \"#00cc96\", \"#ab63fa\", \"#FFA15A\", \"#19d3f3\", \"#FF6692\", \"#B6E880\", \"#FF97FF\", \"#FECB52\"], \"font\": {\"color\": \"#2a3f5f\"}, \"geo\": {\"bgcolor\": \"white\", \"lakecolor\": \"white\", \"landcolor\": \"#E5ECF6\", \"showlakes\": true, \"showland\": true, \"subunitcolor\": \"white\"}, \"hoverlabel\": {\"align\": \"left\"}, \"hovermode\": \"closest\", \"mapbox\": {\"style\": \"light\"}, \"paper_bgcolor\": \"white\", \"plot_bgcolor\": \"#E5ECF6\", \"polar\": {\"angularaxis\": {\"gridcolor\": \"white\", \"linecolor\": \"white\", \"ticks\": \"\"}, \"bgcolor\": \"#E5ECF6\", \"radialaxis\": {\"gridcolor\": \"white\", \"linecolor\": \"white\", \"ticks\": \"\"}}, \"scene\": {\"xaxis\": {\"backgroundcolor\": \"#E5ECF6\", \"gridcolor\": \"white\", \"gridwidth\": 2, \"linecolor\": \"white\", \"showbackground\": true, \"ticks\": \"\", \"zerolinecolor\": \"white\"}, \"yaxis\": {\"backgroundcolor\": \"#E5ECF6\", \"gridcolor\": \"white\", \"gridwidth\": 2, \"linecolor\": \"white\", \"showbackground\": true, \"ticks\": \"\", \"zerolinecolor\": \"white\"}, \"zaxis\": {\"backgroundcolor\": \"#E5ECF6\", \"gridcolor\": \"white\", \"gridwidth\": 2, \"linecolor\": \"white\", \"showbackground\": true, \"ticks\": \"\", \"zerolinecolor\": \"white\"}}, \"shapedefaults\": {\"line\": {\"color\": \"#2a3f5f\"}}, \"ternary\": {\"aaxis\": {\"gridcolor\": \"white\", \"linecolor\": \"white\", \"ticks\": \"\"}, \"baxis\": {\"gridcolor\": \"white\", \"linecolor\": \"white\", \"ticks\": \"\"}, \"bgcolor\": \"#E5ECF6\", \"caxis\": {\"gridcolor\": \"white\", \"linecolor\": \"white\", \"ticks\": \"\"}}, \"title\": {\"x\": 0.05}, \"xaxis\": {\"automargin\": true, \"gridcolor\": \"white\", \"linecolor\": \"white\", \"ticks\": \"\", \"title\": {\"standoff\": 15}, \"zerolinecolor\": \"white\", \"zerolinewidth\": 2}, \"yaxis\": {\"automargin\": true, \"gridcolor\": \"white\", \"linecolor\": \"white\", \"ticks\": \"\", \"title\": {\"standoff\": 15}, \"zerolinecolor\": \"white\", \"zerolinewidth\": 2}}}, \"title\": {\"text\": \"Distribution Of 13272 patio, lawn and garden ratings\"}, \"xaxis\": {\"title\": {\"text\": \"Rating\"}}, \"yaxis\": {\"title\": {\"text\": \"Count\"}}},                        {\"responsive\": true}                    ).then(function(){\n",
       "                            \n",
       "var gd = document.getElementById('2b7c32d6-ddc2-46fe-8102-0c45817da578');\n",
       "var x = new MutationObserver(function (mutations, observer) {{\n",
       "        var display = window.getComputedStyle(gd).display;\n",
       "        if (!display || display === 'none') {{\n",
       "            console.log([gd, 'removed!']);\n",
       "            Plotly.purge(gd);\n",
       "            observer.disconnect();\n",
       "        }}\n",
       "}});\n",
       "\n",
       "// Listen for the removal of the full notebook cells\n",
       "var notebookContainer = gd.closest('#notebook-container');\n",
       "if (notebookContainer) {{\n",
       "    x.observe(notebookContainer, {childList: true});\n",
       "}}\n",
       "\n",
       "// Listen for the clearing of the current output cell\n",
       "var outputEl = gd.closest('.output');\n",
       "if (outputEl) {{\n",
       "    x.observe(outputEl, {childList: true});\n",
       "}}\n",
       "\n",
       "                        })                };                });            </script>        </div>"
      ]
     },
     "metadata": {},
     "output_type": "display_data"
    }
   ],
   "source": [
    "from plotly.offline import init_notebook_mode, plot, iplot\n",
    "import plotly.graph_objs as go\n",
    "init_notebook_mode(connected=True)\n",
    "\n",
    "# Count the number of times each rating appears in the dataset\n",
    "data = df['overall'].value_counts().sort_index(ascending=False)\n",
    "\n",
    "# Create the histogram\n",
    "trace = go.Bar(x = data.index,\n",
    "               text = ['{:.1f} %'.format(val) for val in (data.values / df.shape[0] * 100)],\n",
    "               textposition = 'auto',\n",
    "               textfont = dict(color = '#000000'),\n",
    "               y = data.values,\n",
    "               )\n",
    "# Create layout\n",
    "layout = dict(title = 'Distribution Of {} patio, lawn and garden ratings'.format(df.shape[0]),\n",
    "              xaxis = dict(title = 'Rating'),\n",
    "              yaxis = dict(title = 'Count'))\n",
    "# Create plot\n",
    "fig = go.Figure(data=[trace], layout=layout)\n",
    "iplot(fig)"
   ]
  },
  {
   "cell_type": "markdown",
   "metadata": {},
   "source": [
    "### Numbers of ratings per patio, lawn and garden\n",
    "\n",
    "The following analysis checks how many ratings (interactions) each category has."
   ]
  },
  {
   "cell_type": "code",
   "execution_count": 10,
   "metadata": {},
   "outputs": [
    {
     "data": {
      "application/vnd.plotly.v1+json": {
       "config": {
        "linkText": "Export to plot.ly",
        "plotlyServerURL": "https://plot.ly",
        "showLink": false
       },
       "data": [
        {
         "name": "Ratings",
         "type": "histogram",
         "x": [
          6,
          5,
          8,
          9,
          9,
          10,
          7,
          11,
          6,
          27,
          36,
          5,
          8,
          7,
          5,
          20,
          5,
          5,
          5,
          7,
          6,
          5,
          16,
          6,
          6,
          12,
          6,
          5,
          11,
          6,
          18,
          14,
          6,
          17,
          5,
          5,
          6,
          5,
          9,
          14,
          6,
          9,
          6,
          11,
          5,
          35,
          28,
          25,
          9,
          6,
          5,
          8,
          5,
          8,
          5,
          6,
          14,
          7,
          7,
          7,
          6,
          18,
          11,
          10,
          6,
          6,
          36,
          6,
          11,
          6,
          11,
          5,
          6,
          6,
          11,
          5,
          14,
          5,
          36,
          8,
          13,
          35,
          9,
          5,
          9,
          10,
          6,
          10,
          8,
          12,
          5,
          7,
          61,
          11,
          7,
          11,
          8,
          5,
          9,
          6,
          18,
          27,
          22,
          17,
          15,
          10,
          13,
          9,
          5,
          6,
          6,
          5,
          6,
          5,
          6,
          6,
          5,
          14,
          5,
          11,
          5,
          10,
          11,
          6,
          8,
          5,
          30,
          6,
          5,
          28,
          6,
          5,
          7,
          5,
          7,
          9,
          7,
          6,
          6,
          15,
          14,
          9,
          6,
          7,
          7,
          39,
          5,
          6,
          5,
          14,
          6,
          5,
          9,
          7,
          7,
          5,
          5,
          16,
          5,
          14,
          6,
          6,
          7,
          10,
          9,
          5,
          12,
          296,
          6,
          7,
          7,
          5,
          5,
          6,
          5,
          8,
          19,
          5,
          16,
          8,
          11,
          6,
          13,
          5,
          9,
          5,
          10,
          8,
          12,
          53,
          16,
          8,
          7,
          15,
          9,
          8,
          78,
          6,
          15,
          7,
          6,
          9,
          8,
          8,
          11,
          10,
          12,
          12,
          13,
          15,
          5,
          29,
          8,
          17,
          18,
          6,
          10,
          9,
          7,
          5,
          5,
          6,
          12,
          11,
          5,
          6,
          6,
          12,
          15,
          117,
          7,
          9,
          8,
          24,
          8,
          14,
          5,
          32,
          29,
          41,
          8,
          8,
          8,
          6,
          5,
          8,
          28,
          5,
          5,
          5,
          5,
          74,
          11,
          6,
          5,
          33,
          6,
          5,
          9,
          9,
          33,
          7,
          6,
          19,
          12,
          16,
          15,
          47,
          37,
          5,
          5,
          16,
          36,
          20,
          14,
          5,
          36,
          5,
          6,
          17,
          7,
          7,
          7,
          35,
          6,
          17,
          17,
          6,
          10,
          14,
          10,
          15,
          11,
          10,
          7,
          5,
          8,
          36,
          33,
          23,
          7,
          9,
          16,
          11,
          8,
          7,
          10,
          31,
          6,
          12,
          10,
          6,
          45,
          5,
          5,
          6,
          8,
          5,
          15,
          16,
          7,
          6,
          6,
          12,
          5,
          6,
          5,
          9,
          6,
          10,
          8,
          11,
          6,
          7,
          25,
          9,
          7,
          35,
          6,
          6,
          6,
          5,
          5,
          64,
          8,
          8,
          7,
          8,
          7,
          14,
          6,
          64,
          12,
          7,
          5,
          9,
          5,
          5,
          5,
          10,
          6,
          11,
          5,
          6,
          16,
          10,
          15,
          11,
          7,
          6,
          18,
          30,
          5,
          6,
          7,
          12,
          7,
          20,
          10,
          5,
          28,
          5,
          8,
          9,
          6,
          11,
          5,
          70,
          24,
          7,
          10,
          5,
          5,
          11,
          6,
          6,
          6,
          11,
          9,
          5,
          5,
          5,
          6,
          32,
          23,
          5,
          13,
          21,
          6,
          11,
          6,
          9,
          5,
          6,
          8,
          9,
          14,
          7,
          13,
          5,
          10,
          11,
          5,
          5,
          6,
          6,
          8,
          13,
          9,
          7,
          9,
          5,
          26,
          41,
          18,
          10,
          9,
          12,
          5,
          5,
          8,
          6,
          5,
          11,
          12,
          5,
          5,
          6,
          5,
          52,
          9,
          5,
          5,
          10,
          9,
          11,
          6,
          7,
          12,
          5,
          9,
          7,
          11,
          14,
          12,
          5,
          6,
          26,
          23,
          5,
          42,
          7,
          5,
          5,
          6,
          6,
          15,
          13,
          7,
          19,
          7,
          30,
          6,
          7,
          11,
          5,
          12,
          18,
          8,
          7,
          10,
          5,
          7,
          30,
          6,
          5,
          5,
          16,
          12,
          5,
          8,
          5,
          20,
          6,
          59,
          8,
          8,
          8,
          8,
          6,
          5,
          7,
          6,
          10,
          10,
          11,
          10,
          5,
          7,
          6,
          6,
          6,
          9,
          7,
          36,
          30,
          32,
          34,
          9,
          6,
          8,
          8,
          8,
          8,
          9,
          5,
          7,
          6,
          5,
          5,
          5,
          6,
          6,
          6,
          6,
          12,
          6,
          5,
          6,
          5,
          46,
          5,
          9,
          62,
          5,
          6,
          6,
          10,
          9,
          8,
          5,
          5,
          6,
          9,
          22,
          24,
          12,
          12,
          10,
          8,
          7,
          5,
          5,
          12,
          5,
          6,
          5,
          138,
          5,
          9,
          13,
          13,
          8,
          6,
          14,
          12,
          8,
          9,
          22,
          11,
          7,
          5,
          39,
          5,
          5,
          5,
          11,
          10,
          5,
          12,
          5,
          27,
          8,
          26,
          7,
          7,
          6,
          5,
          6,
          5,
          8,
          5,
          38,
          5,
          8,
          8,
          13,
          13,
          8,
          10,
          5,
          5,
          83,
          7,
          5,
          6,
          9,
          17,
          5,
          5,
          7,
          5,
          7,
          9,
          5,
          12,
          6,
          26,
          6,
          6,
          8,
          6,
          15,
          5,
          42,
          10,
          7,
          8,
          15,
          6,
          7,
          5,
          8,
          18,
          9,
          13,
          12,
          5,
          18,
          9,
          6,
          6,
          6,
          5,
          6,
          49,
          7,
          8,
          15,
          45,
          5,
          5,
          25,
          9,
          9,
          6,
          7,
          12,
          6,
          6,
          5,
          8,
          8,
          8,
          16,
          33,
          6,
          5,
          27,
          7,
          5,
          13,
          11,
          5,
          33,
          5,
          6,
          25,
          23,
          32,
          12,
          31,
          5,
          20,
          11,
          7,
          5,
          8,
          11,
          8,
          5,
          6,
          14,
          27,
          18,
          37,
          19,
          10,
          6,
          7,
          6,
          5,
          71,
          7,
          9,
          7,
          6,
          8,
          7,
          42,
          15,
          13,
          6,
          5,
          6,
          5,
          7,
          6,
          5,
          5,
          9,
          11,
          9,
          5,
          5,
          11,
          9,
          6,
          8,
          29,
          14,
          32,
          8,
          5,
          58,
          21,
          11,
          11,
          22,
          17,
          5,
          81,
          50,
          7,
          25,
          7,
          8,
          20,
          20,
          28,
          13,
          18,
          7,
          6,
          6,
          5,
          16,
          35,
          13,
          24,
          11,
          34,
          5,
          5,
          6,
          7,
          9,
          20,
          31,
          11,
          26,
          23,
          55,
          14,
          37,
          36,
          45,
          42,
          24,
          12,
          7,
          6,
          5,
          7,
          5,
          24,
          8,
          46,
          5,
          28,
          24,
          5,
          5,
          6,
          9,
          8,
          7,
          10,
          5,
          11,
          8,
          74,
          11,
          5,
          10,
          11,
          12,
          12,
          16,
          9,
          6,
          9,
          14,
          27,
          19,
          23,
          18,
          14,
          60,
          28,
          7,
          16,
          68,
          19,
          36,
          10,
          5,
          5,
          12,
          40,
          29,
          34,
          5,
          61,
          11,
          6,
          33,
          21,
          28,
          17,
          12,
          11,
          6,
          6,
          11,
          8,
          7,
          31,
          38,
          51,
          45,
          40,
          43,
          12,
          175,
          13,
          17,
          7,
          48,
          13,
          46,
          5,
          8,
          9,
          7,
          13,
          13,
          5,
          11,
          6,
          14,
          5,
          6,
          26,
          17,
          20,
          13,
          36,
          10,
          10,
          6,
          5,
          13,
          23,
          37,
          32,
          50,
          12,
          16,
          11,
          13,
          18,
          41,
          16,
          33,
          19,
          9,
          20,
          45,
          19,
          6,
          13,
          36,
          35,
          31,
          40,
          7,
          11,
          34,
          7,
          10,
          14,
          30,
          30,
          22,
          29,
          24,
          12,
          29,
          28,
          5,
          35,
          10,
          12,
          7,
          12,
          12,
          6,
          11,
          13,
          17,
          17,
          6,
          8,
          8,
          5,
          16,
          5,
          16,
          11,
          5,
          12
         ],
         "xbins": {
          "size": 2,
          "start": 0
         }
        }
       ],
       "layout": {
        "bargap": 0.2,
        "template": {
         "data": {
          "bar": [
           {
            "error_x": {
             "color": "#2a3f5f"
            },
            "error_y": {
             "color": "#2a3f5f"
            },
            "marker": {
             "line": {
              "color": "#E5ECF6",
              "width": 0.5
             }
            },
            "type": "bar"
           }
          ],
          "barpolar": [
           {
            "marker": {
             "line": {
              "color": "#E5ECF6",
              "width": 0.5
             }
            },
            "type": "barpolar"
           }
          ],
          "carpet": [
           {
            "aaxis": {
             "endlinecolor": "#2a3f5f",
             "gridcolor": "white",
             "linecolor": "white",
             "minorgridcolor": "white",
             "startlinecolor": "#2a3f5f"
            },
            "baxis": {
             "endlinecolor": "#2a3f5f",
             "gridcolor": "white",
             "linecolor": "white",
             "minorgridcolor": "white",
             "startlinecolor": "#2a3f5f"
            },
            "type": "carpet"
           }
          ],
          "choropleth": [
           {
            "colorbar": {
             "outlinewidth": 0,
             "ticks": ""
            },
            "type": "choropleth"
           }
          ],
          "contour": [
           {
            "colorbar": {
             "outlinewidth": 0,
             "ticks": ""
            },
            "colorscale": [
             [
              0,
              "#0d0887"
             ],
             [
              0.1111111111111111,
              "#46039f"
             ],
             [
              0.2222222222222222,
              "#7201a8"
             ],
             [
              0.3333333333333333,
              "#9c179e"
             ],
             [
              0.4444444444444444,
              "#bd3786"
             ],
             [
              0.5555555555555556,
              "#d8576b"
             ],
             [
              0.6666666666666666,
              "#ed7953"
             ],
             [
              0.7777777777777778,
              "#fb9f3a"
             ],
             [
              0.8888888888888888,
              "#fdca26"
             ],
             [
              1,
              "#f0f921"
             ]
            ],
            "type": "contour"
           }
          ],
          "contourcarpet": [
           {
            "colorbar": {
             "outlinewidth": 0,
             "ticks": ""
            },
            "type": "contourcarpet"
           }
          ],
          "heatmap": [
           {
            "colorbar": {
             "outlinewidth": 0,
             "ticks": ""
            },
            "colorscale": [
             [
              0,
              "#0d0887"
             ],
             [
              0.1111111111111111,
              "#46039f"
             ],
             [
              0.2222222222222222,
              "#7201a8"
             ],
             [
              0.3333333333333333,
              "#9c179e"
             ],
             [
              0.4444444444444444,
              "#bd3786"
             ],
             [
              0.5555555555555556,
              "#d8576b"
             ],
             [
              0.6666666666666666,
              "#ed7953"
             ],
             [
              0.7777777777777778,
              "#fb9f3a"
             ],
             [
              0.8888888888888888,
              "#fdca26"
             ],
             [
              1,
              "#f0f921"
             ]
            ],
            "type": "heatmap"
           }
          ],
          "heatmapgl": [
           {
            "colorbar": {
             "outlinewidth": 0,
             "ticks": ""
            },
            "colorscale": [
             [
              0,
              "#0d0887"
             ],
             [
              0.1111111111111111,
              "#46039f"
             ],
             [
              0.2222222222222222,
              "#7201a8"
             ],
             [
              0.3333333333333333,
              "#9c179e"
             ],
             [
              0.4444444444444444,
              "#bd3786"
             ],
             [
              0.5555555555555556,
              "#d8576b"
             ],
             [
              0.6666666666666666,
              "#ed7953"
             ],
             [
              0.7777777777777778,
              "#fb9f3a"
             ],
             [
              0.8888888888888888,
              "#fdca26"
             ],
             [
              1,
              "#f0f921"
             ]
            ],
            "type": "heatmapgl"
           }
          ],
          "histogram": [
           {
            "marker": {
             "colorbar": {
              "outlinewidth": 0,
              "ticks": ""
             }
            },
            "type": "histogram"
           }
          ],
          "histogram2d": [
           {
            "colorbar": {
             "outlinewidth": 0,
             "ticks": ""
            },
            "colorscale": [
             [
              0,
              "#0d0887"
             ],
             [
              0.1111111111111111,
              "#46039f"
             ],
             [
              0.2222222222222222,
              "#7201a8"
             ],
             [
              0.3333333333333333,
              "#9c179e"
             ],
             [
              0.4444444444444444,
              "#bd3786"
             ],
             [
              0.5555555555555556,
              "#d8576b"
             ],
             [
              0.6666666666666666,
              "#ed7953"
             ],
             [
              0.7777777777777778,
              "#fb9f3a"
             ],
             [
              0.8888888888888888,
              "#fdca26"
             ],
             [
              1,
              "#f0f921"
             ]
            ],
            "type": "histogram2d"
           }
          ],
          "histogram2dcontour": [
           {
            "colorbar": {
             "outlinewidth": 0,
             "ticks": ""
            },
            "colorscale": [
             [
              0,
              "#0d0887"
             ],
             [
              0.1111111111111111,
              "#46039f"
             ],
             [
              0.2222222222222222,
              "#7201a8"
             ],
             [
              0.3333333333333333,
              "#9c179e"
             ],
             [
              0.4444444444444444,
              "#bd3786"
             ],
             [
              0.5555555555555556,
              "#d8576b"
             ],
             [
              0.6666666666666666,
              "#ed7953"
             ],
             [
              0.7777777777777778,
              "#fb9f3a"
             ],
             [
              0.8888888888888888,
              "#fdca26"
             ],
             [
              1,
              "#f0f921"
             ]
            ],
            "type": "histogram2dcontour"
           }
          ],
          "mesh3d": [
           {
            "colorbar": {
             "outlinewidth": 0,
             "ticks": ""
            },
            "type": "mesh3d"
           }
          ],
          "parcoords": [
           {
            "line": {
             "colorbar": {
              "outlinewidth": 0,
              "ticks": ""
             }
            },
            "type": "parcoords"
           }
          ],
          "pie": [
           {
            "automargin": true,
            "type": "pie"
           }
          ],
          "scatter": [
           {
            "marker": {
             "colorbar": {
              "outlinewidth": 0,
              "ticks": ""
             }
            },
            "type": "scatter"
           }
          ],
          "scatter3d": [
           {
            "line": {
             "colorbar": {
              "outlinewidth": 0,
              "ticks": ""
             }
            },
            "marker": {
             "colorbar": {
              "outlinewidth": 0,
              "ticks": ""
             }
            },
            "type": "scatter3d"
           }
          ],
          "scattercarpet": [
           {
            "marker": {
             "colorbar": {
              "outlinewidth": 0,
              "ticks": ""
             }
            },
            "type": "scattercarpet"
           }
          ],
          "scattergeo": [
           {
            "marker": {
             "colorbar": {
              "outlinewidth": 0,
              "ticks": ""
             }
            },
            "type": "scattergeo"
           }
          ],
          "scattergl": [
           {
            "marker": {
             "colorbar": {
              "outlinewidth": 0,
              "ticks": ""
             }
            },
            "type": "scattergl"
           }
          ],
          "scattermapbox": [
           {
            "marker": {
             "colorbar": {
              "outlinewidth": 0,
              "ticks": ""
             }
            },
            "type": "scattermapbox"
           }
          ],
          "scatterpolar": [
           {
            "marker": {
             "colorbar": {
              "outlinewidth": 0,
              "ticks": ""
             }
            },
            "type": "scatterpolar"
           }
          ],
          "scatterpolargl": [
           {
            "marker": {
             "colorbar": {
              "outlinewidth": 0,
              "ticks": ""
             }
            },
            "type": "scatterpolargl"
           }
          ],
          "scatterternary": [
           {
            "marker": {
             "colorbar": {
              "outlinewidth": 0,
              "ticks": ""
             }
            },
            "type": "scatterternary"
           }
          ],
          "surface": [
           {
            "colorbar": {
             "outlinewidth": 0,
             "ticks": ""
            },
            "colorscale": [
             [
              0,
              "#0d0887"
             ],
             [
              0.1111111111111111,
              "#46039f"
             ],
             [
              0.2222222222222222,
              "#7201a8"
             ],
             [
              0.3333333333333333,
              "#9c179e"
             ],
             [
              0.4444444444444444,
              "#bd3786"
             ],
             [
              0.5555555555555556,
              "#d8576b"
             ],
             [
              0.6666666666666666,
              "#ed7953"
             ],
             [
              0.7777777777777778,
              "#fb9f3a"
             ],
             [
              0.8888888888888888,
              "#fdca26"
             ],
             [
              1,
              "#f0f921"
             ]
            ],
            "type": "surface"
           }
          ],
          "table": [
           {
            "cells": {
             "fill": {
              "color": "#EBF0F8"
             },
             "line": {
              "color": "white"
             }
            },
            "header": {
             "fill": {
              "color": "#C8D4E3"
             },
             "line": {
              "color": "white"
             }
            },
            "type": "table"
           }
          ]
         },
         "layout": {
          "annotationdefaults": {
           "arrowcolor": "#2a3f5f",
           "arrowhead": 0,
           "arrowwidth": 1
          },
          "coloraxis": {
           "colorbar": {
            "outlinewidth": 0,
            "ticks": ""
           }
          },
          "colorscale": {
           "diverging": [
            [
             0,
             "#8e0152"
            ],
            [
             0.1,
             "#c51b7d"
            ],
            [
             0.2,
             "#de77ae"
            ],
            [
             0.3,
             "#f1b6da"
            ],
            [
             0.4,
             "#fde0ef"
            ],
            [
             0.5,
             "#f7f7f7"
            ],
            [
             0.6,
             "#e6f5d0"
            ],
            [
             0.7,
             "#b8e186"
            ],
            [
             0.8,
             "#7fbc41"
            ],
            [
             0.9,
             "#4d9221"
            ],
            [
             1,
             "#276419"
            ]
           ],
           "sequential": [
            [
             0,
             "#0d0887"
            ],
            [
             0.1111111111111111,
             "#46039f"
            ],
            [
             0.2222222222222222,
             "#7201a8"
            ],
            [
             0.3333333333333333,
             "#9c179e"
            ],
            [
             0.4444444444444444,
             "#bd3786"
            ],
            [
             0.5555555555555556,
             "#d8576b"
            ],
            [
             0.6666666666666666,
             "#ed7953"
            ],
            [
             0.7777777777777778,
             "#fb9f3a"
            ],
            [
             0.8888888888888888,
             "#fdca26"
            ],
            [
             1,
             "#f0f921"
            ]
           ],
           "sequentialminus": [
            [
             0,
             "#0d0887"
            ],
            [
             0.1111111111111111,
             "#46039f"
            ],
            [
             0.2222222222222222,
             "#7201a8"
            ],
            [
             0.3333333333333333,
             "#9c179e"
            ],
            [
             0.4444444444444444,
             "#bd3786"
            ],
            [
             0.5555555555555556,
             "#d8576b"
            ],
            [
             0.6666666666666666,
             "#ed7953"
            ],
            [
             0.7777777777777778,
             "#fb9f3a"
            ],
            [
             0.8888888888888888,
             "#fdca26"
            ],
            [
             1,
             "#f0f921"
            ]
           ]
          },
          "colorway": [
           "#636efa",
           "#EF553B",
           "#00cc96",
           "#ab63fa",
           "#FFA15A",
           "#19d3f3",
           "#FF6692",
           "#B6E880",
           "#FF97FF",
           "#FECB52"
          ],
          "font": {
           "color": "#2a3f5f"
          },
          "geo": {
           "bgcolor": "white",
           "lakecolor": "white",
           "landcolor": "#E5ECF6",
           "showlakes": true,
           "showland": true,
           "subunitcolor": "white"
          },
          "hoverlabel": {
           "align": "left"
          },
          "hovermode": "closest",
          "mapbox": {
           "style": "light"
          },
          "paper_bgcolor": "white",
          "plot_bgcolor": "#E5ECF6",
          "polar": {
           "angularaxis": {
            "gridcolor": "white",
            "linecolor": "white",
            "ticks": ""
           },
           "bgcolor": "#E5ECF6",
           "radialaxis": {
            "gridcolor": "white",
            "linecolor": "white",
            "ticks": ""
           }
          },
          "scene": {
           "xaxis": {
            "backgroundcolor": "#E5ECF6",
            "gridcolor": "white",
            "gridwidth": 2,
            "linecolor": "white",
            "showbackground": true,
            "ticks": "",
            "zerolinecolor": "white"
           },
           "yaxis": {
            "backgroundcolor": "#E5ECF6",
            "gridcolor": "white",
            "gridwidth": 2,
            "linecolor": "white",
            "showbackground": true,
            "ticks": "",
            "zerolinecolor": "white"
           },
           "zaxis": {
            "backgroundcolor": "#E5ECF6",
            "gridcolor": "white",
            "gridwidth": 2,
            "linecolor": "white",
            "showbackground": true,
            "ticks": "",
            "zerolinecolor": "white"
           }
          },
          "shapedefaults": {
           "line": {
            "color": "#2a3f5f"
           }
          },
          "ternary": {
           "aaxis": {
            "gridcolor": "white",
            "linecolor": "white",
            "ticks": ""
           },
           "baxis": {
            "gridcolor": "white",
            "linecolor": "white",
            "ticks": ""
           },
           "bgcolor": "#E5ECF6",
           "caxis": {
            "gridcolor": "white",
            "linecolor": "white",
            "ticks": ""
           }
          },
          "title": {
           "x": 0.05
          },
          "xaxis": {
           "automargin": true,
           "gridcolor": "white",
           "linecolor": "white",
           "ticks": "",
           "title": {
            "standoff": 15
           },
           "zerolinecolor": "white",
           "zerolinewidth": 2
          },
          "yaxis": {
           "automargin": true,
           "gridcolor": "white",
           "linecolor": "white",
           "ticks": "",
           "title": {
            "standoff": 15
           },
           "zerolinecolor": "white",
           "zerolinewidth": 2
          }
         }
        },
        "title": {
         "text": "Distribution Of Number of Ratings Per garden"
        },
        "xaxis": {
         "title": {
          "text": "Number of Ratings Per garden"
         }
        },
        "yaxis": {
         "title": {
          "text": "Count"
         }
        }
       }
      },
      "text/html": [
       "<div>                            <div id=\"0581c8d3-8853-46fb-aed8-1dea516ae717\" class=\"plotly-graph-div\" style=\"height:525px; width:100%;\"></div>            <script type=\"text/javascript\">                require([\"plotly\"], function(Plotly) {                    window.PLOTLYENV=window.PLOTLYENV || {};                                    if (document.getElementById(\"0581c8d3-8853-46fb-aed8-1dea516ae717\")) {                    Plotly.newPlot(                        \"0581c8d3-8853-46fb-aed8-1dea516ae717\",                        [{\"name\": \"Ratings\", \"type\": \"histogram\", \"x\": [6, 5, 8, 9, 9, 10, 7, 11, 6, 27, 36, 5, 8, 7, 5, 20, 5, 5, 5, 7, 6, 5, 16, 6, 6, 12, 6, 5, 11, 6, 18, 14, 6, 17, 5, 5, 6, 5, 9, 14, 6, 9, 6, 11, 5, 35, 28, 25, 9, 6, 5, 8, 5, 8, 5, 6, 14, 7, 7, 7, 6, 18, 11, 10, 6, 6, 36, 6, 11, 6, 11, 5, 6, 6, 11, 5, 14, 5, 36, 8, 13, 35, 9, 5, 9, 10, 6, 10, 8, 12, 5, 7, 61, 11, 7, 11, 8, 5, 9, 6, 18, 27, 22, 17, 15, 10, 13, 9, 5, 6, 6, 5, 6, 5, 6, 6, 5, 14, 5, 11, 5, 10, 11, 6, 8, 5, 30, 6, 5, 28, 6, 5, 7, 5, 7, 9, 7, 6, 6, 15, 14, 9, 6, 7, 7, 39, 5, 6, 5, 14, 6, 5, 9, 7, 7, 5, 5, 16, 5, 14, 6, 6, 7, 10, 9, 5, 12, 296, 6, 7, 7, 5, 5, 6, 5, 8, 19, 5, 16, 8, 11, 6, 13, 5, 9, 5, 10, 8, 12, 53, 16, 8, 7, 15, 9, 8, 78, 6, 15, 7, 6, 9, 8, 8, 11, 10, 12, 12, 13, 15, 5, 29, 8, 17, 18, 6, 10, 9, 7, 5, 5, 6, 12, 11, 5, 6, 6, 12, 15, 117, 7, 9, 8, 24, 8, 14, 5, 32, 29, 41, 8, 8, 8, 6, 5, 8, 28, 5, 5, 5, 5, 74, 11, 6, 5, 33, 6, 5, 9, 9, 33, 7, 6, 19, 12, 16, 15, 47, 37, 5, 5, 16, 36, 20, 14, 5, 36, 5, 6, 17, 7, 7, 7, 35, 6, 17, 17, 6, 10, 14, 10, 15, 11, 10, 7, 5, 8, 36, 33, 23, 7, 9, 16, 11, 8, 7, 10, 31, 6, 12, 10, 6, 45, 5, 5, 6, 8, 5, 15, 16, 7, 6, 6, 12, 5, 6, 5, 9, 6, 10, 8, 11, 6, 7, 25, 9, 7, 35, 6, 6, 6, 5, 5, 64, 8, 8, 7, 8, 7, 14, 6, 64, 12, 7, 5, 9, 5, 5, 5, 10, 6, 11, 5, 6, 16, 10, 15, 11, 7, 6, 18, 30, 5, 6, 7, 12, 7, 20, 10, 5, 28, 5, 8, 9, 6, 11, 5, 70, 24, 7, 10, 5, 5, 11, 6, 6, 6, 11, 9, 5, 5, 5, 6, 32, 23, 5, 13, 21, 6, 11, 6, 9, 5, 6, 8, 9, 14, 7, 13, 5, 10, 11, 5, 5, 6, 6, 8, 13, 9, 7, 9, 5, 26, 41, 18, 10, 9, 12, 5, 5, 8, 6, 5, 11, 12, 5, 5, 6, 5, 52, 9, 5, 5, 10, 9, 11, 6, 7, 12, 5, 9, 7, 11, 14, 12, 5, 6, 26, 23, 5, 42, 7, 5, 5, 6, 6, 15, 13, 7, 19, 7, 30, 6, 7, 11, 5, 12, 18, 8, 7, 10, 5, 7, 30, 6, 5, 5, 16, 12, 5, 8, 5, 20, 6, 59, 8, 8, 8, 8, 6, 5, 7, 6, 10, 10, 11, 10, 5, 7, 6, 6, 6, 9, 7, 36, 30, 32, 34, 9, 6, 8, 8, 8, 8, 9, 5, 7, 6, 5, 5, 5, 6, 6, 6, 6, 12, 6, 5, 6, 5, 46, 5, 9, 62, 5, 6, 6, 10, 9, 8, 5, 5, 6, 9, 22, 24, 12, 12, 10, 8, 7, 5, 5, 12, 5, 6, 5, 138, 5, 9, 13, 13, 8, 6, 14, 12, 8, 9, 22, 11, 7, 5, 39, 5, 5, 5, 11, 10, 5, 12, 5, 27, 8, 26, 7, 7, 6, 5, 6, 5, 8, 5, 38, 5, 8, 8, 13, 13, 8, 10, 5, 5, 83, 7, 5, 6, 9, 17, 5, 5, 7, 5, 7, 9, 5, 12, 6, 26, 6, 6, 8, 6, 15, 5, 42, 10, 7, 8, 15, 6, 7, 5, 8, 18, 9, 13, 12, 5, 18, 9, 6, 6, 6, 5, 6, 49, 7, 8, 15, 45, 5, 5, 25, 9, 9, 6, 7, 12, 6, 6, 5, 8, 8, 8, 16, 33, 6, 5, 27, 7, 5, 13, 11, 5, 33, 5, 6, 25, 23, 32, 12, 31, 5, 20, 11, 7, 5, 8, 11, 8, 5, 6, 14, 27, 18, 37, 19, 10, 6, 7, 6, 5, 71, 7, 9, 7, 6, 8, 7, 42, 15, 13, 6, 5, 6, 5, 7, 6, 5, 5, 9, 11, 9, 5, 5, 11, 9, 6, 8, 29, 14, 32, 8, 5, 58, 21, 11, 11, 22, 17, 5, 81, 50, 7, 25, 7, 8, 20, 20, 28, 13, 18, 7, 6, 6, 5, 16, 35, 13, 24, 11, 34, 5, 5, 6, 7, 9, 20, 31, 11, 26, 23, 55, 14, 37, 36, 45, 42, 24, 12, 7, 6, 5, 7, 5, 24, 8, 46, 5, 28, 24, 5, 5, 6, 9, 8, 7, 10, 5, 11, 8, 74, 11, 5, 10, 11, 12, 12, 16, 9, 6, 9, 14, 27, 19, 23, 18, 14, 60, 28, 7, 16, 68, 19, 36, 10, 5, 5, 12, 40, 29, 34, 5, 61, 11, 6, 33, 21, 28, 17, 12, 11, 6, 6, 11, 8, 7, 31, 38, 51, 45, 40, 43, 12, 175, 13, 17, 7, 48, 13, 46, 5, 8, 9, 7, 13, 13, 5, 11, 6, 14, 5, 6, 26, 17, 20, 13, 36, 10, 10, 6, 5, 13, 23, 37, 32, 50, 12, 16, 11, 13, 18, 41, 16, 33, 19, 9, 20, 45, 19, 6, 13, 36, 35, 31, 40, 7, 11, 34, 7, 10, 14, 30, 30, 22, 29, 24, 12, 29, 28, 5, 35, 10, 12, 7, 12, 12, 6, 11, 13, 17, 17, 6, 8, 8, 5, 16, 5, 16, 11, 5, 12], \"xbins\": {\"size\": 2, \"start\": 0}}],                        {\"bargap\": 0.2, \"template\": {\"data\": {\"bar\": [{\"error_x\": {\"color\": \"#2a3f5f\"}, \"error_y\": {\"color\": \"#2a3f5f\"}, \"marker\": {\"line\": {\"color\": \"#E5ECF6\", \"width\": 0.5}}, \"type\": \"bar\"}], \"barpolar\": [{\"marker\": {\"line\": {\"color\": \"#E5ECF6\", \"width\": 0.5}}, \"type\": \"barpolar\"}], \"carpet\": [{\"aaxis\": {\"endlinecolor\": \"#2a3f5f\", \"gridcolor\": \"white\", \"linecolor\": \"white\", \"minorgridcolor\": \"white\", \"startlinecolor\": \"#2a3f5f\"}, \"baxis\": {\"endlinecolor\": \"#2a3f5f\", \"gridcolor\": \"white\", \"linecolor\": \"white\", \"minorgridcolor\": \"white\", \"startlinecolor\": \"#2a3f5f\"}, \"type\": \"carpet\"}], \"choropleth\": [{\"colorbar\": {\"outlinewidth\": 0, \"ticks\": \"\"}, \"type\": \"choropleth\"}], \"contour\": [{\"colorbar\": {\"outlinewidth\": 0, \"ticks\": \"\"}, \"colorscale\": [[0.0, \"#0d0887\"], [0.1111111111111111, \"#46039f\"], [0.2222222222222222, \"#7201a8\"], [0.3333333333333333, \"#9c179e\"], [0.4444444444444444, \"#bd3786\"], [0.5555555555555556, \"#d8576b\"], [0.6666666666666666, \"#ed7953\"], [0.7777777777777778, \"#fb9f3a\"], [0.8888888888888888, \"#fdca26\"], [1.0, \"#f0f921\"]], \"type\": \"contour\"}], \"contourcarpet\": [{\"colorbar\": {\"outlinewidth\": 0, \"ticks\": \"\"}, \"type\": \"contourcarpet\"}], \"heatmap\": [{\"colorbar\": {\"outlinewidth\": 0, \"ticks\": \"\"}, \"colorscale\": [[0.0, \"#0d0887\"], [0.1111111111111111, \"#46039f\"], [0.2222222222222222, \"#7201a8\"], [0.3333333333333333, \"#9c179e\"], [0.4444444444444444, \"#bd3786\"], [0.5555555555555556, \"#d8576b\"], [0.6666666666666666, \"#ed7953\"], [0.7777777777777778, \"#fb9f3a\"], [0.8888888888888888, \"#fdca26\"], [1.0, \"#f0f921\"]], \"type\": \"heatmap\"}], \"heatmapgl\": [{\"colorbar\": {\"outlinewidth\": 0, \"ticks\": \"\"}, \"colorscale\": [[0.0, \"#0d0887\"], [0.1111111111111111, \"#46039f\"], [0.2222222222222222, \"#7201a8\"], [0.3333333333333333, \"#9c179e\"], [0.4444444444444444, \"#bd3786\"], [0.5555555555555556, \"#d8576b\"], [0.6666666666666666, \"#ed7953\"], [0.7777777777777778, \"#fb9f3a\"], [0.8888888888888888, \"#fdca26\"], [1.0, \"#f0f921\"]], \"type\": \"heatmapgl\"}], \"histogram\": [{\"marker\": {\"colorbar\": {\"outlinewidth\": 0, \"ticks\": \"\"}}, \"type\": \"histogram\"}], \"histogram2d\": [{\"colorbar\": {\"outlinewidth\": 0, \"ticks\": \"\"}, \"colorscale\": [[0.0, \"#0d0887\"], [0.1111111111111111, \"#46039f\"], [0.2222222222222222, \"#7201a8\"], [0.3333333333333333, \"#9c179e\"], [0.4444444444444444, \"#bd3786\"], [0.5555555555555556, \"#d8576b\"], [0.6666666666666666, \"#ed7953\"], [0.7777777777777778, \"#fb9f3a\"], [0.8888888888888888, \"#fdca26\"], [1.0, \"#f0f921\"]], \"type\": \"histogram2d\"}], \"histogram2dcontour\": [{\"colorbar\": {\"outlinewidth\": 0, \"ticks\": \"\"}, \"colorscale\": [[0.0, \"#0d0887\"], [0.1111111111111111, \"#46039f\"], [0.2222222222222222, \"#7201a8\"], [0.3333333333333333, \"#9c179e\"], [0.4444444444444444, \"#bd3786\"], [0.5555555555555556, \"#d8576b\"], [0.6666666666666666, \"#ed7953\"], [0.7777777777777778, \"#fb9f3a\"], [0.8888888888888888, \"#fdca26\"], [1.0, \"#f0f921\"]], \"type\": \"histogram2dcontour\"}], \"mesh3d\": [{\"colorbar\": {\"outlinewidth\": 0, \"ticks\": \"\"}, \"type\": \"mesh3d\"}], \"parcoords\": [{\"line\": {\"colorbar\": {\"outlinewidth\": 0, \"ticks\": \"\"}}, \"type\": \"parcoords\"}], \"pie\": [{\"automargin\": true, \"type\": \"pie\"}], \"scatter\": [{\"marker\": {\"colorbar\": {\"outlinewidth\": 0, \"ticks\": \"\"}}, \"type\": \"scatter\"}], \"scatter3d\": [{\"line\": {\"colorbar\": {\"outlinewidth\": 0, \"ticks\": \"\"}}, \"marker\": {\"colorbar\": {\"outlinewidth\": 0, \"ticks\": \"\"}}, \"type\": \"scatter3d\"}], \"scattercarpet\": [{\"marker\": {\"colorbar\": {\"outlinewidth\": 0, \"ticks\": \"\"}}, \"type\": \"scattercarpet\"}], \"scattergeo\": [{\"marker\": {\"colorbar\": {\"outlinewidth\": 0, \"ticks\": \"\"}}, \"type\": \"scattergeo\"}], \"scattergl\": [{\"marker\": {\"colorbar\": {\"outlinewidth\": 0, \"ticks\": \"\"}}, \"type\": \"scattergl\"}], \"scattermapbox\": [{\"marker\": {\"colorbar\": {\"outlinewidth\": 0, \"ticks\": \"\"}}, \"type\": \"scattermapbox\"}], \"scatterpolar\": [{\"marker\": {\"colorbar\": {\"outlinewidth\": 0, \"ticks\": \"\"}}, \"type\": \"scatterpolar\"}], \"scatterpolargl\": [{\"marker\": {\"colorbar\": {\"outlinewidth\": 0, \"ticks\": \"\"}}, \"type\": \"scatterpolargl\"}], \"scatterternary\": [{\"marker\": {\"colorbar\": {\"outlinewidth\": 0, \"ticks\": \"\"}}, \"type\": \"scatterternary\"}], \"surface\": [{\"colorbar\": {\"outlinewidth\": 0, \"ticks\": \"\"}, \"colorscale\": [[0.0, \"#0d0887\"], [0.1111111111111111, \"#46039f\"], [0.2222222222222222, \"#7201a8\"], [0.3333333333333333, \"#9c179e\"], [0.4444444444444444, \"#bd3786\"], [0.5555555555555556, \"#d8576b\"], [0.6666666666666666, \"#ed7953\"], [0.7777777777777778, \"#fb9f3a\"], [0.8888888888888888, \"#fdca26\"], [1.0, \"#f0f921\"]], \"type\": \"surface\"}], \"table\": [{\"cells\": {\"fill\": {\"color\": \"#EBF0F8\"}, \"line\": {\"color\": \"white\"}}, \"header\": {\"fill\": {\"color\": \"#C8D4E3\"}, \"line\": {\"color\": \"white\"}}, \"type\": \"table\"}]}, \"layout\": {\"annotationdefaults\": {\"arrowcolor\": \"#2a3f5f\", \"arrowhead\": 0, \"arrowwidth\": 1}, \"coloraxis\": {\"colorbar\": {\"outlinewidth\": 0, \"ticks\": \"\"}}, \"colorscale\": {\"diverging\": [[0, \"#8e0152\"], [0.1, \"#c51b7d\"], [0.2, \"#de77ae\"], [0.3, \"#f1b6da\"], [0.4, \"#fde0ef\"], [0.5, \"#f7f7f7\"], [0.6, \"#e6f5d0\"], [0.7, \"#b8e186\"], [0.8, \"#7fbc41\"], [0.9, \"#4d9221\"], [1, \"#276419\"]], \"sequential\": [[0.0, \"#0d0887\"], [0.1111111111111111, \"#46039f\"], [0.2222222222222222, \"#7201a8\"], [0.3333333333333333, \"#9c179e\"], [0.4444444444444444, \"#bd3786\"], [0.5555555555555556, \"#d8576b\"], [0.6666666666666666, \"#ed7953\"], [0.7777777777777778, \"#fb9f3a\"], [0.8888888888888888, \"#fdca26\"], [1.0, \"#f0f921\"]], \"sequentialminus\": [[0.0, \"#0d0887\"], [0.1111111111111111, \"#46039f\"], [0.2222222222222222, \"#7201a8\"], [0.3333333333333333, \"#9c179e\"], [0.4444444444444444, \"#bd3786\"], [0.5555555555555556, \"#d8576b\"], [0.6666666666666666, \"#ed7953\"], [0.7777777777777778, \"#fb9f3a\"], [0.8888888888888888, \"#fdca26\"], [1.0, \"#f0f921\"]]}, \"colorway\": [\"#636efa\", \"#EF553B\", \"#00cc96\", \"#ab63fa\", \"#FFA15A\", \"#19d3f3\", \"#FF6692\", \"#B6E880\", \"#FF97FF\", \"#FECB52\"], \"font\": {\"color\": \"#2a3f5f\"}, \"geo\": {\"bgcolor\": \"white\", \"lakecolor\": \"white\", \"landcolor\": \"#E5ECF6\", \"showlakes\": true, \"showland\": true, \"subunitcolor\": \"white\"}, \"hoverlabel\": {\"align\": \"left\"}, \"hovermode\": \"closest\", \"mapbox\": {\"style\": \"light\"}, \"paper_bgcolor\": \"white\", \"plot_bgcolor\": \"#E5ECF6\", \"polar\": {\"angularaxis\": {\"gridcolor\": \"white\", \"linecolor\": \"white\", \"ticks\": \"\"}, \"bgcolor\": \"#E5ECF6\", \"radialaxis\": {\"gridcolor\": \"white\", \"linecolor\": \"white\", \"ticks\": \"\"}}, \"scene\": {\"xaxis\": {\"backgroundcolor\": \"#E5ECF6\", \"gridcolor\": \"white\", \"gridwidth\": 2, \"linecolor\": \"white\", \"showbackground\": true, \"ticks\": \"\", \"zerolinecolor\": \"white\"}, \"yaxis\": {\"backgroundcolor\": \"#E5ECF6\", \"gridcolor\": \"white\", \"gridwidth\": 2, \"linecolor\": \"white\", \"showbackground\": true, \"ticks\": \"\", \"zerolinecolor\": \"white\"}, \"zaxis\": {\"backgroundcolor\": \"#E5ECF6\", \"gridcolor\": \"white\", \"gridwidth\": 2, \"linecolor\": \"white\", \"showbackground\": true, \"ticks\": \"\", \"zerolinecolor\": \"white\"}}, \"shapedefaults\": {\"line\": {\"color\": \"#2a3f5f\"}}, \"ternary\": {\"aaxis\": {\"gridcolor\": \"white\", \"linecolor\": \"white\", \"ticks\": \"\"}, \"baxis\": {\"gridcolor\": \"white\", \"linecolor\": \"white\", \"ticks\": \"\"}, \"bgcolor\": \"#E5ECF6\", \"caxis\": {\"gridcolor\": \"white\", \"linecolor\": \"white\", \"ticks\": \"\"}}, \"title\": {\"x\": 0.05}, \"xaxis\": {\"automargin\": true, \"gridcolor\": \"white\", \"linecolor\": \"white\", \"ticks\": \"\", \"title\": {\"standoff\": 15}, \"zerolinecolor\": \"white\", \"zerolinewidth\": 2}, \"yaxis\": {\"automargin\": true, \"gridcolor\": \"white\", \"linecolor\": \"white\", \"ticks\": \"\", \"title\": {\"standoff\": 15}, \"zerolinecolor\": \"white\", \"zerolinewidth\": 2}}}, \"title\": {\"text\": \"Distribution Of Number of Ratings Per garden\"}, \"xaxis\": {\"title\": {\"text\": \"Number of Ratings Per garden\"}}, \"yaxis\": {\"title\": {\"text\": \"Count\"}}},                        {\"responsive\": true}                    ).then(function(){\n",
       "                            \n",
       "var gd = document.getElementById('0581c8d3-8853-46fb-aed8-1dea516ae717');\n",
       "var x = new MutationObserver(function (mutations, observer) {{\n",
       "        var display = window.getComputedStyle(gd).display;\n",
       "        if (!display || display === 'none') {{\n",
       "            console.log([gd, 'removed!']);\n",
       "            Plotly.purge(gd);\n",
       "            observer.disconnect();\n",
       "        }}\n",
       "}});\n",
       "\n",
       "// Listen for the removal of the full notebook cells\n",
       "var notebookContainer = gd.closest('#notebook-container');\n",
       "if (notebookContainer) {{\n",
       "    x.observe(notebookContainer, {childList: true});\n",
       "}}\n",
       "\n",
       "// Listen for the clearing of the current output cell\n",
       "var outputEl = gd.closest('.output');\n",
       "if (outputEl) {{\n",
       "    x.observe(outputEl, {childList: true});\n",
       "}}\n",
       "\n",
       "                        })                };                });            </script>        </div>"
      ]
     },
     "metadata": {},
     "output_type": "display_data"
    }
   ],
   "source": [
    "# Number of ratings per garden equipment\n",
    "data = df.groupby('asin')['overall'].count()\n",
    "\n",
    "# Create trace\n",
    "trace = go.Histogram(x = data.values,\n",
    "                     name = 'Ratings',\n",
    "                     xbins = dict(start = 0,size = 2))\n",
    "# Create layout\n",
    "layout = go.Layout(title = 'Distribution Of Number of Ratings Per garden',\n",
    "                   xaxis = dict(title = 'Number of Ratings Per garden'),\n",
    "                   yaxis = dict(title = 'Count'),\n",
    "                   bargap = 0.2)\n",
    "\n",
    "# Create plot\n",
    "fig = go.Figure(data=[trace], layout=layout)\n",
    "iplot(fig)"
   ]
  },
  {
   "cell_type": "markdown",
   "metadata": {},
   "source": [
    "Most of the garden category received less than 10 ratings, and very few have many ratings. This is very typical (and in fact one of the main problems) of Recommender Systems.\n",
    "\n"
   ]
  },
  {
   "cell_type": "markdown",
   "metadata": {},
   "source": [
    "### Number of ratings per user\n",
    "\n",
    "Below provides how many ratings we have per user. Because of how the dataset was created, the minimum number of ratings per user in this dataset is 20, which alleviates the long-tail problem (i.e., when most of your users has very few or 0 ratings). "
   ]
  },
  {
   "cell_type": "code",
   "execution_count": 12,
   "metadata": {},
   "outputs": [
    {
     "data": {
      "application/vnd.plotly.v1+json": {
       "config": {
        "linkText": "Export to plot.ly",
        "plotlyServerURL": "https://plot.ly",
        "showLink": false
       },
       "data": [
        {
         "name": "Ratings",
         "type": "histogram",
         "x": [
          66,
          7,
          5,
          14,
          8,
          5,
          7,
          6,
          5,
          6,
          7,
          8,
          16,
          6,
          6,
          5,
          6,
          22,
          13,
          7,
          30,
          5,
          9,
          5,
          7,
          5,
          5,
          5,
          8,
          6,
          6,
          8,
          5,
          11,
          9,
          6,
          10,
          6,
          9,
          5,
          7,
          8,
          8,
          6,
          7,
          5,
          5,
          5,
          5,
          8,
          9,
          5,
          5,
          10,
          8,
          5,
          6,
          6,
          9,
          6,
          5,
          11,
          8,
          10,
          7,
          5,
          7,
          5,
          5,
          7,
          7,
          5,
          5,
          6,
          5,
          10,
          11,
          10,
          8,
          13,
          5,
          11,
          5,
          5,
          5,
          5,
          10,
          6,
          7,
          7,
          7,
          5,
          8,
          5,
          24,
          5,
          18,
          9,
          5,
          5,
          5,
          6,
          7,
          11,
          6,
          5,
          5,
          9,
          5,
          5,
          5,
          7,
          6,
          5,
          6,
          10,
          5,
          5,
          7,
          5,
          6,
          11,
          6,
          37,
          9,
          18,
          5,
          10,
          20,
          5,
          5,
          8,
          8,
          10,
          5,
          7,
          9,
          21,
          5,
          9,
          5,
          6,
          7,
          9,
          6,
          6,
          18,
          6,
          6,
          5,
          6,
          9,
          13,
          15,
          10,
          7,
          5,
          8,
          5,
          5,
          6,
          10,
          5,
          10,
          6,
          17,
          5,
          6,
          6,
          14,
          7,
          11,
          5,
          21,
          5,
          32,
          9,
          13,
          5,
          5,
          7,
          7,
          18,
          5,
          6,
          5,
          5,
          5,
          5,
          5,
          10,
          8,
          6,
          7,
          7,
          7,
          8,
          9,
          5,
          10,
          5,
          11,
          5,
          5,
          5,
          6,
          5,
          7,
          5,
          7,
          5,
          22,
          6,
          7,
          8,
          7,
          9,
          5,
          7,
          5,
          8,
          5,
          5,
          5,
          5,
          5,
          7,
          9,
          8,
          10,
          16,
          7,
          6,
          11,
          8,
          5,
          10,
          9,
          5,
          6,
          9,
          5,
          9,
          5,
          5,
          6,
          11,
          5,
          5,
          8,
          5,
          14,
          5,
          8,
          5,
          7,
          5,
          5,
          6,
          5,
          5,
          7,
          6,
          11,
          6,
          9,
          7,
          5,
          6,
          5,
          5,
          8,
          6,
          9,
          9,
          9,
          10,
          9,
          32,
          5,
          5,
          5,
          5,
          5,
          12,
          6,
          5,
          9,
          18,
          5,
          9,
          6,
          5,
          17,
          6,
          8,
          11,
          6,
          5,
          20,
          5,
          5,
          20,
          6,
          9,
          7,
          11,
          6,
          8,
          7,
          8,
          8,
          5,
          7,
          5,
          5,
          5,
          6,
          20,
          6,
          5,
          5,
          6,
          5,
          14,
          8,
          5,
          5,
          5,
          10,
          5,
          7,
          5,
          11,
          7,
          7,
          15,
          6,
          13,
          20,
          6,
          5,
          20,
          13,
          5,
          5,
          7,
          6,
          5,
          5,
          5,
          7,
          11,
          5,
          10,
          5,
          5,
          21,
          23,
          5,
          15,
          5,
          7,
          6,
          5,
          7,
          10,
          18,
          10,
          6,
          5,
          12,
          13,
          8,
          8,
          5,
          14,
          5,
          14,
          5,
          5,
          5,
          6,
          5,
          38,
          9,
          10,
          5,
          5,
          5,
          7,
          6,
          10,
          7,
          6,
          6,
          19,
          6,
          11,
          11,
          22,
          5,
          6,
          7,
          7,
          5,
          5,
          7,
          9,
          8,
          7,
          8,
          8,
          6,
          23,
          5,
          5,
          9,
          5,
          11,
          8,
          24,
          5,
          8,
          19,
          6,
          5,
          5,
          8,
          8,
          35,
          8,
          5,
          8,
          11,
          25,
          5,
          5,
          5,
          8,
          5,
          5,
          5,
          5,
          5,
          5,
          7,
          6,
          5,
          5,
          5,
          5,
          6,
          11,
          6,
          5,
          7,
          7,
          12,
          5,
          5,
          9,
          19,
          5,
          8,
          5,
          8,
          15,
          6,
          19,
          6,
          13,
          7,
          7,
          5,
          8,
          10,
          11,
          5,
          16,
          8,
          5,
          6,
          5,
          7,
          12,
          16,
          5,
          5,
          12,
          16,
          6,
          7,
          6,
          10,
          5,
          6,
          5,
          5,
          5,
          9,
          43,
          8,
          5,
          5,
          9,
          12,
          5,
          5,
          5,
          6,
          5,
          6,
          5,
          6,
          7,
          6,
          20,
          8,
          6,
          6,
          6,
          5,
          5,
          5,
          10,
          5,
          8,
          6,
          9,
          7,
          13,
          5,
          9,
          5,
          5,
          5,
          5,
          5,
          5,
          8,
          5,
          5,
          7,
          5,
          5,
          6,
          6,
          5,
          9,
          10,
          5,
          13,
          8,
          7,
          6,
          5,
          5,
          8,
          13,
          10,
          5,
          6,
          12,
          8,
          6,
          5,
          5,
          6,
          5,
          10,
          8,
          11,
          6,
          7,
          11,
          5,
          6,
          6,
          10,
          8,
          6,
          8,
          5,
          5,
          12,
          5,
          5,
          11,
          5,
          5,
          6,
          7,
          6,
          6,
          5,
          10,
          7,
          5,
          5,
          6,
          6,
          11,
          21,
          5,
          6,
          13,
          6,
          5,
          5,
          6,
          5,
          10,
          13,
          6,
          7,
          6,
          6,
          6,
          5,
          8,
          5,
          5,
          6,
          5,
          5,
          5,
          5,
          6,
          6,
          23,
          5,
          7,
          5,
          5,
          8,
          10,
          7,
          10,
          6,
          8,
          6,
          12,
          8,
          6,
          5,
          7,
          5,
          6,
          6,
          5,
          8,
          34,
          6,
          5,
          7,
          7,
          9,
          8,
          11,
          5,
          6,
          10,
          10,
          5,
          5,
          6,
          5,
          6,
          5,
          5,
          10,
          5,
          5,
          7,
          7,
          6,
          5,
          5,
          10,
          5,
          6,
          5,
          11,
          5,
          12,
          6,
          5,
          21,
          5,
          5,
          7,
          12,
          6,
          5,
          11,
          12,
          14,
          6,
          7,
          5,
          5,
          5,
          5,
          5,
          9,
          5,
          5,
          5,
          6,
          5,
          5,
          16,
          5,
          8,
          11,
          5,
          10,
          10,
          7,
          8,
          6,
          5,
          5,
          5,
          14,
          5,
          5,
          5,
          19,
          9,
          6,
          5,
          5,
          6,
          5,
          5,
          6,
          18,
          5,
          5,
          7,
          6,
          5,
          8,
          8,
          9,
          10,
          6,
          8,
          5,
          6,
          34,
          7,
          5,
          5,
          9,
          10,
          10,
          5,
          6,
          7,
          7,
          9,
          5,
          6,
          8,
          5,
          10,
          15,
          6,
          7,
          5,
          9,
          7,
          5,
          11,
          9,
          33,
          5,
          6,
          6,
          5,
          11,
          12,
          5,
          5,
          13,
          8,
          5,
          11,
          6,
          7,
          9,
          5,
          5,
          5,
          7,
          6,
          14,
          12,
          8,
          8,
          6,
          5,
          6,
          9,
          6,
          6,
          5,
          5,
          6,
          8,
          5,
          5,
          5,
          5,
          5,
          11,
          5,
          14,
          8,
          17,
          5,
          5,
          10,
          14,
          5,
          6,
          15,
          7,
          22,
          8,
          5,
          5,
          16,
          10,
          6,
          5,
          5,
          5,
          8,
          5,
          6,
          7,
          6,
          5,
          8,
          6,
          5,
          6,
          8,
          5,
          7,
          9,
          5,
          12,
          7,
          6,
          5,
          9,
          5,
          7,
          11,
          6,
          8,
          5,
          7,
          5,
          5,
          8,
          5,
          8,
          7,
          14,
          5,
          5,
          5,
          6,
          22,
          11,
          8,
          5,
          5,
          10,
          6,
          5,
          6,
          5,
          7,
          6,
          8,
          6,
          11,
          5,
          6,
          7,
          9,
          22,
          8,
          6,
          8,
          5,
          5,
          6,
          9,
          7,
          5,
          13,
          9,
          5,
          6,
          5,
          5,
          10,
          6,
          6,
          15,
          11,
          6,
          5,
          6,
          34,
          17,
          7,
          5,
          5,
          5,
          16,
          5,
          9,
          5,
          8,
          5,
          5,
          5,
          8,
          5,
          5,
          5,
          5,
          7,
          6,
          16,
          10,
          5,
          6,
          10,
          6,
          8,
          5,
          7,
          8,
          5,
          13,
          7,
          10,
          8,
          5,
          8,
          5,
          6,
          11,
          9,
          7,
          9,
          5,
          25,
          5,
          8,
          7,
          5,
          8,
          5,
          6,
          9,
          31,
          5,
          7,
          8,
          7,
          7,
          5,
          35,
          5,
          12,
          5,
          16,
          11,
          7,
          7,
          6,
          5,
          5,
          8,
          9,
          6,
          8,
          5,
          5,
          6,
          14,
          8,
          5,
          6,
          6,
          8,
          5,
          22,
          5,
          7,
          8,
          10,
          6,
          10,
          8,
          11,
          5,
          7,
          12,
          7,
          5,
          5,
          7,
          5,
          5,
          5,
          5,
          6,
          5,
          26,
          11,
          11,
          5,
          5,
          5,
          5,
          5,
          7,
          5,
          5,
          17,
          5,
          7,
          5,
          5,
          5,
          10,
          6,
          27,
          5,
          5,
          5,
          8,
          11,
          5,
          8,
          9,
          7,
          6,
          5,
          6,
          8,
          5,
          9,
          6,
          6,
          7,
          5,
          5,
          5,
          6,
          6,
          5,
          9,
          5,
          5,
          6,
          7,
          5,
          6,
          5,
          5,
          6,
          5,
          6,
          5,
          7,
          8,
          10,
          6,
          7,
          5,
          5,
          21,
          5,
          5,
          5,
          13,
          5,
          7,
          6,
          5,
          11,
          6,
          9,
          9,
          5,
          5,
          5,
          7,
          5,
          6,
          5,
          19,
          9,
          5,
          5,
          5,
          6,
          43,
          22,
          5,
          6,
          7,
          8,
          7,
          7,
          5,
          5,
          5,
          13,
          6,
          10,
          5,
          6,
          5,
          6,
          5,
          8,
          12,
          8,
          5,
          15,
          9,
          6,
          8,
          11,
          11,
          5,
          6,
          9,
          5,
          6,
          6,
          5,
          8,
          7,
          6,
          6,
          5,
          8,
          12,
          5,
          6,
          14,
          5,
          6,
          15,
          5,
          5,
          6,
          7,
          5,
          6,
          19,
          5,
          5,
          10,
          5,
          5,
          6,
          5,
          11,
          8,
          6,
          5,
          11,
          7,
          6,
          6,
          5,
          7,
          5,
          8,
          15,
          7,
          10,
          8,
          5,
          5,
          9,
          33,
          17,
          6,
          10,
          7,
          8,
          34,
          15,
          5,
          5,
          5,
          5,
          5,
          5,
          6,
          5,
          5,
          9,
          8,
          9,
          5,
          8,
          5,
          5,
          5,
          5,
          7,
          6,
          10,
          6,
          15,
          7,
          5,
          8,
          5,
          8,
          13,
          5,
          7,
          6,
          11,
          6,
          7,
          7,
          7,
          15,
          6,
          12,
          7,
          5,
          8,
          10,
          7,
          6,
          5,
          13,
          5,
          17,
          15,
          5,
          18,
          6,
          12,
          5,
          6,
          8,
          10,
          7,
          13,
          21,
          5,
          33,
          5,
          11,
          11,
          15,
          6,
          6,
          7,
          6,
          7,
          5,
          26,
          5,
          18,
          5,
          6,
          5,
          12,
          6,
          7,
          6,
          5,
          7,
          6,
          6,
          5,
          10,
          13,
          5,
          5,
          8,
          6,
          5,
          7,
          7,
          6,
          11,
          9,
          5,
          7,
          6,
          5,
          9,
          5,
          7,
          7,
          6,
          5,
          12,
          6,
          7,
          8,
          5,
          5,
          6,
          7,
          15,
          6,
          6,
          6,
          9,
          5,
          6,
          8,
          5,
          5,
          16,
          6,
          7,
          5,
          8,
          5,
          7,
          13,
          6,
          6,
          9,
          5,
          5,
          6,
          7,
          6,
          7,
          6,
          5,
          6,
          7,
          8,
          5,
          8,
          5,
          5,
          5,
          17,
          7,
          5,
          14,
          8,
          6,
          14,
          5,
          6,
          6,
          6,
          5,
          7,
          5,
          5,
          5,
          8,
          7,
          5,
          11,
          5,
          5,
          11,
          5,
          5,
          40,
          15,
          8,
          5,
          5,
          5,
          7,
          5,
          6,
          5,
          6,
          6,
          5,
          5,
          6,
          6,
          12,
          5,
          5,
          9,
          8,
          6,
          11,
          15,
          14,
          6,
          5,
          8,
          9,
          7,
          6,
          16,
          7,
          5,
          7,
          13,
          12,
          6,
          7,
          6,
          8,
          5,
          7,
          5,
          8,
          9,
          5,
          5,
          5,
          9,
          7,
          9,
          7,
          5,
          8,
          12,
          10,
          8,
          6,
          5,
          17,
          5,
          7,
          5,
          5,
          9,
          5,
          6,
          5,
          6,
          7,
          6,
          7,
          13,
          14,
          24,
          5,
          13,
          8,
          10,
          7,
          5,
          5,
          6,
          5,
          7,
          7,
          5,
          11,
          5,
          5,
          5,
          7,
          6,
          7,
          6,
          10,
          6,
          10,
          9,
          5,
          18,
          6,
          5,
          6,
          15,
          5,
          5,
          7,
          5,
          6,
          5,
          5,
          5,
          6,
          8,
          5,
          6,
          5,
          8,
          5,
          5,
          5,
          34,
          7,
          5,
          5,
          7,
          10,
          6,
          5,
          6,
          5,
          10,
          10,
          8,
          11,
          5,
          6,
          10,
          7,
          5,
          5,
          5,
          5,
          11,
          5,
          8,
          7,
          6,
          10,
          13,
          8,
          5,
          8,
          6,
          5,
          5,
          6,
          8,
          5,
          8,
          5,
          8,
          6,
          6,
          8,
          5,
          13,
          7,
          6,
          6,
          6,
          6,
          5,
          5,
          5,
          5,
          5,
          5,
          6,
          5,
          6,
          22,
          5,
          8,
          5,
          8,
          6,
          6,
          12,
          21,
          5,
          7,
          5,
          6,
          5,
          5,
          10,
          7,
          6,
          9,
          5,
          5,
          6,
          5,
          10,
          5,
          12,
          8,
          8,
          10,
          5,
          5,
          31,
          7,
          10,
          5,
          5,
          5,
          5,
          5,
          6,
          10,
          5,
          5,
          10,
          5,
          12,
          6,
          9,
          5,
          6,
          8,
          5,
          6,
          20,
          8,
          10,
          6,
          5,
          5,
          7,
          14,
          6,
          5,
          8,
          5,
          18,
          16,
          6,
          7,
          5,
          8,
          5,
          6,
          6,
          5,
          6,
          5,
          6,
          6,
          5,
          5,
          8,
          5,
          6,
          5,
          8,
          6,
          8,
          6,
          21,
          26,
          12,
          5,
          9,
          6,
          5,
          5,
          5,
          6,
          8,
          6,
          17,
          6,
          7,
          5,
          5,
          7,
          8,
          5,
          24,
          6,
          5
         ],
         "xbins": {
          "size": 2,
          "start": 0
         }
        }
       ],
       "layout": {
        "bargap": 0.2,
        "template": {
         "data": {
          "bar": [
           {
            "error_x": {
             "color": "#2a3f5f"
            },
            "error_y": {
             "color": "#2a3f5f"
            },
            "marker": {
             "line": {
              "color": "#E5ECF6",
              "width": 0.5
             }
            },
            "type": "bar"
           }
          ],
          "barpolar": [
           {
            "marker": {
             "line": {
              "color": "#E5ECF6",
              "width": 0.5
             }
            },
            "type": "barpolar"
           }
          ],
          "carpet": [
           {
            "aaxis": {
             "endlinecolor": "#2a3f5f",
             "gridcolor": "white",
             "linecolor": "white",
             "minorgridcolor": "white",
             "startlinecolor": "#2a3f5f"
            },
            "baxis": {
             "endlinecolor": "#2a3f5f",
             "gridcolor": "white",
             "linecolor": "white",
             "minorgridcolor": "white",
             "startlinecolor": "#2a3f5f"
            },
            "type": "carpet"
           }
          ],
          "choropleth": [
           {
            "colorbar": {
             "outlinewidth": 0,
             "ticks": ""
            },
            "type": "choropleth"
           }
          ],
          "contour": [
           {
            "colorbar": {
             "outlinewidth": 0,
             "ticks": ""
            },
            "colorscale": [
             [
              0,
              "#0d0887"
             ],
             [
              0.1111111111111111,
              "#46039f"
             ],
             [
              0.2222222222222222,
              "#7201a8"
             ],
             [
              0.3333333333333333,
              "#9c179e"
             ],
             [
              0.4444444444444444,
              "#bd3786"
             ],
             [
              0.5555555555555556,
              "#d8576b"
             ],
             [
              0.6666666666666666,
              "#ed7953"
             ],
             [
              0.7777777777777778,
              "#fb9f3a"
             ],
             [
              0.8888888888888888,
              "#fdca26"
             ],
             [
              1,
              "#f0f921"
             ]
            ],
            "type": "contour"
           }
          ],
          "contourcarpet": [
           {
            "colorbar": {
             "outlinewidth": 0,
             "ticks": ""
            },
            "type": "contourcarpet"
           }
          ],
          "heatmap": [
           {
            "colorbar": {
             "outlinewidth": 0,
             "ticks": ""
            },
            "colorscale": [
             [
              0,
              "#0d0887"
             ],
             [
              0.1111111111111111,
              "#46039f"
             ],
             [
              0.2222222222222222,
              "#7201a8"
             ],
             [
              0.3333333333333333,
              "#9c179e"
             ],
             [
              0.4444444444444444,
              "#bd3786"
             ],
             [
              0.5555555555555556,
              "#d8576b"
             ],
             [
              0.6666666666666666,
              "#ed7953"
             ],
             [
              0.7777777777777778,
              "#fb9f3a"
             ],
             [
              0.8888888888888888,
              "#fdca26"
             ],
             [
              1,
              "#f0f921"
             ]
            ],
            "type": "heatmap"
           }
          ],
          "heatmapgl": [
           {
            "colorbar": {
             "outlinewidth": 0,
             "ticks": ""
            },
            "colorscale": [
             [
              0,
              "#0d0887"
             ],
             [
              0.1111111111111111,
              "#46039f"
             ],
             [
              0.2222222222222222,
              "#7201a8"
             ],
             [
              0.3333333333333333,
              "#9c179e"
             ],
             [
              0.4444444444444444,
              "#bd3786"
             ],
             [
              0.5555555555555556,
              "#d8576b"
             ],
             [
              0.6666666666666666,
              "#ed7953"
             ],
             [
              0.7777777777777778,
              "#fb9f3a"
             ],
             [
              0.8888888888888888,
              "#fdca26"
             ],
             [
              1,
              "#f0f921"
             ]
            ],
            "type": "heatmapgl"
           }
          ],
          "histogram": [
           {
            "marker": {
             "colorbar": {
              "outlinewidth": 0,
              "ticks": ""
             }
            },
            "type": "histogram"
           }
          ],
          "histogram2d": [
           {
            "colorbar": {
             "outlinewidth": 0,
             "ticks": ""
            },
            "colorscale": [
             [
              0,
              "#0d0887"
             ],
             [
              0.1111111111111111,
              "#46039f"
             ],
             [
              0.2222222222222222,
              "#7201a8"
             ],
             [
              0.3333333333333333,
              "#9c179e"
             ],
             [
              0.4444444444444444,
              "#bd3786"
             ],
             [
              0.5555555555555556,
              "#d8576b"
             ],
             [
              0.6666666666666666,
              "#ed7953"
             ],
             [
              0.7777777777777778,
              "#fb9f3a"
             ],
             [
              0.8888888888888888,
              "#fdca26"
             ],
             [
              1,
              "#f0f921"
             ]
            ],
            "type": "histogram2d"
           }
          ],
          "histogram2dcontour": [
           {
            "colorbar": {
             "outlinewidth": 0,
             "ticks": ""
            },
            "colorscale": [
             [
              0,
              "#0d0887"
             ],
             [
              0.1111111111111111,
              "#46039f"
             ],
             [
              0.2222222222222222,
              "#7201a8"
             ],
             [
              0.3333333333333333,
              "#9c179e"
             ],
             [
              0.4444444444444444,
              "#bd3786"
             ],
             [
              0.5555555555555556,
              "#d8576b"
             ],
             [
              0.6666666666666666,
              "#ed7953"
             ],
             [
              0.7777777777777778,
              "#fb9f3a"
             ],
             [
              0.8888888888888888,
              "#fdca26"
             ],
             [
              1,
              "#f0f921"
             ]
            ],
            "type": "histogram2dcontour"
           }
          ],
          "mesh3d": [
           {
            "colorbar": {
             "outlinewidth": 0,
             "ticks": ""
            },
            "type": "mesh3d"
           }
          ],
          "parcoords": [
           {
            "line": {
             "colorbar": {
              "outlinewidth": 0,
              "ticks": ""
             }
            },
            "type": "parcoords"
           }
          ],
          "pie": [
           {
            "automargin": true,
            "type": "pie"
           }
          ],
          "scatter": [
           {
            "marker": {
             "colorbar": {
              "outlinewidth": 0,
              "ticks": ""
             }
            },
            "type": "scatter"
           }
          ],
          "scatter3d": [
           {
            "line": {
             "colorbar": {
              "outlinewidth": 0,
              "ticks": ""
             }
            },
            "marker": {
             "colorbar": {
              "outlinewidth": 0,
              "ticks": ""
             }
            },
            "type": "scatter3d"
           }
          ],
          "scattercarpet": [
           {
            "marker": {
             "colorbar": {
              "outlinewidth": 0,
              "ticks": ""
             }
            },
            "type": "scattercarpet"
           }
          ],
          "scattergeo": [
           {
            "marker": {
             "colorbar": {
              "outlinewidth": 0,
              "ticks": ""
             }
            },
            "type": "scattergeo"
           }
          ],
          "scattergl": [
           {
            "marker": {
             "colorbar": {
              "outlinewidth": 0,
              "ticks": ""
             }
            },
            "type": "scattergl"
           }
          ],
          "scattermapbox": [
           {
            "marker": {
             "colorbar": {
              "outlinewidth": 0,
              "ticks": ""
             }
            },
            "type": "scattermapbox"
           }
          ],
          "scatterpolar": [
           {
            "marker": {
             "colorbar": {
              "outlinewidth": 0,
              "ticks": ""
             }
            },
            "type": "scatterpolar"
           }
          ],
          "scatterpolargl": [
           {
            "marker": {
             "colorbar": {
              "outlinewidth": 0,
              "ticks": ""
             }
            },
            "type": "scatterpolargl"
           }
          ],
          "scatterternary": [
           {
            "marker": {
             "colorbar": {
              "outlinewidth": 0,
              "ticks": ""
             }
            },
            "type": "scatterternary"
           }
          ],
          "surface": [
           {
            "colorbar": {
             "outlinewidth": 0,
             "ticks": ""
            },
            "colorscale": [
             [
              0,
              "#0d0887"
             ],
             [
              0.1111111111111111,
              "#46039f"
             ],
             [
              0.2222222222222222,
              "#7201a8"
             ],
             [
              0.3333333333333333,
              "#9c179e"
             ],
             [
              0.4444444444444444,
              "#bd3786"
             ],
             [
              0.5555555555555556,
              "#d8576b"
             ],
             [
              0.6666666666666666,
              "#ed7953"
             ],
             [
              0.7777777777777778,
              "#fb9f3a"
             ],
             [
              0.8888888888888888,
              "#fdca26"
             ],
             [
              1,
              "#f0f921"
             ]
            ],
            "type": "surface"
           }
          ],
          "table": [
           {
            "cells": {
             "fill": {
              "color": "#EBF0F8"
             },
             "line": {
              "color": "white"
             }
            },
            "header": {
             "fill": {
              "color": "#C8D4E3"
             },
             "line": {
              "color": "white"
             }
            },
            "type": "table"
           }
          ]
         },
         "layout": {
          "annotationdefaults": {
           "arrowcolor": "#2a3f5f",
           "arrowhead": 0,
           "arrowwidth": 1
          },
          "coloraxis": {
           "colorbar": {
            "outlinewidth": 0,
            "ticks": ""
           }
          },
          "colorscale": {
           "diverging": [
            [
             0,
             "#8e0152"
            ],
            [
             0.1,
             "#c51b7d"
            ],
            [
             0.2,
             "#de77ae"
            ],
            [
             0.3,
             "#f1b6da"
            ],
            [
             0.4,
             "#fde0ef"
            ],
            [
             0.5,
             "#f7f7f7"
            ],
            [
             0.6,
             "#e6f5d0"
            ],
            [
             0.7,
             "#b8e186"
            ],
            [
             0.8,
             "#7fbc41"
            ],
            [
             0.9,
             "#4d9221"
            ],
            [
             1,
             "#276419"
            ]
           ],
           "sequential": [
            [
             0,
             "#0d0887"
            ],
            [
             0.1111111111111111,
             "#46039f"
            ],
            [
             0.2222222222222222,
             "#7201a8"
            ],
            [
             0.3333333333333333,
             "#9c179e"
            ],
            [
             0.4444444444444444,
             "#bd3786"
            ],
            [
             0.5555555555555556,
             "#d8576b"
            ],
            [
             0.6666666666666666,
             "#ed7953"
            ],
            [
             0.7777777777777778,
             "#fb9f3a"
            ],
            [
             0.8888888888888888,
             "#fdca26"
            ],
            [
             1,
             "#f0f921"
            ]
           ],
           "sequentialminus": [
            [
             0,
             "#0d0887"
            ],
            [
             0.1111111111111111,
             "#46039f"
            ],
            [
             0.2222222222222222,
             "#7201a8"
            ],
            [
             0.3333333333333333,
             "#9c179e"
            ],
            [
             0.4444444444444444,
             "#bd3786"
            ],
            [
             0.5555555555555556,
             "#d8576b"
            ],
            [
             0.6666666666666666,
             "#ed7953"
            ],
            [
             0.7777777777777778,
             "#fb9f3a"
            ],
            [
             0.8888888888888888,
             "#fdca26"
            ],
            [
             1,
             "#f0f921"
            ]
           ]
          },
          "colorway": [
           "#636efa",
           "#EF553B",
           "#00cc96",
           "#ab63fa",
           "#FFA15A",
           "#19d3f3",
           "#FF6692",
           "#B6E880",
           "#FF97FF",
           "#FECB52"
          ],
          "font": {
           "color": "#2a3f5f"
          },
          "geo": {
           "bgcolor": "white",
           "lakecolor": "white",
           "landcolor": "#E5ECF6",
           "showlakes": true,
           "showland": true,
           "subunitcolor": "white"
          },
          "hoverlabel": {
           "align": "left"
          },
          "hovermode": "closest",
          "mapbox": {
           "style": "light"
          },
          "paper_bgcolor": "white",
          "plot_bgcolor": "#E5ECF6",
          "polar": {
           "angularaxis": {
            "gridcolor": "white",
            "linecolor": "white",
            "ticks": ""
           },
           "bgcolor": "#E5ECF6",
           "radialaxis": {
            "gridcolor": "white",
            "linecolor": "white",
            "ticks": ""
           }
          },
          "scene": {
           "xaxis": {
            "backgroundcolor": "#E5ECF6",
            "gridcolor": "white",
            "gridwidth": 2,
            "linecolor": "white",
            "showbackground": true,
            "ticks": "",
            "zerolinecolor": "white"
           },
           "yaxis": {
            "backgroundcolor": "#E5ECF6",
            "gridcolor": "white",
            "gridwidth": 2,
            "linecolor": "white",
            "showbackground": true,
            "ticks": "",
            "zerolinecolor": "white"
           },
           "zaxis": {
            "backgroundcolor": "#E5ECF6",
            "gridcolor": "white",
            "gridwidth": 2,
            "linecolor": "white",
            "showbackground": true,
            "ticks": "",
            "zerolinecolor": "white"
           }
          },
          "shapedefaults": {
           "line": {
            "color": "#2a3f5f"
           }
          },
          "ternary": {
           "aaxis": {
            "gridcolor": "white",
            "linecolor": "white",
            "ticks": ""
           },
           "baxis": {
            "gridcolor": "white",
            "linecolor": "white",
            "ticks": ""
           },
           "bgcolor": "#E5ECF6",
           "caxis": {
            "gridcolor": "white",
            "linecolor": "white",
            "ticks": ""
           }
          },
          "title": {
           "x": 0.05
          },
          "xaxis": {
           "automargin": true,
           "gridcolor": "white",
           "linecolor": "white",
           "ticks": "",
           "title": {
            "standoff": 15
           },
           "zerolinecolor": "white",
           "zerolinewidth": 2
          },
          "yaxis": {
           "automargin": true,
           "gridcolor": "white",
           "linecolor": "white",
           "ticks": "",
           "title": {
            "standoff": 15
           },
           "zerolinecolor": "white",
           "zerolinewidth": 2
          }
         }
        },
        "title": {
         "text": "Distribution Of Number of Ratings Per User"
        },
        "xaxis": {
         "title": {
          "text": "Ratings Per reviewerID"
         }
        },
        "yaxis": {
         "title": {
          "text": "Count"
         }
        }
       }
      },
      "text/html": [
       "<div>                            <div id=\"0f99b6dd-9e63-44bd-ac65-6d48584e4502\" class=\"plotly-graph-div\" style=\"height:525px; width:100%;\"></div>            <script type=\"text/javascript\">                require([\"plotly\"], function(Plotly) {                    window.PLOTLYENV=window.PLOTLYENV || {};                                    if (document.getElementById(\"0f99b6dd-9e63-44bd-ac65-6d48584e4502\")) {                    Plotly.newPlot(                        \"0f99b6dd-9e63-44bd-ac65-6d48584e4502\",                        [{\"name\": \"Ratings\", \"type\": \"histogram\", \"x\": [66, 7, 5, 14, 8, 5, 7, 6, 5, 6, 7, 8, 16, 6, 6, 5, 6, 22, 13, 7, 30, 5, 9, 5, 7, 5, 5, 5, 8, 6, 6, 8, 5, 11, 9, 6, 10, 6, 9, 5, 7, 8, 8, 6, 7, 5, 5, 5, 5, 8, 9, 5, 5, 10, 8, 5, 6, 6, 9, 6, 5, 11, 8, 10, 7, 5, 7, 5, 5, 7, 7, 5, 5, 6, 5, 10, 11, 10, 8, 13, 5, 11, 5, 5, 5, 5, 10, 6, 7, 7, 7, 5, 8, 5, 24, 5, 18, 9, 5, 5, 5, 6, 7, 11, 6, 5, 5, 9, 5, 5, 5, 7, 6, 5, 6, 10, 5, 5, 7, 5, 6, 11, 6, 37, 9, 18, 5, 10, 20, 5, 5, 8, 8, 10, 5, 7, 9, 21, 5, 9, 5, 6, 7, 9, 6, 6, 18, 6, 6, 5, 6, 9, 13, 15, 10, 7, 5, 8, 5, 5, 6, 10, 5, 10, 6, 17, 5, 6, 6, 14, 7, 11, 5, 21, 5, 32, 9, 13, 5, 5, 7, 7, 18, 5, 6, 5, 5, 5, 5, 5, 10, 8, 6, 7, 7, 7, 8, 9, 5, 10, 5, 11, 5, 5, 5, 6, 5, 7, 5, 7, 5, 22, 6, 7, 8, 7, 9, 5, 7, 5, 8, 5, 5, 5, 5, 5, 7, 9, 8, 10, 16, 7, 6, 11, 8, 5, 10, 9, 5, 6, 9, 5, 9, 5, 5, 6, 11, 5, 5, 8, 5, 14, 5, 8, 5, 7, 5, 5, 6, 5, 5, 7, 6, 11, 6, 9, 7, 5, 6, 5, 5, 8, 6, 9, 9, 9, 10, 9, 32, 5, 5, 5, 5, 5, 12, 6, 5, 9, 18, 5, 9, 6, 5, 17, 6, 8, 11, 6, 5, 20, 5, 5, 20, 6, 9, 7, 11, 6, 8, 7, 8, 8, 5, 7, 5, 5, 5, 6, 20, 6, 5, 5, 6, 5, 14, 8, 5, 5, 5, 10, 5, 7, 5, 11, 7, 7, 15, 6, 13, 20, 6, 5, 20, 13, 5, 5, 7, 6, 5, 5, 5, 7, 11, 5, 10, 5, 5, 21, 23, 5, 15, 5, 7, 6, 5, 7, 10, 18, 10, 6, 5, 12, 13, 8, 8, 5, 14, 5, 14, 5, 5, 5, 6, 5, 38, 9, 10, 5, 5, 5, 7, 6, 10, 7, 6, 6, 19, 6, 11, 11, 22, 5, 6, 7, 7, 5, 5, 7, 9, 8, 7, 8, 8, 6, 23, 5, 5, 9, 5, 11, 8, 24, 5, 8, 19, 6, 5, 5, 8, 8, 35, 8, 5, 8, 11, 25, 5, 5, 5, 8, 5, 5, 5, 5, 5, 5, 7, 6, 5, 5, 5, 5, 6, 11, 6, 5, 7, 7, 12, 5, 5, 9, 19, 5, 8, 5, 8, 15, 6, 19, 6, 13, 7, 7, 5, 8, 10, 11, 5, 16, 8, 5, 6, 5, 7, 12, 16, 5, 5, 12, 16, 6, 7, 6, 10, 5, 6, 5, 5, 5, 9, 43, 8, 5, 5, 9, 12, 5, 5, 5, 6, 5, 6, 5, 6, 7, 6, 20, 8, 6, 6, 6, 5, 5, 5, 10, 5, 8, 6, 9, 7, 13, 5, 9, 5, 5, 5, 5, 5, 5, 8, 5, 5, 7, 5, 5, 6, 6, 5, 9, 10, 5, 13, 8, 7, 6, 5, 5, 8, 13, 10, 5, 6, 12, 8, 6, 5, 5, 6, 5, 10, 8, 11, 6, 7, 11, 5, 6, 6, 10, 8, 6, 8, 5, 5, 12, 5, 5, 11, 5, 5, 6, 7, 6, 6, 5, 10, 7, 5, 5, 6, 6, 11, 21, 5, 6, 13, 6, 5, 5, 6, 5, 10, 13, 6, 7, 6, 6, 6, 5, 8, 5, 5, 6, 5, 5, 5, 5, 6, 6, 23, 5, 7, 5, 5, 8, 10, 7, 10, 6, 8, 6, 12, 8, 6, 5, 7, 5, 6, 6, 5, 8, 34, 6, 5, 7, 7, 9, 8, 11, 5, 6, 10, 10, 5, 5, 6, 5, 6, 5, 5, 10, 5, 5, 7, 7, 6, 5, 5, 10, 5, 6, 5, 11, 5, 12, 6, 5, 21, 5, 5, 7, 12, 6, 5, 11, 12, 14, 6, 7, 5, 5, 5, 5, 5, 9, 5, 5, 5, 6, 5, 5, 16, 5, 8, 11, 5, 10, 10, 7, 8, 6, 5, 5, 5, 14, 5, 5, 5, 19, 9, 6, 5, 5, 6, 5, 5, 6, 18, 5, 5, 7, 6, 5, 8, 8, 9, 10, 6, 8, 5, 6, 34, 7, 5, 5, 9, 10, 10, 5, 6, 7, 7, 9, 5, 6, 8, 5, 10, 15, 6, 7, 5, 9, 7, 5, 11, 9, 33, 5, 6, 6, 5, 11, 12, 5, 5, 13, 8, 5, 11, 6, 7, 9, 5, 5, 5, 7, 6, 14, 12, 8, 8, 6, 5, 6, 9, 6, 6, 5, 5, 6, 8, 5, 5, 5, 5, 5, 11, 5, 14, 8, 17, 5, 5, 10, 14, 5, 6, 15, 7, 22, 8, 5, 5, 16, 10, 6, 5, 5, 5, 8, 5, 6, 7, 6, 5, 8, 6, 5, 6, 8, 5, 7, 9, 5, 12, 7, 6, 5, 9, 5, 7, 11, 6, 8, 5, 7, 5, 5, 8, 5, 8, 7, 14, 5, 5, 5, 6, 22, 11, 8, 5, 5, 10, 6, 5, 6, 5, 7, 6, 8, 6, 11, 5, 6, 7, 9, 22, 8, 6, 8, 5, 5, 6, 9, 7, 5, 13, 9, 5, 6, 5, 5, 10, 6, 6, 15, 11, 6, 5, 6, 34, 17, 7, 5, 5, 5, 16, 5, 9, 5, 8, 5, 5, 5, 8, 5, 5, 5, 5, 7, 6, 16, 10, 5, 6, 10, 6, 8, 5, 7, 8, 5, 13, 7, 10, 8, 5, 8, 5, 6, 11, 9, 7, 9, 5, 25, 5, 8, 7, 5, 8, 5, 6, 9, 31, 5, 7, 8, 7, 7, 5, 35, 5, 12, 5, 16, 11, 7, 7, 6, 5, 5, 8, 9, 6, 8, 5, 5, 6, 14, 8, 5, 6, 6, 8, 5, 22, 5, 7, 8, 10, 6, 10, 8, 11, 5, 7, 12, 7, 5, 5, 7, 5, 5, 5, 5, 6, 5, 26, 11, 11, 5, 5, 5, 5, 5, 7, 5, 5, 17, 5, 7, 5, 5, 5, 10, 6, 27, 5, 5, 5, 8, 11, 5, 8, 9, 7, 6, 5, 6, 8, 5, 9, 6, 6, 7, 5, 5, 5, 6, 6, 5, 9, 5, 5, 6, 7, 5, 6, 5, 5, 6, 5, 6, 5, 7, 8, 10, 6, 7, 5, 5, 21, 5, 5, 5, 13, 5, 7, 6, 5, 11, 6, 9, 9, 5, 5, 5, 7, 5, 6, 5, 19, 9, 5, 5, 5, 6, 43, 22, 5, 6, 7, 8, 7, 7, 5, 5, 5, 13, 6, 10, 5, 6, 5, 6, 5, 8, 12, 8, 5, 15, 9, 6, 8, 11, 11, 5, 6, 9, 5, 6, 6, 5, 8, 7, 6, 6, 5, 8, 12, 5, 6, 14, 5, 6, 15, 5, 5, 6, 7, 5, 6, 19, 5, 5, 10, 5, 5, 6, 5, 11, 8, 6, 5, 11, 7, 6, 6, 5, 7, 5, 8, 15, 7, 10, 8, 5, 5, 9, 33, 17, 6, 10, 7, 8, 34, 15, 5, 5, 5, 5, 5, 5, 6, 5, 5, 9, 8, 9, 5, 8, 5, 5, 5, 5, 7, 6, 10, 6, 15, 7, 5, 8, 5, 8, 13, 5, 7, 6, 11, 6, 7, 7, 7, 15, 6, 12, 7, 5, 8, 10, 7, 6, 5, 13, 5, 17, 15, 5, 18, 6, 12, 5, 6, 8, 10, 7, 13, 21, 5, 33, 5, 11, 11, 15, 6, 6, 7, 6, 7, 5, 26, 5, 18, 5, 6, 5, 12, 6, 7, 6, 5, 7, 6, 6, 5, 10, 13, 5, 5, 8, 6, 5, 7, 7, 6, 11, 9, 5, 7, 6, 5, 9, 5, 7, 7, 6, 5, 12, 6, 7, 8, 5, 5, 6, 7, 15, 6, 6, 6, 9, 5, 6, 8, 5, 5, 16, 6, 7, 5, 8, 5, 7, 13, 6, 6, 9, 5, 5, 6, 7, 6, 7, 6, 5, 6, 7, 8, 5, 8, 5, 5, 5, 17, 7, 5, 14, 8, 6, 14, 5, 6, 6, 6, 5, 7, 5, 5, 5, 8, 7, 5, 11, 5, 5, 11, 5, 5, 40, 15, 8, 5, 5, 5, 7, 5, 6, 5, 6, 6, 5, 5, 6, 6, 12, 5, 5, 9, 8, 6, 11, 15, 14, 6, 5, 8, 9, 7, 6, 16, 7, 5, 7, 13, 12, 6, 7, 6, 8, 5, 7, 5, 8, 9, 5, 5, 5, 9, 7, 9, 7, 5, 8, 12, 10, 8, 6, 5, 17, 5, 7, 5, 5, 9, 5, 6, 5, 6, 7, 6, 7, 13, 14, 24, 5, 13, 8, 10, 7, 5, 5, 6, 5, 7, 7, 5, 11, 5, 5, 5, 7, 6, 7, 6, 10, 6, 10, 9, 5, 18, 6, 5, 6, 15, 5, 5, 7, 5, 6, 5, 5, 5, 6, 8, 5, 6, 5, 8, 5, 5, 5, 34, 7, 5, 5, 7, 10, 6, 5, 6, 5, 10, 10, 8, 11, 5, 6, 10, 7, 5, 5, 5, 5, 11, 5, 8, 7, 6, 10, 13, 8, 5, 8, 6, 5, 5, 6, 8, 5, 8, 5, 8, 6, 6, 8, 5, 13, 7, 6, 6, 6, 6, 5, 5, 5, 5, 5, 5, 6, 5, 6, 22, 5, 8, 5, 8, 6, 6, 12, 21, 5, 7, 5, 6, 5, 5, 10, 7, 6, 9, 5, 5, 6, 5, 10, 5, 12, 8, 8, 10, 5, 5, 31, 7, 10, 5, 5, 5, 5, 5, 6, 10, 5, 5, 10, 5, 12, 6, 9, 5, 6, 8, 5, 6, 20, 8, 10, 6, 5, 5, 7, 14, 6, 5, 8, 5, 18, 16, 6, 7, 5, 8, 5, 6, 6, 5, 6, 5, 6, 6, 5, 5, 8, 5, 6, 5, 8, 6, 8, 6, 21, 26, 12, 5, 9, 6, 5, 5, 5, 6, 8, 6, 17, 6, 7, 5, 5, 7, 8, 5, 24, 6, 5], \"xbins\": {\"size\": 2, \"start\": 0}}],                        {\"bargap\": 0.2, \"template\": {\"data\": {\"bar\": [{\"error_x\": {\"color\": \"#2a3f5f\"}, \"error_y\": {\"color\": \"#2a3f5f\"}, \"marker\": {\"line\": {\"color\": \"#E5ECF6\", \"width\": 0.5}}, \"type\": \"bar\"}], \"barpolar\": [{\"marker\": {\"line\": {\"color\": \"#E5ECF6\", \"width\": 0.5}}, \"type\": \"barpolar\"}], \"carpet\": [{\"aaxis\": {\"endlinecolor\": \"#2a3f5f\", \"gridcolor\": \"white\", \"linecolor\": \"white\", \"minorgridcolor\": \"white\", \"startlinecolor\": \"#2a3f5f\"}, \"baxis\": {\"endlinecolor\": \"#2a3f5f\", \"gridcolor\": \"white\", \"linecolor\": \"white\", \"minorgridcolor\": \"white\", \"startlinecolor\": \"#2a3f5f\"}, \"type\": \"carpet\"}], \"choropleth\": [{\"colorbar\": {\"outlinewidth\": 0, \"ticks\": \"\"}, \"type\": \"choropleth\"}], \"contour\": [{\"colorbar\": {\"outlinewidth\": 0, \"ticks\": \"\"}, \"colorscale\": [[0.0, \"#0d0887\"], [0.1111111111111111, \"#46039f\"], [0.2222222222222222, \"#7201a8\"], [0.3333333333333333, \"#9c179e\"], [0.4444444444444444, \"#bd3786\"], [0.5555555555555556, \"#d8576b\"], [0.6666666666666666, \"#ed7953\"], [0.7777777777777778, \"#fb9f3a\"], [0.8888888888888888, \"#fdca26\"], [1.0, \"#f0f921\"]], \"type\": \"contour\"}], \"contourcarpet\": [{\"colorbar\": {\"outlinewidth\": 0, \"ticks\": \"\"}, \"type\": \"contourcarpet\"}], \"heatmap\": [{\"colorbar\": {\"outlinewidth\": 0, \"ticks\": \"\"}, \"colorscale\": [[0.0, \"#0d0887\"], [0.1111111111111111, \"#46039f\"], [0.2222222222222222, \"#7201a8\"], [0.3333333333333333, \"#9c179e\"], [0.4444444444444444, \"#bd3786\"], [0.5555555555555556, \"#d8576b\"], [0.6666666666666666, \"#ed7953\"], [0.7777777777777778, \"#fb9f3a\"], [0.8888888888888888, \"#fdca26\"], [1.0, \"#f0f921\"]], \"type\": \"heatmap\"}], \"heatmapgl\": [{\"colorbar\": {\"outlinewidth\": 0, \"ticks\": \"\"}, \"colorscale\": [[0.0, \"#0d0887\"], [0.1111111111111111, \"#46039f\"], [0.2222222222222222, \"#7201a8\"], [0.3333333333333333, \"#9c179e\"], [0.4444444444444444, \"#bd3786\"], [0.5555555555555556, \"#d8576b\"], [0.6666666666666666, \"#ed7953\"], [0.7777777777777778, \"#fb9f3a\"], [0.8888888888888888, \"#fdca26\"], [1.0, \"#f0f921\"]], \"type\": \"heatmapgl\"}], \"histogram\": [{\"marker\": {\"colorbar\": {\"outlinewidth\": 0, \"ticks\": \"\"}}, \"type\": \"histogram\"}], \"histogram2d\": [{\"colorbar\": {\"outlinewidth\": 0, \"ticks\": \"\"}, \"colorscale\": [[0.0, \"#0d0887\"], [0.1111111111111111, \"#46039f\"], [0.2222222222222222, \"#7201a8\"], [0.3333333333333333, \"#9c179e\"], [0.4444444444444444, \"#bd3786\"], [0.5555555555555556, \"#d8576b\"], [0.6666666666666666, \"#ed7953\"], [0.7777777777777778, \"#fb9f3a\"], [0.8888888888888888, \"#fdca26\"], [1.0, \"#f0f921\"]], \"type\": \"histogram2d\"}], \"histogram2dcontour\": [{\"colorbar\": {\"outlinewidth\": 0, \"ticks\": \"\"}, \"colorscale\": [[0.0, \"#0d0887\"], [0.1111111111111111, \"#46039f\"], [0.2222222222222222, \"#7201a8\"], [0.3333333333333333, \"#9c179e\"], [0.4444444444444444, \"#bd3786\"], [0.5555555555555556, \"#d8576b\"], [0.6666666666666666, \"#ed7953\"], [0.7777777777777778, \"#fb9f3a\"], [0.8888888888888888, \"#fdca26\"], [1.0, \"#f0f921\"]], \"type\": \"histogram2dcontour\"}], \"mesh3d\": [{\"colorbar\": {\"outlinewidth\": 0, \"ticks\": \"\"}, \"type\": \"mesh3d\"}], \"parcoords\": [{\"line\": {\"colorbar\": {\"outlinewidth\": 0, \"ticks\": \"\"}}, \"type\": \"parcoords\"}], \"pie\": [{\"automargin\": true, \"type\": \"pie\"}], \"scatter\": [{\"marker\": {\"colorbar\": {\"outlinewidth\": 0, \"ticks\": \"\"}}, \"type\": \"scatter\"}], \"scatter3d\": [{\"line\": {\"colorbar\": {\"outlinewidth\": 0, \"ticks\": \"\"}}, \"marker\": {\"colorbar\": {\"outlinewidth\": 0, \"ticks\": \"\"}}, \"type\": \"scatter3d\"}], \"scattercarpet\": [{\"marker\": {\"colorbar\": {\"outlinewidth\": 0, \"ticks\": \"\"}}, \"type\": \"scattercarpet\"}], \"scattergeo\": [{\"marker\": {\"colorbar\": {\"outlinewidth\": 0, \"ticks\": \"\"}}, \"type\": \"scattergeo\"}], \"scattergl\": [{\"marker\": {\"colorbar\": {\"outlinewidth\": 0, \"ticks\": \"\"}}, \"type\": \"scattergl\"}], \"scattermapbox\": [{\"marker\": {\"colorbar\": {\"outlinewidth\": 0, \"ticks\": \"\"}}, \"type\": \"scattermapbox\"}], \"scatterpolar\": [{\"marker\": {\"colorbar\": {\"outlinewidth\": 0, \"ticks\": \"\"}}, \"type\": \"scatterpolar\"}], \"scatterpolargl\": [{\"marker\": {\"colorbar\": {\"outlinewidth\": 0, \"ticks\": \"\"}}, \"type\": \"scatterpolargl\"}], \"scatterternary\": [{\"marker\": {\"colorbar\": {\"outlinewidth\": 0, \"ticks\": \"\"}}, \"type\": \"scatterternary\"}], \"surface\": [{\"colorbar\": {\"outlinewidth\": 0, \"ticks\": \"\"}, \"colorscale\": [[0.0, \"#0d0887\"], [0.1111111111111111, \"#46039f\"], [0.2222222222222222, \"#7201a8\"], [0.3333333333333333, \"#9c179e\"], [0.4444444444444444, \"#bd3786\"], [0.5555555555555556, \"#d8576b\"], [0.6666666666666666, \"#ed7953\"], [0.7777777777777778, \"#fb9f3a\"], [0.8888888888888888, \"#fdca26\"], [1.0, \"#f0f921\"]], \"type\": \"surface\"}], \"table\": [{\"cells\": {\"fill\": {\"color\": \"#EBF0F8\"}, \"line\": {\"color\": \"white\"}}, \"header\": {\"fill\": {\"color\": \"#C8D4E3\"}, \"line\": {\"color\": \"white\"}}, \"type\": \"table\"}]}, \"layout\": {\"annotationdefaults\": {\"arrowcolor\": \"#2a3f5f\", \"arrowhead\": 0, \"arrowwidth\": 1}, \"coloraxis\": {\"colorbar\": {\"outlinewidth\": 0, \"ticks\": \"\"}}, \"colorscale\": {\"diverging\": [[0, \"#8e0152\"], [0.1, \"#c51b7d\"], [0.2, \"#de77ae\"], [0.3, \"#f1b6da\"], [0.4, \"#fde0ef\"], [0.5, \"#f7f7f7\"], [0.6, \"#e6f5d0\"], [0.7, \"#b8e186\"], [0.8, \"#7fbc41\"], [0.9, \"#4d9221\"], [1, \"#276419\"]], \"sequential\": [[0.0, \"#0d0887\"], [0.1111111111111111, \"#46039f\"], [0.2222222222222222, \"#7201a8\"], [0.3333333333333333, \"#9c179e\"], [0.4444444444444444, \"#bd3786\"], [0.5555555555555556, \"#d8576b\"], [0.6666666666666666, \"#ed7953\"], [0.7777777777777778, \"#fb9f3a\"], [0.8888888888888888, \"#fdca26\"], [1.0, \"#f0f921\"]], \"sequentialminus\": [[0.0, \"#0d0887\"], [0.1111111111111111, \"#46039f\"], [0.2222222222222222, \"#7201a8\"], [0.3333333333333333, \"#9c179e\"], [0.4444444444444444, \"#bd3786\"], [0.5555555555555556, \"#d8576b\"], [0.6666666666666666, \"#ed7953\"], [0.7777777777777778, \"#fb9f3a\"], [0.8888888888888888, \"#fdca26\"], [1.0, \"#f0f921\"]]}, \"colorway\": [\"#636efa\", \"#EF553B\", \"#00cc96\", \"#ab63fa\", \"#FFA15A\", \"#19d3f3\", \"#FF6692\", \"#B6E880\", \"#FF97FF\", \"#FECB52\"], \"font\": {\"color\": \"#2a3f5f\"}, \"geo\": {\"bgcolor\": \"white\", \"lakecolor\": \"white\", \"landcolor\": \"#E5ECF6\", \"showlakes\": true, \"showland\": true, \"subunitcolor\": \"white\"}, \"hoverlabel\": {\"align\": \"left\"}, \"hovermode\": \"closest\", \"mapbox\": {\"style\": \"light\"}, \"paper_bgcolor\": \"white\", \"plot_bgcolor\": \"#E5ECF6\", \"polar\": {\"angularaxis\": {\"gridcolor\": \"white\", \"linecolor\": \"white\", \"ticks\": \"\"}, \"bgcolor\": \"#E5ECF6\", \"radialaxis\": {\"gridcolor\": \"white\", \"linecolor\": \"white\", \"ticks\": \"\"}}, \"scene\": {\"xaxis\": {\"backgroundcolor\": \"#E5ECF6\", \"gridcolor\": \"white\", \"gridwidth\": 2, \"linecolor\": \"white\", \"showbackground\": true, \"ticks\": \"\", \"zerolinecolor\": \"white\"}, \"yaxis\": {\"backgroundcolor\": \"#E5ECF6\", \"gridcolor\": \"white\", \"gridwidth\": 2, \"linecolor\": \"white\", \"showbackground\": true, \"ticks\": \"\", \"zerolinecolor\": \"white\"}, \"zaxis\": {\"backgroundcolor\": \"#E5ECF6\", \"gridcolor\": \"white\", \"gridwidth\": 2, \"linecolor\": \"white\", \"showbackground\": true, \"ticks\": \"\", \"zerolinecolor\": \"white\"}}, \"shapedefaults\": {\"line\": {\"color\": \"#2a3f5f\"}}, \"ternary\": {\"aaxis\": {\"gridcolor\": \"white\", \"linecolor\": \"white\", \"ticks\": \"\"}, \"baxis\": {\"gridcolor\": \"white\", \"linecolor\": \"white\", \"ticks\": \"\"}, \"bgcolor\": \"#E5ECF6\", \"caxis\": {\"gridcolor\": \"white\", \"linecolor\": \"white\", \"ticks\": \"\"}}, \"title\": {\"x\": 0.05}, \"xaxis\": {\"automargin\": true, \"gridcolor\": \"white\", \"linecolor\": \"white\", \"ticks\": \"\", \"title\": {\"standoff\": 15}, \"zerolinecolor\": \"white\", \"zerolinewidth\": 2}, \"yaxis\": {\"automargin\": true, \"gridcolor\": \"white\", \"linecolor\": \"white\", \"ticks\": \"\", \"title\": {\"standoff\": 15}, \"zerolinecolor\": \"white\", \"zerolinewidth\": 2}}}, \"title\": {\"text\": \"Distribution Of Number of Ratings Per User\"}, \"xaxis\": {\"title\": {\"text\": \"Ratings Per reviewerID\"}}, \"yaxis\": {\"title\": {\"text\": \"Count\"}}},                        {\"responsive\": true}                    ).then(function(){\n",
       "                            \n",
       "var gd = document.getElementById('0f99b6dd-9e63-44bd-ac65-6d48584e4502');\n",
       "var x = new MutationObserver(function (mutations, observer) {{\n",
       "        var display = window.getComputedStyle(gd).display;\n",
       "        if (!display || display === 'none') {{\n",
       "            console.log([gd, 'removed!']);\n",
       "            Plotly.purge(gd);\n",
       "            observer.disconnect();\n",
       "        }}\n",
       "}});\n",
       "\n",
       "// Listen for the removal of the full notebook cells\n",
       "var notebookContainer = gd.closest('#notebook-container');\n",
       "if (notebookContainer) {{\n",
       "    x.observe(notebookContainer, {childList: true});\n",
       "}}\n",
       "\n",
       "// Listen for the clearing of the current output cell\n",
       "var outputEl = gd.closest('.output');\n",
       "if (outputEl) {{\n",
       "    x.observe(outputEl, {childList: true});\n",
       "}}\n",
       "\n",
       "                        })                };                });            </script>        </div>"
      ]
     },
     "metadata": {},
     "output_type": "display_data"
    }
   ],
   "source": [
    "# Number of ratings per reviewer\n",
    "data = df.groupby('reviewerID')['overall'].count()\n",
    "\n",
    "# Create trace\n",
    "trace = go.Histogram(x = data.values,\n",
    "                     name = 'Ratings',\n",
    "                     xbins = dict(start = 0, size = 2))\n",
    "# Create layout\n",
    "layout = go.Layout(title = 'Distribution Of Number of Ratings Per User',\n",
    "                   xaxis = dict(title = 'Ratings Per reviewerID'),\n",
    "                   yaxis = dict(title = 'Count'),\n",
    "                   bargap = 0.2)\n",
    "\n",
    "# Create plot\n",
    "fig = go.Figure(data=[trace], layout=layout)\n",
    "iplot(fig)"
   ]
  },
  {
   "cell_type": "markdown",
   "metadata": {},
   "source": [
    "# Managing data with Surprise\n",
    "\n",
    "Below the dataset was converted to the format required by the Surprise library. \n",
    "To load a data set from the above pandas data frame, we will use the *load_from_df()* method, we will also need a Reader object, and the rating_scale parameter must be specified. The data frame has three columns, corresponding to the user id (reviewerID), the item id (asin), and the ratings (overall) in this order. Each row thus corresponds to a given rating."
   ]
  },
  {
   "cell_type": "code",
   "execution_count": 13,
   "metadata": {},
   "outputs": [],
   "source": [
    "from surprise import Dataset\n",
    "from surprise import Reader\n",
    "\n",
    "reader = Reader(rating_scale=(1, 5))\n",
    "data = Dataset.load_from_df(df[['reviewerID', 'asin', 'overall']], reader)"
   ]
  },
  {
   "cell_type": "code",
   "execution_count": 14,
   "metadata": {},
   "outputs": [],
   "source": [
    "import numpy as np\n",
    "from sklearn.model_selection import train_test_split\n",
    "\n",
    "# df2 = df.iloc[:30000, :]\n",
    "# df2 = df2.groupby('reviewerID').filter(lambda x: len(x) >= 5)\n",
    "data_train, data_test = train_test_split(df, test_size=0.20, random_state=42, stratify=df['reviewerID'])"
   ]
  },
  {
   "cell_type": "code",
   "execution_count": 16,
   "metadata": {},
   "outputs": [],
   "source": [
    "from surprise import Dataset\n",
    "from surprise import Reader\n",
    "reader = Reader(rating_scale=(1, 5))\n",
    "data_train_cf = Dataset.load_from_df(data_train[['reviewerID', 'asin', 'overall']], reader)\n",
    "data_test_cf = Dataset.load_from_df(data_test[['reviewerID', 'asin', 'overall']], reader)"
   ]
  },
  {
   "cell_type": "markdown",
   "metadata": {},
   "source": [
    "# First Try: Neighbourhood-based Collaborative Filtering\n",
    "\n",
    "Here we are using one of the simplest recommendation methodologies (Neighbourhood-based CF). This technique is pretty simple and fast, but it provides accurate results for many scenarios.\n",
    "\n",
    "To specify the parameters of the execution, you simply have to configure the function by passing a dictionary as an argument to the recommender function. The dictionary should have the required keys, such as the following:\n",
    "\n",
    "- **name** contains the similarity metric to use. Options are cosine, msd, pearson, or pearson_baseline. The default is msd.\n",
    "- **user_based** is a boolean that tells whether the approach will be user-based or item-based. The default is True, which means the user-based approach will be used.\n",
    "- **min_support** is the minimum number of common items needed between users to consider them for similarity. For the item-based approach, this corresponds to the minimum number of common users for two items.\n",
    "    \n",
    "In particular, I will use the cosine distance as similarity metric for finding the neighbours, using the item-based approach"
   ]
  },
  {
   "cell_type": "code",
   "execution_count": 21,
   "metadata": {},
   "outputs": [],
   "source": [
    "from surprise import KNNBaseline\n",
    "\n",
    "# To use item-based cosine similarity\n",
    "sim_options = {\n",
    "    \"name\": \"cosine\",\n",
    "    \"user_based\": False,  # Compute  similarities between items\n",
    "}\n",
    "knn = KNNBaseline(sim_options=sim_options)"
   ]
  },
  {
   "cell_type": "raw",
   "metadata": {},
   "source": [
    "Here we are testing it."
   ]
  },
  {
   "cell_type": "code",
   "execution_count": 22,
   "metadata": {},
   "outputs": [
    {
     "name": "stdout",
     "output_type": "stream",
     "text": [
      "Estimating biases using als...\n",
      "Computing the cosine similarity matrix...\n",
      "Done computing similarity matrix.\n",
      "Estimating biases using als...\n",
      "Computing the cosine similarity matrix...\n",
      "Done computing similarity matrix.\n",
      "Estimating biases using als...\n",
      "Computing the cosine similarity matrix...\n",
      "Done computing similarity matrix.\n",
      "Evaluating RMSE of algorithm KNNBaseline on 3 split(s).\n",
      "\n",
      "                  Fold 1  Fold 2  Fold 3  Mean    Std     \n",
      "RMSE (testset)    1.0786  1.0839  1.0480  1.0702  0.0158  \n",
      "Fit time          0.05    0.04    0.05    0.05    0.01    \n",
      "Test time         0.09    0.06    0.05    0.07    0.02    \n"
     ]
    }
   ],
   "source": [
    "from surprise.model_selection import cross_validate\n",
    "\n",
    "results = cross_validate(knn, data, measures=['RMSE'], cv=3, verbose=True)"
   ]
  },
  {
   "cell_type": "markdown",
   "metadata": {},
   "source": [
    "The RMSE is about 1.08 (i.e., the average error between the predicted and the actual ratings). \n",
    "\n",
    "In order to actually understand the value of these results,we need to compare them to a very simple baseline approach implementing whatever logic or business rule you consider valid. For example: randomly recommend from the 10 most common books. "
   ]
  },
  {
   "cell_type": "code",
   "execution_count": 23,
   "metadata": {},
   "outputs": [
    {
     "name": "stdout",
     "output_type": "stream",
     "text": [
      "Evaluating RMSE of algorithm NormalPredictor on 3 split(s).\n",
      "\n",
      "                  Fold 1  Fold 2  Fold 3  Mean    Std     \n",
      "RMSE (testset)    1.4273  1.3910  1.4055  1.4079  0.0149  \n",
      "Fit time          0.01    0.01    0.02    0.01    0.00    \n",
      "Test time         0.02    0.00    0.02    0.01    0.01    \n"
     ]
    },
    {
     "data": {
      "text/plain": [
       "{'test_rmse': array([1.42727926, 1.39095988, 1.40545519]),\n",
       " 'fit_time': (0.01196908950805664, 0.009009361267089844, 0.01562952995300293),\n",
       " 'test_time': (0.021945953369140625,\n",
       "  0.003842592239379883,\n",
       "  0.015622854232788086)}"
      ]
     },
     "execution_count": 23,
     "metadata": {},
     "output_type": "execute_result"
    }
   ],
   "source": [
    "from surprise import NormalPredictor\n",
    "\n",
    "cross_validate(NormalPredictor(), data, measures=['RMSE'], cv=3, verbose=True)"
   ]
  },
  {
   "cell_type": "markdown",
   "metadata": {},
   "source": [
    "RMSE is smallerwhat tells us that:\n",
    "- KNN is actually learning from the training data\n",
    "- 1.4 is the lower threshold for any recommender system in this dataset"
   ]
  },
  {
   "cell_type": "markdown",
   "metadata": {},
   "source": [
    "## Tuning the Algorithm Parameters\n",
    "\n",
    "As we explained, you can provide a dictionary with the desired configuration (i.e., similarity metric, user vs item based,...) to your recommendation algorithm. Ideally, you would like to test different configurations and select the one that best performs for your dataset and recommendation problem.\n",
    "\n",
    "To that end, Surprise provides a GridSearchCV class analogous to GridSearchCV from scikit-learn.\n",
    "With a dict of all parameters, GridSearchCV tries all the combinations of parameters and reports the best parameters for any accuracy measure"
   ]
  },
  {
   "cell_type": "markdown",
   "metadata": {},
   "source": [
    "For example, you can check which similarity metric works best for your data in memory-based approaches:"
   ]
  },
  {
   "cell_type": "code",
   "execution_count": 24,
   "metadata": {
    "scrolled": true
   },
   "outputs": [
    {
     "name": "stdout",
     "output_type": "stream",
     "text": [
      "Estimating biases using als...\n",
      "Computing the msd similarity matrix...\n",
      "Done computing similarity matrix.\n",
      "Estimating biases using als...\n",
      "Computing the msd similarity matrix...\n",
      "Done computing similarity matrix.\n",
      "Estimating biases using als...\n",
      "Computing the msd similarity matrix...\n",
      "Done computing similarity matrix.\n",
      "Estimating biases using als...\n",
      "Computing the msd similarity matrix...\n",
      "Done computing similarity matrix.\n",
      "Estimating biases using als...\n",
      "Computing the msd similarity matrix...\n",
      "Done computing similarity matrix.\n",
      "Estimating biases using als...\n",
      "Computing the msd similarity matrix...\n",
      "Done computing similarity matrix.\n",
      "Estimating biases using als...\n",
      "Computing the msd similarity matrix...\n",
      "Done computing similarity matrix.\n",
      "Estimating biases using als...\n",
      "Computing the msd similarity matrix...\n",
      "Done computing similarity matrix.\n",
      "Estimating biases using als...\n",
      "Computing the msd similarity matrix...\n",
      "Done computing similarity matrix.\n",
      "Estimating biases using als...\n",
      "Computing the msd similarity matrix...\n",
      "Done computing similarity matrix.\n",
      "Estimating biases using als...\n",
      "Computing the msd similarity matrix...\n",
      "Done computing similarity matrix.\n",
      "Estimating biases using als...\n",
      "Computing the msd similarity matrix...\n",
      "Done computing similarity matrix.\n",
      "Estimating biases using als...\n",
      "Computing the msd similarity matrix...\n",
      "Done computing similarity matrix.\n",
      "Estimating biases using als...\n",
      "Computing the msd similarity matrix...\n",
      "Done computing similarity matrix.\n",
      "Estimating biases using als...\n",
      "Computing the msd similarity matrix...\n",
      "Done computing similarity matrix.\n",
      "Estimating biases using als...\n",
      "Computing the msd similarity matrix...\n",
      "Done computing similarity matrix.\n",
      "Estimating biases using als...\n",
      "Computing the msd similarity matrix...\n",
      "Done computing similarity matrix.\n",
      "Estimating biases using als...\n",
      "Computing the msd similarity matrix...\n",
      "Done computing similarity matrix.\n",
      "Estimating biases using als...\n",
      "Computing the cosine similarity matrix...\n",
      "Done computing similarity matrix.\n",
      "Estimating biases using als...\n",
      "Computing the cosine similarity matrix...\n",
      "Done computing similarity matrix.\n",
      "Estimating biases using als...\n",
      "Computing the cosine similarity matrix...\n",
      "Done computing similarity matrix.\n",
      "Estimating biases using als...\n",
      "Computing the cosine similarity matrix...\n",
      "Done computing similarity matrix.\n",
      "Estimating biases using als...\n",
      "Computing the cosine similarity matrix...\n",
      "Done computing similarity matrix.\n",
      "Estimating biases using als...\n",
      "Computing the cosine similarity matrix...\n",
      "Done computing similarity matrix.\n",
      "Estimating biases using als...\n",
      "Computing the cosine similarity matrix...\n",
      "Done computing similarity matrix.\n",
      "Estimating biases using als...\n",
      "Computing the cosine similarity matrix...\n",
      "Done computing similarity matrix.\n",
      "Estimating biases using als...\n",
      "Computing the cosine similarity matrix...\n",
      "Done computing similarity matrix.\n",
      "Estimating biases using als...\n",
      "Computing the cosine similarity matrix...\n",
      "Done computing similarity matrix.\n",
      "Estimating biases using als...\n",
      "Computing the cosine similarity matrix...\n",
      "Done computing similarity matrix.\n",
      "Estimating biases using als...\n",
      "Computing the cosine similarity matrix...\n",
      "Done computing similarity matrix.\n",
      "Estimating biases using als...\n",
      "Computing the cosine similarity matrix...\n",
      "Done computing similarity matrix.\n",
      "Estimating biases using als...\n",
      "Computing the cosine similarity matrix...\n",
      "Done computing similarity matrix.\n",
      "Estimating biases using als...\n",
      "Computing the cosine similarity matrix...\n",
      "Done computing similarity matrix.\n",
      "Estimating biases using als...\n",
      "Computing the cosine similarity matrix...\n",
      "Done computing similarity matrix.\n",
      "Estimating biases using als...\n",
      "Computing the cosine similarity matrix...\n",
      "Done computing similarity matrix.\n",
      "Estimating biases using als...\n",
      "Computing the cosine similarity matrix...\n",
      "Done computing similarity matrix.\n",
      "1.0057136232132813\n",
      "{'sim_options': {'name': 'msd', 'min_support': 5, 'user_based': True}}\n"
     ]
    }
   ],
   "source": [
    "from surprise import KNNBaseline\n",
    "from surprise.model_selection import GridSearchCV\n",
    "\n",
    "sim_options = {\n",
    "    \"name\": [\"msd\", \"cosine\"],\n",
    "    \"min_support\": [3, 4, 5],\n",
    "    \"user_based\": [False, True],\n",
    "}\n",
    "\n",
    "param_grid = {\"sim_options\": sim_options}\n",
    "\n",
    "gs = GridSearchCV(KNNBaseline, param_grid, measures=[\"rmse\", \"mae\"], cv=3)\n",
    "gs.fit(data)\n",
    "\n",
    "print(gs.best_score[\"rmse\"])\n",
    "print(gs.best_params[\"rmse\"])"
   ]
  },
  {
   "cell_type": "markdown",
   "metadata": {},
   "source": [
    "The best configuration corresponds to a item-based configuration using Mean Square distance with a min support equals to 5, which is able to slightly reduce the RMSE to 1.0057.\n"
   ]
  },
  {
   "cell_type": "code",
   "execution_count": 25,
   "metadata": {},
   "outputs": [],
   "source": [
    "from surprise import AlgoBase\n",
    "from surprise import Dataset\n",
    "from surprise.model_selection import cross_validate\n",
    "from surprise import PredictionImpossible\n",
    "\n",
    "class GroupAlgorithm(AlgoBase):\n",
    "\n",
    "    def __init__(self, sim_options={}, bsl_options={}):\n",
    "\n",
    "        AlgoBase.__init__(self, sim_options=sim_options, bsl_options=bsl_options)\n",
    "\n",
    "    def fit(self, trainset):\n",
    "\n",
    "        AlgoBase.fit(self, trainset)\n",
    "\n",
    "        # Compute baselines and similarities\n",
    "        self.bu, self.bi = self.compute_baselines()\n",
    "        self.sim = self.compute_similarities()\n",
    "\n",
    "        return self\n",
    "\n",
    "    def estimate(self, u, i):\n",
    "\n",
    "        if not (self.trainset.knows_user(u) and self.trainset.knows_item(i)):\n",
    "            raise PredictionImpossible('User and/or item is unknown.')\n",
    "\n",
    "        # Compute similarities between u and v, where v describes all other users that have also rated item i.\n",
    "        neighbors = [(v, self.sim[u, v]) for (v, r) in self.trainset.ir[i]]\n",
    "        # Sort these neighbors by similarity\n",
    "        neighbors = sorted(neighbors, key=lambda x: x[1], reverse=True)\n",
    "\n",
    "        print('The 3 nearest neighbors of user', str(u), 'are:')\n",
    "        for v, sim_uv in neighbors[:3]:\n",
    "            print('user {0:} with sim {1:1.2f}'.format(v, sim_uv))\n",
    "\n",
    "        # Return the baseline estimate\n",
    "        bsl = self.trainset.global_mean + self.bu[u] + self.bi[i]\n",
    "        return bsl\n"
   ]
  },
  {
   "cell_type": "markdown",
   "metadata": {},
   "source": [
    "# Second Try: Matrix Factorization\n",
    "\n",
    "Using SVD++ which usually offers state of the art results for many recommendation tasks"
   ]
  },
  {
   "cell_type": "code",
   "execution_count": 26,
   "metadata": {},
   "outputs": [],
   "source": [
    "from surprise import SVDpp\n",
    "\n",
    "# We'll use the famous SVD algorithm.\n",
    "svd = SVDpp()\n",
    "\n",
    "results = cross_validate(svd, data, measures=['RMSE'], cv=3, verbose=False)"
   ]
  },
  {
   "cell_type": "markdown",
   "metadata": {},
   "source": [
    "# Third Try: Benchmarking\n",
    "\n",
    "Here we are going to experiment with different algorithms to check which one of them offers the best results.\n",
    "\n"
   ]
  },
  {
   "cell_type": "code",
   "execution_count": 27,
   "metadata": {},
   "outputs": [
    {
     "name": "stdout",
     "output_type": "stream",
     "text": [
      "Testing <surprise.prediction_algorithms.matrix_factorization.SVD object at 0x00000295A9A5C790>\n",
      "Testing <surprise.prediction_algorithms.matrix_factorization.SVDpp object at 0x00000295A9A5C940>\n",
      "Testing <surprise.prediction_algorithms.slope_one.SlopeOne object at 0x00000295A9A5C910>\n",
      "Testing <surprise.prediction_algorithms.matrix_factorization.NMF object at 0x00000295A9A5C8B0>\n",
      "Testing <surprise.prediction_algorithms.random_pred.NormalPredictor object at 0x00000295AA08F040>\n",
      "Testing <surprise.prediction_algorithms.knns.KNNBaseline object at 0x00000295AA08F250>\n",
      "Estimating biases using als...\n",
      "Computing the msd similarity matrix...\n",
      "Done computing similarity matrix.\n",
      "Estimating biases using als...\n",
      "Computing the msd similarity matrix...\n",
      "Done computing similarity matrix.\n",
      "Estimating biases using als...\n",
      "Computing the msd similarity matrix...\n",
      "Done computing similarity matrix.\n",
      "Testing <surprise.prediction_algorithms.baseline_only.BaselineOnly object at 0x00000295AA08F370>\n",
      "Estimating biases using als...\n",
      "Estimating biases using als...\n",
      "Estimating biases using als...\n",
      "Testing <surprise.prediction_algorithms.co_clustering.CoClustering object at 0x00000295AA08F310>\n"
     ]
    },
    {
     "data": {
      "text/html": [
       "<div>\n",
       "<style scoped>\n",
       "    .dataframe tbody tr th:only-of-type {\n",
       "        vertical-align: middle;\n",
       "    }\n",
       "\n",
       "    .dataframe tbody tr th {\n",
       "        vertical-align: top;\n",
       "    }\n",
       "\n",
       "    .dataframe thead th {\n",
       "        text-align: right;\n",
       "    }\n",
       "</style>\n",
       "<table border=\"1\" class=\"dataframe\">\n",
       "  <thead>\n",
       "    <tr style=\"text-align: right;\">\n",
       "      <th></th>\n",
       "      <th>test_rmse</th>\n",
       "      <th>fit_time</th>\n",
       "      <th>test_time</th>\n",
       "    </tr>\n",
       "    <tr>\n",
       "      <th>Algorithm</th>\n",
       "      <th></th>\n",
       "      <th></th>\n",
       "      <th></th>\n",
       "    </tr>\n",
       "  </thead>\n",
       "  <tbody>\n",
       "    <tr>\n",
       "      <th>SVDpp</th>\n",
       "      <td>0.993401</td>\n",
       "      <td>1.174140</td>\n",
       "      <td>0.062149</td>\n",
       "    </tr>\n",
       "    <tr>\n",
       "      <th>SVD</th>\n",
       "      <td>0.994504</td>\n",
       "      <td>0.359375</td>\n",
       "      <td>0.020254</td>\n",
       "    </tr>\n",
       "    <tr>\n",
       "      <th>BaselineOnly</th>\n",
       "      <td>0.996672</td>\n",
       "      <td>0.015642</td>\n",
       "      <td>0.004011</td>\n",
       "    </tr>\n",
       "    <tr>\n",
       "      <th>KNNBaseline</th>\n",
       "      <td>1.074627</td>\n",
       "      <td>0.054016</td>\n",
       "      <td>0.109916</td>\n",
       "    </tr>\n",
       "    <tr>\n",
       "      <th>CoClustering</th>\n",
       "      <td>1.093463</td>\n",
       "      <td>0.290022</td>\n",
       "      <td>0.012911</td>\n",
       "    </tr>\n",
       "    <tr>\n",
       "      <th>SlopeOne</th>\n",
       "      <td>1.180429</td>\n",
       "      <td>0.029194</td>\n",
       "      <td>0.021796</td>\n",
       "    </tr>\n",
       "    <tr>\n",
       "      <th>NMF</th>\n",
       "      <td>1.205355</td>\n",
       "      <td>0.459217</td>\n",
       "      <td>0.017703</td>\n",
       "    </tr>\n",
       "    <tr>\n",
       "      <th>NormalPredictor</th>\n",
       "      <td>1.386840</td>\n",
       "      <td>0.010172</td>\n",
       "      <td>0.016997</td>\n",
       "    </tr>\n",
       "  </tbody>\n",
       "</table>\n",
       "</div>"
      ],
      "text/plain": [
       "                 test_rmse  fit_time  test_time\n",
       "Algorithm                                      \n",
       "SVDpp             0.993401  1.174140   0.062149\n",
       "SVD               0.994504  0.359375   0.020254\n",
       "BaselineOnly      0.996672  0.015642   0.004011\n",
       "KNNBaseline       1.074627  0.054016   0.109916\n",
       "CoClustering      1.093463  0.290022   0.012911\n",
       "SlopeOne          1.180429  0.029194   0.021796\n",
       "NMF               1.205355  0.459217   0.017703\n",
       "NormalPredictor   1.386840  0.010172   0.016997"
      ]
     },
     "execution_count": 27,
     "metadata": {},
     "output_type": "execute_result"
    }
   ],
   "source": [
    "from surprise import SVD\n",
    "from surprise import BaselineOnly\n",
    "from surprise import NMF\n",
    "from surprise import SlopeOne\n",
    "from surprise import CoClustering\n",
    "\n",
    "benchmark = []\n",
    "# Iterate over all algorithms\n",
    "for algorithm in [SVD(), SVDpp(), SlopeOne(), NMF(), NormalPredictor(), KNNBaseline(), BaselineOnly(), CoClustering()]:\n",
    "    \n",
    "    print(\"Testing {}\".format(algorithm))\n",
    "    # Perform cross validation\n",
    "    results = cross_validate(algorithm, data, measures=['RMSE'], cv=3, verbose=False)\n",
    "    \n",
    "    # Get results & append algorithm name\n",
    "    tmp = pd.DataFrame.from_dict(results).mean(axis=0)\n",
    "    tmp = tmp.append(pd.Series([str(algorithm).split(' ')[0].split('.')[-1]], index=['Algorithm']))\n",
    "    benchmark.append(tmp)\n",
    "    \n",
    "pd.DataFrame(benchmark).set_index('Algorithm').sort_values('test_rmse')    "
   ]
  },
  {
   "cell_type": "markdown",
   "metadata": {},
   "source": [
    "As expected the best results are offered by matrix factorization, particularly SVD++. However, it took longer time to train (especially compared to SVD). \n",
    "\n",
    "Neighbourhood-based methods (KNN) also works pretty well for this dataset. My recommendation is that you always should try it.\n",
    "\n",
    "Surprisingly, the BaselineOnly approach is offering very competitive results in spite of its simplicity. "
   ]
  },
  {
   "cell_type": "markdown",
   "metadata": {},
   "source": [
    "# Interpretation\n",
    "\n",
    "In this final section I would like to provide you with some examples about how to interpret the results and execution of your recommendation system.\n",
    "\n",
    "This interpretation is very useful to understand the operation of the recommendation system and to be able to improve their results, as well as to explain the recommendation to relevant stakeholders.\n",
    "\n",
    "The code is a little bit tricky and it will be different if you use a different library (you should research about how to replicate this analysis with your preferred library), so don't get discouraged if you get lost in the Python Code and focus on iterpreting and understanding the results and to capture the idea."
   ]
  },
  {
   "cell_type": "markdown",
   "metadata": {},
   "source": [
    "## Get Neigbours\n",
    "\n",
    "Here we would like to inspect the neighbourhoods in which the recommendations are generated. We took an item and analyzed their neighbourhood to check if it makes sense (i.e., if it includes items or users similar to the one that you are analyzing).\n",
    "\n",
    "The following code gets the 10 closest neighbours to a given garden item."
   ]
  },
  {
   "cell_type": "code",
   "execution_count": 37,
   "metadata": {},
   "outputs": [
    {
     "name": "stdout",
     "output_type": "stream",
     "text": [
      "Estimating biases using als...\n",
      "Computing the pearson_baseline similarity matrix...\n",
      "Done computing similarity matrix.\n",
      "\n",
      "The 10 nearest neighbors of B00002N674 are:\n",
      "\n",
      "\t B000WEOQV8\n",
      "\t B00002N67P\n",
      "\t B00002N67Q\n",
      "\t B00002N68C\n",
      "\t B00002N6AN\n",
      "\t B00002N8K3\n",
      "\t B00002N8NR\n",
      "\t B00004DTNH\n",
      "\t B00004R9TK\n",
      "\t B00004R9TL\n"
     ]
    }
   ],
   "source": [
    "# Execute KNN\n",
    "sim_options = {'name': 'pearson_baseline', 'user_based': False}\n",
    "knn = KNNBaseline(sim_options=sim_options)\n",
    "knn.fit(data.build_full_trainset())\n",
    "\n",
    "# Target item to analyze its neighbourhood\n",
    "garden_name = 'B00002N674'\n",
    "\n",
    "# Get the closes neighbourds\n",
    "neighbors = knn.get_neighbors(knn.trainset.to_inner_iid(garden_name), k=10)\n",
    "# Translate the internal ids used in the algorithm to the movie names\n",
    "neighbors = (knn.trainset.to_raw_iid(asin) for asin in neighbors)\n",
    "\n",
    "print()\n",
    "print('The 10 nearest neighbors of {} are:\\n'.format(garden_name))\n",
    "for asin in neighbors:\n",
    "    print(\"\\t\",asin)"
   ]
  },
  {
   "cell_type": "markdown",
   "metadata": {},
   "source": [
    "## Check Factorized Matrices\n",
    "\n",
    "Here we analyze the resulting matrices of SVD to understand what the algorithm is doing.\n",
    "\n",
    "In particular, we analyze 2 things:\n",
    "- **Bias**: Bias terms try to consider the tendencies in the ratings to be biased to a particular aspect. \n",
    "- **Factors**: These are the underlying factors that are driving the ratings that we expect the matrix factorization algorithm to learn from the rating matrix."
   ]
  },
  {
   "cell_type": "markdown",
   "metadata": {},
   "source": [
    "### Analyze BIAS\n",
    "\n",
    "Herev we analyze the bias using Surprise."
   ]
  },
  {
   "cell_type": "markdown",
   "metadata": {},
   "source": [
    "#### Item Bias\n",
    "\n",
    "Here we analyzed the bias related to the items to understand if there is any bias in their ratings. \n",
    "\n",
    "We list here the patio, lawn and garden with a large negative (worst reviews) and positive (reviews) bias."
   ]
  },
  {
   "cell_type": "code",
   "execution_count": 40,
   "metadata": {},
   "outputs": [
    {
     "name": "stdout",
     "output_type": "stream",
     "text": [
      "Worst garden ever:\n"
     ]
    },
    {
     "data": {
      "text/plain": [
       "[(-1.312142188559179, 'B0008JGSD6'),\n",
       " (-1.2701316633878343, 'B001JJCW0M'),\n",
       " (-1.12292198608524, 'B001RCTX4E'),\n",
       " (-1.0596652088646055, 'B00004R9TL'),\n",
       " (-1.0596354345705263, 'B000S61YO2'),\n",
       " (-1.043449766483747, 'B00004U9VV'),\n",
       " (-1.0102852829706717, 'B002NKYWJA'),\n",
       " (-0.9693732857966942, 'B000HCLLMM'),\n",
       " (-0.9543767573497065, 'B002WJIQGC'),\n",
       " (-0.9264143024407903, 'B00004RAMT'),\n",
       " (-0.9232840052548662, 'B000HHQ2PI'),\n",
       " (-0.9176397975013463, 'B000P0DK1Q'),\n",
       " (-0.9142285858708707, 'B000F0BVYE'),\n",
       " (-0.9131524527073478, 'B001B3PI1G'),\n",
       " (-0.8663561085386531, 'B003TQM9XS')]"
      ]
     },
     "execution_count": 40,
     "metadata": {},
     "output_type": "execute_result"
    }
   ],
   "source": [
    "garden_bias = [(b, data.build_full_trainset().to_raw_iid(i)) for i, b in enumerate(svd.bi)]\n",
    "print(\"Worst garden ever:\")\n",
    "sorted(garden_bias, key=lambda x: x[0])[:15]"
   ]
  },
  {
   "cell_type": "code",
   "execution_count": 39,
   "metadata": {},
   "outputs": [
    {
     "name": "stdout",
     "output_type": "stream",
     "text": [
      "Worst garden ever:\n"
     ]
    },
    {
     "data": {
      "text/plain": [
       "[(0.6827760036624956, 'B000Y1BGN0'),\n",
       " (0.5796522968621854, 'B000H5SD5C'),\n",
       " (0.5696715176334085, 'B00004SD6U'),\n",
       " (0.5531347453749209, 'B000BQPW6A'),\n",
       " (0.5526923930982236, 'B000I1BX7U'),\n",
       " (0.5516166010243709, 'B008RGCA9I'),\n",
       " (0.5482490207309935, 'B000OV8OTY'),\n",
       " (0.5471803030238303, 'B00004TBKM'),\n",
       " (0.5450539552825246, 'B000EDVTLW'),\n",
       " (0.5323464812186883, 'B00602J3V4'),\n",
       " (0.5300701226119071, 'B000WEMG24'),\n",
       " (0.5201381795766494, 'B0007OPJM8'),\n",
       " (0.5180569498357442, 'B00009PR1E'),\n",
       " (0.5097399953978055, 'B000UGT94C'),\n",
       " (0.5061619217859611, 'B001TRELMQ')]"
      ]
     },
     "execution_count": 39,
     "metadata": {},
     "output_type": "execute_result"
    }
   ],
   "source": [
    "print(\"Worst garden ever:\")\n",
    "sorted(garden_bias, key=lambda x: -x[0])[:15]"
   ]
  },
  {
   "cell_type": "markdown",
   "metadata": {},
   "source": [
    "#### User Bias\n",
    "\n",
    "Here we can perform the same bias analysis over the users(reviewersID). The idea is the following: there are people that consistently rate garden very well or very badly, no matter the garden quality."
   ]
  },
  {
   "cell_type": "markdown",
   "metadata": {},
   "source": [
    "The following code prints the user with the most negative bias"
   ]
  },
  {
   "cell_type": "code",
   "execution_count": 46,
   "metadata": {},
   "outputs": [
    {
     "data": {
      "text/plain": [
       "(0.7720203480910044, 'A2I2KPNJDQ9SL0')"
      ]
     },
     "execution_count": 46,
     "metadata": {},
     "output_type": "execute_result"
    }
   ],
   "source": [
    "user_bias = [(b, data.build_full_trainset().to_raw_uid(i)) for i, b in enumerate(svd.bu)]\n",
    "sorted(user_bias, key=lambda x: x[0])[-1]"
   ]
  },
  {
   "cell_type": "code",
   "execution_count": 47,
   "metadata": {
    "scrolled": true
   },
   "outputs": [
    {
     "data": {
      "text/html": [
       "<div>\n",
       "<style scoped>\n",
       "    .dataframe tbody tr th:only-of-type {\n",
       "        vertical-align: middle;\n",
       "    }\n",
       "\n",
       "    .dataframe tbody tr th {\n",
       "        vertical-align: top;\n",
       "    }\n",
       "\n",
       "    .dataframe thead th {\n",
       "        text-align: right;\n",
       "    }\n",
       "</style>\n",
       "<table border=\"1\" class=\"dataframe\">\n",
       "  <thead>\n",
       "    <tr style=\"text-align: right;\">\n",
       "      <th></th>\n",
       "      <th>reviewerID</th>\n",
       "      <th>asin</th>\n",
       "      <th>reviewerName</th>\n",
       "      <th>helpful</th>\n",
       "      <th>reviewText</th>\n",
       "      <th>overall</th>\n",
       "      <th>summary</th>\n",
       "      <th>unixReviewTime</th>\n",
       "      <th>reviewTime</th>\n",
       "    </tr>\n",
       "  </thead>\n",
       "  <tbody>\n",
       "    <tr>\n",
       "      <th>200</th>\n",
       "      <td>A2I2KPNJDQ9SL0</td>\n",
       "      <td>B00004RA4G</td>\n",
       "      <td>XiMiX</td>\n",
       "      <td>[0, 0]</td>\n",
       "      <td>This works well, but you cannot tell if it jus...</td>\n",
       "      <td>4.0</td>\n",
       "      <td>Works good</td>\n",
       "      <td>1267488000</td>\n",
       "      <td>03 2, 2010</td>\n",
       "    </tr>\n",
       "    <tr>\n",
       "      <th>3822</th>\n",
       "      <td>A2I2KPNJDQ9SL0</td>\n",
       "      <td>B000LNWIVU</td>\n",
       "      <td>XiMiX</td>\n",
       "      <td>[0, 0]</td>\n",
       "      <td>Works amazingly well in catching flies. I buy ...</td>\n",
       "      <td>4.0</td>\n",
       "      <td>Catches flies like crazy</td>\n",
       "      <td>1287187200</td>\n",
       "      <td>10 16, 2010</td>\n",
       "    </tr>\n",
       "    <tr>\n",
       "      <th>4612</th>\n",
       "      <td>A2I2KPNJDQ9SL0</td>\n",
       "      <td>B000W72GBC</td>\n",
       "      <td>XiMiX</td>\n",
       "      <td>[0, 0]</td>\n",
       "      <td>I find most CARB-compliant gas cans to be diff...</td>\n",
       "      <td>5.0</td>\n",
       "      <td>Easy to use CARB gas can</td>\n",
       "      <td>1360454400</td>\n",
       "      <td>02 10, 2013</td>\n",
       "    </tr>\n",
       "    <tr>\n",
       "      <th>5601</th>\n",
       "      <td>A2I2KPNJDQ9SL0</td>\n",
       "      <td>B0018U0A3S</td>\n",
       "      <td>XiMiX</td>\n",
       "      <td>[1, 2]</td>\n",
       "      <td>It's just a chain oil, and there has not been ...</td>\n",
       "      <td>5.0</td>\n",
       "      <td>OK</td>\n",
       "      <td>1373673600</td>\n",
       "      <td>07 13, 2013</td>\n",
       "    </tr>\n",
       "    <tr>\n",
       "      <th>8898</th>\n",
       "      <td>A2I2KPNJDQ9SL0</td>\n",
       "      <td>B005968T1M</td>\n",
       "      <td>XiMiX</td>\n",
       "      <td>[0, 0]</td>\n",
       "      <td>I use it around the house, hidden behind furni...</td>\n",
       "      <td>5.0</td>\n",
       "      <td>Works well</td>\n",
       "      <td>1354838400</td>\n",
       "      <td>12 7, 2012</td>\n",
       "    </tr>\n",
       "    <tr>\n",
       "      <th>11156</th>\n",
       "      <td>A2I2KPNJDQ9SL0</td>\n",
       "      <td>B00AW72V4E</td>\n",
       "      <td>XiMiX</td>\n",
       "      <td>[0, 1]</td>\n",
       "      <td>The 40V 4AH battery is not the same thing as A...</td>\n",
       "      <td>4.0</td>\n",
       "      <td>All the benefit of battery power, except the w...</td>\n",
       "      <td>1371600000</td>\n",
       "      <td>06 19, 2013</td>\n",
       "    </tr>\n",
       "    <tr>\n",
       "      <th>12135</th>\n",
       "      <td>A2I2KPNJDQ9SL0</td>\n",
       "      <td>B00DRBBRVU</td>\n",
       "      <td>XiMiX</td>\n",
       "      <td>[18, 20]</td>\n",
       "      <td>As others have stated, it is a very good blowe...</td>\n",
       "      <td>3.0</td>\n",
       "      <td>Very good blower. OK for vacuum</td>\n",
       "      <td>1382227200</td>\n",
       "      <td>10 20, 2013</td>\n",
       "    </tr>\n",
       "  </tbody>\n",
       "</table>\n",
       "</div>"
      ],
      "text/plain": [
       "           reviewerID        asin reviewerName   helpful  \\\n",
       "200    A2I2KPNJDQ9SL0  B00004RA4G        XiMiX    [0, 0]   \n",
       "3822   A2I2KPNJDQ9SL0  B000LNWIVU        XiMiX    [0, 0]   \n",
       "4612   A2I2KPNJDQ9SL0  B000W72GBC        XiMiX    [0, 0]   \n",
       "5601   A2I2KPNJDQ9SL0  B0018U0A3S        XiMiX    [1, 2]   \n",
       "8898   A2I2KPNJDQ9SL0  B005968T1M        XiMiX    [0, 0]   \n",
       "11156  A2I2KPNJDQ9SL0  B00AW72V4E        XiMiX    [0, 1]   \n",
       "12135  A2I2KPNJDQ9SL0  B00DRBBRVU        XiMiX  [18, 20]   \n",
       "\n",
       "                                              reviewText  overall  \\\n",
       "200    This works well, but you cannot tell if it jus...      4.0   \n",
       "3822   Works amazingly well in catching flies. I buy ...      4.0   \n",
       "4612   I find most CARB-compliant gas cans to be diff...      5.0   \n",
       "5601   It's just a chain oil, and there has not been ...      5.0   \n",
       "8898   I use it around the house, hidden behind furni...      5.0   \n",
       "11156  The 40V 4AH battery is not the same thing as A...      4.0   \n",
       "12135  As others have stated, it is a very good blowe...      3.0   \n",
       "\n",
       "                                                 summary  unixReviewTime  \\\n",
       "200                                           Works good      1267488000   \n",
       "3822                            Catches flies like crazy      1287187200   \n",
       "4612                            Easy to use CARB gas can      1360454400   \n",
       "5601                                                  OK      1373673600   \n",
       "8898                                          Works well      1354838400   \n",
       "11156  All the benefit of battery power, except the w...      1371600000   \n",
       "12135                    Very good blower. OK for vacuum      1382227200   \n",
       "\n",
       "        reviewTime  \n",
       "200     03 2, 2010  \n",
       "3822   10 16, 2010  \n",
       "4612   02 10, 2013  \n",
       "5601   07 13, 2013  \n",
       "8898    12 7, 2012  \n",
       "11156  06 19, 2013  \n",
       "12135  10 20, 2013  "
      ]
     },
     "execution_count": 47,
     "metadata": {},
     "output_type": "execute_result"
    }
   ],
   "source": [
    "df[df.reviewerID == 'A2I2KPNJDQ9SL0']"
   ]
  },
  {
   "cell_type": "markdown",
   "metadata": {},
   "source": [
    "In contrast, if we analyze the user with the most positive bias, we will see that they scores are pretty high."
   ]
  },
  {
   "cell_type": "code",
   "execution_count": 48,
   "metadata": {},
   "outputs": [
    {
     "data": {
      "text/plain": [
       "(-1.5390178176832687, 'A1NKUPJZFRD0HB')"
      ]
     },
     "execution_count": 48,
     "metadata": {},
     "output_type": "execute_result"
    }
   ],
   "source": [
    "sorted(user_bias, key=lambda x: x[0])[0]"
   ]
  },
  {
   "cell_type": "code",
   "execution_count": 50,
   "metadata": {
    "scrolled": true
   },
   "outputs": [
    {
     "data": {
      "text/html": [
       "<div>\n",
       "<style scoped>\n",
       "    .dataframe tbody tr th:only-of-type {\n",
       "        vertical-align: middle;\n",
       "    }\n",
       "\n",
       "    .dataframe tbody tr th {\n",
       "        vertical-align: top;\n",
       "    }\n",
       "\n",
       "    .dataframe thead th {\n",
       "        text-align: right;\n",
       "    }\n",
       "</style>\n",
       "<table border=\"1\" class=\"dataframe\">\n",
       "  <thead>\n",
       "    <tr style=\"text-align: right;\">\n",
       "      <th></th>\n",
       "      <th>reviewerID</th>\n",
       "      <th>asin</th>\n",
       "      <th>reviewerName</th>\n",
       "      <th>helpful</th>\n",
       "      <th>reviewText</th>\n",
       "      <th>overall</th>\n",
       "      <th>summary</th>\n",
       "      <th>unixReviewTime</th>\n",
       "      <th>reviewTime</th>\n",
       "    </tr>\n",
       "  </thead>\n",
       "  <tbody>\n",
       "    <tr>\n",
       "      <th>455</th>\n",
       "      <td>A1NKUPJZFRD0HB</td>\n",
       "      <td>B00004SD76</td>\n",
       "      <td>Cimmerian</td>\n",
       "      <td>[0, 0]</td>\n",
       "      <td>I have to say,I was a little worried that eith...</td>\n",
       "      <td>5.0</td>\n",
       "      <td>Had these for a while now!....</td>\n",
       "      <td>1357084800</td>\n",
       "      <td>01 2, 2013</td>\n",
       "    </tr>\n",
       "    <tr>\n",
       "      <th>1291</th>\n",
       "      <td>A1NKUPJZFRD0HB</td>\n",
       "      <td>B00062KQ42</td>\n",
       "      <td>Cimmerian</td>\n",
       "      <td>[0, 0]</td>\n",
       "      <td>Most people have already said what needs to be...</td>\n",
       "      <td>5.0</td>\n",
       "      <td>Awesome product</td>\n",
       "      <td>1390435200</td>\n",
       "      <td>01 23, 2014</td>\n",
       "    </tr>\n",
       "    <tr>\n",
       "      <th>2095</th>\n",
       "      <td>A1NKUPJZFRD0HB</td>\n",
       "      <td>B000BNKWZY</td>\n",
       "      <td>Cimmerian</td>\n",
       "      <td>[0, 0]</td>\n",
       "      <td>For Hydro systems as well as straight nutrient...</td>\n",
       "      <td>5.0</td>\n",
       "      <td>Fantastic product!!!!</td>\n",
       "      <td>1346716800</td>\n",
       "      <td>09 4, 2012</td>\n",
       "    </tr>\n",
       "    <tr>\n",
       "      <th>2587</th>\n",
       "      <td>A1NKUPJZFRD0HB</td>\n",
       "      <td>B000E7MTT4</td>\n",
       "      <td>Cimmerian</td>\n",
       "      <td>[3, 3]</td>\n",
       "      <td>The only small thing Id like to mention is tha...</td>\n",
       "      <td>5.0</td>\n",
       "      <td>Perfect</td>\n",
       "      <td>1363651200</td>\n",
       "      <td>03 19, 2013</td>\n",
       "    </tr>\n",
       "    <tr>\n",
       "      <th>6482</th>\n",
       "      <td>A1NKUPJZFRD0HB</td>\n",
       "      <td>B001UV6P9I</td>\n",
       "      <td>Cimmerian</td>\n",
       "      <td>[4, 4]</td>\n",
       "      <td>I looked at the Lumens output for my needs and...</td>\n",
       "      <td>5.0</td>\n",
       "      <td>Nice Light!!!!</td>\n",
       "      <td>1346716800</td>\n",
       "      <td>09 4, 2012</td>\n",
       "    </tr>\n",
       "    <tr>\n",
       "      <th>6778</th>\n",
       "      <td>A1NKUPJZFRD0HB</td>\n",
       "      <td>B002JUOWB2</td>\n",
       "      <td>Cimmerian</td>\n",
       "      <td>[4, 5]</td>\n",
       "      <td>I have two of these and also one of the same t...</td>\n",
       "      <td>5.0</td>\n",
       "      <td>Seems nice so far.</td>\n",
       "      <td>1363651200</td>\n",
       "      <td>03 19, 2013</td>\n",
       "    </tr>\n",
       "    <tr>\n",
       "      <th>8906</th>\n",
       "      <td>A1NKUPJZFRD0HB</td>\n",
       "      <td>B005CY100I</td>\n",
       "      <td>Cimmerian</td>\n",
       "      <td>[0, 0]</td>\n",
       "      <td>I own two sets of these hangers ,and i gotta s...</td>\n",
       "      <td>5.0</td>\n",
       "      <td>These are really REALLY nice!!</td>\n",
       "      <td>1350518400</td>\n",
       "      <td>10 18, 2012</td>\n",
       "    </tr>\n",
       "    <tr>\n",
       "      <th>10291</th>\n",
       "      <td>A1NKUPJZFRD0HB</td>\n",
       "      <td>B008NYF8S4</td>\n",
       "      <td>Cimmerian</td>\n",
       "      <td>[0, 0]</td>\n",
       "      <td>I didnt know much about carbon filters and hav...</td>\n",
       "      <td>5.0</td>\n",
       "      <td>seems to work well</td>\n",
       "      <td>1400284800</td>\n",
       "      <td>05 17, 2014</td>\n",
       "    </tr>\n",
       "  </tbody>\n",
       "</table>\n",
       "</div>"
      ],
      "text/plain": [
       "           reviewerID        asin reviewerName helpful  \\\n",
       "455    A1NKUPJZFRD0HB  B00004SD76    Cimmerian  [0, 0]   \n",
       "1291   A1NKUPJZFRD0HB  B00062KQ42    Cimmerian  [0, 0]   \n",
       "2095   A1NKUPJZFRD0HB  B000BNKWZY    Cimmerian  [0, 0]   \n",
       "2587   A1NKUPJZFRD0HB  B000E7MTT4    Cimmerian  [3, 3]   \n",
       "6482   A1NKUPJZFRD0HB  B001UV6P9I    Cimmerian  [4, 4]   \n",
       "6778   A1NKUPJZFRD0HB  B002JUOWB2    Cimmerian  [4, 5]   \n",
       "8906   A1NKUPJZFRD0HB  B005CY100I    Cimmerian  [0, 0]   \n",
       "10291  A1NKUPJZFRD0HB  B008NYF8S4    Cimmerian  [0, 0]   \n",
       "\n",
       "                                              reviewText  overall  \\\n",
       "455    I have to say,I was a little worried that eith...      5.0   \n",
       "1291   Most people have already said what needs to be...      5.0   \n",
       "2095   For Hydro systems as well as straight nutrient...      5.0   \n",
       "2587   The only small thing Id like to mention is tha...      5.0   \n",
       "6482   I looked at the Lumens output for my needs and...      5.0   \n",
       "6778   I have two of these and also one of the same t...      5.0   \n",
       "8906   I own two sets of these hangers ,and i gotta s...      5.0   \n",
       "10291  I didnt know much about carbon filters and hav...      5.0   \n",
       "\n",
       "                              summary  unixReviewTime   reviewTime  \n",
       "455    Had these for a while now!....      1357084800   01 2, 2013  \n",
       "1291                  Awesome product      1390435200  01 23, 2014  \n",
       "2095            Fantastic product!!!!      1346716800   09 4, 2012  \n",
       "2587                          Perfect      1363651200  03 19, 2013  \n",
       "6482                   Nice Light!!!!      1346716800   09 4, 2012  \n",
       "6778               Seems nice so far.      1363651200  03 19, 2013  \n",
       "8906   These are really REALLY nice!!      1350518400  10 18, 2012  \n",
       "10291              seems to work well      1400284800  05 17, 2014  "
      ]
     },
     "execution_count": 50,
     "metadata": {},
     "output_type": "execute_result"
    }
   ],
   "source": [
    "df[df.reviewerID == 'A1NKUPJZFRD0HB']"
   ]
  }
 ],
 "metadata": {
  "kernelspec": {
   "display_name": "Python 3",
   "language": "python",
   "name": "python3"
  },
  "language_info": {
   "codemirror_mode": {
    "name": "ipython",
    "version": 3
   },
   "file_extension": ".py",
   "mimetype": "text/x-python",
   "name": "python",
   "nbconvert_exporter": "python",
   "pygments_lexer": "ipython3",
   "version": "3.8.3"
  }
 },
 "nbformat": 4,
 "nbformat_minor": 4
}
