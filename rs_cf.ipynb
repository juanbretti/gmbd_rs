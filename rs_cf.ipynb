{
 "cells": [
  {
   "cell_type": "markdown",
   "metadata": {},
   "source": [
    " <img src=\"https://challengepost-s3-challengepost.netdna-ssl.com/photos/production/challenge_thumbnails/000/956/166/datas/original.png\" width=100 align=\"right\">\n",
    " <div style=\"font-size: large;\"><b>Group Work</b> - Recommender Systems</div><br>\n",
    " <br>\n",
    " <br>\n",
    " <b>Group F</b><br>\n",
    " <br>\n",
    " <a href=\"mailto:alhagbani@student.ie.edu\">Abdulaziz Alhagbani</a><br>\n",
    " <a href=\"mailto:juanbretti@student.ie.edu\">Juan Pedro Bretti Mandarano</a><br>\n",
    " <a href=\"mailto:alexander.madzhirov@student.ie.edu\">Aleksandar Madzhirov</a><br>\n",
    " <a href=\"mailto:esperanza.magpantay@student.ie.edu\">Esperanza Magpantay</a><br>\n",
    " <a href=\"mailto:addison.pelayo@student.ie.edu\">Addison Pelayo</a><br>\n",
    " <br>\n",
    " Delivery: NOV/2020<br>\n",
    " <br>\n",
    " <a href=\"https://www.ie.edu/school-human-sciences-technology/masters/global-master-business-analytics-big-data/\">Global Master in Business Analytics and Big Data</a> | <a href=\"https://www.ie.edu/\">IE</a>"
   ]
  },
  {
   "cell_type": "markdown",
   "metadata": {},
   "source": [
    "# Required libraries ----\n",
    " Loading necessary Python libraries.\n",
    " For this particular exercise, we are using [Surprise](https://github.com/NicolasHug/Surprise).Surprise is a Python SciKit that comes with various recommender algorithms and similarity metrics to make it easy to build and analyze recommenders.<br>"
   ]
  },
  {
   "cell_type": "code",
   "execution_count": 2,
   "metadata": {},
   "outputs": [],
   "source": [
    "import pandas as pd\n",
    "import gzip\n",
    "\n",
    "# Report\n",
    "from pandas_profiling import ProfileReport\n",
    "\n",
    "# Plots\n",
    "import matplotlib.pyplot as plt\n",
    "from plotly.offline import init_notebook_mode, plot, iplot\n",
    "import plotly.graph_objs as go\n",
    "\n",
    "# Pre processing\n",
    "import numpy as np\n",
    "from sklearn.model_selection import train_test_split\n",
    "\n",
    "# Collaborative Filtering\n",
    "from surprise import Dataset\n",
    "from surprise import Reader\n",
    "from surprise import KNNBaseline\n",
    "from surprise import PredictionImpossible\n",
    "from surprise import AlgoBase\n",
    "from surprise import SVD, BaselineOnly, NMF, SlopeOne, CoClustering, SVDpp, NormalPredictor\n",
    "from surprise.model_selection import cross_validate\n",
    "from surprise.model_selection.search import GridSearchCV\n",
    "\n",
    "# Import wordcloud library\n",
    "from wordcloud import WordCloud\n",
    "\n",
    "# Load the library with the CountVectorizer method\n",
    "from sklearn.feature_extraction.text import CountVectorizer\n",
    "import matplotlib.pyplot as plt\n",
    "import seaborn as sns\n",
    "sns.set_style('whitegrid')\n",
    "\n",
    "# Cosine\n",
    "from sklearn.feature_extraction.text import TfidfVectorizer\n",
    "from sklearn.metrics.pairwise import linear_kernel\n",
    "\n",
    "# Performance\n",
    "from sklearn.metrics import mean_squared_error\n"
   ]
  },
  {
   "cell_type": "markdown",
   "metadata": {},
   "source": [
    "# Reading the data ----\n",
    " Source: http://jmcauley.ucsd.edu/data/amazon/ <br>\n",
    " In particular, we are using the dataset `reviews_Patio_Lawn_and_Garden_5`, which contains 13,272 reviews.<br>\n",
    " The selection of the dataset, was based on CPU time."
   ]
  },
  {
   "cell_type": "code",
   "execution_count": 3,
   "metadata": {},
   "outputs": [],
   "source": [
    "def parse(path):\n",
    "  g = gzip.open(path, 'rb')\n",
    "  for l in g:\n",
    "    yield eval(l)\n",
    "\n",
    "def getDF(path):\n",
    "  i = 0\n",
    "  df = {}\n",
    "  for d in parse(path):\n",
    "    df[i] = d\n",
    "    i += 1\n",
    "  return pd.DataFrame.from_dict(df, orient='index')\n",
    "\n",
    "df = getDF('raw/reviews_Patio_Lawn_and_Garden_5.json.gz')\n"
   ]
  },
  {
   "cell_type": "markdown",
   "metadata": {},
   "source": [
    "# EDA ----\n",
    " The following is an `HTML` report of the data.<br>\n",
    " Also, printing a few lines of the dataset inline in this notebook."
   ]
  },
  {
   "cell_type": "markdown",
   "metadata": {},
   "source": [
    "## HTML report ----"
   ]
  },
  {
   "cell_type": "code",
   "execution_count": 4,
   "metadata": {},
   "outputs": [
    {
     "name": "stderr",
     "output_type": "stream",
     "text": [
      "Summarize dataset: 100%|██████████| 23/23 [00:03<00:00,  7.34it/s, Completed]\n",
      "Generate report structure: 100%|██████████| 1/1 [00:02<00:00,  2.54s/it]\n",
      "Render HTML: 100%|██████████| 1/1 [00:00<00:00,  2.48it/s]\n",
      "Export report to file: 100%|██████████| 1/1 [00:00<00:00, 252.62it/s]\n"
     ]
    }
   ],
   "source": [
    "# The following lines are disable to speed up.\n",
    "# The `html` output is generated already and shared with this assignment.\n",
    "profile = ProfileReport(df, title=\"Patio_Lawn_and_Garden\", minimal=False)\n",
    "profile.to_file(\"storage/df_report.html\")\n"
   ]
  },
  {
   "cell_type": "markdown",
   "metadata": {},
   "source": [
    "## Few rows ----"
   ]
  },
  {
   "cell_type": "code",
   "execution_count": 5,
   "metadata": {},
   "outputs": [
    {
     "name": "stdout",
     "output_type": "stream",
     "text": [
      "Dataset shape: (13272, 9)\n",
      "-Dataset row examples-\n",
      "       reviewerID        asin                            reviewerName helpful  \\\n",
      "0  A1JZFGZEZVWQPY  B00002N674  Carter H \"1amazonreviewer@gmail . com\"  [4, 4]   \n",
      "\n",
      "                                          reviewText  overall      summary  \\\n",
      "0  Good USA company that stands behind their prod...      4.0  Great Hoses   \n",
      "\n",
      "   unixReviewTime   reviewTime  \n",
      "0      1308614400  06 21, 2011  \n"
     ]
    }
   ],
   "source": [
    "print('Dataset shape: {}'.format(df.shape))\n",
    "print('-Dataset row examples-')\n",
    "print(df.iloc[::20000, :])\n"
   ]
  },
  {
   "cell_type": "markdown",
   "metadata": {},
   "source": [
    "## Plots ----\n",
    "### Ratings distribution\n",
    " The first thing is to analyze the distribution of ratings to understand among other things:\n",
    " - The rating scale: goes from 1 to 5\n",
    " - The distribution of the ratings: are the users biased to high or low rates?\n",
    " - Are the users using the entire rating scale? e.g.: sometimes people performs binary ratings even if you provide them with a more granular scale (5 good, 1 bad and nothing in between)"
   ]
  },
  {
   "cell_type": "code",
   "execution_count": 6,
   "metadata": {},
   "outputs": [
    {
     "data": {
      "text/html": [
       "        <script type=\"text/javascript\">\n",
       "        window.PlotlyConfig = {MathJaxConfig: 'local'};\n",
       "        if (window.MathJax) {MathJax.Hub.Config({SVG: {font: \"STIX-Web\"}});}\n",
       "        if (typeof require !== 'undefined') {\n",
       "        require.undef(\"plotly\");\n",
       "        requirejs.config({\n",
       "            paths: {\n",
       "                'plotly': ['https://cdn.plot.ly/plotly-latest.min']\n",
       "            }\n",
       "        });\n",
       "        require(['plotly'], function(Plotly) {\n",
       "            window._Plotly = Plotly;\n",
       "        });\n",
       "        }\n",
       "        </script>\n",
       "        "
      ]
     },
     "metadata": {},
     "output_type": "display_data"
    },
    {
     "data": {
      "application/vnd.plotly.v1+json": {
       "config": {
        "linkText": "Export to plot.ly",
        "plotlyServerURL": "https://plot.ly",
        "showLink": false
       },
       "data": [
        {
         "text": [
          "53.0 %",
          "25.5 %",
          "12.5 %",
          "5.1 %",
          "3.9 %"
         ],
         "textfont": {
          "color": "#000000"
         },
         "textposition": "auto",
         "type": "bar",
         "x": [
          5,
          4,
          3,
          2,
          1
         ],
         "y": [
          7037,
          3384,
          1659,
          673,
          519
         ]
        }
       ],
       "layout": {
        "template": {
         "data": {
          "bar": [
           {
            "error_x": {
             "color": "#2a3f5f"
            },
            "error_y": {
             "color": "#2a3f5f"
            },
            "marker": {
             "line": {
              "color": "#E5ECF6",
              "width": 0.5
             }
            },
            "type": "bar"
           }
          ],
          "barpolar": [
           {
            "marker": {
             "line": {
              "color": "#E5ECF6",
              "width": 0.5
             }
            },
            "type": "barpolar"
           }
          ],
          "carpet": [
           {
            "aaxis": {
             "endlinecolor": "#2a3f5f",
             "gridcolor": "white",
             "linecolor": "white",
             "minorgridcolor": "white",
             "startlinecolor": "#2a3f5f"
            },
            "baxis": {
             "endlinecolor": "#2a3f5f",
             "gridcolor": "white",
             "linecolor": "white",
             "minorgridcolor": "white",
             "startlinecolor": "#2a3f5f"
            },
            "type": "carpet"
           }
          ],
          "choropleth": [
           {
            "colorbar": {
             "outlinewidth": 0,
             "ticks": ""
            },
            "type": "choropleth"
           }
          ],
          "contour": [
           {
            "colorbar": {
             "outlinewidth": 0,
             "ticks": ""
            },
            "colorscale": [
             [
              0,
              "#0d0887"
             ],
             [
              0.1111111111111111,
              "#46039f"
             ],
             [
              0.2222222222222222,
              "#7201a8"
             ],
             [
              0.3333333333333333,
              "#9c179e"
             ],
             [
              0.4444444444444444,
              "#bd3786"
             ],
             [
              0.5555555555555556,
              "#d8576b"
             ],
             [
              0.6666666666666666,
              "#ed7953"
             ],
             [
              0.7777777777777778,
              "#fb9f3a"
             ],
             [
              0.8888888888888888,
              "#fdca26"
             ],
             [
              1,
              "#f0f921"
             ]
            ],
            "type": "contour"
           }
          ],
          "contourcarpet": [
           {
            "colorbar": {
             "outlinewidth": 0,
             "ticks": ""
            },
            "type": "contourcarpet"
           }
          ],
          "heatmap": [
           {
            "colorbar": {
             "outlinewidth": 0,
             "ticks": ""
            },
            "colorscale": [
             [
              0,
              "#0d0887"
             ],
             [
              0.1111111111111111,
              "#46039f"
             ],
             [
              0.2222222222222222,
              "#7201a8"
             ],
             [
              0.3333333333333333,
              "#9c179e"
             ],
             [
              0.4444444444444444,
              "#bd3786"
             ],
             [
              0.5555555555555556,
              "#d8576b"
             ],
             [
              0.6666666666666666,
              "#ed7953"
             ],
             [
              0.7777777777777778,
              "#fb9f3a"
             ],
             [
              0.8888888888888888,
              "#fdca26"
             ],
             [
              1,
              "#f0f921"
             ]
            ],
            "type": "heatmap"
           }
          ],
          "heatmapgl": [
           {
            "colorbar": {
             "outlinewidth": 0,
             "ticks": ""
            },
            "colorscale": [
             [
              0,
              "#0d0887"
             ],
             [
              0.1111111111111111,
              "#46039f"
             ],
             [
              0.2222222222222222,
              "#7201a8"
             ],
             [
              0.3333333333333333,
              "#9c179e"
             ],
             [
              0.4444444444444444,
              "#bd3786"
             ],
             [
              0.5555555555555556,
              "#d8576b"
             ],
             [
              0.6666666666666666,
              "#ed7953"
             ],
             [
              0.7777777777777778,
              "#fb9f3a"
             ],
             [
              0.8888888888888888,
              "#fdca26"
             ],
             [
              1,
              "#f0f921"
             ]
            ],
            "type": "heatmapgl"
           }
          ],
          "histogram": [
           {
            "marker": {
             "colorbar": {
              "outlinewidth": 0,
              "ticks": ""
             }
            },
            "type": "histogram"
           }
          ],
          "histogram2d": [
           {
            "colorbar": {
             "outlinewidth": 0,
             "ticks": ""
            },
            "colorscale": [
             [
              0,
              "#0d0887"
             ],
             [
              0.1111111111111111,
              "#46039f"
             ],
             [
              0.2222222222222222,
              "#7201a8"
             ],
             [
              0.3333333333333333,
              "#9c179e"
             ],
             [
              0.4444444444444444,
              "#bd3786"
             ],
             [
              0.5555555555555556,
              "#d8576b"
             ],
             [
              0.6666666666666666,
              "#ed7953"
             ],
             [
              0.7777777777777778,
              "#fb9f3a"
             ],
             [
              0.8888888888888888,
              "#fdca26"
             ],
             [
              1,
              "#f0f921"
             ]
            ],
            "type": "histogram2d"
           }
          ],
          "histogram2dcontour": [
           {
            "colorbar": {
             "outlinewidth": 0,
             "ticks": ""
            },
            "colorscale": [
             [
              0,
              "#0d0887"
             ],
             [
              0.1111111111111111,
              "#46039f"
             ],
             [
              0.2222222222222222,
              "#7201a8"
             ],
             [
              0.3333333333333333,
              "#9c179e"
             ],
             [
              0.4444444444444444,
              "#bd3786"
             ],
             [
              0.5555555555555556,
              "#d8576b"
             ],
             [
              0.6666666666666666,
              "#ed7953"
             ],
             [
              0.7777777777777778,
              "#fb9f3a"
             ],
             [
              0.8888888888888888,
              "#fdca26"
             ],
             [
              1,
              "#f0f921"
             ]
            ],
            "type": "histogram2dcontour"
           }
          ],
          "mesh3d": [
           {
            "colorbar": {
             "outlinewidth": 0,
             "ticks": ""
            },
            "type": "mesh3d"
           }
          ],
          "parcoords": [
           {
            "line": {
             "colorbar": {
              "outlinewidth": 0,
              "ticks": ""
             }
            },
            "type": "parcoords"
           }
          ],
          "pie": [
           {
            "automargin": true,
            "type": "pie"
           }
          ],
          "scatter": [
           {
            "marker": {
             "colorbar": {
              "outlinewidth": 0,
              "ticks": ""
             }
            },
            "type": "scatter"
           }
          ],
          "scatter3d": [
           {
            "line": {
             "colorbar": {
              "outlinewidth": 0,
              "ticks": ""
             }
            },
            "marker": {
             "colorbar": {
              "outlinewidth": 0,
              "ticks": ""
             }
            },
            "type": "scatter3d"
           }
          ],
          "scattercarpet": [
           {
            "marker": {
             "colorbar": {
              "outlinewidth": 0,
              "ticks": ""
             }
            },
            "type": "scattercarpet"
           }
          ],
          "scattergeo": [
           {
            "marker": {
             "colorbar": {
              "outlinewidth": 0,
              "ticks": ""
             }
            },
            "type": "scattergeo"
           }
          ],
          "scattergl": [
           {
            "marker": {
             "colorbar": {
              "outlinewidth": 0,
              "ticks": ""
             }
            },
            "type": "scattergl"
           }
          ],
          "scattermapbox": [
           {
            "marker": {
             "colorbar": {
              "outlinewidth": 0,
              "ticks": ""
             }
            },
            "type": "scattermapbox"
           }
          ],
          "scatterpolar": [
           {
            "marker": {
             "colorbar": {
              "outlinewidth": 0,
              "ticks": ""
             }
            },
            "type": "scatterpolar"
           }
          ],
          "scatterpolargl": [
           {
            "marker": {
             "colorbar": {
              "outlinewidth": 0,
              "ticks": ""
             }
            },
            "type": "scatterpolargl"
           }
          ],
          "scatterternary": [
           {
            "marker": {
             "colorbar": {
              "outlinewidth": 0,
              "ticks": ""
             }
            },
            "type": "scatterternary"
           }
          ],
          "surface": [
           {
            "colorbar": {
             "outlinewidth": 0,
             "ticks": ""
            },
            "colorscale": [
             [
              0,
              "#0d0887"
             ],
             [
              0.1111111111111111,
              "#46039f"
             ],
             [
              0.2222222222222222,
              "#7201a8"
             ],
             [
              0.3333333333333333,
              "#9c179e"
             ],
             [
              0.4444444444444444,
              "#bd3786"
             ],
             [
              0.5555555555555556,
              "#d8576b"
             ],
             [
              0.6666666666666666,
              "#ed7953"
             ],
             [
              0.7777777777777778,
              "#fb9f3a"
             ],
             [
              0.8888888888888888,
              "#fdca26"
             ],
             [
              1,
              "#f0f921"
             ]
            ],
            "type": "surface"
           }
          ],
          "table": [
           {
            "cells": {
             "fill": {
              "color": "#EBF0F8"
             },
             "line": {
              "color": "white"
             }
            },
            "header": {
             "fill": {
              "color": "#C8D4E3"
             },
             "line": {
              "color": "white"
             }
            },
            "type": "table"
           }
          ]
         },
         "layout": {
          "annotationdefaults": {
           "arrowcolor": "#2a3f5f",
           "arrowhead": 0,
           "arrowwidth": 1
          },
          "coloraxis": {
           "colorbar": {
            "outlinewidth": 0,
            "ticks": ""
           }
          },
          "colorscale": {
           "diverging": [
            [
             0,
             "#8e0152"
            ],
            [
             0.1,
             "#c51b7d"
            ],
            [
             0.2,
             "#de77ae"
            ],
            [
             0.3,
             "#f1b6da"
            ],
            [
             0.4,
             "#fde0ef"
            ],
            [
             0.5,
             "#f7f7f7"
            ],
            [
             0.6,
             "#e6f5d0"
            ],
            [
             0.7,
             "#b8e186"
            ],
            [
             0.8,
             "#7fbc41"
            ],
            [
             0.9,
             "#4d9221"
            ],
            [
             1,
             "#276419"
            ]
           ],
           "sequential": [
            [
             0,
             "#0d0887"
            ],
            [
             0.1111111111111111,
             "#46039f"
            ],
            [
             0.2222222222222222,
             "#7201a8"
            ],
            [
             0.3333333333333333,
             "#9c179e"
            ],
            [
             0.4444444444444444,
             "#bd3786"
            ],
            [
             0.5555555555555556,
             "#d8576b"
            ],
            [
             0.6666666666666666,
             "#ed7953"
            ],
            [
             0.7777777777777778,
             "#fb9f3a"
            ],
            [
             0.8888888888888888,
             "#fdca26"
            ],
            [
             1,
             "#f0f921"
            ]
           ],
           "sequentialminus": [
            [
             0,
             "#0d0887"
            ],
            [
             0.1111111111111111,
             "#46039f"
            ],
            [
             0.2222222222222222,
             "#7201a8"
            ],
            [
             0.3333333333333333,
             "#9c179e"
            ],
            [
             0.4444444444444444,
             "#bd3786"
            ],
            [
             0.5555555555555556,
             "#d8576b"
            ],
            [
             0.6666666666666666,
             "#ed7953"
            ],
            [
             0.7777777777777778,
             "#fb9f3a"
            ],
            [
             0.8888888888888888,
             "#fdca26"
            ],
            [
             1,
             "#f0f921"
            ]
           ]
          },
          "colorway": [
           "#636efa",
           "#EF553B",
           "#00cc96",
           "#ab63fa",
           "#FFA15A",
           "#19d3f3",
           "#FF6692",
           "#B6E880",
           "#FF97FF",
           "#FECB52"
          ],
          "font": {
           "color": "#2a3f5f"
          },
          "geo": {
           "bgcolor": "white",
           "lakecolor": "white",
           "landcolor": "#E5ECF6",
           "showlakes": true,
           "showland": true,
           "subunitcolor": "white"
          },
          "hoverlabel": {
           "align": "left"
          },
          "hovermode": "closest",
          "mapbox": {
           "style": "light"
          },
          "paper_bgcolor": "white",
          "plot_bgcolor": "#E5ECF6",
          "polar": {
           "angularaxis": {
            "gridcolor": "white",
            "linecolor": "white",
            "ticks": ""
           },
           "bgcolor": "#E5ECF6",
           "radialaxis": {
            "gridcolor": "white",
            "linecolor": "white",
            "ticks": ""
           }
          },
          "scene": {
           "xaxis": {
            "backgroundcolor": "#E5ECF6",
            "gridcolor": "white",
            "gridwidth": 2,
            "linecolor": "white",
            "showbackground": true,
            "ticks": "",
            "zerolinecolor": "white"
           },
           "yaxis": {
            "backgroundcolor": "#E5ECF6",
            "gridcolor": "white",
            "gridwidth": 2,
            "linecolor": "white",
            "showbackground": true,
            "ticks": "",
            "zerolinecolor": "white"
           },
           "zaxis": {
            "backgroundcolor": "#E5ECF6",
            "gridcolor": "white",
            "gridwidth": 2,
            "linecolor": "white",
            "showbackground": true,
            "ticks": "",
            "zerolinecolor": "white"
           }
          },
          "shapedefaults": {
           "line": {
            "color": "#2a3f5f"
           }
          },
          "ternary": {
           "aaxis": {
            "gridcolor": "white",
            "linecolor": "white",
            "ticks": ""
           },
           "baxis": {
            "gridcolor": "white",
            "linecolor": "white",
            "ticks": ""
           },
           "bgcolor": "#E5ECF6",
           "caxis": {
            "gridcolor": "white",
            "linecolor": "white",
            "ticks": ""
           }
          },
          "title": {
           "x": 0.05
          },
          "xaxis": {
           "automargin": true,
           "gridcolor": "white",
           "linecolor": "white",
           "ticks": "",
           "title": {
            "standoff": 15
           },
           "zerolinecolor": "white",
           "zerolinewidth": 2
          },
          "yaxis": {
           "automargin": true,
           "gridcolor": "white",
           "linecolor": "white",
           "ticks": "",
           "title": {
            "standoff": 15
           },
           "zerolinecolor": "white",
           "zerolinewidth": 2
          }
         }
        },
        "title": {
         "text": "Distribution Of 13272 Ratings"
        },
        "xaxis": {
         "title": {
          "text": "Rating"
         }
        },
        "yaxis": {
         "title": {
          "text": "Count"
         }
        }
       }
      },
      "text/html": [
       "<div>                            <div id=\"d9a616a8-f8fa-4f17-90de-29795e5ecc7c\" class=\"plotly-graph-div\" style=\"height:525px; width:100%;\"></div>            <script type=\"text/javascript\">                require([\"plotly\"], function(Plotly) {                    window.PLOTLYENV=window.PLOTLYENV || {};                                    if (document.getElementById(\"d9a616a8-f8fa-4f17-90de-29795e5ecc7c\")) {                    Plotly.newPlot(                        \"d9a616a8-f8fa-4f17-90de-29795e5ecc7c\",                        [{\"text\": [\"53.0 %\", \"25.5 %\", \"12.5 %\", \"5.1 %\", \"3.9 %\"], \"textfont\": {\"color\": \"#000000\"}, \"textposition\": \"auto\", \"type\": \"bar\", \"x\": [5.0, 4.0, 3.0, 2.0, 1.0], \"y\": [7037, 3384, 1659, 673, 519]}],                        {\"template\": {\"data\": {\"bar\": [{\"error_x\": {\"color\": \"#2a3f5f\"}, \"error_y\": {\"color\": \"#2a3f5f\"}, \"marker\": {\"line\": {\"color\": \"#E5ECF6\", \"width\": 0.5}}, \"type\": \"bar\"}], \"barpolar\": [{\"marker\": {\"line\": {\"color\": \"#E5ECF6\", \"width\": 0.5}}, \"type\": \"barpolar\"}], \"carpet\": [{\"aaxis\": {\"endlinecolor\": \"#2a3f5f\", \"gridcolor\": \"white\", \"linecolor\": \"white\", \"minorgridcolor\": \"white\", \"startlinecolor\": \"#2a3f5f\"}, \"baxis\": {\"endlinecolor\": \"#2a3f5f\", \"gridcolor\": \"white\", \"linecolor\": \"white\", \"minorgridcolor\": \"white\", \"startlinecolor\": \"#2a3f5f\"}, \"type\": \"carpet\"}], \"choropleth\": [{\"colorbar\": {\"outlinewidth\": 0, \"ticks\": \"\"}, \"type\": \"choropleth\"}], \"contour\": [{\"colorbar\": {\"outlinewidth\": 0, \"ticks\": \"\"}, \"colorscale\": [[0.0, \"#0d0887\"], [0.1111111111111111, \"#46039f\"], [0.2222222222222222, \"#7201a8\"], [0.3333333333333333, \"#9c179e\"], [0.4444444444444444, \"#bd3786\"], [0.5555555555555556, \"#d8576b\"], [0.6666666666666666, \"#ed7953\"], [0.7777777777777778, \"#fb9f3a\"], [0.8888888888888888, \"#fdca26\"], [1.0, \"#f0f921\"]], \"type\": \"contour\"}], \"contourcarpet\": [{\"colorbar\": {\"outlinewidth\": 0, \"ticks\": \"\"}, \"type\": \"contourcarpet\"}], \"heatmap\": [{\"colorbar\": {\"outlinewidth\": 0, \"ticks\": \"\"}, \"colorscale\": [[0.0, \"#0d0887\"], [0.1111111111111111, \"#46039f\"], [0.2222222222222222, \"#7201a8\"], [0.3333333333333333, \"#9c179e\"], [0.4444444444444444, \"#bd3786\"], [0.5555555555555556, \"#d8576b\"], [0.6666666666666666, \"#ed7953\"], [0.7777777777777778, \"#fb9f3a\"], [0.8888888888888888, \"#fdca26\"], [1.0, \"#f0f921\"]], \"type\": \"heatmap\"}], \"heatmapgl\": [{\"colorbar\": {\"outlinewidth\": 0, \"ticks\": \"\"}, \"colorscale\": [[0.0, \"#0d0887\"], [0.1111111111111111, \"#46039f\"], [0.2222222222222222, \"#7201a8\"], [0.3333333333333333, \"#9c179e\"], [0.4444444444444444, \"#bd3786\"], [0.5555555555555556, \"#d8576b\"], [0.6666666666666666, \"#ed7953\"], [0.7777777777777778, \"#fb9f3a\"], [0.8888888888888888, \"#fdca26\"], [1.0, \"#f0f921\"]], \"type\": \"heatmapgl\"}], \"histogram\": [{\"marker\": {\"colorbar\": {\"outlinewidth\": 0, \"ticks\": \"\"}}, \"type\": \"histogram\"}], \"histogram2d\": [{\"colorbar\": {\"outlinewidth\": 0, \"ticks\": \"\"}, \"colorscale\": [[0.0, \"#0d0887\"], [0.1111111111111111, \"#46039f\"], [0.2222222222222222, \"#7201a8\"], [0.3333333333333333, \"#9c179e\"], [0.4444444444444444, \"#bd3786\"], [0.5555555555555556, \"#d8576b\"], [0.6666666666666666, \"#ed7953\"], [0.7777777777777778, \"#fb9f3a\"], [0.8888888888888888, \"#fdca26\"], [1.0, \"#f0f921\"]], \"type\": \"histogram2d\"}], \"histogram2dcontour\": [{\"colorbar\": {\"outlinewidth\": 0, \"ticks\": \"\"}, \"colorscale\": [[0.0, \"#0d0887\"], [0.1111111111111111, \"#46039f\"], [0.2222222222222222, \"#7201a8\"], [0.3333333333333333, \"#9c179e\"], [0.4444444444444444, \"#bd3786\"], [0.5555555555555556, \"#d8576b\"], [0.6666666666666666, \"#ed7953\"], [0.7777777777777778, \"#fb9f3a\"], [0.8888888888888888, \"#fdca26\"], [1.0, \"#f0f921\"]], \"type\": \"histogram2dcontour\"}], \"mesh3d\": [{\"colorbar\": {\"outlinewidth\": 0, \"ticks\": \"\"}, \"type\": \"mesh3d\"}], \"parcoords\": [{\"line\": {\"colorbar\": {\"outlinewidth\": 0, \"ticks\": \"\"}}, \"type\": \"parcoords\"}], \"pie\": [{\"automargin\": true, \"type\": \"pie\"}], \"scatter\": [{\"marker\": {\"colorbar\": {\"outlinewidth\": 0, \"ticks\": \"\"}}, \"type\": \"scatter\"}], \"scatter3d\": [{\"line\": {\"colorbar\": {\"outlinewidth\": 0, \"ticks\": \"\"}}, \"marker\": {\"colorbar\": {\"outlinewidth\": 0, \"ticks\": \"\"}}, \"type\": \"scatter3d\"}], \"scattercarpet\": [{\"marker\": {\"colorbar\": {\"outlinewidth\": 0, \"ticks\": \"\"}}, \"type\": \"scattercarpet\"}], \"scattergeo\": [{\"marker\": {\"colorbar\": {\"outlinewidth\": 0, \"ticks\": \"\"}}, \"type\": \"scattergeo\"}], \"scattergl\": [{\"marker\": {\"colorbar\": {\"outlinewidth\": 0, \"ticks\": \"\"}}, \"type\": \"scattergl\"}], \"scattermapbox\": [{\"marker\": {\"colorbar\": {\"outlinewidth\": 0, \"ticks\": \"\"}}, \"type\": \"scattermapbox\"}], \"scatterpolar\": [{\"marker\": {\"colorbar\": {\"outlinewidth\": 0, \"ticks\": \"\"}}, \"type\": \"scatterpolar\"}], \"scatterpolargl\": [{\"marker\": {\"colorbar\": {\"outlinewidth\": 0, \"ticks\": \"\"}}, \"type\": \"scatterpolargl\"}], \"scatterternary\": [{\"marker\": {\"colorbar\": {\"outlinewidth\": 0, \"ticks\": \"\"}}, \"type\": \"scatterternary\"}], \"surface\": [{\"colorbar\": {\"outlinewidth\": 0, \"ticks\": \"\"}, \"colorscale\": [[0.0, \"#0d0887\"], [0.1111111111111111, \"#46039f\"], [0.2222222222222222, \"#7201a8\"], [0.3333333333333333, \"#9c179e\"], [0.4444444444444444, \"#bd3786\"], [0.5555555555555556, \"#d8576b\"], [0.6666666666666666, \"#ed7953\"], [0.7777777777777778, \"#fb9f3a\"], [0.8888888888888888, \"#fdca26\"], [1.0, \"#f0f921\"]], \"type\": \"surface\"}], \"table\": [{\"cells\": {\"fill\": {\"color\": \"#EBF0F8\"}, \"line\": {\"color\": \"white\"}}, \"header\": {\"fill\": {\"color\": \"#C8D4E3\"}, \"line\": {\"color\": \"white\"}}, \"type\": \"table\"}]}, \"layout\": {\"annotationdefaults\": {\"arrowcolor\": \"#2a3f5f\", \"arrowhead\": 0, \"arrowwidth\": 1}, \"coloraxis\": {\"colorbar\": {\"outlinewidth\": 0, \"ticks\": \"\"}}, \"colorscale\": {\"diverging\": [[0, \"#8e0152\"], [0.1, \"#c51b7d\"], [0.2, \"#de77ae\"], [0.3, \"#f1b6da\"], [0.4, \"#fde0ef\"], [0.5, \"#f7f7f7\"], [0.6, \"#e6f5d0\"], [0.7, \"#b8e186\"], [0.8, \"#7fbc41\"], [0.9, \"#4d9221\"], [1, \"#276419\"]], \"sequential\": [[0.0, \"#0d0887\"], [0.1111111111111111, \"#46039f\"], [0.2222222222222222, \"#7201a8\"], [0.3333333333333333, \"#9c179e\"], [0.4444444444444444, \"#bd3786\"], [0.5555555555555556, \"#d8576b\"], [0.6666666666666666, \"#ed7953\"], [0.7777777777777778, \"#fb9f3a\"], [0.8888888888888888, \"#fdca26\"], [1.0, \"#f0f921\"]], \"sequentialminus\": [[0.0, \"#0d0887\"], [0.1111111111111111, \"#46039f\"], [0.2222222222222222, \"#7201a8\"], [0.3333333333333333, \"#9c179e\"], [0.4444444444444444, \"#bd3786\"], [0.5555555555555556, \"#d8576b\"], [0.6666666666666666, \"#ed7953\"], [0.7777777777777778, \"#fb9f3a\"], [0.8888888888888888, \"#fdca26\"], [1.0, \"#f0f921\"]]}, \"colorway\": [\"#636efa\", \"#EF553B\", \"#00cc96\", \"#ab63fa\", \"#FFA15A\", \"#19d3f3\", \"#FF6692\", \"#B6E880\", \"#FF97FF\", \"#FECB52\"], \"font\": {\"color\": \"#2a3f5f\"}, \"geo\": {\"bgcolor\": \"white\", \"lakecolor\": \"white\", \"landcolor\": \"#E5ECF6\", \"showlakes\": true, \"showland\": true, \"subunitcolor\": \"white\"}, \"hoverlabel\": {\"align\": \"left\"}, \"hovermode\": \"closest\", \"mapbox\": {\"style\": \"light\"}, \"paper_bgcolor\": \"white\", \"plot_bgcolor\": \"#E5ECF6\", \"polar\": {\"angularaxis\": {\"gridcolor\": \"white\", \"linecolor\": \"white\", \"ticks\": \"\"}, \"bgcolor\": \"#E5ECF6\", \"radialaxis\": {\"gridcolor\": \"white\", \"linecolor\": \"white\", \"ticks\": \"\"}}, \"scene\": {\"xaxis\": {\"backgroundcolor\": \"#E5ECF6\", \"gridcolor\": \"white\", \"gridwidth\": 2, \"linecolor\": \"white\", \"showbackground\": true, \"ticks\": \"\", \"zerolinecolor\": \"white\"}, \"yaxis\": {\"backgroundcolor\": \"#E5ECF6\", \"gridcolor\": \"white\", \"gridwidth\": 2, \"linecolor\": \"white\", \"showbackground\": true, \"ticks\": \"\", \"zerolinecolor\": \"white\"}, \"zaxis\": {\"backgroundcolor\": \"#E5ECF6\", \"gridcolor\": \"white\", \"gridwidth\": 2, \"linecolor\": \"white\", \"showbackground\": true, \"ticks\": \"\", \"zerolinecolor\": \"white\"}}, \"shapedefaults\": {\"line\": {\"color\": \"#2a3f5f\"}}, \"ternary\": {\"aaxis\": {\"gridcolor\": \"white\", \"linecolor\": \"white\", \"ticks\": \"\"}, \"baxis\": {\"gridcolor\": \"white\", \"linecolor\": \"white\", \"ticks\": \"\"}, \"bgcolor\": \"#E5ECF6\", \"caxis\": {\"gridcolor\": \"white\", \"linecolor\": \"white\", \"ticks\": \"\"}}, \"title\": {\"x\": 0.05}, \"xaxis\": {\"automargin\": true, \"gridcolor\": \"white\", \"linecolor\": \"white\", \"ticks\": \"\", \"title\": {\"standoff\": 15}, \"zerolinecolor\": \"white\", \"zerolinewidth\": 2}, \"yaxis\": {\"automargin\": true, \"gridcolor\": \"white\", \"linecolor\": \"white\", \"ticks\": \"\", \"title\": {\"standoff\": 15}, \"zerolinecolor\": \"white\", \"zerolinewidth\": 2}}}, \"title\": {\"text\": \"Distribution Of 13272 Ratings\"}, \"xaxis\": {\"title\": {\"text\": \"Rating\"}}, \"yaxis\": {\"title\": {\"text\": \"Count\"}}},                        {\"responsive\": true}                    ).then(function(){\n",
       "                            \n",
       "var gd = document.getElementById('d9a616a8-f8fa-4f17-90de-29795e5ecc7c');\n",
       "var x = new MutationObserver(function (mutations, observer) {{\n",
       "        var display = window.getComputedStyle(gd).display;\n",
       "        if (!display || display === 'none') {{\n",
       "            console.log([gd, 'removed!']);\n",
       "            Plotly.purge(gd);\n",
       "            observer.disconnect();\n",
       "        }}\n",
       "}});\n",
       "\n",
       "// Listen for the removal of the full notebook cells\n",
       "var notebookContainer = gd.closest('#notebook-container');\n",
       "if (notebookContainer) {{\n",
       "    x.observe(notebookContainer, {childList: true});\n",
       "}}\n",
       "\n",
       "// Listen for the clearing of the current output cell\n",
       "var outputEl = gd.closest('.output');\n",
       "if (outputEl) {{\n",
       "    x.observe(outputEl, {childList: true});\n",
       "}}\n",
       "\n",
       "                        })                };                });            </script>        </div>"
      ]
     },
     "metadata": {},
     "output_type": "display_data"
    }
   ],
   "source": [
    "init_notebook_mode(connected=True)\n",
    "\n",
    "# Count the number of times each rating appears in the dataset\n",
    "data = df['overall'].value_counts().sort_index(ascending=False)\n",
    "\n",
    "# Create the histogram\n",
    "trace = go.Bar(x = data.index,\n",
    "               text = ['{:.1f} %'.format(val) for val in (data.values / df.shape[0] * 100)],\n",
    "               textposition = 'auto',\n",
    "               textfont = dict(color = '#000000'),\n",
    "               y = data.values,\n",
    "               )\n",
    "# Create layout\n",
    "layout = dict(title = 'Distribution Of {} Ratings'.format(df.shape[0]),\n",
    "              xaxis = dict(title = 'Rating'),\n",
    "              yaxis = dict(title = 'Count'))\n",
    "# Create plot\n",
    "fig = go.Figure(data=[trace], layout=layout)\n",
    "iplot(fig)\n"
   ]
  },
  {
   "cell_type": "markdown",
   "metadata": {},
   "source": [
    " We can see the distribution of the ratings is skewed to the high values.\n",
    "## Numbers of ratings per item ----\n",
    " The following analysis checks how many ratings (interactions) each item has.<br>\n",
    " The degree in which this long tail phenomena occurs will be related to aspects such as serendipity or overespecialization of the recommendations and the recommendation methodology that you should select."
   ]
  },
  {
   "cell_type": "code",
   "execution_count": 7,
   "metadata": {},
   "outputs": [
    {
     "data": {
      "application/vnd.plotly.v1+json": {
       "config": {
        "linkText": "Export to plot.ly",
        "plotlyServerURL": "https://plot.ly",
        "showLink": false
       },
       "data": [
        {
         "name": "Ratings",
         "type": "histogram",
         "x": [
          6,
          5,
          8,
          9,
          9,
          10,
          7,
          11,
          6,
          27,
          36,
          5,
          8,
          7,
          5,
          20,
          5,
          5,
          5,
          7,
          6,
          5,
          16,
          6,
          6,
          12,
          6,
          5,
          11,
          6,
          18,
          14,
          6,
          17,
          5,
          5,
          6,
          5,
          9,
          14,
          6,
          9,
          6,
          11,
          5,
          35,
          28,
          25,
          9,
          6,
          5,
          8,
          5,
          8,
          5,
          6,
          14,
          7,
          7,
          7,
          6,
          18,
          11,
          10,
          6,
          6,
          36,
          6,
          11,
          6,
          11,
          5,
          6,
          6,
          11,
          5,
          14,
          5,
          36,
          8,
          13,
          35,
          9,
          5,
          9,
          10,
          6,
          10,
          8,
          12,
          5,
          7,
          61,
          11,
          7,
          11,
          8,
          5,
          9,
          6,
          18,
          27,
          22,
          17,
          15,
          10,
          13,
          9,
          5,
          6,
          6,
          5,
          6,
          5,
          6,
          6,
          5,
          14,
          5,
          11,
          5,
          10,
          11,
          6,
          8,
          5,
          30,
          6,
          5,
          28,
          6,
          5,
          7,
          5,
          7,
          9,
          7,
          6,
          6,
          15,
          14,
          9,
          6,
          7,
          7,
          39,
          5,
          6,
          5,
          14,
          6,
          5,
          9,
          7,
          7,
          5,
          5,
          16,
          5,
          14,
          6,
          6,
          7,
          10,
          9,
          5,
          12,
          296,
          6,
          7,
          7,
          5,
          5,
          6,
          5,
          8,
          19,
          5,
          16,
          8,
          11,
          6,
          13,
          5,
          9,
          5,
          10,
          8,
          12,
          53,
          16,
          8,
          7,
          15,
          9,
          8,
          78,
          6,
          15,
          7,
          6,
          9,
          8,
          8,
          11,
          10,
          12,
          12,
          13,
          15,
          5,
          29,
          8,
          17,
          18,
          6,
          10,
          9,
          7,
          5,
          5,
          6,
          12,
          11,
          5,
          6,
          6,
          12,
          15,
          117,
          7,
          9,
          8,
          24,
          8,
          14,
          5,
          32,
          29,
          41,
          8,
          8,
          8,
          6,
          5,
          8,
          28,
          5,
          5,
          5,
          5,
          74,
          11,
          6,
          5,
          33,
          6,
          5,
          9,
          9,
          33,
          7,
          6,
          19,
          12,
          16,
          15,
          47,
          37,
          5,
          5,
          16,
          36,
          20,
          14,
          5,
          36,
          5,
          6,
          17,
          7,
          7,
          7,
          35,
          6,
          17,
          17,
          6,
          10,
          14,
          10,
          15,
          11,
          10,
          7,
          5,
          8,
          36,
          33,
          23,
          7,
          9,
          16,
          11,
          8,
          7,
          10,
          31,
          6,
          12,
          10,
          6,
          45,
          5,
          5,
          6,
          8,
          5,
          15,
          16,
          7,
          6,
          6,
          12,
          5,
          6,
          5,
          9,
          6,
          10,
          8,
          11,
          6,
          7,
          25,
          9,
          7,
          35,
          6,
          6,
          6,
          5,
          5,
          64,
          8,
          8,
          7,
          8,
          7,
          14,
          6,
          64,
          12,
          7,
          5,
          9,
          5,
          5,
          5,
          10,
          6,
          11,
          5,
          6,
          16,
          10,
          15,
          11,
          7,
          6,
          18,
          30,
          5,
          6,
          7,
          12,
          7,
          20,
          10,
          5,
          28,
          5,
          8,
          9,
          6,
          11,
          5,
          70,
          24,
          7,
          10,
          5,
          5,
          11,
          6,
          6,
          6,
          11,
          9,
          5,
          5,
          5,
          6,
          32,
          23,
          5,
          13,
          21,
          6,
          11,
          6,
          9,
          5,
          6,
          8,
          9,
          14,
          7,
          13,
          5,
          10,
          11,
          5,
          5,
          6,
          6,
          8,
          13,
          9,
          7,
          9,
          5,
          26,
          41,
          18,
          10,
          9,
          12,
          5,
          5,
          8,
          6,
          5,
          11,
          12,
          5,
          5,
          6,
          5,
          52,
          9,
          5,
          5,
          10,
          9,
          11,
          6,
          7,
          12,
          5,
          9,
          7,
          11,
          14,
          12,
          5,
          6,
          26,
          23,
          5,
          42,
          7,
          5,
          5,
          6,
          6,
          15,
          13,
          7,
          19,
          7,
          30,
          6,
          7,
          11,
          5,
          12,
          18,
          8,
          7,
          10,
          5,
          7,
          30,
          6,
          5,
          5,
          16,
          12,
          5,
          8,
          5,
          20,
          6,
          59,
          8,
          8,
          8,
          8,
          6,
          5,
          7,
          6,
          10,
          10,
          11,
          10,
          5,
          7,
          6,
          6,
          6,
          9,
          7,
          36,
          30,
          32,
          34,
          9,
          6,
          8,
          8,
          8,
          8,
          9,
          5,
          7,
          6,
          5,
          5,
          5,
          6,
          6,
          6,
          6,
          12,
          6,
          5,
          6,
          5,
          46,
          5,
          9,
          62,
          5,
          6,
          6,
          10,
          9,
          8,
          5,
          5,
          6,
          9,
          22,
          24,
          12,
          12,
          10,
          8,
          7,
          5,
          5,
          12,
          5,
          6,
          5,
          138,
          5,
          9,
          13,
          13,
          8,
          6,
          14,
          12,
          8,
          9,
          22,
          11,
          7,
          5,
          39,
          5,
          5,
          5,
          11,
          10,
          5,
          12,
          5,
          27,
          8,
          26,
          7,
          7,
          6,
          5,
          6,
          5,
          8,
          5,
          38,
          5,
          8,
          8,
          13,
          13,
          8,
          10,
          5,
          5,
          83,
          7,
          5,
          6,
          9,
          17,
          5,
          5,
          7,
          5,
          7,
          9,
          5,
          12,
          6,
          26,
          6,
          6,
          8,
          6,
          15,
          5,
          42,
          10,
          7,
          8,
          15,
          6,
          7,
          5,
          8,
          18,
          9,
          13,
          12,
          5,
          18,
          9,
          6,
          6,
          6,
          5,
          6,
          49,
          7,
          8,
          15,
          45,
          5,
          5,
          25,
          9,
          9,
          6,
          7,
          12,
          6,
          6,
          5,
          8,
          8,
          8,
          16,
          33,
          6,
          5,
          27,
          7,
          5,
          13,
          11,
          5,
          33,
          5,
          6,
          25,
          23,
          32,
          12,
          31,
          5,
          20,
          11,
          7,
          5,
          8,
          11,
          8,
          5,
          6,
          14,
          27,
          18,
          37,
          19,
          10,
          6,
          7,
          6,
          5,
          71,
          7,
          9,
          7,
          6,
          8,
          7,
          42,
          15,
          13,
          6,
          5,
          6,
          5,
          7,
          6,
          5,
          5,
          9,
          11,
          9,
          5,
          5,
          11,
          9,
          6,
          8,
          29,
          14,
          32,
          8,
          5,
          58,
          21,
          11,
          11,
          22,
          17,
          5,
          81,
          50,
          7,
          25,
          7,
          8,
          20,
          20,
          28,
          13,
          18,
          7,
          6,
          6,
          5,
          16,
          35,
          13,
          24,
          11,
          34,
          5,
          5,
          6,
          7,
          9,
          20,
          31,
          11,
          26,
          23,
          55,
          14,
          37,
          36,
          45,
          42,
          24,
          12,
          7,
          6,
          5,
          7,
          5,
          24,
          8,
          46,
          5,
          28,
          24,
          5,
          5,
          6,
          9,
          8,
          7,
          10,
          5,
          11,
          8,
          74,
          11,
          5,
          10,
          11,
          12,
          12,
          16,
          9,
          6,
          9,
          14,
          27,
          19,
          23,
          18,
          14,
          60,
          28,
          7,
          16,
          68,
          19,
          36,
          10,
          5,
          5,
          12,
          40,
          29,
          34,
          5,
          61,
          11,
          6,
          33,
          21,
          28,
          17,
          12,
          11,
          6,
          6,
          11,
          8,
          7,
          31,
          38,
          51,
          45,
          40,
          43,
          12,
          175,
          13,
          17,
          7,
          48,
          13,
          46,
          5,
          8,
          9,
          7,
          13,
          13,
          5,
          11,
          6,
          14,
          5,
          6,
          26,
          17,
          20,
          13,
          36,
          10,
          10,
          6,
          5,
          13,
          23,
          37,
          32,
          50,
          12,
          16,
          11,
          13,
          18,
          41,
          16,
          33,
          19,
          9,
          20,
          45,
          19,
          6,
          13,
          36,
          35,
          31,
          40,
          7,
          11,
          34,
          7,
          10,
          14,
          30,
          30,
          22,
          29,
          24,
          12,
          29,
          28,
          5,
          35,
          10,
          12,
          7,
          12,
          12,
          6,
          11,
          13,
          17,
          17,
          6,
          8,
          8,
          5,
          16,
          5,
          16,
          11,
          5,
          12
         ],
         "xbins": {
          "size": 2,
          "start": 0
         }
        }
       ],
       "layout": {
        "bargap": 0.2,
        "template": {
         "data": {
          "bar": [
           {
            "error_x": {
             "color": "#2a3f5f"
            },
            "error_y": {
             "color": "#2a3f5f"
            },
            "marker": {
             "line": {
              "color": "#E5ECF6",
              "width": 0.5
             }
            },
            "type": "bar"
           }
          ],
          "barpolar": [
           {
            "marker": {
             "line": {
              "color": "#E5ECF6",
              "width": 0.5
             }
            },
            "type": "barpolar"
           }
          ],
          "carpet": [
           {
            "aaxis": {
             "endlinecolor": "#2a3f5f",
             "gridcolor": "white",
             "linecolor": "white",
             "minorgridcolor": "white",
             "startlinecolor": "#2a3f5f"
            },
            "baxis": {
             "endlinecolor": "#2a3f5f",
             "gridcolor": "white",
             "linecolor": "white",
             "minorgridcolor": "white",
             "startlinecolor": "#2a3f5f"
            },
            "type": "carpet"
           }
          ],
          "choropleth": [
           {
            "colorbar": {
             "outlinewidth": 0,
             "ticks": ""
            },
            "type": "choropleth"
           }
          ],
          "contour": [
           {
            "colorbar": {
             "outlinewidth": 0,
             "ticks": ""
            },
            "colorscale": [
             [
              0,
              "#0d0887"
             ],
             [
              0.1111111111111111,
              "#46039f"
             ],
             [
              0.2222222222222222,
              "#7201a8"
             ],
             [
              0.3333333333333333,
              "#9c179e"
             ],
             [
              0.4444444444444444,
              "#bd3786"
             ],
             [
              0.5555555555555556,
              "#d8576b"
             ],
             [
              0.6666666666666666,
              "#ed7953"
             ],
             [
              0.7777777777777778,
              "#fb9f3a"
             ],
             [
              0.8888888888888888,
              "#fdca26"
             ],
             [
              1,
              "#f0f921"
             ]
            ],
            "type": "contour"
           }
          ],
          "contourcarpet": [
           {
            "colorbar": {
             "outlinewidth": 0,
             "ticks": ""
            },
            "type": "contourcarpet"
           }
          ],
          "heatmap": [
           {
            "colorbar": {
             "outlinewidth": 0,
             "ticks": ""
            },
            "colorscale": [
             [
              0,
              "#0d0887"
             ],
             [
              0.1111111111111111,
              "#46039f"
             ],
             [
              0.2222222222222222,
              "#7201a8"
             ],
             [
              0.3333333333333333,
              "#9c179e"
             ],
             [
              0.4444444444444444,
              "#bd3786"
             ],
             [
              0.5555555555555556,
              "#d8576b"
             ],
             [
              0.6666666666666666,
              "#ed7953"
             ],
             [
              0.7777777777777778,
              "#fb9f3a"
             ],
             [
              0.8888888888888888,
              "#fdca26"
             ],
             [
              1,
              "#f0f921"
             ]
            ],
            "type": "heatmap"
           }
          ],
          "heatmapgl": [
           {
            "colorbar": {
             "outlinewidth": 0,
             "ticks": ""
            },
            "colorscale": [
             [
              0,
              "#0d0887"
             ],
             [
              0.1111111111111111,
              "#46039f"
             ],
             [
              0.2222222222222222,
              "#7201a8"
             ],
             [
              0.3333333333333333,
              "#9c179e"
             ],
             [
              0.4444444444444444,
              "#bd3786"
             ],
             [
              0.5555555555555556,
              "#d8576b"
             ],
             [
              0.6666666666666666,
              "#ed7953"
             ],
             [
              0.7777777777777778,
              "#fb9f3a"
             ],
             [
              0.8888888888888888,
              "#fdca26"
             ],
             [
              1,
              "#f0f921"
             ]
            ],
            "type": "heatmapgl"
           }
          ],
          "histogram": [
           {
            "marker": {
             "colorbar": {
              "outlinewidth": 0,
              "ticks": ""
             }
            },
            "type": "histogram"
           }
          ],
          "histogram2d": [
           {
            "colorbar": {
             "outlinewidth": 0,
             "ticks": ""
            },
            "colorscale": [
             [
              0,
              "#0d0887"
             ],
             [
              0.1111111111111111,
              "#46039f"
             ],
             [
              0.2222222222222222,
              "#7201a8"
             ],
             [
              0.3333333333333333,
              "#9c179e"
             ],
             [
              0.4444444444444444,
              "#bd3786"
             ],
             [
              0.5555555555555556,
              "#d8576b"
             ],
             [
              0.6666666666666666,
              "#ed7953"
             ],
             [
              0.7777777777777778,
              "#fb9f3a"
             ],
             [
              0.8888888888888888,
              "#fdca26"
             ],
             [
              1,
              "#f0f921"
             ]
            ],
            "type": "histogram2d"
           }
          ],
          "histogram2dcontour": [
           {
            "colorbar": {
             "outlinewidth": 0,
             "ticks": ""
            },
            "colorscale": [
             [
              0,
              "#0d0887"
             ],
             [
              0.1111111111111111,
              "#46039f"
             ],
             [
              0.2222222222222222,
              "#7201a8"
             ],
             [
              0.3333333333333333,
              "#9c179e"
             ],
             [
              0.4444444444444444,
              "#bd3786"
             ],
             [
              0.5555555555555556,
              "#d8576b"
             ],
             [
              0.6666666666666666,
              "#ed7953"
             ],
             [
              0.7777777777777778,
              "#fb9f3a"
             ],
             [
              0.8888888888888888,
              "#fdca26"
             ],
             [
              1,
              "#f0f921"
             ]
            ],
            "type": "histogram2dcontour"
           }
          ],
          "mesh3d": [
           {
            "colorbar": {
             "outlinewidth": 0,
             "ticks": ""
            },
            "type": "mesh3d"
           }
          ],
          "parcoords": [
           {
            "line": {
             "colorbar": {
              "outlinewidth": 0,
              "ticks": ""
             }
            },
            "type": "parcoords"
           }
          ],
          "pie": [
           {
            "automargin": true,
            "type": "pie"
           }
          ],
          "scatter": [
           {
            "marker": {
             "colorbar": {
              "outlinewidth": 0,
              "ticks": ""
             }
            },
            "type": "scatter"
           }
          ],
          "scatter3d": [
           {
            "line": {
             "colorbar": {
              "outlinewidth": 0,
              "ticks": ""
             }
            },
            "marker": {
             "colorbar": {
              "outlinewidth": 0,
              "ticks": ""
             }
            },
            "type": "scatter3d"
           }
          ],
          "scattercarpet": [
           {
            "marker": {
             "colorbar": {
              "outlinewidth": 0,
              "ticks": ""
             }
            },
            "type": "scattercarpet"
           }
          ],
          "scattergeo": [
           {
            "marker": {
             "colorbar": {
              "outlinewidth": 0,
              "ticks": ""
             }
            },
            "type": "scattergeo"
           }
          ],
          "scattergl": [
           {
            "marker": {
             "colorbar": {
              "outlinewidth": 0,
              "ticks": ""
             }
            },
            "type": "scattergl"
           }
          ],
          "scattermapbox": [
           {
            "marker": {
             "colorbar": {
              "outlinewidth": 0,
              "ticks": ""
             }
            },
            "type": "scattermapbox"
           }
          ],
          "scatterpolar": [
           {
            "marker": {
             "colorbar": {
              "outlinewidth": 0,
              "ticks": ""
             }
            },
            "type": "scatterpolar"
           }
          ],
          "scatterpolargl": [
           {
            "marker": {
             "colorbar": {
              "outlinewidth": 0,
              "ticks": ""
             }
            },
            "type": "scatterpolargl"
           }
          ],
          "scatterternary": [
           {
            "marker": {
             "colorbar": {
              "outlinewidth": 0,
              "ticks": ""
             }
            },
            "type": "scatterternary"
           }
          ],
          "surface": [
           {
            "colorbar": {
             "outlinewidth": 0,
             "ticks": ""
            },
            "colorscale": [
             [
              0,
              "#0d0887"
             ],
             [
              0.1111111111111111,
              "#46039f"
             ],
             [
              0.2222222222222222,
              "#7201a8"
             ],
             [
              0.3333333333333333,
              "#9c179e"
             ],
             [
              0.4444444444444444,
              "#bd3786"
             ],
             [
              0.5555555555555556,
              "#d8576b"
             ],
             [
              0.6666666666666666,
              "#ed7953"
             ],
             [
              0.7777777777777778,
              "#fb9f3a"
             ],
             [
              0.8888888888888888,
              "#fdca26"
             ],
             [
              1,
              "#f0f921"
             ]
            ],
            "type": "surface"
           }
          ],
          "table": [
           {
            "cells": {
             "fill": {
              "color": "#EBF0F8"
             },
             "line": {
              "color": "white"
             }
            },
            "header": {
             "fill": {
              "color": "#C8D4E3"
             },
             "line": {
              "color": "white"
             }
            },
            "type": "table"
           }
          ]
         },
         "layout": {
          "annotationdefaults": {
           "arrowcolor": "#2a3f5f",
           "arrowhead": 0,
           "arrowwidth": 1
          },
          "coloraxis": {
           "colorbar": {
            "outlinewidth": 0,
            "ticks": ""
           }
          },
          "colorscale": {
           "diverging": [
            [
             0,
             "#8e0152"
            ],
            [
             0.1,
             "#c51b7d"
            ],
            [
             0.2,
             "#de77ae"
            ],
            [
             0.3,
             "#f1b6da"
            ],
            [
             0.4,
             "#fde0ef"
            ],
            [
             0.5,
             "#f7f7f7"
            ],
            [
             0.6,
             "#e6f5d0"
            ],
            [
             0.7,
             "#b8e186"
            ],
            [
             0.8,
             "#7fbc41"
            ],
            [
             0.9,
             "#4d9221"
            ],
            [
             1,
             "#276419"
            ]
           ],
           "sequential": [
            [
             0,
             "#0d0887"
            ],
            [
             0.1111111111111111,
             "#46039f"
            ],
            [
             0.2222222222222222,
             "#7201a8"
            ],
            [
             0.3333333333333333,
             "#9c179e"
            ],
            [
             0.4444444444444444,
             "#bd3786"
            ],
            [
             0.5555555555555556,
             "#d8576b"
            ],
            [
             0.6666666666666666,
             "#ed7953"
            ],
            [
             0.7777777777777778,
             "#fb9f3a"
            ],
            [
             0.8888888888888888,
             "#fdca26"
            ],
            [
             1,
             "#f0f921"
            ]
           ],
           "sequentialminus": [
            [
             0,
             "#0d0887"
            ],
            [
             0.1111111111111111,
             "#46039f"
            ],
            [
             0.2222222222222222,
             "#7201a8"
            ],
            [
             0.3333333333333333,
             "#9c179e"
            ],
            [
             0.4444444444444444,
             "#bd3786"
            ],
            [
             0.5555555555555556,
             "#d8576b"
            ],
            [
             0.6666666666666666,
             "#ed7953"
            ],
            [
             0.7777777777777778,
             "#fb9f3a"
            ],
            [
             0.8888888888888888,
             "#fdca26"
            ],
            [
             1,
             "#f0f921"
            ]
           ]
          },
          "colorway": [
           "#636efa",
           "#EF553B",
           "#00cc96",
           "#ab63fa",
           "#FFA15A",
           "#19d3f3",
           "#FF6692",
           "#B6E880",
           "#FF97FF",
           "#FECB52"
          ],
          "font": {
           "color": "#2a3f5f"
          },
          "geo": {
           "bgcolor": "white",
           "lakecolor": "white",
           "landcolor": "#E5ECF6",
           "showlakes": true,
           "showland": true,
           "subunitcolor": "white"
          },
          "hoverlabel": {
           "align": "left"
          },
          "hovermode": "closest",
          "mapbox": {
           "style": "light"
          },
          "paper_bgcolor": "white",
          "plot_bgcolor": "#E5ECF6",
          "polar": {
           "angularaxis": {
            "gridcolor": "white",
            "linecolor": "white",
            "ticks": ""
           },
           "bgcolor": "#E5ECF6",
           "radialaxis": {
            "gridcolor": "white",
            "linecolor": "white",
            "ticks": ""
           }
          },
          "scene": {
           "xaxis": {
            "backgroundcolor": "#E5ECF6",
            "gridcolor": "white",
            "gridwidth": 2,
            "linecolor": "white",
            "showbackground": true,
            "ticks": "",
            "zerolinecolor": "white"
           },
           "yaxis": {
            "backgroundcolor": "#E5ECF6",
            "gridcolor": "white",
            "gridwidth": 2,
            "linecolor": "white",
            "showbackground": true,
            "ticks": "",
            "zerolinecolor": "white"
           },
           "zaxis": {
            "backgroundcolor": "#E5ECF6",
            "gridcolor": "white",
            "gridwidth": 2,
            "linecolor": "white",
            "showbackground": true,
            "ticks": "",
            "zerolinecolor": "white"
           }
          },
          "shapedefaults": {
           "line": {
            "color": "#2a3f5f"
           }
          },
          "ternary": {
           "aaxis": {
            "gridcolor": "white",
            "linecolor": "white",
            "ticks": ""
           },
           "baxis": {
            "gridcolor": "white",
            "linecolor": "white",
            "ticks": ""
           },
           "bgcolor": "#E5ECF6",
           "caxis": {
            "gridcolor": "white",
            "linecolor": "white",
            "ticks": ""
           }
          },
          "title": {
           "x": 0.05
          },
          "xaxis": {
           "automargin": true,
           "gridcolor": "white",
           "linecolor": "white",
           "ticks": "",
           "title": {
            "standoff": 15
           },
           "zerolinecolor": "white",
           "zerolinewidth": 2
          },
          "yaxis": {
           "automargin": true,
           "gridcolor": "white",
           "linecolor": "white",
           "ticks": "",
           "title": {
            "standoff": 15
           },
           "zerolinecolor": "white",
           "zerolinewidth": 2
          }
         }
        },
        "title": {
         "text": "Distribution Of Number of Ratings Per Product Id"
        },
        "xaxis": {
         "title": {
          "text": "Number of Ratings Per Product Id"
         }
        },
        "yaxis": {
         "title": {
          "text": "Count"
         }
        }
       }
      },
      "text/html": [
       "<div>                            <div id=\"ec341a02-47d8-43a4-bd30-2bacb8e1050b\" class=\"plotly-graph-div\" style=\"height:525px; width:100%;\"></div>            <script type=\"text/javascript\">                require([\"plotly\"], function(Plotly) {                    window.PLOTLYENV=window.PLOTLYENV || {};                                    if (document.getElementById(\"ec341a02-47d8-43a4-bd30-2bacb8e1050b\")) {                    Plotly.newPlot(                        \"ec341a02-47d8-43a4-bd30-2bacb8e1050b\",                        [{\"name\": \"Ratings\", \"type\": \"histogram\", \"x\": [6, 5, 8, 9, 9, 10, 7, 11, 6, 27, 36, 5, 8, 7, 5, 20, 5, 5, 5, 7, 6, 5, 16, 6, 6, 12, 6, 5, 11, 6, 18, 14, 6, 17, 5, 5, 6, 5, 9, 14, 6, 9, 6, 11, 5, 35, 28, 25, 9, 6, 5, 8, 5, 8, 5, 6, 14, 7, 7, 7, 6, 18, 11, 10, 6, 6, 36, 6, 11, 6, 11, 5, 6, 6, 11, 5, 14, 5, 36, 8, 13, 35, 9, 5, 9, 10, 6, 10, 8, 12, 5, 7, 61, 11, 7, 11, 8, 5, 9, 6, 18, 27, 22, 17, 15, 10, 13, 9, 5, 6, 6, 5, 6, 5, 6, 6, 5, 14, 5, 11, 5, 10, 11, 6, 8, 5, 30, 6, 5, 28, 6, 5, 7, 5, 7, 9, 7, 6, 6, 15, 14, 9, 6, 7, 7, 39, 5, 6, 5, 14, 6, 5, 9, 7, 7, 5, 5, 16, 5, 14, 6, 6, 7, 10, 9, 5, 12, 296, 6, 7, 7, 5, 5, 6, 5, 8, 19, 5, 16, 8, 11, 6, 13, 5, 9, 5, 10, 8, 12, 53, 16, 8, 7, 15, 9, 8, 78, 6, 15, 7, 6, 9, 8, 8, 11, 10, 12, 12, 13, 15, 5, 29, 8, 17, 18, 6, 10, 9, 7, 5, 5, 6, 12, 11, 5, 6, 6, 12, 15, 117, 7, 9, 8, 24, 8, 14, 5, 32, 29, 41, 8, 8, 8, 6, 5, 8, 28, 5, 5, 5, 5, 74, 11, 6, 5, 33, 6, 5, 9, 9, 33, 7, 6, 19, 12, 16, 15, 47, 37, 5, 5, 16, 36, 20, 14, 5, 36, 5, 6, 17, 7, 7, 7, 35, 6, 17, 17, 6, 10, 14, 10, 15, 11, 10, 7, 5, 8, 36, 33, 23, 7, 9, 16, 11, 8, 7, 10, 31, 6, 12, 10, 6, 45, 5, 5, 6, 8, 5, 15, 16, 7, 6, 6, 12, 5, 6, 5, 9, 6, 10, 8, 11, 6, 7, 25, 9, 7, 35, 6, 6, 6, 5, 5, 64, 8, 8, 7, 8, 7, 14, 6, 64, 12, 7, 5, 9, 5, 5, 5, 10, 6, 11, 5, 6, 16, 10, 15, 11, 7, 6, 18, 30, 5, 6, 7, 12, 7, 20, 10, 5, 28, 5, 8, 9, 6, 11, 5, 70, 24, 7, 10, 5, 5, 11, 6, 6, 6, 11, 9, 5, 5, 5, 6, 32, 23, 5, 13, 21, 6, 11, 6, 9, 5, 6, 8, 9, 14, 7, 13, 5, 10, 11, 5, 5, 6, 6, 8, 13, 9, 7, 9, 5, 26, 41, 18, 10, 9, 12, 5, 5, 8, 6, 5, 11, 12, 5, 5, 6, 5, 52, 9, 5, 5, 10, 9, 11, 6, 7, 12, 5, 9, 7, 11, 14, 12, 5, 6, 26, 23, 5, 42, 7, 5, 5, 6, 6, 15, 13, 7, 19, 7, 30, 6, 7, 11, 5, 12, 18, 8, 7, 10, 5, 7, 30, 6, 5, 5, 16, 12, 5, 8, 5, 20, 6, 59, 8, 8, 8, 8, 6, 5, 7, 6, 10, 10, 11, 10, 5, 7, 6, 6, 6, 9, 7, 36, 30, 32, 34, 9, 6, 8, 8, 8, 8, 9, 5, 7, 6, 5, 5, 5, 6, 6, 6, 6, 12, 6, 5, 6, 5, 46, 5, 9, 62, 5, 6, 6, 10, 9, 8, 5, 5, 6, 9, 22, 24, 12, 12, 10, 8, 7, 5, 5, 12, 5, 6, 5, 138, 5, 9, 13, 13, 8, 6, 14, 12, 8, 9, 22, 11, 7, 5, 39, 5, 5, 5, 11, 10, 5, 12, 5, 27, 8, 26, 7, 7, 6, 5, 6, 5, 8, 5, 38, 5, 8, 8, 13, 13, 8, 10, 5, 5, 83, 7, 5, 6, 9, 17, 5, 5, 7, 5, 7, 9, 5, 12, 6, 26, 6, 6, 8, 6, 15, 5, 42, 10, 7, 8, 15, 6, 7, 5, 8, 18, 9, 13, 12, 5, 18, 9, 6, 6, 6, 5, 6, 49, 7, 8, 15, 45, 5, 5, 25, 9, 9, 6, 7, 12, 6, 6, 5, 8, 8, 8, 16, 33, 6, 5, 27, 7, 5, 13, 11, 5, 33, 5, 6, 25, 23, 32, 12, 31, 5, 20, 11, 7, 5, 8, 11, 8, 5, 6, 14, 27, 18, 37, 19, 10, 6, 7, 6, 5, 71, 7, 9, 7, 6, 8, 7, 42, 15, 13, 6, 5, 6, 5, 7, 6, 5, 5, 9, 11, 9, 5, 5, 11, 9, 6, 8, 29, 14, 32, 8, 5, 58, 21, 11, 11, 22, 17, 5, 81, 50, 7, 25, 7, 8, 20, 20, 28, 13, 18, 7, 6, 6, 5, 16, 35, 13, 24, 11, 34, 5, 5, 6, 7, 9, 20, 31, 11, 26, 23, 55, 14, 37, 36, 45, 42, 24, 12, 7, 6, 5, 7, 5, 24, 8, 46, 5, 28, 24, 5, 5, 6, 9, 8, 7, 10, 5, 11, 8, 74, 11, 5, 10, 11, 12, 12, 16, 9, 6, 9, 14, 27, 19, 23, 18, 14, 60, 28, 7, 16, 68, 19, 36, 10, 5, 5, 12, 40, 29, 34, 5, 61, 11, 6, 33, 21, 28, 17, 12, 11, 6, 6, 11, 8, 7, 31, 38, 51, 45, 40, 43, 12, 175, 13, 17, 7, 48, 13, 46, 5, 8, 9, 7, 13, 13, 5, 11, 6, 14, 5, 6, 26, 17, 20, 13, 36, 10, 10, 6, 5, 13, 23, 37, 32, 50, 12, 16, 11, 13, 18, 41, 16, 33, 19, 9, 20, 45, 19, 6, 13, 36, 35, 31, 40, 7, 11, 34, 7, 10, 14, 30, 30, 22, 29, 24, 12, 29, 28, 5, 35, 10, 12, 7, 12, 12, 6, 11, 13, 17, 17, 6, 8, 8, 5, 16, 5, 16, 11, 5, 12], \"xbins\": {\"size\": 2, \"start\": 0}}],                        {\"bargap\": 0.2, \"template\": {\"data\": {\"bar\": [{\"error_x\": {\"color\": \"#2a3f5f\"}, \"error_y\": {\"color\": \"#2a3f5f\"}, \"marker\": {\"line\": {\"color\": \"#E5ECF6\", \"width\": 0.5}}, \"type\": \"bar\"}], \"barpolar\": [{\"marker\": {\"line\": {\"color\": \"#E5ECF6\", \"width\": 0.5}}, \"type\": \"barpolar\"}], \"carpet\": [{\"aaxis\": {\"endlinecolor\": \"#2a3f5f\", \"gridcolor\": \"white\", \"linecolor\": \"white\", \"minorgridcolor\": \"white\", \"startlinecolor\": \"#2a3f5f\"}, \"baxis\": {\"endlinecolor\": \"#2a3f5f\", \"gridcolor\": \"white\", \"linecolor\": \"white\", \"minorgridcolor\": \"white\", \"startlinecolor\": \"#2a3f5f\"}, \"type\": \"carpet\"}], \"choropleth\": [{\"colorbar\": {\"outlinewidth\": 0, \"ticks\": \"\"}, \"type\": \"choropleth\"}], \"contour\": [{\"colorbar\": {\"outlinewidth\": 0, \"ticks\": \"\"}, \"colorscale\": [[0.0, \"#0d0887\"], [0.1111111111111111, \"#46039f\"], [0.2222222222222222, \"#7201a8\"], [0.3333333333333333, \"#9c179e\"], [0.4444444444444444, \"#bd3786\"], [0.5555555555555556, \"#d8576b\"], [0.6666666666666666, \"#ed7953\"], [0.7777777777777778, \"#fb9f3a\"], [0.8888888888888888, \"#fdca26\"], [1.0, \"#f0f921\"]], \"type\": \"contour\"}], \"contourcarpet\": [{\"colorbar\": {\"outlinewidth\": 0, \"ticks\": \"\"}, \"type\": \"contourcarpet\"}], \"heatmap\": [{\"colorbar\": {\"outlinewidth\": 0, \"ticks\": \"\"}, \"colorscale\": [[0.0, \"#0d0887\"], [0.1111111111111111, \"#46039f\"], [0.2222222222222222, \"#7201a8\"], [0.3333333333333333, \"#9c179e\"], [0.4444444444444444, \"#bd3786\"], [0.5555555555555556, \"#d8576b\"], [0.6666666666666666, \"#ed7953\"], [0.7777777777777778, \"#fb9f3a\"], [0.8888888888888888, \"#fdca26\"], [1.0, \"#f0f921\"]], \"type\": \"heatmap\"}], \"heatmapgl\": [{\"colorbar\": {\"outlinewidth\": 0, \"ticks\": \"\"}, \"colorscale\": [[0.0, \"#0d0887\"], [0.1111111111111111, \"#46039f\"], [0.2222222222222222, \"#7201a8\"], [0.3333333333333333, \"#9c179e\"], [0.4444444444444444, \"#bd3786\"], [0.5555555555555556, \"#d8576b\"], [0.6666666666666666, \"#ed7953\"], [0.7777777777777778, \"#fb9f3a\"], [0.8888888888888888, \"#fdca26\"], [1.0, \"#f0f921\"]], \"type\": \"heatmapgl\"}], \"histogram\": [{\"marker\": {\"colorbar\": {\"outlinewidth\": 0, \"ticks\": \"\"}}, \"type\": \"histogram\"}], \"histogram2d\": [{\"colorbar\": {\"outlinewidth\": 0, \"ticks\": \"\"}, \"colorscale\": [[0.0, \"#0d0887\"], [0.1111111111111111, \"#46039f\"], [0.2222222222222222, \"#7201a8\"], [0.3333333333333333, \"#9c179e\"], [0.4444444444444444, \"#bd3786\"], [0.5555555555555556, \"#d8576b\"], [0.6666666666666666, \"#ed7953\"], [0.7777777777777778, \"#fb9f3a\"], [0.8888888888888888, \"#fdca26\"], [1.0, \"#f0f921\"]], \"type\": \"histogram2d\"}], \"histogram2dcontour\": [{\"colorbar\": {\"outlinewidth\": 0, \"ticks\": \"\"}, \"colorscale\": [[0.0, \"#0d0887\"], [0.1111111111111111, \"#46039f\"], [0.2222222222222222, \"#7201a8\"], [0.3333333333333333, \"#9c179e\"], [0.4444444444444444, \"#bd3786\"], [0.5555555555555556, \"#d8576b\"], [0.6666666666666666, \"#ed7953\"], [0.7777777777777778, \"#fb9f3a\"], [0.8888888888888888, \"#fdca26\"], [1.0, \"#f0f921\"]], \"type\": \"histogram2dcontour\"}], \"mesh3d\": [{\"colorbar\": {\"outlinewidth\": 0, \"ticks\": \"\"}, \"type\": \"mesh3d\"}], \"parcoords\": [{\"line\": {\"colorbar\": {\"outlinewidth\": 0, \"ticks\": \"\"}}, \"type\": \"parcoords\"}], \"pie\": [{\"automargin\": true, \"type\": \"pie\"}], \"scatter\": [{\"marker\": {\"colorbar\": {\"outlinewidth\": 0, \"ticks\": \"\"}}, \"type\": \"scatter\"}], \"scatter3d\": [{\"line\": {\"colorbar\": {\"outlinewidth\": 0, \"ticks\": \"\"}}, \"marker\": {\"colorbar\": {\"outlinewidth\": 0, \"ticks\": \"\"}}, \"type\": \"scatter3d\"}], \"scattercarpet\": [{\"marker\": {\"colorbar\": {\"outlinewidth\": 0, \"ticks\": \"\"}}, \"type\": \"scattercarpet\"}], \"scattergeo\": [{\"marker\": {\"colorbar\": {\"outlinewidth\": 0, \"ticks\": \"\"}}, \"type\": \"scattergeo\"}], \"scattergl\": [{\"marker\": {\"colorbar\": {\"outlinewidth\": 0, \"ticks\": \"\"}}, \"type\": \"scattergl\"}], \"scattermapbox\": [{\"marker\": {\"colorbar\": {\"outlinewidth\": 0, \"ticks\": \"\"}}, \"type\": \"scattermapbox\"}], \"scatterpolar\": [{\"marker\": {\"colorbar\": {\"outlinewidth\": 0, \"ticks\": \"\"}}, \"type\": \"scatterpolar\"}], \"scatterpolargl\": [{\"marker\": {\"colorbar\": {\"outlinewidth\": 0, \"ticks\": \"\"}}, \"type\": \"scatterpolargl\"}], \"scatterternary\": [{\"marker\": {\"colorbar\": {\"outlinewidth\": 0, \"ticks\": \"\"}}, \"type\": \"scatterternary\"}], \"surface\": [{\"colorbar\": {\"outlinewidth\": 0, \"ticks\": \"\"}, \"colorscale\": [[0.0, \"#0d0887\"], [0.1111111111111111, \"#46039f\"], [0.2222222222222222, \"#7201a8\"], [0.3333333333333333, \"#9c179e\"], [0.4444444444444444, \"#bd3786\"], [0.5555555555555556, \"#d8576b\"], [0.6666666666666666, \"#ed7953\"], [0.7777777777777778, \"#fb9f3a\"], [0.8888888888888888, \"#fdca26\"], [1.0, \"#f0f921\"]], \"type\": \"surface\"}], \"table\": [{\"cells\": {\"fill\": {\"color\": \"#EBF0F8\"}, \"line\": {\"color\": \"white\"}}, \"header\": {\"fill\": {\"color\": \"#C8D4E3\"}, \"line\": {\"color\": \"white\"}}, \"type\": \"table\"}]}, \"layout\": {\"annotationdefaults\": {\"arrowcolor\": \"#2a3f5f\", \"arrowhead\": 0, \"arrowwidth\": 1}, \"coloraxis\": {\"colorbar\": {\"outlinewidth\": 0, \"ticks\": \"\"}}, \"colorscale\": {\"diverging\": [[0, \"#8e0152\"], [0.1, \"#c51b7d\"], [0.2, \"#de77ae\"], [0.3, \"#f1b6da\"], [0.4, \"#fde0ef\"], [0.5, \"#f7f7f7\"], [0.6, \"#e6f5d0\"], [0.7, \"#b8e186\"], [0.8, \"#7fbc41\"], [0.9, \"#4d9221\"], [1, \"#276419\"]], \"sequential\": [[0.0, \"#0d0887\"], [0.1111111111111111, \"#46039f\"], [0.2222222222222222, \"#7201a8\"], [0.3333333333333333, \"#9c179e\"], [0.4444444444444444, \"#bd3786\"], [0.5555555555555556, \"#d8576b\"], [0.6666666666666666, \"#ed7953\"], [0.7777777777777778, \"#fb9f3a\"], [0.8888888888888888, \"#fdca26\"], [1.0, \"#f0f921\"]], \"sequentialminus\": [[0.0, \"#0d0887\"], [0.1111111111111111, \"#46039f\"], [0.2222222222222222, \"#7201a8\"], [0.3333333333333333, \"#9c179e\"], [0.4444444444444444, \"#bd3786\"], [0.5555555555555556, \"#d8576b\"], [0.6666666666666666, \"#ed7953\"], [0.7777777777777778, \"#fb9f3a\"], [0.8888888888888888, \"#fdca26\"], [1.0, \"#f0f921\"]]}, \"colorway\": [\"#636efa\", \"#EF553B\", \"#00cc96\", \"#ab63fa\", \"#FFA15A\", \"#19d3f3\", \"#FF6692\", \"#B6E880\", \"#FF97FF\", \"#FECB52\"], \"font\": {\"color\": \"#2a3f5f\"}, \"geo\": {\"bgcolor\": \"white\", \"lakecolor\": \"white\", \"landcolor\": \"#E5ECF6\", \"showlakes\": true, \"showland\": true, \"subunitcolor\": \"white\"}, \"hoverlabel\": {\"align\": \"left\"}, \"hovermode\": \"closest\", \"mapbox\": {\"style\": \"light\"}, \"paper_bgcolor\": \"white\", \"plot_bgcolor\": \"#E5ECF6\", \"polar\": {\"angularaxis\": {\"gridcolor\": \"white\", \"linecolor\": \"white\", \"ticks\": \"\"}, \"bgcolor\": \"#E5ECF6\", \"radialaxis\": {\"gridcolor\": \"white\", \"linecolor\": \"white\", \"ticks\": \"\"}}, \"scene\": {\"xaxis\": {\"backgroundcolor\": \"#E5ECF6\", \"gridcolor\": \"white\", \"gridwidth\": 2, \"linecolor\": \"white\", \"showbackground\": true, \"ticks\": \"\", \"zerolinecolor\": \"white\"}, \"yaxis\": {\"backgroundcolor\": \"#E5ECF6\", \"gridcolor\": \"white\", \"gridwidth\": 2, \"linecolor\": \"white\", \"showbackground\": true, \"ticks\": \"\", \"zerolinecolor\": \"white\"}, \"zaxis\": {\"backgroundcolor\": \"#E5ECF6\", \"gridcolor\": \"white\", \"gridwidth\": 2, \"linecolor\": \"white\", \"showbackground\": true, \"ticks\": \"\", \"zerolinecolor\": \"white\"}}, \"shapedefaults\": {\"line\": {\"color\": \"#2a3f5f\"}}, \"ternary\": {\"aaxis\": {\"gridcolor\": \"white\", \"linecolor\": \"white\", \"ticks\": \"\"}, \"baxis\": {\"gridcolor\": \"white\", \"linecolor\": \"white\", \"ticks\": \"\"}, \"bgcolor\": \"#E5ECF6\", \"caxis\": {\"gridcolor\": \"white\", \"linecolor\": \"white\", \"ticks\": \"\"}}, \"title\": {\"x\": 0.05}, \"xaxis\": {\"automargin\": true, \"gridcolor\": \"white\", \"linecolor\": \"white\", \"ticks\": \"\", \"title\": {\"standoff\": 15}, \"zerolinecolor\": \"white\", \"zerolinewidth\": 2}, \"yaxis\": {\"automargin\": true, \"gridcolor\": \"white\", \"linecolor\": \"white\", \"ticks\": \"\", \"title\": {\"standoff\": 15}, \"zerolinecolor\": \"white\", \"zerolinewidth\": 2}}}, \"title\": {\"text\": \"Distribution Of Number of Ratings Per Product Id\"}, \"xaxis\": {\"title\": {\"text\": \"Number of Ratings Per Product Id\"}}, \"yaxis\": {\"title\": {\"text\": \"Count\"}}},                        {\"responsive\": true}                    ).then(function(){\n",
       "                            \n",
       "var gd = document.getElementById('ec341a02-47d8-43a4-bd30-2bacb8e1050b');\n",
       "var x = new MutationObserver(function (mutations, observer) {{\n",
       "        var display = window.getComputedStyle(gd).display;\n",
       "        if (!display || display === 'none') {{\n",
       "            console.log([gd, 'removed!']);\n",
       "            Plotly.purge(gd);\n",
       "            observer.disconnect();\n",
       "        }}\n",
       "}});\n",
       "\n",
       "// Listen for the removal of the full notebook cells\n",
       "var notebookContainer = gd.closest('#notebook-container');\n",
       "if (notebookContainer) {{\n",
       "    x.observe(notebookContainer, {childList: true});\n",
       "}}\n",
       "\n",
       "// Listen for the clearing of the current output cell\n",
       "var outputEl = gd.closest('.output');\n",
       "if (outputEl) {{\n",
       "    x.observe(outputEl, {childList: true});\n",
       "}}\n",
       "\n",
       "                        })                };                });            </script>        </div>"
      ]
     },
     "metadata": {},
     "output_type": "display_data"
    }
   ],
   "source": [
    "\n",
    "# Number of ratings per item\n",
    "data = df.groupby('asin')['overall'].count()\n",
    "\n",
    "# Create trace\n",
    "trace = go.Histogram(x = data.values,\n",
    "                     name = 'Ratings',\n",
    "                     xbins = dict(start = 0,size = 2))\n",
    "# Create layout\n",
    "layout = go.Layout(title = 'Distribution Of Number of Ratings Per Product Id',\n",
    "                   xaxis = dict(title = 'Number of Ratings Per Product Id'),\n",
    "                   yaxis = dict(title = 'Count'),\n",
    "                   bargap = 0.2)\n",
    "\n",
    "# Create plot\n",
    "fig = go.Figure(data=[trace], layout=layout)\n",
    "iplot(fig)\n"
   ]
  },
  {
   "cell_type": "markdown",
   "metadata": {},
   "source": [
    "## Number of ratings per user ----\n",
    " Now it's time to see how many ratings we have per user."
   ]
  },
  {
   "cell_type": "code",
   "execution_count": 8,
   "metadata": {},
   "outputs": [
    {
     "data": {
      "application/vnd.plotly.v1+json": {
       "config": {
        "linkText": "Export to plot.ly",
        "plotlyServerURL": "https://plot.ly",
        "showLink": false
       },
       "data": [
        {
         "name": "Ratings",
         "type": "histogram",
         "x": [
          66,
          7,
          5,
          14,
          8,
          5,
          7,
          6,
          5,
          6,
          7,
          8,
          16,
          6,
          6,
          5,
          6,
          22,
          13,
          7,
          30,
          5,
          9,
          5,
          7,
          5,
          5,
          5,
          8,
          6,
          6,
          8,
          5,
          11,
          9,
          6,
          10,
          6,
          9,
          5,
          7,
          8,
          8,
          6,
          7,
          5,
          5,
          5,
          5,
          8,
          9,
          5,
          5,
          10,
          8,
          5,
          6,
          6,
          9,
          6,
          5,
          11,
          8,
          10,
          7,
          5,
          7,
          5,
          5,
          7,
          7,
          5,
          5,
          6,
          5,
          10,
          11,
          10,
          8,
          13,
          5,
          11,
          5,
          5,
          5,
          5,
          10,
          6,
          7,
          7,
          7,
          5,
          8,
          5,
          24,
          5,
          18,
          9,
          5,
          5,
          5,
          6,
          7,
          11,
          6,
          5,
          5,
          9,
          5,
          5,
          5,
          7,
          6,
          5,
          6,
          10,
          5,
          5,
          7,
          5,
          6,
          11,
          6,
          37,
          9,
          18,
          5,
          10,
          20,
          5,
          5,
          8,
          8,
          10,
          5,
          7,
          9,
          21,
          5,
          9,
          5,
          6,
          7,
          9,
          6,
          6,
          18,
          6,
          6,
          5,
          6,
          9,
          13,
          15,
          10,
          7,
          5,
          8,
          5,
          5,
          6,
          10,
          5,
          10,
          6,
          17,
          5,
          6,
          6,
          14,
          7,
          11,
          5,
          21,
          5,
          32,
          9,
          13,
          5,
          5,
          7,
          7,
          18,
          5,
          6,
          5,
          5,
          5,
          5,
          5,
          10,
          8,
          6,
          7,
          7,
          7,
          8,
          9,
          5,
          10,
          5,
          11,
          5,
          5,
          5,
          6,
          5,
          7,
          5,
          7,
          5,
          22,
          6,
          7,
          8,
          7,
          9,
          5,
          7,
          5,
          8,
          5,
          5,
          5,
          5,
          5,
          7,
          9,
          8,
          10,
          16,
          7,
          6,
          11,
          8,
          5,
          10,
          9,
          5,
          6,
          9,
          5,
          9,
          5,
          5,
          6,
          11,
          5,
          5,
          8,
          5,
          14,
          5,
          8,
          5,
          7,
          5,
          5,
          6,
          5,
          5,
          7,
          6,
          11,
          6,
          9,
          7,
          5,
          6,
          5,
          5,
          8,
          6,
          9,
          9,
          9,
          10,
          9,
          32,
          5,
          5,
          5,
          5,
          5,
          12,
          6,
          5,
          9,
          18,
          5,
          9,
          6,
          5,
          17,
          6,
          8,
          11,
          6,
          5,
          20,
          5,
          5,
          20,
          6,
          9,
          7,
          11,
          6,
          8,
          7,
          8,
          8,
          5,
          7,
          5,
          5,
          5,
          6,
          20,
          6,
          5,
          5,
          6,
          5,
          14,
          8,
          5,
          5,
          5,
          10,
          5,
          7,
          5,
          11,
          7,
          7,
          15,
          6,
          13,
          20,
          6,
          5,
          20,
          13,
          5,
          5,
          7,
          6,
          5,
          5,
          5,
          7,
          11,
          5,
          10,
          5,
          5,
          21,
          23,
          5,
          15,
          5,
          7,
          6,
          5,
          7,
          10,
          18,
          10,
          6,
          5,
          12,
          13,
          8,
          8,
          5,
          14,
          5,
          14,
          5,
          5,
          5,
          6,
          5,
          38,
          9,
          10,
          5,
          5,
          5,
          7,
          6,
          10,
          7,
          6,
          6,
          19,
          6,
          11,
          11,
          22,
          5,
          6,
          7,
          7,
          5,
          5,
          7,
          9,
          8,
          7,
          8,
          8,
          6,
          23,
          5,
          5,
          9,
          5,
          11,
          8,
          24,
          5,
          8,
          19,
          6,
          5,
          5,
          8,
          8,
          35,
          8,
          5,
          8,
          11,
          25,
          5,
          5,
          5,
          8,
          5,
          5,
          5,
          5,
          5,
          5,
          7,
          6,
          5,
          5,
          5,
          5,
          6,
          11,
          6,
          5,
          7,
          7,
          12,
          5,
          5,
          9,
          19,
          5,
          8,
          5,
          8,
          15,
          6,
          19,
          6,
          13,
          7,
          7,
          5,
          8,
          10,
          11,
          5,
          16,
          8,
          5,
          6,
          5,
          7,
          12,
          16,
          5,
          5,
          12,
          16,
          6,
          7,
          6,
          10,
          5,
          6,
          5,
          5,
          5,
          9,
          43,
          8,
          5,
          5,
          9,
          12,
          5,
          5,
          5,
          6,
          5,
          6,
          5,
          6,
          7,
          6,
          20,
          8,
          6,
          6,
          6,
          5,
          5,
          5,
          10,
          5,
          8,
          6,
          9,
          7,
          13,
          5,
          9,
          5,
          5,
          5,
          5,
          5,
          5,
          8,
          5,
          5,
          7,
          5,
          5,
          6,
          6,
          5,
          9,
          10,
          5,
          13,
          8,
          7,
          6,
          5,
          5,
          8,
          13,
          10,
          5,
          6,
          12,
          8,
          6,
          5,
          5,
          6,
          5,
          10,
          8,
          11,
          6,
          7,
          11,
          5,
          6,
          6,
          10,
          8,
          6,
          8,
          5,
          5,
          12,
          5,
          5,
          11,
          5,
          5,
          6,
          7,
          6,
          6,
          5,
          10,
          7,
          5,
          5,
          6,
          6,
          11,
          21,
          5,
          6,
          13,
          6,
          5,
          5,
          6,
          5,
          10,
          13,
          6,
          7,
          6,
          6,
          6,
          5,
          8,
          5,
          5,
          6,
          5,
          5,
          5,
          5,
          6,
          6,
          23,
          5,
          7,
          5,
          5,
          8,
          10,
          7,
          10,
          6,
          8,
          6,
          12,
          8,
          6,
          5,
          7,
          5,
          6,
          6,
          5,
          8,
          34,
          6,
          5,
          7,
          7,
          9,
          8,
          11,
          5,
          6,
          10,
          10,
          5,
          5,
          6,
          5,
          6,
          5,
          5,
          10,
          5,
          5,
          7,
          7,
          6,
          5,
          5,
          10,
          5,
          6,
          5,
          11,
          5,
          12,
          6,
          5,
          21,
          5,
          5,
          7,
          12,
          6,
          5,
          11,
          12,
          14,
          6,
          7,
          5,
          5,
          5,
          5,
          5,
          9,
          5,
          5,
          5,
          6,
          5,
          5,
          16,
          5,
          8,
          11,
          5,
          10,
          10,
          7,
          8,
          6,
          5,
          5,
          5,
          14,
          5,
          5,
          5,
          19,
          9,
          6,
          5,
          5,
          6,
          5,
          5,
          6,
          18,
          5,
          5,
          7,
          6,
          5,
          8,
          8,
          9,
          10,
          6,
          8,
          5,
          6,
          34,
          7,
          5,
          5,
          9,
          10,
          10,
          5,
          6,
          7,
          7,
          9,
          5,
          6,
          8,
          5,
          10,
          15,
          6,
          7,
          5,
          9,
          7,
          5,
          11,
          9,
          33,
          5,
          6,
          6,
          5,
          11,
          12,
          5,
          5,
          13,
          8,
          5,
          11,
          6,
          7,
          9,
          5,
          5,
          5,
          7,
          6,
          14,
          12,
          8,
          8,
          6,
          5,
          6,
          9,
          6,
          6,
          5,
          5,
          6,
          8,
          5,
          5,
          5,
          5,
          5,
          11,
          5,
          14,
          8,
          17,
          5,
          5,
          10,
          14,
          5,
          6,
          15,
          7,
          22,
          8,
          5,
          5,
          16,
          10,
          6,
          5,
          5,
          5,
          8,
          5,
          6,
          7,
          6,
          5,
          8,
          6,
          5,
          6,
          8,
          5,
          7,
          9,
          5,
          12,
          7,
          6,
          5,
          9,
          5,
          7,
          11,
          6,
          8,
          5,
          7,
          5,
          5,
          8,
          5,
          8,
          7,
          14,
          5,
          5,
          5,
          6,
          22,
          11,
          8,
          5,
          5,
          10,
          6,
          5,
          6,
          5,
          7,
          6,
          8,
          6,
          11,
          5,
          6,
          7,
          9,
          22,
          8,
          6,
          8,
          5,
          5,
          6,
          9,
          7,
          5,
          13,
          9,
          5,
          6,
          5,
          5,
          10,
          6,
          6,
          15,
          11,
          6,
          5,
          6,
          34,
          17,
          7,
          5,
          5,
          5,
          16,
          5,
          9,
          5,
          8,
          5,
          5,
          5,
          8,
          5,
          5,
          5,
          5,
          7,
          6,
          16,
          10,
          5,
          6,
          10,
          6,
          8,
          5,
          7,
          8,
          5,
          13,
          7,
          10,
          8,
          5,
          8,
          5,
          6,
          11,
          9,
          7,
          9,
          5,
          25,
          5,
          8,
          7,
          5,
          8,
          5,
          6,
          9,
          31,
          5,
          7,
          8,
          7,
          7,
          5,
          35,
          5,
          12,
          5,
          16,
          11,
          7,
          7,
          6,
          5,
          5,
          8,
          9,
          6,
          8,
          5,
          5,
          6,
          14,
          8,
          5,
          6,
          6,
          8,
          5,
          22,
          5,
          7,
          8,
          10,
          6,
          10,
          8,
          11,
          5,
          7,
          12,
          7,
          5,
          5,
          7,
          5,
          5,
          5,
          5,
          6,
          5,
          26,
          11,
          11,
          5,
          5,
          5,
          5,
          5,
          7,
          5,
          5,
          17,
          5,
          7,
          5,
          5,
          5,
          10,
          6,
          27,
          5,
          5,
          5,
          8,
          11,
          5,
          8,
          9,
          7,
          6,
          5,
          6,
          8,
          5,
          9,
          6,
          6,
          7,
          5,
          5,
          5,
          6,
          6,
          5,
          9,
          5,
          5,
          6,
          7,
          5,
          6,
          5,
          5,
          6,
          5,
          6,
          5,
          7,
          8,
          10,
          6,
          7,
          5,
          5,
          21,
          5,
          5,
          5,
          13,
          5,
          7,
          6,
          5,
          11,
          6,
          9,
          9,
          5,
          5,
          5,
          7,
          5,
          6,
          5,
          19,
          9,
          5,
          5,
          5,
          6,
          43,
          22,
          5,
          6,
          7,
          8,
          7,
          7,
          5,
          5,
          5,
          13,
          6,
          10,
          5,
          6,
          5,
          6,
          5,
          8,
          12,
          8,
          5,
          15,
          9,
          6,
          8,
          11,
          11,
          5,
          6,
          9,
          5,
          6,
          6,
          5,
          8,
          7,
          6,
          6,
          5,
          8,
          12,
          5,
          6,
          14,
          5,
          6,
          15,
          5,
          5,
          6,
          7,
          5,
          6,
          19,
          5,
          5,
          10,
          5,
          5,
          6,
          5,
          11,
          8,
          6,
          5,
          11,
          7,
          6,
          6,
          5,
          7,
          5,
          8,
          15,
          7,
          10,
          8,
          5,
          5,
          9,
          33,
          17,
          6,
          10,
          7,
          8,
          34,
          15,
          5,
          5,
          5,
          5,
          5,
          5,
          6,
          5,
          5,
          9,
          8,
          9,
          5,
          8,
          5,
          5,
          5,
          5,
          7,
          6,
          10,
          6,
          15,
          7,
          5,
          8,
          5,
          8,
          13,
          5,
          7,
          6,
          11,
          6,
          7,
          7,
          7,
          15,
          6,
          12,
          7,
          5,
          8,
          10,
          7,
          6,
          5,
          13,
          5,
          17,
          15,
          5,
          18,
          6,
          12,
          5,
          6,
          8,
          10,
          7,
          13,
          21,
          5,
          33,
          5,
          11,
          11,
          15,
          6,
          6,
          7,
          6,
          7,
          5,
          26,
          5,
          18,
          5,
          6,
          5,
          12,
          6,
          7,
          6,
          5,
          7,
          6,
          6,
          5,
          10,
          13,
          5,
          5,
          8,
          6,
          5,
          7,
          7,
          6,
          11,
          9,
          5,
          7,
          6,
          5,
          9,
          5,
          7,
          7,
          6,
          5,
          12,
          6,
          7,
          8,
          5,
          5,
          6,
          7,
          15,
          6,
          6,
          6,
          9,
          5,
          6,
          8,
          5,
          5,
          16,
          6,
          7,
          5,
          8,
          5,
          7,
          13,
          6,
          6,
          9,
          5,
          5,
          6,
          7,
          6,
          7,
          6,
          5,
          6,
          7,
          8,
          5,
          8,
          5,
          5,
          5,
          17,
          7,
          5,
          14,
          8,
          6,
          14,
          5,
          6,
          6,
          6,
          5,
          7,
          5,
          5,
          5,
          8,
          7,
          5,
          11,
          5,
          5,
          11,
          5,
          5,
          40,
          15,
          8,
          5,
          5,
          5,
          7,
          5,
          6,
          5,
          6,
          6,
          5,
          5,
          6,
          6,
          12,
          5,
          5,
          9,
          8,
          6,
          11,
          15,
          14,
          6,
          5,
          8,
          9,
          7,
          6,
          16,
          7,
          5,
          7,
          13,
          12,
          6,
          7,
          6,
          8,
          5,
          7,
          5,
          8,
          9,
          5,
          5,
          5,
          9,
          7,
          9,
          7,
          5,
          8,
          12,
          10,
          8,
          6,
          5,
          17,
          5,
          7,
          5,
          5,
          9,
          5,
          6,
          5,
          6,
          7,
          6,
          7,
          13,
          14,
          24,
          5,
          13,
          8,
          10,
          7,
          5,
          5,
          6,
          5,
          7,
          7,
          5,
          11,
          5,
          5,
          5,
          7,
          6,
          7,
          6,
          10,
          6,
          10,
          9,
          5,
          18,
          6,
          5,
          6,
          15,
          5,
          5,
          7,
          5,
          6,
          5,
          5,
          5,
          6,
          8,
          5,
          6,
          5,
          8,
          5,
          5,
          5,
          34,
          7,
          5,
          5,
          7,
          10,
          6,
          5,
          6,
          5,
          10,
          10,
          8,
          11,
          5,
          6,
          10,
          7,
          5,
          5,
          5,
          5,
          11,
          5,
          8,
          7,
          6,
          10,
          13,
          8,
          5,
          8,
          6,
          5,
          5,
          6,
          8,
          5,
          8,
          5,
          8,
          6,
          6,
          8,
          5,
          13,
          7,
          6,
          6,
          6,
          6,
          5,
          5,
          5,
          5,
          5,
          5,
          6,
          5,
          6,
          22,
          5,
          8,
          5,
          8,
          6,
          6,
          12,
          21,
          5,
          7,
          5,
          6,
          5,
          5,
          10,
          7,
          6,
          9,
          5,
          5,
          6,
          5,
          10,
          5,
          12,
          8,
          8,
          10,
          5,
          5,
          31,
          7,
          10,
          5,
          5,
          5,
          5,
          5,
          6,
          10,
          5,
          5,
          10,
          5,
          12,
          6,
          9,
          5,
          6,
          8,
          5,
          6,
          20,
          8,
          10,
          6,
          5,
          5,
          7,
          14,
          6,
          5,
          8,
          5,
          18,
          16,
          6,
          7,
          5,
          8,
          5,
          6,
          6,
          5,
          6,
          5,
          6,
          6,
          5,
          5,
          8,
          5,
          6,
          5,
          8,
          6,
          8,
          6,
          21,
          26,
          12,
          5,
          9,
          6,
          5,
          5,
          5,
          6,
          8,
          6,
          17,
          6,
          7,
          5,
          5,
          7,
          8,
          5,
          24,
          6,
          5
         ],
         "xbins": {
          "size": 2,
          "start": 0
         }
        }
       ],
       "layout": {
        "bargap": 0.2,
        "template": {
         "data": {
          "bar": [
           {
            "error_x": {
             "color": "#2a3f5f"
            },
            "error_y": {
             "color": "#2a3f5f"
            },
            "marker": {
             "line": {
              "color": "#E5ECF6",
              "width": 0.5
             }
            },
            "type": "bar"
           }
          ],
          "barpolar": [
           {
            "marker": {
             "line": {
              "color": "#E5ECF6",
              "width": 0.5
             }
            },
            "type": "barpolar"
           }
          ],
          "carpet": [
           {
            "aaxis": {
             "endlinecolor": "#2a3f5f",
             "gridcolor": "white",
             "linecolor": "white",
             "minorgridcolor": "white",
             "startlinecolor": "#2a3f5f"
            },
            "baxis": {
             "endlinecolor": "#2a3f5f",
             "gridcolor": "white",
             "linecolor": "white",
             "minorgridcolor": "white",
             "startlinecolor": "#2a3f5f"
            },
            "type": "carpet"
           }
          ],
          "choropleth": [
           {
            "colorbar": {
             "outlinewidth": 0,
             "ticks": ""
            },
            "type": "choropleth"
           }
          ],
          "contour": [
           {
            "colorbar": {
             "outlinewidth": 0,
             "ticks": ""
            },
            "colorscale": [
             [
              0,
              "#0d0887"
             ],
             [
              0.1111111111111111,
              "#46039f"
             ],
             [
              0.2222222222222222,
              "#7201a8"
             ],
             [
              0.3333333333333333,
              "#9c179e"
             ],
             [
              0.4444444444444444,
              "#bd3786"
             ],
             [
              0.5555555555555556,
              "#d8576b"
             ],
             [
              0.6666666666666666,
              "#ed7953"
             ],
             [
              0.7777777777777778,
              "#fb9f3a"
             ],
             [
              0.8888888888888888,
              "#fdca26"
             ],
             [
              1,
              "#f0f921"
             ]
            ],
            "type": "contour"
           }
          ],
          "contourcarpet": [
           {
            "colorbar": {
             "outlinewidth": 0,
             "ticks": ""
            },
            "type": "contourcarpet"
           }
          ],
          "heatmap": [
           {
            "colorbar": {
             "outlinewidth": 0,
             "ticks": ""
            },
            "colorscale": [
             [
              0,
              "#0d0887"
             ],
             [
              0.1111111111111111,
              "#46039f"
             ],
             [
              0.2222222222222222,
              "#7201a8"
             ],
             [
              0.3333333333333333,
              "#9c179e"
             ],
             [
              0.4444444444444444,
              "#bd3786"
             ],
             [
              0.5555555555555556,
              "#d8576b"
             ],
             [
              0.6666666666666666,
              "#ed7953"
             ],
             [
              0.7777777777777778,
              "#fb9f3a"
             ],
             [
              0.8888888888888888,
              "#fdca26"
             ],
             [
              1,
              "#f0f921"
             ]
            ],
            "type": "heatmap"
           }
          ],
          "heatmapgl": [
           {
            "colorbar": {
             "outlinewidth": 0,
             "ticks": ""
            },
            "colorscale": [
             [
              0,
              "#0d0887"
             ],
             [
              0.1111111111111111,
              "#46039f"
             ],
             [
              0.2222222222222222,
              "#7201a8"
             ],
             [
              0.3333333333333333,
              "#9c179e"
             ],
             [
              0.4444444444444444,
              "#bd3786"
             ],
             [
              0.5555555555555556,
              "#d8576b"
             ],
             [
              0.6666666666666666,
              "#ed7953"
             ],
             [
              0.7777777777777778,
              "#fb9f3a"
             ],
             [
              0.8888888888888888,
              "#fdca26"
             ],
             [
              1,
              "#f0f921"
             ]
            ],
            "type": "heatmapgl"
           }
          ],
          "histogram": [
           {
            "marker": {
             "colorbar": {
              "outlinewidth": 0,
              "ticks": ""
             }
            },
            "type": "histogram"
           }
          ],
          "histogram2d": [
           {
            "colorbar": {
             "outlinewidth": 0,
             "ticks": ""
            },
            "colorscale": [
             [
              0,
              "#0d0887"
             ],
             [
              0.1111111111111111,
              "#46039f"
             ],
             [
              0.2222222222222222,
              "#7201a8"
             ],
             [
              0.3333333333333333,
              "#9c179e"
             ],
             [
              0.4444444444444444,
              "#bd3786"
             ],
             [
              0.5555555555555556,
              "#d8576b"
             ],
             [
              0.6666666666666666,
              "#ed7953"
             ],
             [
              0.7777777777777778,
              "#fb9f3a"
             ],
             [
              0.8888888888888888,
              "#fdca26"
             ],
             [
              1,
              "#f0f921"
             ]
            ],
            "type": "histogram2d"
           }
          ],
          "histogram2dcontour": [
           {
            "colorbar": {
             "outlinewidth": 0,
             "ticks": ""
            },
            "colorscale": [
             [
              0,
              "#0d0887"
             ],
             [
              0.1111111111111111,
              "#46039f"
             ],
             [
              0.2222222222222222,
              "#7201a8"
             ],
             [
              0.3333333333333333,
              "#9c179e"
             ],
             [
              0.4444444444444444,
              "#bd3786"
             ],
             [
              0.5555555555555556,
              "#d8576b"
             ],
             [
              0.6666666666666666,
              "#ed7953"
             ],
             [
              0.7777777777777778,
              "#fb9f3a"
             ],
             [
              0.8888888888888888,
              "#fdca26"
             ],
             [
              1,
              "#f0f921"
             ]
            ],
            "type": "histogram2dcontour"
           }
          ],
          "mesh3d": [
           {
            "colorbar": {
             "outlinewidth": 0,
             "ticks": ""
            },
            "type": "mesh3d"
           }
          ],
          "parcoords": [
           {
            "line": {
             "colorbar": {
              "outlinewidth": 0,
              "ticks": ""
             }
            },
            "type": "parcoords"
           }
          ],
          "pie": [
           {
            "automargin": true,
            "type": "pie"
           }
          ],
          "scatter": [
           {
            "marker": {
             "colorbar": {
              "outlinewidth": 0,
              "ticks": ""
             }
            },
            "type": "scatter"
           }
          ],
          "scatter3d": [
           {
            "line": {
             "colorbar": {
              "outlinewidth": 0,
              "ticks": ""
             }
            },
            "marker": {
             "colorbar": {
              "outlinewidth": 0,
              "ticks": ""
             }
            },
            "type": "scatter3d"
           }
          ],
          "scattercarpet": [
           {
            "marker": {
             "colorbar": {
              "outlinewidth": 0,
              "ticks": ""
             }
            },
            "type": "scattercarpet"
           }
          ],
          "scattergeo": [
           {
            "marker": {
             "colorbar": {
              "outlinewidth": 0,
              "ticks": ""
             }
            },
            "type": "scattergeo"
           }
          ],
          "scattergl": [
           {
            "marker": {
             "colorbar": {
              "outlinewidth": 0,
              "ticks": ""
             }
            },
            "type": "scattergl"
           }
          ],
          "scattermapbox": [
           {
            "marker": {
             "colorbar": {
              "outlinewidth": 0,
              "ticks": ""
             }
            },
            "type": "scattermapbox"
           }
          ],
          "scatterpolar": [
           {
            "marker": {
             "colorbar": {
              "outlinewidth": 0,
              "ticks": ""
             }
            },
            "type": "scatterpolar"
           }
          ],
          "scatterpolargl": [
           {
            "marker": {
             "colorbar": {
              "outlinewidth": 0,
              "ticks": ""
             }
            },
            "type": "scatterpolargl"
           }
          ],
          "scatterternary": [
           {
            "marker": {
             "colorbar": {
              "outlinewidth": 0,
              "ticks": ""
             }
            },
            "type": "scatterternary"
           }
          ],
          "surface": [
           {
            "colorbar": {
             "outlinewidth": 0,
             "ticks": ""
            },
            "colorscale": [
             [
              0,
              "#0d0887"
             ],
             [
              0.1111111111111111,
              "#46039f"
             ],
             [
              0.2222222222222222,
              "#7201a8"
             ],
             [
              0.3333333333333333,
              "#9c179e"
             ],
             [
              0.4444444444444444,
              "#bd3786"
             ],
             [
              0.5555555555555556,
              "#d8576b"
             ],
             [
              0.6666666666666666,
              "#ed7953"
             ],
             [
              0.7777777777777778,
              "#fb9f3a"
             ],
             [
              0.8888888888888888,
              "#fdca26"
             ],
             [
              1,
              "#f0f921"
             ]
            ],
            "type": "surface"
           }
          ],
          "table": [
           {
            "cells": {
             "fill": {
              "color": "#EBF0F8"
             },
             "line": {
              "color": "white"
             }
            },
            "header": {
             "fill": {
              "color": "#C8D4E3"
             },
             "line": {
              "color": "white"
             }
            },
            "type": "table"
           }
          ]
         },
         "layout": {
          "annotationdefaults": {
           "arrowcolor": "#2a3f5f",
           "arrowhead": 0,
           "arrowwidth": 1
          },
          "coloraxis": {
           "colorbar": {
            "outlinewidth": 0,
            "ticks": ""
           }
          },
          "colorscale": {
           "diverging": [
            [
             0,
             "#8e0152"
            ],
            [
             0.1,
             "#c51b7d"
            ],
            [
             0.2,
             "#de77ae"
            ],
            [
             0.3,
             "#f1b6da"
            ],
            [
             0.4,
             "#fde0ef"
            ],
            [
             0.5,
             "#f7f7f7"
            ],
            [
             0.6,
             "#e6f5d0"
            ],
            [
             0.7,
             "#b8e186"
            ],
            [
             0.8,
             "#7fbc41"
            ],
            [
             0.9,
             "#4d9221"
            ],
            [
             1,
             "#276419"
            ]
           ],
           "sequential": [
            [
             0,
             "#0d0887"
            ],
            [
             0.1111111111111111,
             "#46039f"
            ],
            [
             0.2222222222222222,
             "#7201a8"
            ],
            [
             0.3333333333333333,
             "#9c179e"
            ],
            [
             0.4444444444444444,
             "#bd3786"
            ],
            [
             0.5555555555555556,
             "#d8576b"
            ],
            [
             0.6666666666666666,
             "#ed7953"
            ],
            [
             0.7777777777777778,
             "#fb9f3a"
            ],
            [
             0.8888888888888888,
             "#fdca26"
            ],
            [
             1,
             "#f0f921"
            ]
           ],
           "sequentialminus": [
            [
             0,
             "#0d0887"
            ],
            [
             0.1111111111111111,
             "#46039f"
            ],
            [
             0.2222222222222222,
             "#7201a8"
            ],
            [
             0.3333333333333333,
             "#9c179e"
            ],
            [
             0.4444444444444444,
             "#bd3786"
            ],
            [
             0.5555555555555556,
             "#d8576b"
            ],
            [
             0.6666666666666666,
             "#ed7953"
            ],
            [
             0.7777777777777778,
             "#fb9f3a"
            ],
            [
             0.8888888888888888,
             "#fdca26"
            ],
            [
             1,
             "#f0f921"
            ]
           ]
          },
          "colorway": [
           "#636efa",
           "#EF553B",
           "#00cc96",
           "#ab63fa",
           "#FFA15A",
           "#19d3f3",
           "#FF6692",
           "#B6E880",
           "#FF97FF",
           "#FECB52"
          ],
          "font": {
           "color": "#2a3f5f"
          },
          "geo": {
           "bgcolor": "white",
           "lakecolor": "white",
           "landcolor": "#E5ECF6",
           "showlakes": true,
           "showland": true,
           "subunitcolor": "white"
          },
          "hoverlabel": {
           "align": "left"
          },
          "hovermode": "closest",
          "mapbox": {
           "style": "light"
          },
          "paper_bgcolor": "white",
          "plot_bgcolor": "#E5ECF6",
          "polar": {
           "angularaxis": {
            "gridcolor": "white",
            "linecolor": "white",
            "ticks": ""
           },
           "bgcolor": "#E5ECF6",
           "radialaxis": {
            "gridcolor": "white",
            "linecolor": "white",
            "ticks": ""
           }
          },
          "scene": {
           "xaxis": {
            "backgroundcolor": "#E5ECF6",
            "gridcolor": "white",
            "gridwidth": 2,
            "linecolor": "white",
            "showbackground": true,
            "ticks": "",
            "zerolinecolor": "white"
           },
           "yaxis": {
            "backgroundcolor": "#E5ECF6",
            "gridcolor": "white",
            "gridwidth": 2,
            "linecolor": "white",
            "showbackground": true,
            "ticks": "",
            "zerolinecolor": "white"
           },
           "zaxis": {
            "backgroundcolor": "#E5ECF6",
            "gridcolor": "white",
            "gridwidth": 2,
            "linecolor": "white",
            "showbackground": true,
            "ticks": "",
            "zerolinecolor": "white"
           }
          },
          "shapedefaults": {
           "line": {
            "color": "#2a3f5f"
           }
          },
          "ternary": {
           "aaxis": {
            "gridcolor": "white",
            "linecolor": "white",
            "ticks": ""
           },
           "baxis": {
            "gridcolor": "white",
            "linecolor": "white",
            "ticks": ""
           },
           "bgcolor": "#E5ECF6",
           "caxis": {
            "gridcolor": "white",
            "linecolor": "white",
            "ticks": ""
           }
          },
          "title": {
           "x": 0.05
          },
          "xaxis": {
           "automargin": true,
           "gridcolor": "white",
           "linecolor": "white",
           "ticks": "",
           "title": {
            "standoff": 15
           },
           "zerolinecolor": "white",
           "zerolinewidth": 2
          },
          "yaxis": {
           "automargin": true,
           "gridcolor": "white",
           "linecolor": "white",
           "ticks": "",
           "title": {
            "standoff": 15
           },
           "zerolinecolor": "white",
           "zerolinewidth": 2
          }
         }
        },
        "title": {
         "text": "Distribution Of Number of Ratings Per User"
        },
        "xaxis": {
         "title": {
          "text": "Ratings Per User"
         }
        },
        "yaxis": {
         "title": {
          "text": "Count"
         }
        }
       }
      },
      "text/html": [
       "<div>                            <div id=\"aa84250b-b025-4da7-8375-7d293e8fac56\" class=\"plotly-graph-div\" style=\"height:525px; width:100%;\"></div>            <script type=\"text/javascript\">                require([\"plotly\"], function(Plotly) {                    window.PLOTLYENV=window.PLOTLYENV || {};                                    if (document.getElementById(\"aa84250b-b025-4da7-8375-7d293e8fac56\")) {                    Plotly.newPlot(                        \"aa84250b-b025-4da7-8375-7d293e8fac56\",                        [{\"name\": \"Ratings\", \"type\": \"histogram\", \"x\": [66, 7, 5, 14, 8, 5, 7, 6, 5, 6, 7, 8, 16, 6, 6, 5, 6, 22, 13, 7, 30, 5, 9, 5, 7, 5, 5, 5, 8, 6, 6, 8, 5, 11, 9, 6, 10, 6, 9, 5, 7, 8, 8, 6, 7, 5, 5, 5, 5, 8, 9, 5, 5, 10, 8, 5, 6, 6, 9, 6, 5, 11, 8, 10, 7, 5, 7, 5, 5, 7, 7, 5, 5, 6, 5, 10, 11, 10, 8, 13, 5, 11, 5, 5, 5, 5, 10, 6, 7, 7, 7, 5, 8, 5, 24, 5, 18, 9, 5, 5, 5, 6, 7, 11, 6, 5, 5, 9, 5, 5, 5, 7, 6, 5, 6, 10, 5, 5, 7, 5, 6, 11, 6, 37, 9, 18, 5, 10, 20, 5, 5, 8, 8, 10, 5, 7, 9, 21, 5, 9, 5, 6, 7, 9, 6, 6, 18, 6, 6, 5, 6, 9, 13, 15, 10, 7, 5, 8, 5, 5, 6, 10, 5, 10, 6, 17, 5, 6, 6, 14, 7, 11, 5, 21, 5, 32, 9, 13, 5, 5, 7, 7, 18, 5, 6, 5, 5, 5, 5, 5, 10, 8, 6, 7, 7, 7, 8, 9, 5, 10, 5, 11, 5, 5, 5, 6, 5, 7, 5, 7, 5, 22, 6, 7, 8, 7, 9, 5, 7, 5, 8, 5, 5, 5, 5, 5, 7, 9, 8, 10, 16, 7, 6, 11, 8, 5, 10, 9, 5, 6, 9, 5, 9, 5, 5, 6, 11, 5, 5, 8, 5, 14, 5, 8, 5, 7, 5, 5, 6, 5, 5, 7, 6, 11, 6, 9, 7, 5, 6, 5, 5, 8, 6, 9, 9, 9, 10, 9, 32, 5, 5, 5, 5, 5, 12, 6, 5, 9, 18, 5, 9, 6, 5, 17, 6, 8, 11, 6, 5, 20, 5, 5, 20, 6, 9, 7, 11, 6, 8, 7, 8, 8, 5, 7, 5, 5, 5, 6, 20, 6, 5, 5, 6, 5, 14, 8, 5, 5, 5, 10, 5, 7, 5, 11, 7, 7, 15, 6, 13, 20, 6, 5, 20, 13, 5, 5, 7, 6, 5, 5, 5, 7, 11, 5, 10, 5, 5, 21, 23, 5, 15, 5, 7, 6, 5, 7, 10, 18, 10, 6, 5, 12, 13, 8, 8, 5, 14, 5, 14, 5, 5, 5, 6, 5, 38, 9, 10, 5, 5, 5, 7, 6, 10, 7, 6, 6, 19, 6, 11, 11, 22, 5, 6, 7, 7, 5, 5, 7, 9, 8, 7, 8, 8, 6, 23, 5, 5, 9, 5, 11, 8, 24, 5, 8, 19, 6, 5, 5, 8, 8, 35, 8, 5, 8, 11, 25, 5, 5, 5, 8, 5, 5, 5, 5, 5, 5, 7, 6, 5, 5, 5, 5, 6, 11, 6, 5, 7, 7, 12, 5, 5, 9, 19, 5, 8, 5, 8, 15, 6, 19, 6, 13, 7, 7, 5, 8, 10, 11, 5, 16, 8, 5, 6, 5, 7, 12, 16, 5, 5, 12, 16, 6, 7, 6, 10, 5, 6, 5, 5, 5, 9, 43, 8, 5, 5, 9, 12, 5, 5, 5, 6, 5, 6, 5, 6, 7, 6, 20, 8, 6, 6, 6, 5, 5, 5, 10, 5, 8, 6, 9, 7, 13, 5, 9, 5, 5, 5, 5, 5, 5, 8, 5, 5, 7, 5, 5, 6, 6, 5, 9, 10, 5, 13, 8, 7, 6, 5, 5, 8, 13, 10, 5, 6, 12, 8, 6, 5, 5, 6, 5, 10, 8, 11, 6, 7, 11, 5, 6, 6, 10, 8, 6, 8, 5, 5, 12, 5, 5, 11, 5, 5, 6, 7, 6, 6, 5, 10, 7, 5, 5, 6, 6, 11, 21, 5, 6, 13, 6, 5, 5, 6, 5, 10, 13, 6, 7, 6, 6, 6, 5, 8, 5, 5, 6, 5, 5, 5, 5, 6, 6, 23, 5, 7, 5, 5, 8, 10, 7, 10, 6, 8, 6, 12, 8, 6, 5, 7, 5, 6, 6, 5, 8, 34, 6, 5, 7, 7, 9, 8, 11, 5, 6, 10, 10, 5, 5, 6, 5, 6, 5, 5, 10, 5, 5, 7, 7, 6, 5, 5, 10, 5, 6, 5, 11, 5, 12, 6, 5, 21, 5, 5, 7, 12, 6, 5, 11, 12, 14, 6, 7, 5, 5, 5, 5, 5, 9, 5, 5, 5, 6, 5, 5, 16, 5, 8, 11, 5, 10, 10, 7, 8, 6, 5, 5, 5, 14, 5, 5, 5, 19, 9, 6, 5, 5, 6, 5, 5, 6, 18, 5, 5, 7, 6, 5, 8, 8, 9, 10, 6, 8, 5, 6, 34, 7, 5, 5, 9, 10, 10, 5, 6, 7, 7, 9, 5, 6, 8, 5, 10, 15, 6, 7, 5, 9, 7, 5, 11, 9, 33, 5, 6, 6, 5, 11, 12, 5, 5, 13, 8, 5, 11, 6, 7, 9, 5, 5, 5, 7, 6, 14, 12, 8, 8, 6, 5, 6, 9, 6, 6, 5, 5, 6, 8, 5, 5, 5, 5, 5, 11, 5, 14, 8, 17, 5, 5, 10, 14, 5, 6, 15, 7, 22, 8, 5, 5, 16, 10, 6, 5, 5, 5, 8, 5, 6, 7, 6, 5, 8, 6, 5, 6, 8, 5, 7, 9, 5, 12, 7, 6, 5, 9, 5, 7, 11, 6, 8, 5, 7, 5, 5, 8, 5, 8, 7, 14, 5, 5, 5, 6, 22, 11, 8, 5, 5, 10, 6, 5, 6, 5, 7, 6, 8, 6, 11, 5, 6, 7, 9, 22, 8, 6, 8, 5, 5, 6, 9, 7, 5, 13, 9, 5, 6, 5, 5, 10, 6, 6, 15, 11, 6, 5, 6, 34, 17, 7, 5, 5, 5, 16, 5, 9, 5, 8, 5, 5, 5, 8, 5, 5, 5, 5, 7, 6, 16, 10, 5, 6, 10, 6, 8, 5, 7, 8, 5, 13, 7, 10, 8, 5, 8, 5, 6, 11, 9, 7, 9, 5, 25, 5, 8, 7, 5, 8, 5, 6, 9, 31, 5, 7, 8, 7, 7, 5, 35, 5, 12, 5, 16, 11, 7, 7, 6, 5, 5, 8, 9, 6, 8, 5, 5, 6, 14, 8, 5, 6, 6, 8, 5, 22, 5, 7, 8, 10, 6, 10, 8, 11, 5, 7, 12, 7, 5, 5, 7, 5, 5, 5, 5, 6, 5, 26, 11, 11, 5, 5, 5, 5, 5, 7, 5, 5, 17, 5, 7, 5, 5, 5, 10, 6, 27, 5, 5, 5, 8, 11, 5, 8, 9, 7, 6, 5, 6, 8, 5, 9, 6, 6, 7, 5, 5, 5, 6, 6, 5, 9, 5, 5, 6, 7, 5, 6, 5, 5, 6, 5, 6, 5, 7, 8, 10, 6, 7, 5, 5, 21, 5, 5, 5, 13, 5, 7, 6, 5, 11, 6, 9, 9, 5, 5, 5, 7, 5, 6, 5, 19, 9, 5, 5, 5, 6, 43, 22, 5, 6, 7, 8, 7, 7, 5, 5, 5, 13, 6, 10, 5, 6, 5, 6, 5, 8, 12, 8, 5, 15, 9, 6, 8, 11, 11, 5, 6, 9, 5, 6, 6, 5, 8, 7, 6, 6, 5, 8, 12, 5, 6, 14, 5, 6, 15, 5, 5, 6, 7, 5, 6, 19, 5, 5, 10, 5, 5, 6, 5, 11, 8, 6, 5, 11, 7, 6, 6, 5, 7, 5, 8, 15, 7, 10, 8, 5, 5, 9, 33, 17, 6, 10, 7, 8, 34, 15, 5, 5, 5, 5, 5, 5, 6, 5, 5, 9, 8, 9, 5, 8, 5, 5, 5, 5, 7, 6, 10, 6, 15, 7, 5, 8, 5, 8, 13, 5, 7, 6, 11, 6, 7, 7, 7, 15, 6, 12, 7, 5, 8, 10, 7, 6, 5, 13, 5, 17, 15, 5, 18, 6, 12, 5, 6, 8, 10, 7, 13, 21, 5, 33, 5, 11, 11, 15, 6, 6, 7, 6, 7, 5, 26, 5, 18, 5, 6, 5, 12, 6, 7, 6, 5, 7, 6, 6, 5, 10, 13, 5, 5, 8, 6, 5, 7, 7, 6, 11, 9, 5, 7, 6, 5, 9, 5, 7, 7, 6, 5, 12, 6, 7, 8, 5, 5, 6, 7, 15, 6, 6, 6, 9, 5, 6, 8, 5, 5, 16, 6, 7, 5, 8, 5, 7, 13, 6, 6, 9, 5, 5, 6, 7, 6, 7, 6, 5, 6, 7, 8, 5, 8, 5, 5, 5, 17, 7, 5, 14, 8, 6, 14, 5, 6, 6, 6, 5, 7, 5, 5, 5, 8, 7, 5, 11, 5, 5, 11, 5, 5, 40, 15, 8, 5, 5, 5, 7, 5, 6, 5, 6, 6, 5, 5, 6, 6, 12, 5, 5, 9, 8, 6, 11, 15, 14, 6, 5, 8, 9, 7, 6, 16, 7, 5, 7, 13, 12, 6, 7, 6, 8, 5, 7, 5, 8, 9, 5, 5, 5, 9, 7, 9, 7, 5, 8, 12, 10, 8, 6, 5, 17, 5, 7, 5, 5, 9, 5, 6, 5, 6, 7, 6, 7, 13, 14, 24, 5, 13, 8, 10, 7, 5, 5, 6, 5, 7, 7, 5, 11, 5, 5, 5, 7, 6, 7, 6, 10, 6, 10, 9, 5, 18, 6, 5, 6, 15, 5, 5, 7, 5, 6, 5, 5, 5, 6, 8, 5, 6, 5, 8, 5, 5, 5, 34, 7, 5, 5, 7, 10, 6, 5, 6, 5, 10, 10, 8, 11, 5, 6, 10, 7, 5, 5, 5, 5, 11, 5, 8, 7, 6, 10, 13, 8, 5, 8, 6, 5, 5, 6, 8, 5, 8, 5, 8, 6, 6, 8, 5, 13, 7, 6, 6, 6, 6, 5, 5, 5, 5, 5, 5, 6, 5, 6, 22, 5, 8, 5, 8, 6, 6, 12, 21, 5, 7, 5, 6, 5, 5, 10, 7, 6, 9, 5, 5, 6, 5, 10, 5, 12, 8, 8, 10, 5, 5, 31, 7, 10, 5, 5, 5, 5, 5, 6, 10, 5, 5, 10, 5, 12, 6, 9, 5, 6, 8, 5, 6, 20, 8, 10, 6, 5, 5, 7, 14, 6, 5, 8, 5, 18, 16, 6, 7, 5, 8, 5, 6, 6, 5, 6, 5, 6, 6, 5, 5, 8, 5, 6, 5, 8, 6, 8, 6, 21, 26, 12, 5, 9, 6, 5, 5, 5, 6, 8, 6, 17, 6, 7, 5, 5, 7, 8, 5, 24, 6, 5], \"xbins\": {\"size\": 2, \"start\": 0}}],                        {\"bargap\": 0.2, \"template\": {\"data\": {\"bar\": [{\"error_x\": {\"color\": \"#2a3f5f\"}, \"error_y\": {\"color\": \"#2a3f5f\"}, \"marker\": {\"line\": {\"color\": \"#E5ECF6\", \"width\": 0.5}}, \"type\": \"bar\"}], \"barpolar\": [{\"marker\": {\"line\": {\"color\": \"#E5ECF6\", \"width\": 0.5}}, \"type\": \"barpolar\"}], \"carpet\": [{\"aaxis\": {\"endlinecolor\": \"#2a3f5f\", \"gridcolor\": \"white\", \"linecolor\": \"white\", \"minorgridcolor\": \"white\", \"startlinecolor\": \"#2a3f5f\"}, \"baxis\": {\"endlinecolor\": \"#2a3f5f\", \"gridcolor\": \"white\", \"linecolor\": \"white\", \"minorgridcolor\": \"white\", \"startlinecolor\": \"#2a3f5f\"}, \"type\": \"carpet\"}], \"choropleth\": [{\"colorbar\": {\"outlinewidth\": 0, \"ticks\": \"\"}, \"type\": \"choropleth\"}], \"contour\": [{\"colorbar\": {\"outlinewidth\": 0, \"ticks\": \"\"}, \"colorscale\": [[0.0, \"#0d0887\"], [0.1111111111111111, \"#46039f\"], [0.2222222222222222, \"#7201a8\"], [0.3333333333333333, \"#9c179e\"], [0.4444444444444444, \"#bd3786\"], [0.5555555555555556, \"#d8576b\"], [0.6666666666666666, \"#ed7953\"], [0.7777777777777778, \"#fb9f3a\"], [0.8888888888888888, \"#fdca26\"], [1.0, \"#f0f921\"]], \"type\": \"contour\"}], \"contourcarpet\": [{\"colorbar\": {\"outlinewidth\": 0, \"ticks\": \"\"}, \"type\": \"contourcarpet\"}], \"heatmap\": [{\"colorbar\": {\"outlinewidth\": 0, \"ticks\": \"\"}, \"colorscale\": [[0.0, \"#0d0887\"], [0.1111111111111111, \"#46039f\"], [0.2222222222222222, \"#7201a8\"], [0.3333333333333333, \"#9c179e\"], [0.4444444444444444, \"#bd3786\"], [0.5555555555555556, \"#d8576b\"], [0.6666666666666666, \"#ed7953\"], [0.7777777777777778, \"#fb9f3a\"], [0.8888888888888888, \"#fdca26\"], [1.0, \"#f0f921\"]], \"type\": \"heatmap\"}], \"heatmapgl\": [{\"colorbar\": {\"outlinewidth\": 0, \"ticks\": \"\"}, \"colorscale\": [[0.0, \"#0d0887\"], [0.1111111111111111, \"#46039f\"], [0.2222222222222222, \"#7201a8\"], [0.3333333333333333, \"#9c179e\"], [0.4444444444444444, \"#bd3786\"], [0.5555555555555556, \"#d8576b\"], [0.6666666666666666, \"#ed7953\"], [0.7777777777777778, \"#fb9f3a\"], [0.8888888888888888, \"#fdca26\"], [1.0, \"#f0f921\"]], \"type\": \"heatmapgl\"}], \"histogram\": [{\"marker\": {\"colorbar\": {\"outlinewidth\": 0, \"ticks\": \"\"}}, \"type\": \"histogram\"}], \"histogram2d\": [{\"colorbar\": {\"outlinewidth\": 0, \"ticks\": \"\"}, \"colorscale\": [[0.0, \"#0d0887\"], [0.1111111111111111, \"#46039f\"], [0.2222222222222222, \"#7201a8\"], [0.3333333333333333, \"#9c179e\"], [0.4444444444444444, \"#bd3786\"], [0.5555555555555556, \"#d8576b\"], [0.6666666666666666, \"#ed7953\"], [0.7777777777777778, \"#fb9f3a\"], [0.8888888888888888, \"#fdca26\"], [1.0, \"#f0f921\"]], \"type\": \"histogram2d\"}], \"histogram2dcontour\": [{\"colorbar\": {\"outlinewidth\": 0, \"ticks\": \"\"}, \"colorscale\": [[0.0, \"#0d0887\"], [0.1111111111111111, \"#46039f\"], [0.2222222222222222, \"#7201a8\"], [0.3333333333333333, \"#9c179e\"], [0.4444444444444444, \"#bd3786\"], [0.5555555555555556, \"#d8576b\"], [0.6666666666666666, \"#ed7953\"], [0.7777777777777778, \"#fb9f3a\"], [0.8888888888888888, \"#fdca26\"], [1.0, \"#f0f921\"]], \"type\": \"histogram2dcontour\"}], \"mesh3d\": [{\"colorbar\": {\"outlinewidth\": 0, \"ticks\": \"\"}, \"type\": \"mesh3d\"}], \"parcoords\": [{\"line\": {\"colorbar\": {\"outlinewidth\": 0, \"ticks\": \"\"}}, \"type\": \"parcoords\"}], \"pie\": [{\"automargin\": true, \"type\": \"pie\"}], \"scatter\": [{\"marker\": {\"colorbar\": {\"outlinewidth\": 0, \"ticks\": \"\"}}, \"type\": \"scatter\"}], \"scatter3d\": [{\"line\": {\"colorbar\": {\"outlinewidth\": 0, \"ticks\": \"\"}}, \"marker\": {\"colorbar\": {\"outlinewidth\": 0, \"ticks\": \"\"}}, \"type\": \"scatter3d\"}], \"scattercarpet\": [{\"marker\": {\"colorbar\": {\"outlinewidth\": 0, \"ticks\": \"\"}}, \"type\": \"scattercarpet\"}], \"scattergeo\": [{\"marker\": {\"colorbar\": {\"outlinewidth\": 0, \"ticks\": \"\"}}, \"type\": \"scattergeo\"}], \"scattergl\": [{\"marker\": {\"colorbar\": {\"outlinewidth\": 0, \"ticks\": \"\"}}, \"type\": \"scattergl\"}], \"scattermapbox\": [{\"marker\": {\"colorbar\": {\"outlinewidth\": 0, \"ticks\": \"\"}}, \"type\": \"scattermapbox\"}], \"scatterpolar\": [{\"marker\": {\"colorbar\": {\"outlinewidth\": 0, \"ticks\": \"\"}}, \"type\": \"scatterpolar\"}], \"scatterpolargl\": [{\"marker\": {\"colorbar\": {\"outlinewidth\": 0, \"ticks\": \"\"}}, \"type\": \"scatterpolargl\"}], \"scatterternary\": [{\"marker\": {\"colorbar\": {\"outlinewidth\": 0, \"ticks\": \"\"}}, \"type\": \"scatterternary\"}], \"surface\": [{\"colorbar\": {\"outlinewidth\": 0, \"ticks\": \"\"}, \"colorscale\": [[0.0, \"#0d0887\"], [0.1111111111111111, \"#46039f\"], [0.2222222222222222, \"#7201a8\"], [0.3333333333333333, \"#9c179e\"], [0.4444444444444444, \"#bd3786\"], [0.5555555555555556, \"#d8576b\"], [0.6666666666666666, \"#ed7953\"], [0.7777777777777778, \"#fb9f3a\"], [0.8888888888888888, \"#fdca26\"], [1.0, \"#f0f921\"]], \"type\": \"surface\"}], \"table\": [{\"cells\": {\"fill\": {\"color\": \"#EBF0F8\"}, \"line\": {\"color\": \"white\"}}, \"header\": {\"fill\": {\"color\": \"#C8D4E3\"}, \"line\": {\"color\": \"white\"}}, \"type\": \"table\"}]}, \"layout\": {\"annotationdefaults\": {\"arrowcolor\": \"#2a3f5f\", \"arrowhead\": 0, \"arrowwidth\": 1}, \"coloraxis\": {\"colorbar\": {\"outlinewidth\": 0, \"ticks\": \"\"}}, \"colorscale\": {\"diverging\": [[0, \"#8e0152\"], [0.1, \"#c51b7d\"], [0.2, \"#de77ae\"], [0.3, \"#f1b6da\"], [0.4, \"#fde0ef\"], [0.5, \"#f7f7f7\"], [0.6, \"#e6f5d0\"], [0.7, \"#b8e186\"], [0.8, \"#7fbc41\"], [0.9, \"#4d9221\"], [1, \"#276419\"]], \"sequential\": [[0.0, \"#0d0887\"], [0.1111111111111111, \"#46039f\"], [0.2222222222222222, \"#7201a8\"], [0.3333333333333333, \"#9c179e\"], [0.4444444444444444, \"#bd3786\"], [0.5555555555555556, \"#d8576b\"], [0.6666666666666666, \"#ed7953\"], [0.7777777777777778, \"#fb9f3a\"], [0.8888888888888888, \"#fdca26\"], [1.0, \"#f0f921\"]], \"sequentialminus\": [[0.0, \"#0d0887\"], [0.1111111111111111, \"#46039f\"], [0.2222222222222222, \"#7201a8\"], [0.3333333333333333, \"#9c179e\"], [0.4444444444444444, \"#bd3786\"], [0.5555555555555556, \"#d8576b\"], [0.6666666666666666, \"#ed7953\"], [0.7777777777777778, \"#fb9f3a\"], [0.8888888888888888, \"#fdca26\"], [1.0, \"#f0f921\"]]}, \"colorway\": [\"#636efa\", \"#EF553B\", \"#00cc96\", \"#ab63fa\", \"#FFA15A\", \"#19d3f3\", \"#FF6692\", \"#B6E880\", \"#FF97FF\", \"#FECB52\"], \"font\": {\"color\": \"#2a3f5f\"}, \"geo\": {\"bgcolor\": \"white\", \"lakecolor\": \"white\", \"landcolor\": \"#E5ECF6\", \"showlakes\": true, \"showland\": true, \"subunitcolor\": \"white\"}, \"hoverlabel\": {\"align\": \"left\"}, \"hovermode\": \"closest\", \"mapbox\": {\"style\": \"light\"}, \"paper_bgcolor\": \"white\", \"plot_bgcolor\": \"#E5ECF6\", \"polar\": {\"angularaxis\": {\"gridcolor\": \"white\", \"linecolor\": \"white\", \"ticks\": \"\"}, \"bgcolor\": \"#E5ECF6\", \"radialaxis\": {\"gridcolor\": \"white\", \"linecolor\": \"white\", \"ticks\": \"\"}}, \"scene\": {\"xaxis\": {\"backgroundcolor\": \"#E5ECF6\", \"gridcolor\": \"white\", \"gridwidth\": 2, \"linecolor\": \"white\", \"showbackground\": true, \"ticks\": \"\", \"zerolinecolor\": \"white\"}, \"yaxis\": {\"backgroundcolor\": \"#E5ECF6\", \"gridcolor\": \"white\", \"gridwidth\": 2, \"linecolor\": \"white\", \"showbackground\": true, \"ticks\": \"\", \"zerolinecolor\": \"white\"}, \"zaxis\": {\"backgroundcolor\": \"#E5ECF6\", \"gridcolor\": \"white\", \"gridwidth\": 2, \"linecolor\": \"white\", \"showbackground\": true, \"ticks\": \"\", \"zerolinecolor\": \"white\"}}, \"shapedefaults\": {\"line\": {\"color\": \"#2a3f5f\"}}, \"ternary\": {\"aaxis\": {\"gridcolor\": \"white\", \"linecolor\": \"white\", \"ticks\": \"\"}, \"baxis\": {\"gridcolor\": \"white\", \"linecolor\": \"white\", \"ticks\": \"\"}, \"bgcolor\": \"#E5ECF6\", \"caxis\": {\"gridcolor\": \"white\", \"linecolor\": \"white\", \"ticks\": \"\"}}, \"title\": {\"x\": 0.05}, \"xaxis\": {\"automargin\": true, \"gridcolor\": \"white\", \"linecolor\": \"white\", \"ticks\": \"\", \"title\": {\"standoff\": 15}, \"zerolinecolor\": \"white\", \"zerolinewidth\": 2}, \"yaxis\": {\"automargin\": true, \"gridcolor\": \"white\", \"linecolor\": \"white\", \"ticks\": \"\", \"title\": {\"standoff\": 15}, \"zerolinecolor\": \"white\", \"zerolinewidth\": 2}}}, \"title\": {\"text\": \"Distribution Of Number of Ratings Per User\"}, \"xaxis\": {\"title\": {\"text\": \"Ratings Per User\"}}, \"yaxis\": {\"title\": {\"text\": \"Count\"}}},                        {\"responsive\": true}                    ).then(function(){\n",
       "                            \n",
       "var gd = document.getElementById('aa84250b-b025-4da7-8375-7d293e8fac56');\n",
       "var x = new MutationObserver(function (mutations, observer) {{\n",
       "        var display = window.getComputedStyle(gd).display;\n",
       "        if (!display || display === 'none') {{\n",
       "            console.log([gd, 'removed!']);\n",
       "            Plotly.purge(gd);\n",
       "            observer.disconnect();\n",
       "        }}\n",
       "}});\n",
       "\n",
       "// Listen for the removal of the full notebook cells\n",
       "var notebookContainer = gd.closest('#notebook-container');\n",
       "if (notebookContainer) {{\n",
       "    x.observe(notebookContainer, {childList: true});\n",
       "}}\n",
       "\n",
       "// Listen for the clearing of the current output cell\n",
       "var outputEl = gd.closest('.output');\n",
       "if (outputEl) {{\n",
       "    x.observe(outputEl, {childList: true});\n",
       "}}\n",
       "\n",
       "                        })                };                });            </script>        </div>"
      ]
     },
     "metadata": {},
     "output_type": "display_data"
    }
   ],
   "source": [
    "# Number of ratings per user\n",
    "data = df.groupby('reviewerID')['overall'].count()\n",
    "\n",
    "# Create trace\n",
    "trace = go.Histogram(x = data.values,\n",
    "                     name = 'Ratings',\n",
    "                     xbins = dict(start = 0, size = 2))\n",
    "# Create layout\n",
    "layout = go.Layout(title = 'Distribution Of Number of Ratings Per User',\n",
    "                   xaxis = dict(title = 'Ratings Per User'),\n",
    "                   yaxis = dict(title = 'Count'),\n",
    "                   bargap = 0.2)\n",
    "\n",
    "# Create plot\n",
    "fig = go.Figure(data=[trace], layout=layout)\n",
    "iplot(fig)\n"
   ]
  },
  {
   "cell_type": "markdown",
   "metadata": {},
   "source": [
    " As expected similar distribution as per item."
   ]
  },
  {
   "cell_type": "markdown",
   "metadata": {},
   "source": [
    "# Managing data with Surprise ----\n",
    " It's now time to convert our datasets to the format required by the Surprise library.<br>\n",
    " To load a data set from the above pandas data frame, we will use the *load_from_df()* method, we will also need a Reader object, and the rating_scale parameter must be specified. The data frame must have three columns, corresponding to the user ids, the item ids, and the ratings in this order. Each row thus corresponds to a given rating.<br>"
   ]
  },
  {
   "cell_type": "markdown",
   "metadata": {},
   "source": [
    "# Split the dataset ----\n",
    "## Data selection and preprocessing\n",
    " Created a training dataset and a testing dataset from therein for the experiment. <br>\n",
    " A recommended standard pre-processing strategy is that: for each user, randomly select 80% of ratings as the training ratings and use the remaining 20% ratings as testing ratings.<br>\n",
    " We use the `scikit-learn` library for helping the stratification per user."
   ]
  },
  {
   "cell_type": "code",
   "execution_count": 9,
   "metadata": {},
   "outputs": [],
   "source": [
    "data_train, data_test = train_test_split(df, test_size=0.20, random_state=42, stratify=df['reviewerID'])\n",
    "# Clear index for future usage\n",
    "data_train.reset_index(drop=True, inplace=True)\n",
    "data_test.reset_index(drop=True, inplace=True)\n"
   ]
  },
  {
   "cell_type": "code",
   "execution_count": 10,
   "metadata": {},
   "outputs": [],
   "source": [
    "## Collaborative Filtering ----\n",
    "# Convert the `Pandas` into a `surprise` dataset format.\n"
   ]
  },
  {
   "cell_type": "code",
   "execution_count": 11,
   "metadata": {},
   "outputs": [],
   "source": [
    "reader = Reader(rating_scale=(1, 5))\n",
    "data_train_cf = Dataset.load_from_df(data_train[['reviewerID', 'asin', 'overall']], reader)\n",
    "data_test_cf = Dataset.load_from_df(data_test[['reviewerID', 'asin', 'overall']], reader)\n"
   ]
  },
  {
   "cell_type": "markdown",
   "metadata": {},
   "source": [
    "## Neighbourhood-based ----\n",
    " Collaborative filtering.<br>\n",
    " <br>\n",
    " We are going to start by using one of the simplest recommendation methodologies (Neighbourhood-based CF). This technique is pretty simple and fast, but it provides accurate results for many scenarios.<br>\n",
    " To specify the parameters of the execution, we simply configure the function by passing a dictionary as an argument to the recommender function. The dictionary should have the required keys, such as the following:\n",
    " - **name** contains the similarity metric to use. Options are cosine, msd, pearson, or pearson_baseline. The default is msd.\n",
    " - **user_based** is a boolean that tells whether the approach will be user-based or item-based. The default is True, which means the user-based approach will be used.\n",
    " - **min_support** is the minimum number of common items needed between users to consider them for similarity. For the item-based approach, this corresponds to the minimum number of common users for two items.\n",
    " In particular, I will use the cosine distance as similarity metric for finding the neighbors, using the item-based approach"
   ]
  },
  {
   "cell_type": "code",
   "execution_count": 12,
   "metadata": {},
   "outputs": [
    {
     "name": "stdout",
     "output_type": "stream",
     "text": [
      "Evaluating RMSE of algorithm KNNBaseline on 3 split(s).\n",
      "\n",
      "                  Fold 1  Fold 2  Fold 3  Mean    Std     \n",
      "RMSE (testset)    1.0809  1.0762  1.0701  1.0757  0.0044  \n",
      "Fit time          0.05    0.05    0.05    0.05    0.00    \n",
      "Test time         0.05    0.05    0.04    0.05    0.00    \n"
     ]
    }
   ],
   "source": [
    "# To use item-based cosine similarity\n",
    "sim_options = {\n",
    "    \"name\": \"cosine\",\n",
    "    \"user_based\": False # Compute  similarities between items\n",
    "}\n",
    "knn = KNNBaseline(sim_options=sim_options)\n",
    "\n",
    "results = cross_validate(knn, data_train_cf, measures=['RMSE'], cv=3, verbose=True, n_jobs=-1)\n"
   ]
  },
  {
   "cell_type": "markdown",
   "metadata": {},
   "source": [
    "## Group algorithm ----\n",
    " As reference, the following were used for the development of our group algorithm.<br>\n",
    " https://surprise.readthedocs.io/en/stable/building_custom_algo.html?highlight=fit#the-fit-method<br>\n",
    " https://github.com/NicolasHug/Surprise/blob/fa7455880192383f01475162b4cbd310d91d29ca/examples/building_custom_algorithms/with_baselines_or_sim.py"
   ]
  },
  {
   "cell_type": "code",
   "execution_count": 13,
   "metadata": {},
   "outputs": [],
   "source": [
    "class GroupAlgorithm(AlgoBase):\n",
    "\n",
    "    def __init__(self, sim_options={}, bsl_options={}):\n",
    "\n",
    "        AlgoBase.__init__(self, sim_options=sim_options, bsl_options=bsl_options)\n",
    "\n",
    "    def fit(self, trainset):\n",
    "\n",
    "        AlgoBase.fit(self, trainset)\n",
    "\n",
    "        # Compute baselines and similarities\n",
    "        self.bu, self.bi = self.compute_baselines()\n",
    "        self.sim = self.compute_similarities()\n",
    "\n",
    "        return self\n",
    "\n",
    "    def estimate(self, u, i):\n",
    "\n",
    "        if not (self.trainset.knows_user(u) and self.trainset.knows_item(i)):\n",
    "            raise PredictionImpossible('User and/or item is unknown.')\n",
    "\n",
    "        # Compute similarities between u and v, where v describes all other users that have also rated item i.\n",
    "        neighbors = [(v, self.sim[u, v]) for (v, r) in self.trainset.ir[i]]\n",
    "        # Sort these neighbors by similarity\n",
    "        neighbors = sorted(neighbors, key=lambda x: x[1], reverse=True)\n",
    "\n",
    "        print('The 4 nearest neighbors of user', str(u), 'are:')\n",
    "        for v, sim_uv in neighbors[:4]:\n",
    "            print('user {0:} with sim {1:1.2f}'.format(v, sim_uv))\n",
    "\n",
    "        # Return the baseline estimate\n",
    "        bsl = self.trainset.global_mean + self.bu[u] + self.bi[i]\n",
    "        return bsl\n"
   ]
  },
  {
   "cell_type": "markdown",
   "metadata": {},
   "source": [
    "## Benchmarking ----\n",
    " In the following exercise we are going to experiment with different algorithms to check which one of them offers the best results.<br>\n",
    " This algorithms are expensive in computing process. There are some GPU-enabled alternatives but we preferred to try simpler implementations first."
   ]
  },
  {
   "cell_type": "code",
   "execution_count": 14,
   "metadata": {},
   "outputs": [
    {
     "name": "stdout",
     "output_type": "stream",
     "text": [
      "Testing <surprise.prediction_algorithms.matrix_factorization.SVD object at 0x000001E838C81B80>\n",
      "Testing <surprise.prediction_algorithms.matrix_factorization.SVDpp object at 0x000001E838C816A0>\n",
      "Testing <surprise.prediction_algorithms.slope_one.SlopeOne object at 0x000001E838B04370>\n",
      "Testing <surprise.prediction_algorithms.matrix_factorization.NMF object at 0x000001E838B04490>\n",
      "Testing <surprise.prediction_algorithms.random_pred.NormalPredictor object at 0x000001E838B042E0>\n",
      "Testing <surprise.prediction_algorithms.knns.KNNBaseline object at 0x000001E838B043A0>\n",
      "Testing <surprise.prediction_algorithms.baseline_only.BaselineOnly object at 0x000001E838B044C0>\n",
      "Testing <surprise.prediction_algorithms.co_clustering.CoClustering object at 0x000001E838B04460>\n",
      "Testing <__main__.GroupAlgorithm object at 0x000001E838B04A30>\n"
     ]
    },
    {
     "data": {
      "text/html": [
       "<div>\n",
       "<style scoped>\n",
       "    .dataframe tbody tr th:only-of-type {\n",
       "        vertical-align: middle;\n",
       "    }\n",
       "\n",
       "    .dataframe tbody tr th {\n",
       "        vertical-align: top;\n",
       "    }\n",
       "\n",
       "    .dataframe thead th {\n",
       "        text-align: right;\n",
       "    }\n",
       "</style>\n",
       "<table border=\"1\" class=\"dataframe\">\n",
       "  <thead>\n",
       "    <tr style=\"text-align: right;\">\n",
       "      <th></th>\n",
       "      <th>test_rmse</th>\n",
       "      <th>fit_time</th>\n",
       "      <th>test_time</th>\n",
       "    </tr>\n",
       "    <tr>\n",
       "      <th>Algorithm</th>\n",
       "      <th></th>\n",
       "      <th></th>\n",
       "      <th></th>\n",
       "    </tr>\n",
       "  </thead>\n",
       "  <tbody>\n",
       "    <tr>\n",
       "      <th>SVDpp</th>\n",
       "      <td>0.994173</td>\n",
       "      <td>0.938822</td>\n",
       "      <td>0.052527</td>\n",
       "    </tr>\n",
       "    <tr>\n",
       "      <th>SVD</th>\n",
       "      <td>0.999558</td>\n",
       "      <td>0.345408</td>\n",
       "      <td>0.019947</td>\n",
       "    </tr>\n",
       "    <tr>\n",
       "      <th>GroupAlgorithm</th>\n",
       "      <td>0.999839</td>\n",
       "      <td>0.055185</td>\n",
       "      <td>1.634961</td>\n",
       "    </tr>\n",
       "    <tr>\n",
       "      <th>BaselineOnly</th>\n",
       "      <td>1.002738</td>\n",
       "      <td>0.005652</td>\n",
       "      <td>0.010998</td>\n",
       "    </tr>\n",
       "    <tr>\n",
       "      <th>KNNBaseline</th>\n",
       "      <td>1.079227</td>\n",
       "      <td>0.054498</td>\n",
       "      <td>0.078789</td>\n",
       "    </tr>\n",
       "    <tr>\n",
       "      <th>CoClustering</th>\n",
       "      <td>1.114274</td>\n",
       "      <td>0.288873</td>\n",
       "      <td>0.014960</td>\n",
       "    </tr>\n",
       "    <tr>\n",
       "      <th>SlopeOne</th>\n",
       "      <td>1.186141</td>\n",
       "      <td>0.027261</td>\n",
       "      <td>0.022606</td>\n",
       "    </tr>\n",
       "    <tr>\n",
       "      <th>NMF</th>\n",
       "      <td>1.240939</td>\n",
       "      <td>0.433175</td>\n",
       "      <td>0.016290</td>\n",
       "    </tr>\n",
       "    <tr>\n",
       "      <th>NormalPredictor</th>\n",
       "      <td>1.399122</td>\n",
       "      <td>0.006992</td>\n",
       "      <td>0.015645</td>\n",
       "    </tr>\n",
       "  </tbody>\n",
       "</table>\n",
       "</div>"
      ],
      "text/plain": [
       "                 test_rmse  fit_time  test_time\n",
       "Algorithm                                      \n",
       "SVDpp             0.994173  0.938822   0.052527\n",
       "SVD               0.999558  0.345408   0.019947\n",
       "GroupAlgorithm    0.999839  0.055185   1.634961\n",
       "BaselineOnly      1.002738  0.005652   0.010998\n",
       "KNNBaseline       1.079227  0.054498   0.078789\n",
       "CoClustering      1.114274  0.288873   0.014960\n",
       "SlopeOne          1.186141  0.027261   0.022606\n",
       "NMF               1.240939  0.433175   0.016290\n",
       "NormalPredictor   1.399122  0.006992   0.015645"
      ]
     },
     "execution_count": 14,
     "metadata": {},
     "output_type": "execute_result"
    }
   ],
   "source": [
    "benchmark = []\n",
    "# Iterate over all algorithms\n",
    "for algorithm in [SVD(), SVDpp(), SlopeOne(), NMF(), NormalPredictor(), KNNBaseline(), BaselineOnly(), CoClustering(), GroupAlgorithm()]:\n",
    "    \n",
    "    print(\"Testing {}\".format(algorithm))\n",
    "    # Perform cross validation\n",
    "    results = cross_validate(algorithm, data_train_cf, measures=['RMSE'], cv=3, verbose=False, n_jobs=-1)\n",
    "    \n",
    "    # Get results & append algorithm name\n",
    "    tmp = pd.DataFrame.from_dict(results).mean(axis=0)\n",
    "    tmp = tmp.append(pd.Series([str(algorithm).split(' ')[0].split('.')[-1]], index=['Algorithm']))\n",
    "    benchmark.append(tmp)\n",
    "    \n",
    "pd.DataFrame(benchmark).set_index('Algorithm').sort_values('test_rmse')    \n"
   ]
  },
  {
   "cell_type": "markdown",
   "metadata": {},
   "source": [
    "## Hyperparameter optimization ----\n",
    " We had selected as best performant the `svd++` algorithms. It must be considered that the selected method has the highest CPU time, but we are using a small dataset to overcame the limitations. Also we are using a 16 cores CPU to speed up the training and following processes."
   ]
  },
  {
   "cell_type": "code",
   "execution_count": 15,
   "metadata": {},
   "outputs": [
    {
     "name": "stdout",
     "output_type": "stream",
     "text": [
      "0.9950887601170791\n",
      "{'n_factors': 50, 'n_epochs': 30, 'lr_all': 0.005, 'reg_all': 0.1}\n"
     ]
    }
   ],
   "source": [
    "# https://towardsdatascience.com/svd-where-model-tuning-goes-wrong-61c269402919\n",
    "# https://surprise.readthedocs.io/en/stable/matrix_factorization.html?highlight=SVDpp#surprise.prediction_algorithms.matrix_factorization.SVDpp\n",
    "param_grid = {'n_factors':[50,100,150], 'n_epochs':[20,30], 'lr_all':[0.005,0.01,0.007], 'reg_all':[0.02,0.1]}\n",
    "gs = GridSearchCV(SVDpp, param_grid, measures=['rmse'], cv=3, n_jobs=-1)\n",
    "gs.fit(data_train_cf)\n",
    "\n",
    "# best RMSE score\n",
    "print(gs.best_score['rmse'])\n",
    "# combination of parameters that gave the best RMSE score\n",
    "print(gs.best_params['rmse'])\n"
   ]
  },
  {
   "cell_type": "markdown",
   "metadata": {},
   "source": [
    " Using the `test` dataset to evaluate the final performance of the model"
   ]
  },
  {
   "cell_type": "code",
   "execution_count": 16,
   "metadata": {},
   "outputs": [],
   "source": [
    "svdpp_tuned = SVDpp(**gs.best_params['rmse'], random_state=42)\n"
   ]
  },
  {
   "cell_type": "code",
   "execution_count": 17,
   "metadata": {},
   "outputs": [
    {
     "name": "stdout",
     "output_type": "stream",
     "text": [
      "Evaluating RMSE of algorithm SVDpp on 3 split(s).\n",
      "\n",
      "                  Fold 1  Fold 2  Fold 3  Mean    Std     \n",
      "RMSE (testset)    0.9820  1.0077  0.9904  0.9933  0.0107  \n",
      "Fit time          2.26    2.35    2.29    2.30    0.04    \n",
      "Test time         0.06    0.05    0.06    0.05    0.00    \n"
     ]
    },
    {
     "data": {
      "text/plain": [
       "{'test_rmse': array([0.98203354, 1.00765307, 0.99036279]),\n",
       " 'fit_time': (2.2648913860321045, 2.3520078659057617, 2.288012981414795),\n",
       " 'test_time': (0.05706191062927246, 0.05104970932006836, 0.055048227310180664)}"
      ]
     },
     "execution_count": 17,
     "metadata": {},
     "output_type": "execute_result"
    }
   ],
   "source": [
    "#### Train ----\n",
    "cross_validate(svdpp_tuned, data_train_cf, measures=['RMSE'], cv=3, verbose=True, n_jobs=-1)\n"
   ]
  },
  {
   "cell_type": "code",
   "execution_count": 18,
   "metadata": {},
   "outputs": [
    {
     "name": "stdout",
     "output_type": "stream",
     "text": [
      "Evaluating RMSE of algorithm SVDpp on 3 split(s).\n",
      "\n",
      "                  Fold 1  Fold 2  Fold 3  Mean    Std     \n",
      "RMSE (testset)    1.0633  1.0778  1.0137  1.0516  0.0274  \n",
      "Fit time          0.35    0.34    0.34    0.34    0.00    \n",
      "Test time         0.01    0.01    0.01    0.01    0.00    \n"
     ]
    },
    {
     "data": {
      "text/plain": [
       "{'test_rmse': array([1.06329261, 1.07778687, 1.01372109]),\n",
       " 'fit_time': (0.34510254859924316, 0.34410548210144043, 0.3431119918823242),\n",
       " 'test_time': (0.007994651794433594,\n",
       "  0.007994651794433594,\n",
       "  0.00797581672668457)}"
      ]
     },
     "execution_count": 18,
     "metadata": {},
     "output_type": "execute_result"
    }
   ],
   "source": [
    "#### Test ----\n",
    "cross_validate(svdpp_tuned, data_test_cf, measures=['RMSE'], cv=3, verbose=True, n_jobs=-1)\n"
   ]
  },
  {
   "cell_type": "markdown",
   "metadata": {},
   "source": [
    " It can be noticed a small `overfitting` from our model. But it's reasonable considering the small size of the data set and the small grid space for the `grid search`."
   ]
  },
  {
   "cell_type": "markdown",
   "metadata": {},
   "source": [
    "# Content-Based recommendation----\n",
    " System using TFIDF with recommendations per user and metrics on results\n",
    "## Exploratory Analysis ----\n",
    " To verify whether the preprocessing happened correctly, we’ll make a word cloud using the wordcloud package to get a visual representation of most common words. It is key to understanding the data and ensuring we are on the right track, and if any more preprocessing is necessary before training the model."
   ]
  },
  {
   "cell_type": "code",
   "execution_count": 19,
   "metadata": {},
   "outputs": [
    {
     "data": {
      "image/png": "[encoded data removed]",
      "text/plain": [
       "<PIL.Image.Image image mode=RGB size=400x200 at 0x1E8378480D0>"
      ]
     },
     "execution_count": 19,
     "metadata": {},
     "output_type": "execute_result"
    }
   ],
   "source": [
    "# https://towardsdatascience.com/end-to-end-topic-modeling-in-python-latent-dirichlet-allocation-lda-35ce4ed6b3e0\n",
    "\n",
    "# Join the different processed titles together.\n",
    "long_string = ','.join(list(df['reviewText'].values))\n",
    "# Create a WordCloud object\n",
    "wordcloud = WordCloud(background_color=\"white\", max_words=5000, contour_width=3, contour_color='steelblue')\n",
    "# Generate a word cloud\n",
    "wordcloud.generate(long_string)\n",
    "# Visualize the word cloud\n",
    "wordcloud.to_image()\n"
   ]
  },
  {
   "cell_type": "code",
   "execution_count": 20,
   "metadata": {},
   "outputs": [
    {
     "data": {
      "image/png": "[encoded data removed]",
      "image/svg+xml": [
       "<?xml version=\"1.0\" encoding=\"utf-8\" standalone=\"no\"?>\r\n",
       "<!DOCTYPE svg PUBLIC \"-//W3C//DTD SVG 1.1//EN\"\r\n",
       "  \"http://www.w3.org/Graphics/SVG/1.1/DTD/svg11.dtd\">\r\n",
       "<!-- Created with matplotlib (https://matplotlib.org/) -->\r\n",
       "<svg height=\"586.441751pt\" version=\"1.1\" viewBox=\"0 0 893.789062 586.441751\" width=\"893.789062pt\" xmlns=\"http://www.w3.org/2000/svg\" xmlns:xlink=\"http://www.w3.org/1999/xlink\">\r\n",
       " <defs>\r\n",
       "  <style type=\"text/css\">\r\n",
       "*{stroke-linecap:butt;stroke-linejoin:round;}\r\n",
       "  </style>\r\n",
       " </defs>\r\n",
       " <g id=\"figure_1\">\r\n",
       "  <g id=\"patch_1\">\r\n",
       "   <path d=\"M 0 586.441751 \r\n",
       "L 893.789062 586.441751 \r\n",
       "L 893.789062 0 \r\n",
       "L 0 0 \r\n",
       "z\r\n",
       "\" style=\"fill:#ffffff;\"/>\r\n",
       "  </g>\r\n",
       "  <g id=\"axes_1\">\r\n",
       "   <g id=\"patch_2\">\r\n",
       "    <path d=\"M 49.589063 525.744876 \r\n",
       "L 886.589062 525.744876 \r\n",
       "L 886.589062 21.789375 \r\n",
       "L 49.589063 21.789375 \r\n",
       "z\r\n",
       "\" style=\"fill:#ffffff;\"/>\r\n",
       "   </g>\r\n",
       "   <g id=\"matplotlib.axis_1\">\r\n",
       "    <g id=\"xtick_1\">\r\n",
       "     <g id=\"text_1\">\r\n",
       "      <!-- use -->\r\n",
       "      <defs>\r\n",
       "       <path d=\"M 40.578125 0 \r\n",
       "L 40.578125 7.625 \r\n",
       "Q 34.515625 -1.171875 24.125 -1.171875 \r\n",
       "Q 19.53125 -1.171875 15.546875 0.578125 \r\n",
       "Q 11.578125 2.34375 9.640625 5 \r\n",
       "Q 7.71875 7.671875 6.9375 11.53125 \r\n",
       "Q 6.390625 14.109375 6.390625 19.734375 \r\n",
       "L 6.390625 51.859375 \r\n",
       "L 15.1875 51.859375 \r\n",
       "L 15.1875 23.09375 \r\n",
       "Q 15.1875 16.21875 15.71875 13.8125 \r\n",
       "Q 16.546875 10.359375 19.234375 8.375 \r\n",
       "Q 21.921875 6.390625 25.875 6.390625 \r\n",
       "Q 29.828125 6.390625 33.296875 8.421875 \r\n",
       "Q 36.765625 10.453125 38.203125 13.9375 \r\n",
       "Q 39.65625 17.4375 39.65625 24.078125 \r\n",
       "L 39.65625 51.859375 \r\n",
       "L 48.4375 51.859375 \r\n",
       "L 48.4375 0 \r\n",
       "z\r\n",
       "\" id=\"ArialMT-117\"/>\r\n",
       "       <path d=\"M 3.078125 15.484375 \r\n",
       "L 11.765625 16.84375 \r\n",
       "Q 12.5 11.625 15.84375 8.84375 \r\n",
       "Q 19.1875 6.0625 25.203125 6.0625 \r\n",
       "Q 31.25 6.0625 34.171875 8.515625 \r\n",
       "Q 37.109375 10.984375 37.109375 14.3125 \r\n",
       "Q 37.109375 17.28125 34.515625 19 \r\n",
       "Q 32.71875 20.171875 25.53125 21.96875 \r\n",
       "Q 15.875 24.421875 12.140625 26.203125 \r\n",
       "Q 8.40625 27.984375 6.46875 31.125 \r\n",
       "Q 4.546875 34.28125 4.546875 38.09375 \r\n",
       "Q 4.546875 41.546875 6.125 44.5 \r\n",
       "Q 7.71875 47.46875 10.453125 49.421875 \r\n",
       "Q 12.5 50.921875 16.03125 51.96875 \r\n",
       "Q 19.578125 53.03125 23.640625 53.03125 \r\n",
       "Q 29.734375 53.03125 34.34375 51.265625 \r\n",
       "Q 38.96875 49.515625 41.15625 46.5 \r\n",
       "Q 43.359375 43.5 44.1875 38.484375 \r\n",
       "L 35.59375 37.3125 \r\n",
       "Q 35.015625 41.3125 32.203125 43.546875 \r\n",
       "Q 29.390625 45.796875 24.265625 45.796875 \r\n",
       "Q 18.21875 45.796875 15.625 43.796875 \r\n",
       "Q 13.03125 41.796875 13.03125 39.109375 \r\n",
       "Q 13.03125 37.40625 14.109375 36.03125 \r\n",
       "Q 15.1875 34.625 17.484375 33.6875 \r\n",
       "Q 18.796875 33.203125 25.25 31.453125 \r\n",
       "Q 34.578125 28.953125 38.25 27.359375 \r\n",
       "Q 41.9375 25.78125 44.03125 22.75 \r\n",
       "Q 46.140625 19.734375 46.140625 15.234375 \r\n",
       "Q 46.140625 10.84375 43.578125 6.953125 \r\n",
       "Q 41.015625 3.078125 36.171875 0.953125 \r\n",
       "Q 31.34375 -1.171875 25.25 -1.171875 \r\n",
       "Q 15.140625 -1.171875 9.84375 3.03125 \r\n",
       "Q 4.546875 7.234375 3.078125 15.484375 \r\n",
       "z\r\n",
       "\" id=\"ArialMT-115\"/>\r\n",
       "       <path d=\"M 42.09375 16.703125 \r\n",
       "L 51.171875 15.578125 \r\n",
       "Q 49.03125 7.625 43.21875 3.21875 \r\n",
       "Q 37.40625 -1.171875 28.375 -1.171875 \r\n",
       "Q 17 -1.171875 10.328125 5.828125 \r\n",
       "Q 3.65625 12.84375 3.65625 25.484375 \r\n",
       "Q 3.65625 38.578125 10.390625 45.796875 \r\n",
       "Q 17.140625 53.03125 27.875 53.03125 \r\n",
       "Q 38.28125 53.03125 44.875 45.953125 \r\n",
       "Q 51.46875 38.875 51.46875 26.03125 \r\n",
       "Q 51.46875 25.25 51.421875 23.6875 \r\n",
       "L 12.75 23.6875 \r\n",
       "Q 13.234375 15.140625 17.578125 10.59375 \r\n",
       "Q 21.921875 6.0625 28.421875 6.0625 \r\n",
       "Q 33.25 6.0625 36.671875 8.59375 \r\n",
       "Q 40.09375 11.140625 42.09375 16.703125 \r\n",
       "z\r\n",
       "M 13.234375 30.90625 \r\n",
       "L 42.1875 30.90625 \r\n",
       "Q 41.609375 37.453125 38.875 40.71875 \r\n",
       "Q 34.671875 45.796875 27.984375 45.796875 \r\n",
       "Q 21.921875 45.796875 17.796875 41.75 \r\n",
       "Q 13.671875 37.703125 13.234375 30.90625 \r\n",
       "z\r\n",
       "\" id=\"ArialMT-101\"/>\r\n",
       "      </defs>\r\n",
       "      <g style=\"fill:#262626;\" transform=\"translate(94.024219 548.866751)rotate(-90)scale(0.1 -0.1)\">\r\n",
       "       <use xlink:href=\"#ArialMT-117\"/>\r\n",
       "       <use x=\"55.615234\" xlink:href=\"#ArialMT-115\"/>\r\n",
       "       <use x=\"105.615234\" xlink:href=\"#ArialMT-101\"/>\r\n",
       "      </g>\r\n",
       "     </g>\r\n",
       "    </g>\r\n",
       "    <g id=\"xtick_2\">\r\n",
       "     <g id=\"text_2\">\r\n",
       "      <!-- just -->\r\n",
       "      <defs>\r\n",
       "       <path d=\"M 6.546875 61.375 \r\n",
       "L 6.546875 71.578125 \r\n",
       "L 15.328125 71.578125 \r\n",
       "L 15.328125 61.375 \r\n",
       "z\r\n",
       "M -4.59375 -20.125 \r\n",
       "L -2.9375 -12.640625 \r\n",
       "Q -0.296875 -13.328125 1.21875 -13.328125 \r\n",
       "Q 3.90625 -13.328125 5.21875 -11.546875 \r\n",
       "Q 6.546875 -9.765625 6.546875 -2.640625 \r\n",
       "L 6.546875 51.859375 \r\n",
       "L 15.328125 51.859375 \r\n",
       "L 15.328125 -2.828125 \r\n",
       "Q 15.328125 -12.40625 12.84375 -16.15625 \r\n",
       "Q 9.671875 -21.046875 2.296875 -21.046875 \r\n",
       "Q -1.265625 -21.046875 -4.59375 -20.125 \r\n",
       "z\r\n",
       "\" id=\"ArialMT-106\"/>\r\n",
       "       <path d=\"M 25.78125 7.859375 \r\n",
       "L 27.046875 0.09375 \r\n",
       "Q 23.34375 -0.6875 20.40625 -0.6875 \r\n",
       "Q 15.625 -0.6875 12.984375 0.828125 \r\n",
       "Q 10.359375 2.34375 9.28125 4.8125 \r\n",
       "Q 8.203125 7.28125 8.203125 15.1875 \r\n",
       "L 8.203125 45.015625 \r\n",
       "L 1.765625 45.015625 \r\n",
       "L 1.765625 51.859375 \r\n",
       "L 8.203125 51.859375 \r\n",
       "L 8.203125 64.703125 \r\n",
       "L 16.9375 69.96875 \r\n",
       "L 16.9375 51.859375 \r\n",
       "L 25.78125 51.859375 \r\n",
       "L 25.78125 45.015625 \r\n",
       "L 16.9375 45.015625 \r\n",
       "L 16.9375 14.703125 \r\n",
       "Q 16.9375 10.9375 17.40625 9.859375 \r\n",
       "Q 17.875 8.796875 18.921875 8.15625 \r\n",
       "Q 19.96875 7.515625 21.921875 7.515625 \r\n",
       "Q 23.390625 7.515625 25.78125 7.859375 \r\n",
       "z\r\n",
       "\" id=\"ArialMT-116\"/>\r\n",
       "      </defs>\r\n",
       "      <g style=\"fill:#262626;\" transform=\"translate(177.665625 548.305813)rotate(-90)scale(0.1 -0.1)\">\r\n",
       "       <use xlink:href=\"#ArialMT-106\"/>\r\n",
       "       <use x=\"22.216797\" xlink:href=\"#ArialMT-117\"/>\r\n",
       "       <use x=\"77.832031\" xlink:href=\"#ArialMT-115\"/>\r\n",
       "       <use x=\"127.832031\" xlink:href=\"#ArialMT-116\"/>\r\n",
       "      </g>\r\n",
       "     </g>\r\n",
       "    </g>\r\n",
       "    <g id=\"xtick_3\">\r\n",
       "     <g id=\"text_3\">\r\n",
       "      <!-- like -->\r\n",
       "      <defs>\r\n",
       "       <path d=\"M 6.390625 0 \r\n",
       "L 6.390625 71.578125 \r\n",
       "L 15.1875 71.578125 \r\n",
       "L 15.1875 0 \r\n",
       "z\r\n",
       "\" id=\"ArialMT-108\"/>\r\n",
       "       <path d=\"M 6.640625 61.46875 \r\n",
       "L 6.640625 71.578125 \r\n",
       "L 15.4375 71.578125 \r\n",
       "L 15.4375 61.46875 \r\n",
       "z\r\n",
       "M 6.640625 0 \r\n",
       "L 6.640625 51.859375 \r\n",
       "L 15.4375 51.859375 \r\n",
       "L 15.4375 0 \r\n",
       "z\r\n",
       "\" id=\"ArialMT-105\"/>\r\n",
       "       <path d=\"M 6.640625 0 \r\n",
       "L 6.640625 71.578125 \r\n",
       "L 15.4375 71.578125 \r\n",
       "L 15.4375 30.765625 \r\n",
       "L 36.234375 51.859375 \r\n",
       "L 47.609375 51.859375 \r\n",
       "L 27.78125 32.625 \r\n",
       "L 49.609375 0 \r\n",
       "L 38.765625 0 \r\n",
       "L 21.625 26.515625 \r\n",
       "L 15.4375 20.5625 \r\n",
       "L 15.4375 0 \r\n",
       "z\r\n",
       "\" id=\"ArialMT-107\"/>\r\n",
       "      </defs>\r\n",
       "      <g style=\"fill:#262626;\" transform=\"translate(261.424219 547.749563)rotate(-90)scale(0.1 -0.1)\">\r\n",
       "       <use xlink:href=\"#ArialMT-108\"/>\r\n",
       "       <use x=\"22.216797\" xlink:href=\"#ArialMT-105\"/>\r\n",
       "       <use x=\"44.433594\" xlink:href=\"#ArialMT-107\"/>\r\n",
       "       <use x=\"94.433594\" xlink:href=\"#ArialMT-101\"/>\r\n",
       "      </g>\r\n",
       "     </g>\r\n",
       "    </g>\r\n",
       "    <g id=\"xtick_4\">\r\n",
       "     <g id=\"text_4\">\r\n",
       "      <!-- feeder -->\r\n",
       "      <defs>\r\n",
       "       <path d=\"M 8.6875 0 \r\n",
       "L 8.6875 45.015625 \r\n",
       "L 0.921875 45.015625 \r\n",
       "L 0.921875 51.859375 \r\n",
       "L 8.6875 51.859375 \r\n",
       "L 8.6875 57.375 \r\n",
       "Q 8.6875 62.59375 9.625 65.140625 \r\n",
       "Q 10.890625 68.5625 14.078125 70.671875 \r\n",
       "Q 17.28125 72.796875 23.046875 72.796875 \r\n",
       "Q 26.765625 72.796875 31.25 71.921875 \r\n",
       "L 29.9375 64.265625 \r\n",
       "Q 27.203125 64.75 24.75 64.75 \r\n",
       "Q 20.75 64.75 19.09375 63.03125 \r\n",
       "Q 17.4375 61.328125 17.4375 56.640625 \r\n",
       "L 17.4375 51.859375 \r\n",
       "L 27.546875 51.859375 \r\n",
       "L 27.546875 45.015625 \r\n",
       "L 17.4375 45.015625 \r\n",
       "L 17.4375 0 \r\n",
       "z\r\n",
       "\" id=\"ArialMT-102\"/>\r\n",
       "       <path d=\"M 40.234375 0 \r\n",
       "L 40.234375 6.546875 \r\n",
       "Q 35.296875 -1.171875 25.734375 -1.171875 \r\n",
       "Q 19.53125 -1.171875 14.328125 2.25 \r\n",
       "Q 9.125 5.671875 6.265625 11.796875 \r\n",
       "Q 3.421875 17.921875 3.421875 25.875 \r\n",
       "Q 3.421875 33.640625 6 39.96875 \r\n",
       "Q 8.59375 46.296875 13.765625 49.65625 \r\n",
       "Q 18.953125 53.03125 25.34375 53.03125 \r\n",
       "Q 30.03125 53.03125 33.6875 51.046875 \r\n",
       "Q 37.359375 49.078125 39.65625 45.90625 \r\n",
       "L 39.65625 71.578125 \r\n",
       "L 48.390625 71.578125 \r\n",
       "L 48.390625 0 \r\n",
       "z\r\n",
       "M 12.453125 25.875 \r\n",
       "Q 12.453125 15.921875 16.640625 10.984375 \r\n",
       "Q 20.84375 6.0625 26.5625 6.0625 \r\n",
       "Q 32.328125 6.0625 36.34375 10.765625 \r\n",
       "Q 40.375 15.484375 40.375 25.140625 \r\n",
       "Q 40.375 35.796875 36.265625 40.765625 \r\n",
       "Q 32.171875 45.75 26.171875 45.75 \r\n",
       "Q 20.3125 45.75 16.375 40.96875 \r\n",
       "Q 12.453125 36.1875 12.453125 25.875 \r\n",
       "z\r\n",
       "\" id=\"ArialMT-100\"/>\r\n",
       "       <path d=\"M 6.5 0 \r\n",
       "L 6.5 51.859375 \r\n",
       "L 14.40625 51.859375 \r\n",
       "L 14.40625 44 \r\n",
       "Q 17.4375 49.515625 20 51.265625 \r\n",
       "Q 22.5625 53.03125 25.640625 53.03125 \r\n",
       "Q 30.078125 53.03125 34.671875 50.203125 \r\n",
       "L 31.640625 42.046875 \r\n",
       "Q 28.421875 43.953125 25.203125 43.953125 \r\n",
       "Q 22.3125 43.953125 20.015625 42.21875 \r\n",
       "Q 17.71875 40.484375 16.75 37.40625 \r\n",
       "Q 15.28125 32.71875 15.28125 27.15625 \r\n",
       "L 15.28125 0 \r\n",
       "z\r\n",
       "\" id=\"ArialMT-114\"/>\r\n",
       "      </defs>\r\n",
       "      <g style=\"fill:#262626;\" transform=\"translate(345.124219 561.096438)rotate(-90)scale(0.1 -0.1)\">\r\n",
       "       <use xlink:href=\"#ArialMT-102\"/>\r\n",
       "       <use x=\"27.783203\" xlink:href=\"#ArialMT-101\"/>\r\n",
       "       <use x=\"83.398438\" xlink:href=\"#ArialMT-101\"/>\r\n",
       "       <use x=\"139.013672\" xlink:href=\"#ArialMT-100\"/>\r\n",
       "       <use x=\"194.628906\" xlink:href=\"#ArialMT-101\"/>\r\n",
       "       <use x=\"250.244141\" xlink:href=\"#ArialMT-114\"/>\r\n",
       "      </g>\r\n",
       "     </g>\r\n",
       "    </g>\r\n",
       "    <g id=\"xtick_5\">\r\n",
       "     <g id=\"text_5\">\r\n",
       "      <!-- easy -->\r\n",
       "      <defs>\r\n",
       "       <path d=\"M 40.4375 6.390625 \r\n",
       "Q 35.546875 2.25 31.03125 0.53125 \r\n",
       "Q 26.515625 -1.171875 21.34375 -1.171875 \r\n",
       "Q 12.796875 -1.171875 8.203125 3 \r\n",
       "Q 3.609375 7.171875 3.609375 13.671875 \r\n",
       "Q 3.609375 17.484375 5.34375 20.625 \r\n",
       "Q 7.078125 23.78125 9.890625 25.6875 \r\n",
       "Q 12.703125 27.59375 16.21875 28.5625 \r\n",
       "Q 18.796875 29.25 24.03125 29.890625 \r\n",
       "Q 34.671875 31.15625 39.703125 32.90625 \r\n",
       "Q 39.75 34.71875 39.75 35.203125 \r\n",
       "Q 39.75 40.578125 37.25 42.78125 \r\n",
       "Q 33.890625 45.75 27.25 45.75 \r\n",
       "Q 21.046875 45.75 18.09375 43.578125 \r\n",
       "Q 15.140625 41.40625 13.71875 35.890625 \r\n",
       "L 5.125 37.0625 \r\n",
       "Q 6.296875 42.578125 8.984375 45.96875 \r\n",
       "Q 11.671875 49.359375 16.75 51.1875 \r\n",
       "Q 21.828125 53.03125 28.515625 53.03125 \r\n",
       "Q 35.15625 53.03125 39.296875 51.46875 \r\n",
       "Q 43.453125 49.90625 45.40625 47.53125 \r\n",
       "Q 47.359375 45.171875 48.140625 41.546875 \r\n",
       "Q 48.578125 39.3125 48.578125 33.453125 \r\n",
       "L 48.578125 21.734375 \r\n",
       "Q 48.578125 9.46875 49.140625 6.21875 \r\n",
       "Q 49.703125 2.984375 51.375 0 \r\n",
       "L 42.1875 0 \r\n",
       "Q 40.828125 2.734375 40.4375 6.390625 \r\n",
       "z\r\n",
       "M 39.703125 26.03125 \r\n",
       "Q 34.90625 24.078125 25.34375 22.703125 \r\n",
       "Q 19.921875 21.921875 17.671875 20.9375 \r\n",
       "Q 15.4375 19.96875 14.203125 18.09375 \r\n",
       "Q 12.984375 16.21875 12.984375 13.921875 \r\n",
       "Q 12.984375 10.40625 15.640625 8.0625 \r\n",
       "Q 18.3125 5.71875 23.4375 5.71875 \r\n",
       "Q 28.515625 5.71875 32.46875 7.9375 \r\n",
       "Q 36.421875 10.15625 38.28125 14.015625 \r\n",
       "Q 39.703125 17 39.703125 22.796875 \r\n",
       "z\r\n",
       "\" id=\"ArialMT-97\"/>\r\n",
       "       <path d=\"M 6.203125 -19.96875 \r\n",
       "L 5.21875 -11.71875 \r\n",
       "Q 8.109375 -12.5 10.25 -12.5 \r\n",
       "Q 13.1875 -12.5 14.9375 -11.515625 \r\n",
       "Q 16.703125 -10.546875 17.828125 -8.796875 \r\n",
       "Q 18.65625 -7.46875 20.515625 -2.25 \r\n",
       "Q 20.75 -1.515625 21.296875 -0.09375 \r\n",
       "L 1.609375 51.859375 \r\n",
       "L 11.078125 51.859375 \r\n",
       "L 21.875 21.828125 \r\n",
       "Q 23.96875 16.109375 25.640625 9.8125 \r\n",
       "Q 27.15625 15.875 29.25 21.625 \r\n",
       "L 40.328125 51.859375 \r\n",
       "L 49.125 51.859375 \r\n",
       "L 29.390625 -0.875 \r\n",
       "Q 26.21875 -9.421875 24.46875 -12.640625 \r\n",
       "Q 22.125 -17 19.09375 -19.015625 \r\n",
       "Q 16.0625 -21.046875 11.859375 -21.046875 \r\n",
       "Q 9.328125 -21.046875 6.203125 -19.96875 \r\n",
       "z\r\n",
       "\" id=\"ArialMT-121\"/>\r\n",
       "      </defs>\r\n",
       "      <g style=\"fill:#262626;\" transform=\"translate(428.707031 553.866751)rotate(-90)scale(0.1 -0.1)\">\r\n",
       "       <use xlink:href=\"#ArialMT-101\"/>\r\n",
       "       <use x=\"55.615234\" xlink:href=\"#ArialMT-97\"/>\r\n",
       "       <use x=\"111.230469\" xlink:href=\"#ArialMT-115\"/>\r\n",
       "       <use x=\"161.230469\" xlink:href=\"#ArialMT-121\"/>\r\n",
       "      </g>\r\n",
       "     </g>\r\n",
       "    </g>\r\n",
       "    <g id=\"xtick_6\">\r\n",
       "     <g id=\"text_6\">\r\n",
       "      <!-- product -->\r\n",
       "      <defs>\r\n",
       "       <path d=\"M 6.59375 -19.875 \r\n",
       "L 6.59375 51.859375 \r\n",
       "L 14.59375 51.859375 \r\n",
       "L 14.59375 45.125 \r\n",
       "Q 17.4375 49.078125 21 51.046875 \r\n",
       "Q 24.5625 53.03125 29.640625 53.03125 \r\n",
       "Q 36.28125 53.03125 41.359375 49.609375 \r\n",
       "Q 46.4375 46.1875 49.015625 39.953125 \r\n",
       "Q 51.609375 33.734375 51.609375 26.3125 \r\n",
       "Q 51.609375 18.359375 48.75 11.984375 \r\n",
       "Q 45.90625 5.609375 40.453125 2.21875 \r\n",
       "Q 35.015625 -1.171875 29 -1.171875 \r\n",
       "Q 24.609375 -1.171875 21.109375 0.6875 \r\n",
       "Q 17.625 2.546875 15.375 5.375 \r\n",
       "L 15.375 -19.875 \r\n",
       "z\r\n",
       "M 14.546875 25.640625 \r\n",
       "Q 14.546875 15.625 18.59375 10.84375 \r\n",
       "Q 22.65625 6.0625 28.421875 6.0625 \r\n",
       "Q 34.28125 6.0625 38.453125 11.015625 \r\n",
       "Q 42.625 15.96875 42.625 26.375 \r\n",
       "Q 42.625 36.28125 38.546875 41.203125 \r\n",
       "Q 34.46875 46.140625 28.8125 46.140625 \r\n",
       "Q 23.1875 46.140625 18.859375 40.890625 \r\n",
       "Q 14.546875 35.640625 14.546875 25.640625 \r\n",
       "z\r\n",
       "\" id=\"ArialMT-112\"/>\r\n",
       "       <path d=\"M 3.328125 25.921875 \r\n",
       "Q 3.328125 40.328125 11.328125 47.265625 \r\n",
       "Q 18.015625 53.03125 27.640625 53.03125 \r\n",
       "Q 38.328125 53.03125 45.109375 46.015625 \r\n",
       "Q 51.90625 39.015625 51.90625 26.65625 \r\n",
       "Q 51.90625 16.65625 48.90625 10.90625 \r\n",
       "Q 45.90625 5.171875 40.15625 2 \r\n",
       "Q 34.421875 -1.171875 27.640625 -1.171875 \r\n",
       "Q 16.75 -1.171875 10.03125 5.8125 \r\n",
       "Q 3.328125 12.796875 3.328125 25.921875 \r\n",
       "z\r\n",
       "M 12.359375 25.921875 \r\n",
       "Q 12.359375 15.96875 16.703125 11.015625 \r\n",
       "Q 21.046875 6.0625 27.640625 6.0625 \r\n",
       "Q 34.1875 6.0625 38.53125 11.03125 \r\n",
       "Q 42.875 16.015625 42.875 26.21875 \r\n",
       "Q 42.875 35.84375 38.5 40.796875 \r\n",
       "Q 34.125 45.75 27.640625 45.75 \r\n",
       "Q 21.046875 45.75 16.703125 40.8125 \r\n",
       "Q 12.359375 35.890625 12.359375 25.921875 \r\n",
       "z\r\n",
       "\" id=\"ArialMT-111\"/>\r\n",
       "       <path d=\"M 40.4375 19 \r\n",
       "L 49.078125 17.875 \r\n",
       "Q 47.65625 8.9375 41.8125 3.875 \r\n",
       "Q 35.984375 -1.171875 27.484375 -1.171875 \r\n",
       "Q 16.84375 -1.171875 10.375 5.78125 \r\n",
       "Q 3.90625 12.75 3.90625 25.734375 \r\n",
       "Q 3.90625 34.125 6.6875 40.421875 \r\n",
       "Q 9.46875 46.734375 15.15625 49.875 \r\n",
       "Q 20.84375 53.03125 27.546875 53.03125 \r\n",
       "Q 35.984375 53.03125 41.359375 48.75 \r\n",
       "Q 46.734375 44.484375 48.25 36.625 \r\n",
       "L 39.703125 35.296875 \r\n",
       "Q 38.484375 40.53125 35.375 43.15625 \r\n",
       "Q 32.28125 45.796875 27.875 45.796875 \r\n",
       "Q 21.234375 45.796875 17.078125 41.03125 \r\n",
       "Q 12.9375 36.28125 12.9375 25.984375 \r\n",
       "Q 12.9375 15.53125 16.9375 10.796875 \r\n",
       "Q 20.953125 6.0625 27.390625 6.0625 \r\n",
       "Q 32.5625 6.0625 36.03125 9.234375 \r\n",
       "Q 39.5 12.40625 40.4375 19 \r\n",
       "z\r\n",
       "\" id=\"ArialMT-99\"/>\r\n",
       "      </defs>\r\n",
       "      <g style=\"fill:#262626;\" transform=\"translate(512.524219 566.096438)rotate(-90)scale(0.1 -0.1)\">\r\n",
       "       <use xlink:href=\"#ArialMT-112\"/>\r\n",
       "       <use x=\"55.615234\" xlink:href=\"#ArialMT-114\"/>\r\n",
       "       <use x=\"88.916016\" xlink:href=\"#ArialMT-111\"/>\r\n",
       "       <use x=\"144.53125\" xlink:href=\"#ArialMT-100\"/>\r\n",
       "       <use x=\"200.146484\" xlink:href=\"#ArialMT-117\"/>\r\n",
       "       <use x=\"255.761719\" xlink:href=\"#ArialMT-99\"/>\r\n",
       "       <use x=\"305.761719\" xlink:href=\"#ArialMT-116\"/>\r\n",
       "      </g>\r\n",
       "     </g>\r\n",
       "    </g>\r\n",
       "    <g id=\"xtick_7\">\r\n",
       "     <g id=\"text_7\">\r\n",
       "      <!-- time -->\r\n",
       "      <defs>\r\n",
       "       <path d=\"M 6.59375 0 \r\n",
       "L 6.59375 51.859375 \r\n",
       "L 14.453125 51.859375 \r\n",
       "L 14.453125 44.578125 \r\n",
       "Q 16.890625 48.390625 20.9375 50.703125 \r\n",
       "Q 25 53.03125 30.171875 53.03125 \r\n",
       "Q 35.9375 53.03125 39.625 50.640625 \r\n",
       "Q 43.3125 48.25 44.828125 43.953125 \r\n",
       "Q 50.984375 53.03125 60.84375 53.03125 \r\n",
       "Q 68.5625 53.03125 72.703125 48.75 \r\n",
       "Q 76.859375 44.484375 76.859375 35.59375 \r\n",
       "L 76.859375 0 \r\n",
       "L 68.109375 0 \r\n",
       "L 68.109375 32.671875 \r\n",
       "Q 68.109375 37.9375 67.25 40.25 \r\n",
       "Q 66.40625 42.578125 64.15625 43.984375 \r\n",
       "Q 61.921875 45.40625 58.890625 45.40625 \r\n",
       "Q 53.421875 45.40625 49.796875 41.765625 \r\n",
       "Q 46.1875 38.140625 46.1875 30.125 \r\n",
       "L 46.1875 0 \r\n",
       "L 37.40625 0 \r\n",
       "L 37.40625 33.6875 \r\n",
       "Q 37.40625 39.546875 35.25 42.46875 \r\n",
       "Q 33.109375 45.40625 28.21875 45.40625 \r\n",
       "Q 24.515625 45.40625 21.359375 43.453125 \r\n",
       "Q 18.21875 41.5 16.796875 37.734375 \r\n",
       "Q 15.375 33.984375 15.375 26.90625 \r\n",
       "L 15.375 0 \r\n",
       "z\r\n",
       "\" id=\"ArialMT-109\"/>\r\n",
       "      </defs>\r\n",
       "      <g style=\"fill:#262626;\" transform=\"translate(596.224219 551.635501)rotate(-90)scale(0.1 -0.1)\">\r\n",
       "       <use xlink:href=\"#ArialMT-116\"/>\r\n",
       "       <use x=\"27.783203\" xlink:href=\"#ArialMT-105\"/>\r\n",
       "       <use x=\"50\" xlink:href=\"#ArialMT-109\"/>\r\n",
       "       <use x=\"133.300781\" xlink:href=\"#ArialMT-101\"/>\r\n",
       "      </g>\r\n",
       "     </g>\r\n",
       "    </g>\r\n",
       "    <g id=\"xtick_8\">\r\n",
       "     <g id=\"text_8\">\r\n",
       "      <!-- trap -->\r\n",
       "      <g style=\"fill:#262626;\" transform=\"translate(679.924219 549.974563)rotate(-90)scale(0.1 -0.1)\">\r\n",
       "       <use xlink:href=\"#ArialMT-116\"/>\r\n",
       "       <use x=\"27.783203\" xlink:href=\"#ArialMT-114\"/>\r\n",
       "       <use x=\"61.083984\" xlink:href=\"#ArialMT-97\"/>\r\n",
       "       <use x=\"116.699219\" xlink:href=\"#ArialMT-112\"/>\r\n",
       "      </g>\r\n",
       "     </g>\r\n",
       "    </g>\r\n",
       "    <g id=\"xtick_9\">\r\n",
       "     <g id=\"text_9\">\r\n",
       "      <!-- don -->\r\n",
       "      <defs>\r\n",
       "       <path d=\"M 6.59375 0 \r\n",
       "L 6.59375 51.859375 \r\n",
       "L 14.5 51.859375 \r\n",
       "L 14.5 44.484375 \r\n",
       "Q 20.21875 53.03125 31 53.03125 \r\n",
       "Q 35.6875 53.03125 39.625 51.34375 \r\n",
       "Q 43.5625 49.65625 45.515625 46.921875 \r\n",
       "Q 47.46875 44.1875 48.25 40.4375 \r\n",
       "Q 48.734375 37.984375 48.734375 31.890625 \r\n",
       "L 48.734375 0 \r\n",
       "L 39.9375 0 \r\n",
       "L 39.9375 31.546875 \r\n",
       "Q 39.9375 36.921875 38.90625 39.578125 \r\n",
       "Q 37.890625 42.234375 35.28125 43.8125 \r\n",
       "Q 32.671875 45.40625 29.15625 45.40625 \r\n",
       "Q 23.53125 45.40625 19.453125 41.84375 \r\n",
       "Q 15.375 38.28125 15.375 28.328125 \r\n",
       "L 15.375 0 \r\n",
       "z\r\n",
       "\" id=\"ArialMT-110\"/>\r\n",
       "      </defs>\r\n",
       "      <g style=\"fill:#262626;\" transform=\"translate(763.624219 549.427688)rotate(-90)scale(0.1 -0.1)\">\r\n",
       "       <use xlink:href=\"#ArialMT-100\"/>\r\n",
       "       <use x=\"55.615234\" xlink:href=\"#ArialMT-111\"/>\r\n",
       "       <use x=\"111.230469\" xlink:href=\"#ArialMT-110\"/>\r\n",
       "      </g>\r\n",
       "     </g>\r\n",
       "    </g>\r\n",
       "    <g id=\"xtick_10\">\r\n",
       "     <g id=\"text_10\">\r\n",
       "      <!-- good -->\r\n",
       "      <defs>\r\n",
       "       <path d=\"M 4.984375 -4.296875 \r\n",
       "L 13.53125 -5.5625 \r\n",
       "Q 14.0625 -9.515625 16.5 -11.328125 \r\n",
       "Q 19.78125 -13.765625 25.4375 -13.765625 \r\n",
       "Q 31.546875 -13.765625 34.859375 -11.328125 \r\n",
       "Q 38.1875 -8.890625 39.359375 -4.5 \r\n",
       "Q 40.046875 -1.8125 39.984375 6.78125 \r\n",
       "Q 34.234375 0 25.640625 0 \r\n",
       "Q 14.9375 0 9.078125 7.71875 \r\n",
       "Q 3.21875 15.4375 3.21875 26.21875 \r\n",
       "Q 3.21875 33.640625 5.90625 39.90625 \r\n",
       "Q 8.59375 46.1875 13.6875 49.609375 \r\n",
       "Q 18.796875 53.03125 25.6875 53.03125 \r\n",
       "Q 34.859375 53.03125 40.828125 45.609375 \r\n",
       "L 40.828125 51.859375 \r\n",
       "L 48.921875 51.859375 \r\n",
       "L 48.921875 7.03125 \r\n",
       "Q 48.921875 -5.078125 46.453125 -10.125 \r\n",
       "Q 44 -15.1875 38.640625 -18.109375 \r\n",
       "Q 33.296875 -21.046875 25.484375 -21.046875 \r\n",
       "Q 16.21875 -21.046875 10.5 -16.875 \r\n",
       "Q 4.78125 -12.703125 4.984375 -4.296875 \r\n",
       "z\r\n",
       "M 12.25 26.859375 \r\n",
       "Q 12.25 16.65625 16.296875 11.96875 \r\n",
       "Q 20.359375 7.28125 26.46875 7.28125 \r\n",
       "Q 32.515625 7.28125 36.609375 11.9375 \r\n",
       "Q 40.71875 16.609375 40.71875 26.5625 \r\n",
       "Q 40.71875 36.078125 36.5 40.90625 \r\n",
       "Q 32.28125 45.75 26.3125 45.75 \r\n",
       "Q 20.453125 45.75 16.34375 40.984375 \r\n",
       "Q 12.25 36.234375 12.25 26.859375 \r\n",
       "z\r\n",
       "\" id=\"ArialMT-103\"/>\r\n",
       "      </defs>\r\n",
       "      <g style=\"fill:#262626;\" transform=\"translate(847.265625 554.988626)rotate(-90)scale(0.1 -0.1)\">\r\n",
       "       <use xlink:href=\"#ArialMT-103\"/>\r\n",
       "       <use x=\"55.615234\" xlink:href=\"#ArialMT-111\"/>\r\n",
       "       <use x=\"111.230469\" xlink:href=\"#ArialMT-111\"/>\r\n",
       "       <use x=\"166.845703\" xlink:href=\"#ArialMT-100\"/>\r\n",
       "      </g>\r\n",
       "     </g>\r\n",
       "    </g>\r\n",
       "    <g id=\"text_11\">\r\n",
       "     <!-- words -->\r\n",
       "     <defs>\r\n",
       "      <path d=\"M 16.15625 0 \r\n",
       "L 0.296875 51.859375 \r\n",
       "L 9.375 51.859375 \r\n",
       "L 17.625 21.921875 \r\n",
       "L 20.703125 10.796875 \r\n",
       "Q 20.90625 11.625 23.390625 21.484375 \r\n",
       "L 31.640625 51.859375 \r\n",
       "L 40.671875 51.859375 \r\n",
       "L 48.4375 21.78125 \r\n",
       "L 51.03125 11.859375 \r\n",
       "L 54 21.875 \r\n",
       "L 62.890625 51.859375 \r\n",
       "L 71.4375 51.859375 \r\n",
       "L 55.21875 0 \r\n",
       "L 46.09375 0 \r\n",
       "L 37.84375 31.0625 \r\n",
       "L 35.84375 39.890625 \r\n",
       "L 25.34375 0 \r\n",
       "z\r\n",
       "\" id=\"ArialMT-119\"/>\r\n",
       "     </defs>\r\n",
       "     <g style=\"fill:#262626;\" transform=\"translate(454.752344 577.254251)scale(0.1 -0.1)\">\r\n",
       "      <use xlink:href=\"#ArialMT-119\"/>\r\n",
       "      <use x=\"72.216797\" xlink:href=\"#ArialMT-111\"/>\r\n",
       "      <use x=\"127.832031\" xlink:href=\"#ArialMT-114\"/>\r\n",
       "      <use x=\"161.132812\" xlink:href=\"#ArialMT-100\"/>\r\n",
       "      <use x=\"216.748047\" xlink:href=\"#ArialMT-115\"/>\r\n",
       "     </g>\r\n",
       "    </g>\r\n",
       "   </g>\r\n",
       "   <g id=\"matplotlib.axis_2\">\r\n",
       "    <g id=\"ytick_1\">\r\n",
       "     <g id=\"line2d_1\">\r\n",
       "      <path clip-path=\"url(#pcdd15e5a79)\" d=\"M 49.589063 525.744876 \r\n",
       "L 886.589062 525.744876 \r\n",
       "\" style=\"fill:none;stroke:#cccccc;stroke-linecap:round;stroke-width:0.8;\"/>\r\n",
       "     </g>\r\n",
       "     <g id=\"text_12\">\r\n",
       "      <!-- 0 -->\r\n",
       "      <defs>\r\n",
       "       <path d=\"M 4.15625 35.296875 \r\n",
       "Q 4.15625 48 6.765625 55.734375 \r\n",
       "Q 9.375 63.484375 14.515625 67.671875 \r\n",
       "Q 19.671875 71.875 27.484375 71.875 \r\n",
       "Q 33.25 71.875 37.59375 69.546875 \r\n",
       "Q 41.9375 67.234375 44.765625 62.859375 \r\n",
       "Q 47.609375 58.5 49.21875 52.21875 \r\n",
       "Q 50.828125 45.953125 50.828125 35.296875 \r\n",
       "Q 50.828125 22.703125 48.234375 14.96875 \r\n",
       "Q 45.65625 7.234375 40.5 3 \r\n",
       "Q 35.359375 -1.21875 27.484375 -1.21875 \r\n",
       "Q 17.140625 -1.21875 11.234375 6.203125 \r\n",
       "Q 4.15625 15.140625 4.15625 35.296875 \r\n",
       "z\r\n",
       "M 13.1875 35.296875 \r\n",
       "Q 13.1875 17.671875 17.3125 11.828125 \r\n",
       "Q 21.4375 6 27.484375 6 \r\n",
       "Q 33.546875 6 37.671875 11.859375 \r\n",
       "Q 41.796875 17.71875 41.796875 35.296875 \r\n",
       "Q 41.796875 52.984375 37.671875 58.78125 \r\n",
       "Q 33.546875 64.59375 27.390625 64.59375 \r\n",
       "Q 21.34375 64.59375 17.71875 59.46875 \r\n",
       "Q 13.1875 52.9375 13.1875 35.296875 \r\n",
       "z\r\n",
       "\" id=\"ArialMT-48\"/>\r\n",
       "      </defs>\r\n",
       "      <g style=\"fill:#262626;\" transform=\"translate(37.028125 529.323782)scale(0.1 -0.1)\">\r\n",
       "       <use xlink:href=\"#ArialMT-48\"/>\r\n",
       "      </g>\r\n",
       "     </g>\r\n",
       "    </g>\r\n",
       "    <g id=\"ytick_2\">\r\n",
       "     <g id=\"line2d_2\">\r\n",
       "      <path clip-path=\"url(#pcdd15e5a79)\" d=\"M 49.589063 466.549313 \r\n",
       "L 886.589062 466.549313 \r\n",
       "\" style=\"fill:none;stroke:#cccccc;stroke-linecap:round;stroke-width:0.8;\"/>\r\n",
       "     </g>\r\n",
       "     <g id=\"text_13\">\r\n",
       "      <!-- 1000 -->\r\n",
       "      <defs>\r\n",
       "       <path d=\"M 37.25 0 \r\n",
       "L 28.46875 0 \r\n",
       "L 28.46875 56 \r\n",
       "Q 25.296875 52.984375 20.140625 49.953125 \r\n",
       "Q 14.984375 46.921875 10.890625 45.40625 \r\n",
       "L 10.890625 53.90625 \r\n",
       "Q 18.265625 57.375 23.78125 62.296875 \r\n",
       "Q 29.296875 67.234375 31.59375 71.875 \r\n",
       "L 37.25 71.875 \r\n",
       "z\r\n",
       "\" id=\"ArialMT-49\"/>\r\n",
       "      </defs>\r\n",
       "      <g style=\"fill:#262626;\" transform=\"translate(20.345313 470.12822)scale(0.1 -0.1)\">\r\n",
       "       <use xlink:href=\"#ArialMT-49\"/>\r\n",
       "       <use x=\"55.615234\" xlink:href=\"#ArialMT-48\"/>\r\n",
       "       <use x=\"111.230469\" xlink:href=\"#ArialMT-48\"/>\r\n",
       "       <use x=\"166.845703\" xlink:href=\"#ArialMT-48\"/>\r\n",
       "      </g>\r\n",
       "     </g>\r\n",
       "    </g>\r\n",
       "    <g id=\"ytick_3\">\r\n",
       "     <g id=\"line2d_3\">\r\n",
       "      <path clip-path=\"url(#pcdd15e5a79)\" d=\"M 49.589063 407.353751 \r\n",
       "L 886.589062 407.353751 \r\n",
       "\" style=\"fill:none;stroke:#cccccc;stroke-linecap:round;stroke-width:0.8;\"/>\r\n",
       "     </g>\r\n",
       "     <g id=\"text_14\">\r\n",
       "      <!-- 2000 -->\r\n",
       "      <defs>\r\n",
       "       <path d=\"M 50.34375 8.453125 \r\n",
       "L 50.34375 0 \r\n",
       "L 3.03125 0 \r\n",
       "Q 2.9375 3.171875 4.046875 6.109375 \r\n",
       "Q 5.859375 10.9375 9.828125 15.625 \r\n",
       "Q 13.8125 20.3125 21.34375 26.46875 \r\n",
       "Q 33.015625 36.03125 37.109375 41.625 \r\n",
       "Q 41.21875 47.21875 41.21875 52.203125 \r\n",
       "Q 41.21875 57.421875 37.46875 61 \r\n",
       "Q 33.734375 64.59375 27.734375 64.59375 \r\n",
       "Q 21.390625 64.59375 17.578125 60.78125 \r\n",
       "Q 13.765625 56.984375 13.71875 50.25 \r\n",
       "L 4.6875 51.171875 \r\n",
       "Q 5.609375 61.28125 11.65625 66.578125 \r\n",
       "Q 17.71875 71.875 27.9375 71.875 \r\n",
       "Q 38.234375 71.875 44.234375 66.15625 \r\n",
       "Q 50.25 60.453125 50.25 52 \r\n",
       "Q 50.25 47.703125 48.484375 43.546875 \r\n",
       "Q 46.734375 39.40625 42.65625 34.8125 \r\n",
       "Q 38.578125 30.21875 29.109375 22.21875 \r\n",
       "Q 21.1875 15.578125 18.9375 13.203125 \r\n",
       "Q 16.703125 10.84375 15.234375 8.453125 \r\n",
       "z\r\n",
       "\" id=\"ArialMT-50\"/>\r\n",
       "      </defs>\r\n",
       "      <g style=\"fill:#262626;\" transform=\"translate(20.345313 410.932657)scale(0.1 -0.1)\">\r\n",
       "       <use xlink:href=\"#ArialMT-50\"/>\r\n",
       "       <use x=\"55.615234\" xlink:href=\"#ArialMT-48\"/>\r\n",
       "       <use x=\"111.230469\" xlink:href=\"#ArialMT-48\"/>\r\n",
       "       <use x=\"166.845703\" xlink:href=\"#ArialMT-48\"/>\r\n",
       "      </g>\r\n",
       "     </g>\r\n",
       "    </g>\r\n",
       "    <g id=\"ytick_4\">\r\n",
       "     <g id=\"line2d_4\">\r\n",
       "      <path clip-path=\"url(#pcdd15e5a79)\" d=\"M 49.589063 348.158189 \r\n",
       "L 886.589062 348.158189 \r\n",
       "\" style=\"fill:none;stroke:#cccccc;stroke-linecap:round;stroke-width:0.8;\"/>\r\n",
       "     </g>\r\n",
       "     <g id=\"text_15\">\r\n",
       "      <!-- 3000 -->\r\n",
       "      <defs>\r\n",
       "       <path d=\"M 4.203125 18.890625 \r\n",
       "L 12.984375 20.0625 \r\n",
       "Q 14.5 12.59375 18.140625 9.296875 \r\n",
       "Q 21.78125 6 27 6 \r\n",
       "Q 33.203125 6 37.46875 10.296875 \r\n",
       "Q 41.75 14.59375 41.75 20.953125 \r\n",
       "Q 41.75 27 37.796875 30.921875 \r\n",
       "Q 33.84375 34.859375 27.734375 34.859375 \r\n",
       "Q 25.25 34.859375 21.53125 33.890625 \r\n",
       "L 22.515625 41.609375 \r\n",
       "Q 23.390625 41.5 23.921875 41.5 \r\n",
       "Q 29.546875 41.5 34.03125 44.421875 \r\n",
       "Q 38.53125 47.359375 38.53125 53.46875 \r\n",
       "Q 38.53125 58.296875 35.25 61.46875 \r\n",
       "Q 31.984375 64.65625 26.8125 64.65625 \r\n",
       "Q 21.6875 64.65625 18.265625 61.421875 \r\n",
       "Q 14.84375 58.203125 13.875 51.765625 \r\n",
       "L 5.078125 53.328125 \r\n",
       "Q 6.6875 62.15625 12.390625 67.015625 \r\n",
       "Q 18.109375 71.875 26.609375 71.875 \r\n",
       "Q 32.46875 71.875 37.390625 69.359375 \r\n",
       "Q 42.328125 66.84375 44.9375 62.5 \r\n",
       "Q 47.5625 58.15625 47.5625 53.265625 \r\n",
       "Q 47.5625 48.640625 45.0625 44.828125 \r\n",
       "Q 42.578125 41.015625 37.703125 38.765625 \r\n",
       "Q 44.046875 37.3125 47.5625 32.6875 \r\n",
       "Q 51.078125 28.078125 51.078125 21.140625 \r\n",
       "Q 51.078125 11.765625 44.234375 5.25 \r\n",
       "Q 37.40625 -1.265625 26.953125 -1.265625 \r\n",
       "Q 17.53125 -1.265625 11.296875 4.34375 \r\n",
       "Q 5.078125 9.96875 4.203125 18.890625 \r\n",
       "z\r\n",
       "\" id=\"ArialMT-51\"/>\r\n",
       "      </defs>\r\n",
       "      <g style=\"fill:#262626;\" transform=\"translate(20.345313 351.737095)scale(0.1 -0.1)\">\r\n",
       "       <use xlink:href=\"#ArialMT-51\"/>\r\n",
       "       <use x=\"55.615234\" xlink:href=\"#ArialMT-48\"/>\r\n",
       "       <use x=\"111.230469\" xlink:href=\"#ArialMT-48\"/>\r\n",
       "       <use x=\"166.845703\" xlink:href=\"#ArialMT-48\"/>\r\n",
       "      </g>\r\n",
       "     </g>\r\n",
       "    </g>\r\n",
       "    <g id=\"ytick_5\">\r\n",
       "     <g id=\"line2d_5\">\r\n",
       "      <path clip-path=\"url(#pcdd15e5a79)\" d=\"M 49.589063 288.962626 \r\n",
       "L 886.589062 288.962626 \r\n",
       "\" style=\"fill:none;stroke:#cccccc;stroke-linecap:round;stroke-width:0.8;\"/>\r\n",
       "     </g>\r\n",
       "     <g id=\"text_16\">\r\n",
       "      <!-- 4000 -->\r\n",
       "      <defs>\r\n",
       "       <path d=\"M 32.328125 0 \r\n",
       "L 32.328125 17.140625 \r\n",
       "L 1.265625 17.140625 \r\n",
       "L 1.265625 25.203125 \r\n",
       "L 33.9375 71.578125 \r\n",
       "L 41.109375 71.578125 \r\n",
       "L 41.109375 25.203125 \r\n",
       "L 50.78125 25.203125 \r\n",
       "L 50.78125 17.140625 \r\n",
       "L 41.109375 17.140625 \r\n",
       "L 41.109375 0 \r\n",
       "z\r\n",
       "M 32.328125 25.203125 \r\n",
       "L 32.328125 57.46875 \r\n",
       "L 9.90625 25.203125 \r\n",
       "z\r\n",
       "\" id=\"ArialMT-52\"/>\r\n",
       "      </defs>\r\n",
       "      <g style=\"fill:#262626;\" transform=\"translate(20.345313 292.541532)scale(0.1 -0.1)\">\r\n",
       "       <use xlink:href=\"#ArialMT-52\"/>\r\n",
       "       <use x=\"55.615234\" xlink:href=\"#ArialMT-48\"/>\r\n",
       "       <use x=\"111.230469\" xlink:href=\"#ArialMT-48\"/>\r\n",
       "       <use x=\"166.845703\" xlink:href=\"#ArialMT-48\"/>\r\n",
       "      </g>\r\n",
       "     </g>\r\n",
       "    </g>\r\n",
       "    <g id=\"ytick_6\">\r\n",
       "     <g id=\"line2d_6\">\r\n",
       "      <path clip-path=\"url(#pcdd15e5a79)\" d=\"M 49.589063 229.767064 \r\n",
       "L 886.589062 229.767064 \r\n",
       "\" style=\"fill:none;stroke:#cccccc;stroke-linecap:round;stroke-width:0.8;\"/>\r\n",
       "     </g>\r\n",
       "     <g id=\"text_17\">\r\n",
       "      <!-- 5000 -->\r\n",
       "      <defs>\r\n",
       "       <path d=\"M 4.15625 18.75 \r\n",
       "L 13.375 19.53125 \r\n",
       "Q 14.40625 12.796875 18.140625 9.390625 \r\n",
       "Q 21.875 6 27.15625 6 \r\n",
       "Q 33.5 6 37.890625 10.78125 \r\n",
       "Q 42.28125 15.578125 42.28125 23.484375 \r\n",
       "Q 42.28125 31 38.0625 35.34375 \r\n",
       "Q 33.84375 39.703125 27 39.703125 \r\n",
       "Q 22.75 39.703125 19.328125 37.765625 \r\n",
       "Q 15.921875 35.84375 13.96875 32.765625 \r\n",
       "L 5.71875 33.84375 \r\n",
       "L 12.640625 70.609375 \r\n",
       "L 48.25 70.609375 \r\n",
       "L 48.25 62.203125 \r\n",
       "L 19.671875 62.203125 \r\n",
       "L 15.828125 42.96875 \r\n",
       "Q 22.265625 47.46875 29.34375 47.46875 \r\n",
       "Q 38.71875 47.46875 45.15625 40.96875 \r\n",
       "Q 51.609375 34.46875 51.609375 24.265625 \r\n",
       "Q 51.609375 14.546875 45.953125 7.46875 \r\n",
       "Q 39.0625 -1.21875 27.15625 -1.21875 \r\n",
       "Q 17.390625 -1.21875 11.203125 4.25 \r\n",
       "Q 5.03125 9.71875 4.15625 18.75 \r\n",
       "z\r\n",
       "\" id=\"ArialMT-53\"/>\r\n",
       "      </defs>\r\n",
       "      <g style=\"fill:#262626;\" transform=\"translate(20.345313 233.34597)scale(0.1 -0.1)\">\r\n",
       "       <use xlink:href=\"#ArialMT-53\"/>\r\n",
       "       <use x=\"55.615234\" xlink:href=\"#ArialMT-48\"/>\r\n",
       "       <use x=\"111.230469\" xlink:href=\"#ArialMT-48\"/>\r\n",
       "       <use x=\"166.845703\" xlink:href=\"#ArialMT-48\"/>\r\n",
       "      </g>\r\n",
       "     </g>\r\n",
       "    </g>\r\n",
       "    <g id=\"ytick_7\">\r\n",
       "     <g id=\"line2d_7\">\r\n",
       "      <path clip-path=\"url(#pcdd15e5a79)\" d=\"M 49.589063 170.571501 \r\n",
       "L 886.589062 170.571501 \r\n",
       "\" style=\"fill:none;stroke:#cccccc;stroke-linecap:round;stroke-width:0.8;\"/>\r\n",
       "     </g>\r\n",
       "     <g id=\"text_18\">\r\n",
       "      <!-- 6000 -->\r\n",
       "      <defs>\r\n",
       "       <path d=\"M 49.75 54.046875 \r\n",
       "L 41.015625 53.375 \r\n",
       "Q 39.84375 58.546875 37.703125 60.890625 \r\n",
       "Q 34.125 64.65625 28.90625 64.65625 \r\n",
       "Q 24.703125 64.65625 21.53125 62.3125 \r\n",
       "Q 17.390625 59.28125 14.984375 53.46875 \r\n",
       "Q 12.59375 47.65625 12.5 36.921875 \r\n",
       "Q 15.671875 41.75 20.265625 44.09375 \r\n",
       "Q 24.859375 46.4375 29.890625 46.4375 \r\n",
       "Q 38.671875 46.4375 44.84375 39.96875 \r\n",
       "Q 51.03125 33.5 51.03125 23.25 \r\n",
       "Q 51.03125 16.5 48.125 10.71875 \r\n",
       "Q 45.21875 4.9375 40.140625 1.859375 \r\n",
       "Q 35.0625 -1.21875 28.609375 -1.21875 \r\n",
       "Q 17.625 -1.21875 10.6875 6.859375 \r\n",
       "Q 3.765625 14.9375 3.765625 33.5 \r\n",
       "Q 3.765625 54.25 11.421875 63.671875 \r\n",
       "Q 18.109375 71.875 29.4375 71.875 \r\n",
       "Q 37.890625 71.875 43.28125 67.140625 \r\n",
       "Q 48.6875 62.40625 49.75 54.046875 \r\n",
       "z\r\n",
       "M 13.875 23.1875 \r\n",
       "Q 13.875 18.65625 15.796875 14.5 \r\n",
       "Q 17.71875 10.359375 21.1875 8.171875 \r\n",
       "Q 24.65625 6 28.46875 6 \r\n",
       "Q 34.03125 6 38.03125 10.484375 \r\n",
       "Q 42.046875 14.984375 42.046875 22.703125 \r\n",
       "Q 42.046875 30.125 38.078125 34.390625 \r\n",
       "Q 34.125 38.671875 28.125 38.671875 \r\n",
       "Q 22.171875 38.671875 18.015625 34.390625 \r\n",
       "Q 13.875 30.125 13.875 23.1875 \r\n",
       "z\r\n",
       "\" id=\"ArialMT-54\"/>\r\n",
       "      </defs>\r\n",
       "      <g style=\"fill:#262626;\" transform=\"translate(20.345313 174.150408)scale(0.1 -0.1)\">\r\n",
       "       <use xlink:href=\"#ArialMT-54\"/>\r\n",
       "       <use x=\"55.615234\" xlink:href=\"#ArialMT-48\"/>\r\n",
       "       <use x=\"111.230469\" xlink:href=\"#ArialMT-48\"/>\r\n",
       "       <use x=\"166.845703\" xlink:href=\"#ArialMT-48\"/>\r\n",
       "      </g>\r\n",
       "     </g>\r\n",
       "    </g>\r\n",
       "    <g id=\"ytick_8\">\r\n",
       "     <g id=\"line2d_8\">\r\n",
       "      <path clip-path=\"url(#pcdd15e5a79)\" d=\"M 49.589063 111.375939 \r\n",
       "L 886.589062 111.375939 \r\n",
       "\" style=\"fill:none;stroke:#cccccc;stroke-linecap:round;stroke-width:0.8;\"/>\r\n",
       "     </g>\r\n",
       "     <g id=\"text_19\">\r\n",
       "      <!-- 7000 -->\r\n",
       "      <defs>\r\n",
       "       <path d=\"M 4.734375 62.203125 \r\n",
       "L 4.734375 70.65625 \r\n",
       "L 51.078125 70.65625 \r\n",
       "L 51.078125 63.8125 \r\n",
       "Q 44.234375 56.546875 37.515625 44.484375 \r\n",
       "Q 30.8125 32.421875 27.15625 19.671875 \r\n",
       "Q 24.515625 10.6875 23.78125 0 \r\n",
       "L 14.75 0 \r\n",
       "Q 14.890625 8.453125 18.0625 20.40625 \r\n",
       "Q 21.234375 32.375 27.171875 43.484375 \r\n",
       "Q 33.109375 54.59375 39.796875 62.203125 \r\n",
       "z\r\n",
       "\" id=\"ArialMT-55\"/>\r\n",
       "      </defs>\r\n",
       "      <g style=\"fill:#262626;\" transform=\"translate(20.345313 114.954845)scale(0.1 -0.1)\">\r\n",
       "       <use xlink:href=\"#ArialMT-55\"/>\r\n",
       "       <use x=\"55.615234\" xlink:href=\"#ArialMT-48\"/>\r\n",
       "       <use x=\"111.230469\" xlink:href=\"#ArialMT-48\"/>\r\n",
       "       <use x=\"166.845703\" xlink:href=\"#ArialMT-48\"/>\r\n",
       "      </g>\r\n",
       "     </g>\r\n",
       "    </g>\r\n",
       "    <g id=\"ytick_9\">\r\n",
       "     <g id=\"line2d_9\">\r\n",
       "      <path clip-path=\"url(#pcdd15e5a79)\" d=\"M 49.589063 52.180377 \r\n",
       "L 886.589062 52.180377 \r\n",
       "\" style=\"fill:none;stroke:#cccccc;stroke-linecap:round;stroke-width:0.8;\"/>\r\n",
       "     </g>\r\n",
       "     <g id=\"text_20\">\r\n",
       "      <!-- 8000 -->\r\n",
       "      <defs>\r\n",
       "       <path d=\"M 17.671875 38.8125 \r\n",
       "Q 12.203125 40.828125 9.5625 44.53125 \r\n",
       "Q 6.9375 48.25 6.9375 53.421875 \r\n",
       "Q 6.9375 61.234375 12.546875 66.546875 \r\n",
       "Q 18.171875 71.875 27.484375 71.875 \r\n",
       "Q 36.859375 71.875 42.578125 66.421875 \r\n",
       "Q 48.296875 60.984375 48.296875 53.171875 \r\n",
       "Q 48.296875 48.1875 45.671875 44.5 \r\n",
       "Q 43.0625 40.828125 37.75 38.8125 \r\n",
       "Q 44.34375 36.671875 47.78125 31.875 \r\n",
       "Q 51.21875 27.09375 51.21875 20.453125 \r\n",
       "Q 51.21875 11.28125 44.71875 5.03125 \r\n",
       "Q 38.234375 -1.21875 27.640625 -1.21875 \r\n",
       "Q 17.046875 -1.21875 10.546875 5.046875 \r\n",
       "Q 4.046875 11.328125 4.046875 20.703125 \r\n",
       "Q 4.046875 27.6875 7.59375 32.390625 \r\n",
       "Q 11.140625 37.109375 17.671875 38.8125 \r\n",
       "z\r\n",
       "M 15.921875 53.71875 \r\n",
       "Q 15.921875 48.640625 19.1875 45.40625 \r\n",
       "Q 22.46875 42.1875 27.6875 42.1875 \r\n",
       "Q 32.765625 42.1875 36.015625 45.375 \r\n",
       "Q 39.265625 48.578125 39.265625 53.21875 \r\n",
       "Q 39.265625 58.0625 35.90625 61.359375 \r\n",
       "Q 32.5625 64.65625 27.59375 64.65625 \r\n",
       "Q 22.5625 64.65625 19.234375 61.421875 \r\n",
       "Q 15.921875 58.203125 15.921875 53.71875 \r\n",
       "z\r\n",
       "M 13.09375 20.65625 \r\n",
       "Q 13.09375 16.890625 14.875 13.375 \r\n",
       "Q 16.65625 9.859375 20.171875 7.921875 \r\n",
       "Q 23.6875 6 27.734375 6 \r\n",
       "Q 34.03125 6 38.125 10.046875 \r\n",
       "Q 42.234375 14.109375 42.234375 20.359375 \r\n",
       "Q 42.234375 26.703125 38.015625 30.859375 \r\n",
       "Q 33.796875 35.015625 27.4375 35.015625 \r\n",
       "Q 21.234375 35.015625 17.15625 30.90625 \r\n",
       "Q 13.09375 26.8125 13.09375 20.65625 \r\n",
       "z\r\n",
       "\" id=\"ArialMT-56\"/>\r\n",
       "      </defs>\r\n",
       "      <g style=\"fill:#262626;\" transform=\"translate(20.345313 55.759283)scale(0.1 -0.1)\">\r\n",
       "       <use xlink:href=\"#ArialMT-56\"/>\r\n",
       "       <use x=\"55.615234\" xlink:href=\"#ArialMT-48\"/>\r\n",
       "       <use x=\"111.230469\" xlink:href=\"#ArialMT-48\"/>\r\n",
       "       <use x=\"166.845703\" xlink:href=\"#ArialMT-48\"/>\r\n",
       "      </g>\r\n",
       "     </g>\r\n",
       "    </g>\r\n",
       "    <g id=\"text_21\">\r\n",
       "     <!-- counts -->\r\n",
       "     <g style=\"fill:#262626;\" transform=\"translate(14.357813 288.497594)rotate(-90)scale(0.1 -0.1)\">\r\n",
       "      <use xlink:href=\"#ArialMT-99\"/>\r\n",
       "      <use x=\"50\" xlink:href=\"#ArialMT-111\"/>\r\n",
       "      <use x=\"105.615234\" xlink:href=\"#ArialMT-117\"/>\r\n",
       "      <use x=\"161.230469\" xlink:href=\"#ArialMT-110\"/>\r\n",
       "      <use x=\"216.845703\" xlink:href=\"#ArialMT-116\"/>\r\n",
       "      <use x=\"244.628906\" xlink:href=\"#ArialMT-115\"/>\r\n",
       "     </g>\r\n",
       "    </g>\r\n",
       "   </g>\r\n",
       "   <g id=\"patch_3\">\r\n",
       "    <path clip-path=\"url(#pcdd15e5a79)\" d=\"M 57.959063 525.744876 \r\n",
       "L 124.919063 525.744876 \r\n",
       "L 124.919063 45.787256 \r\n",
       "L 57.959063 45.787256 \r\n",
       "z\r\n",
       "\" style=\"fill:#e68193;stroke:#ffffff;stroke-linejoin:miter;\"/>\r\n",
       "   </g>\r\n",
       "   <g id=\"patch_4\">\r\n",
       "    <path clip-path=\"url(#pcdd15e5a79)\" d=\"M 141.659063 525.744876 \r\n",
       "L 208.619062 525.744876 \r\n",
       "L 208.619062 109.89605 \r\n",
       "L 141.659063 109.89605 \r\n",
       "z\r\n",
       "\" style=\"fill:#c68847;stroke:#ffffff;stroke-linejoin:miter;\"/>\r\n",
       "   </g>\r\n",
       "   <g id=\"patch_5\">\r\n",
       "    <path clip-path=\"url(#pcdd15e5a79)\" d=\"M 225.359063 525.744876 \r\n",
       "L 292.319063 525.744876 \r\n",
       "L 292.319063 111.553526 \r\n",
       "L 225.359063 111.553526 \r\n",
       "z\r\n",
       "\" style=\"fill:#9e9241;stroke:#ffffff;stroke-linejoin:miter;\"/>\r\n",
       "   </g>\r\n",
       "   <g id=\"patch_6\">\r\n",
       "    <path clip-path=\"url(#pcdd15e5a79)\" d=\"M 309.059062 525.744876 \r\n",
       "L 376.019063 525.744876 \r\n",
       "L 376.019063 229.352695 \r\n",
       "L 309.059062 229.352695 \r\n",
       "z\r\n",
       "\" style=\"fill:#759c40;stroke:#ffffff;stroke-linejoin:miter;\"/>\r\n",
       "   </g>\r\n",
       "   <g id=\"patch_7\">\r\n",
       "    <path clip-path=\"url(#pcdd15e5a79)\" d=\"M 392.759063 525.744876 \r\n",
       "L 459.719063 525.744876 \r\n",
       "L 459.719063 232.904429 \r\n",
       "L 392.759063 232.904429 \r\n",
       "z\r\n",
       "\" style=\"fill:#43a178;stroke:#ffffff;stroke-linejoin:miter;\"/>\r\n",
       "   </g>\r\n",
       "   <g id=\"patch_8\">\r\n",
       "    <path clip-path=\"url(#pcdd15e5a79)\" d=\"M 476.459062 525.744876 \r\n",
       "L 543.419062 525.744876 \r\n",
       "L 543.419062 247.111364 \r\n",
       "L 476.459062 247.111364 \r\n",
       "z\r\n",
       "\" style=\"fill:#459e97;stroke:#ffffff;stroke-linejoin:miter;\"/>\r\n",
       "   </g>\r\n",
       "   <g id=\"patch_9\">\r\n",
       "    <path clip-path=\"url(#pcdd15e5a79)\" d=\"M 560.159063 525.744876 \r\n",
       "L 627.119063 525.744876 \r\n",
       "L 627.119063 257.411391 \r\n",
       "L 560.159063 257.411391 \r\n",
       "z\r\n",
       "\" style=\"fill:#4a9eb4;stroke:#ffffff;stroke-linejoin:miter;\"/>\r\n",
       "   </g>\r\n",
       "   <g id=\"patch_10\">\r\n",
       "    <path clip-path=\"url(#pcdd15e5a79)\" d=\"M 643.859062 525.744876 \r\n",
       "L 710.819062 525.744876 \r\n",
       "L 710.819062 262.383819 \r\n",
       "L 643.859062 262.383819 \r\n",
       "z\r\n",
       "\" style=\"fill:#7fa0e4;stroke:#ffffff;stroke-linejoin:miter;\"/>\r\n",
       "   </g>\r\n",
       "   <g id=\"patch_11\">\r\n",
       "    <path clip-path=\"url(#pcdd15e5a79)\" d=\"M 727.559062 525.744876 \r\n",
       "L 794.519063 525.744876 \r\n",
       "L 794.519063 265.935552 \r\n",
       "L 727.559062 265.935552 \r\n",
       "z\r\n",
       "\" style=\"fill:#c789e5;stroke:#ffffff;stroke-linejoin:miter;\"/>\r\n",
       "   </g>\r\n",
       "   <g id=\"patch_12\">\r\n",
       "    <path clip-path=\"url(#pcdd15e5a79)\" d=\"M 811.259063 525.744876 \r\n",
       "L 878.219063 525.744876 \r\n",
       "L 878.219063 269.428091 \r\n",
       "L 811.259063 269.428091 \r\n",
       "z\r\n",
       "\" style=\"fill:#e377c5;stroke:#ffffff;stroke-linejoin:miter;\"/>\r\n",
       "   </g>\r\n",
       "   <g id=\"line2d_10\">\r\n",
       "    <path clip-path=\"url(#pcdd15e5a79)\" style=\"fill:none;stroke:#424242;stroke-linecap:round;stroke-width:4.5;\"/>\r\n",
       "   </g>\r\n",
       "   <g id=\"line2d_11\">\r\n",
       "    <path clip-path=\"url(#pcdd15e5a79)\" style=\"fill:none;stroke:#424242;stroke-linecap:round;stroke-width:4.5;\"/>\r\n",
       "   </g>\r\n",
       "   <g id=\"line2d_12\">\r\n",
       "    <path clip-path=\"url(#pcdd15e5a79)\" style=\"fill:none;stroke:#424242;stroke-linecap:round;stroke-width:4.5;\"/>\r\n",
       "   </g>\r\n",
       "   <g id=\"line2d_13\">\r\n",
       "    <path clip-path=\"url(#pcdd15e5a79)\" style=\"fill:none;stroke:#424242;stroke-linecap:round;stroke-width:4.5;\"/>\r\n",
       "   </g>\r\n",
       "   <g id=\"line2d_14\">\r\n",
       "    <path clip-path=\"url(#pcdd15e5a79)\" style=\"fill:none;stroke:#424242;stroke-linecap:round;stroke-width:4.5;\"/>\r\n",
       "   </g>\r\n",
       "   <g id=\"line2d_15\">\r\n",
       "    <path clip-path=\"url(#pcdd15e5a79)\" style=\"fill:none;stroke:#424242;stroke-linecap:round;stroke-width:4.5;\"/>\r\n",
       "   </g>\r\n",
       "   <g id=\"line2d_16\">\r\n",
       "    <path clip-path=\"url(#pcdd15e5a79)\" style=\"fill:none;stroke:#424242;stroke-linecap:round;stroke-width:4.5;\"/>\r\n",
       "   </g>\r\n",
       "   <g id=\"line2d_17\">\r\n",
       "    <path clip-path=\"url(#pcdd15e5a79)\" style=\"fill:none;stroke:#424242;stroke-linecap:round;stroke-width:4.5;\"/>\r\n",
       "   </g>\r\n",
       "   <g id=\"line2d_18\">\r\n",
       "    <path clip-path=\"url(#pcdd15e5a79)\" style=\"fill:none;stroke:#424242;stroke-linecap:round;stroke-width:4.5;\"/>\r\n",
       "   </g>\r\n",
       "   <g id=\"line2d_19\">\r\n",
       "    <path clip-path=\"url(#pcdd15e5a79)\" style=\"fill:none;stroke:#424242;stroke-linecap:round;stroke-width:4.5;\"/>\r\n",
       "   </g>\r\n",
       "   <g id=\"patch_13\">\r\n",
       "    <path d=\"M 49.589063 525.744876 \r\n",
       "L 49.589063 21.789375 \r\n",
       "\" style=\"fill:none;stroke:#cccccc;stroke-linecap:square;stroke-linejoin:miter;stroke-width:0.8;\"/>\r\n",
       "   </g>\r\n",
       "   <g id=\"patch_14\">\r\n",
       "    <path d=\"M 886.589062 525.744876 \r\n",
       "L 886.589062 21.789375 \r\n",
       "\" style=\"fill:none;stroke:#cccccc;stroke-linecap:square;stroke-linejoin:miter;stroke-width:0.8;\"/>\r\n",
       "   </g>\r\n",
       "   <g id=\"patch_15\">\r\n",
       "    <path d=\"M 49.589063 525.744876 \r\n",
       "L 886.589062 525.744876 \r\n",
       "\" style=\"fill:none;stroke:#cccccc;stroke-linecap:square;stroke-linejoin:miter;stroke-width:0.8;\"/>\r\n",
       "   </g>\r\n",
       "   <g id=\"patch_16\">\r\n",
       "    <path d=\"M 49.589063 21.789375 \r\n",
       "L 886.589062 21.789375 \r\n",
       "\" style=\"fill:none;stroke:#cccccc;stroke-linecap:square;stroke-linejoin:miter;stroke-width:0.8;\"/>\r\n",
       "   </g>\r\n",
       "   <g id=\"text_22\">\r\n",
       "    <!-- 10 most common words -->\r\n",
       "    <defs>\r\n",
       "     <path id=\"ArialMT-32\"/>\r\n",
       "    </defs>\r\n",
       "    <g style=\"fill:#262626;\" transform=\"translate(404.404688 15.789375)scale(0.12 -0.12)\">\r\n",
       "     <use xlink:href=\"#ArialMT-49\"/>\r\n",
       "     <use x=\"55.615234\" xlink:href=\"#ArialMT-48\"/>\r\n",
       "     <use x=\"111.230469\" xlink:href=\"#ArialMT-32\"/>\r\n",
       "     <use x=\"139.013672\" xlink:href=\"#ArialMT-109\"/>\r\n",
       "     <use x=\"222.314453\" xlink:href=\"#ArialMT-111\"/>\r\n",
       "     <use x=\"277.929688\" xlink:href=\"#ArialMT-115\"/>\r\n",
       "     <use x=\"327.929688\" xlink:href=\"#ArialMT-116\"/>\r\n",
       "     <use x=\"355.712891\" xlink:href=\"#ArialMT-32\"/>\r\n",
       "     <use x=\"383.496094\" xlink:href=\"#ArialMT-99\"/>\r\n",
       "     <use x=\"433.496094\" xlink:href=\"#ArialMT-111\"/>\r\n",
       "     <use x=\"489.111328\" xlink:href=\"#ArialMT-109\"/>\r\n",
       "     <use x=\"572.412109\" xlink:href=\"#ArialMT-109\"/>\r\n",
       "     <use x=\"655.712891\" xlink:href=\"#ArialMT-111\"/>\r\n",
       "     <use x=\"711.328125\" xlink:href=\"#ArialMT-110\"/>\r\n",
       "     <use x=\"766.943359\" xlink:href=\"#ArialMT-32\"/>\r\n",
       "     <use x=\"794.726562\" xlink:href=\"#ArialMT-119\"/>\r\n",
       "     <use x=\"866.943359\" xlink:href=\"#ArialMT-111\"/>\r\n",
       "     <use x=\"922.558594\" xlink:href=\"#ArialMT-114\"/>\r\n",
       "     <use x=\"955.859375\" xlink:href=\"#ArialMT-100\"/>\r\n",
       "     <use x=\"1011.474609\" xlink:href=\"#ArialMT-115\"/>\r\n",
       "    </g>\r\n",
       "   </g>\r\n",
       "  </g>\r\n",
       " </g>\r\n",
       " <defs>\r\n",
       "  <clipPath id=\"pcdd15e5a79\">\r\n",
       "   <rect height=\"503.955501\" width=\"837\" x=\"49.589063\" y=\"21.789375\"/>\r\n",
       "  </clipPath>\r\n",
       " </defs>\r\n",
       "</svg>\r\n"
      ],
      "text/plain": [
       "<Figure size 1080x667.491 with 1 Axes>"
      ]
     },
     "metadata": {},
     "output_type": "display_data"
    }
   ],
   "source": [
    "# Helper function\n",
    "def plot_10_most_common_words(count_data, count_vectorizer):\n",
    "    words = count_vectorizer.get_feature_names()\n",
    "    total_counts = np.zeros(len(words))\n",
    "    for t in count_data:\n",
    "        total_counts+=t.toarray()[0]\n",
    "    \n",
    "    count_dict = (zip(words, total_counts))\n",
    "    count_dict = sorted(count_dict, key=lambda x:x[1], reverse=True)[0:10]\n",
    "    words = [w[0] for w in count_dict]\n",
    "    counts = [w[1] for w in count_dict]\n",
    "    x_pos = np.arange(len(words)) \n",
    "    \n",
    "    plt.figure(2, figsize=(15, 15/1.6180))\n",
    "    plt.subplot(title='10 most common words')\n",
    "    sns.set_context(\"notebook\", font_scale=1.25, rc={\"lines.linewidth\": 2.5})\n",
    "    sns.barplot(x_pos, counts, palette='husl')\n",
    "    plt.xticks(x_pos, words, rotation=90) \n",
    "    plt.xlabel('words')\n",
    "    plt.ylabel('counts')\n",
    "    plt.show()\n",
    "# Initialise the count vectorizer with the English stop words\n",
    "count_vectorizer = CountVectorizer(stop_words='english')\n",
    "# Fit and transform the processed titles\n",
    "count_data = count_vectorizer.fit_transform(df['reviewText'])\n",
    "# Visualize the 10 most common words\n",
    "plot_10_most_common_words(count_data, count_vectorizer)\n"
   ]
  },
  {
   "cell_type": "markdown",
   "metadata": {},
   "source": [
    "## Cosine similarity ----\n",
    " Following, we are creating a personalized `content-based recommender system`.<br>\n",
    " In particular, we are using a pipeline that converts the `reviews` into a matrix using `TF-IDF`.<br>\n",
    " Then we calculate each vector distance to the other reviews, using a `linear_kernel`."
   ]
  },
  {
   "cell_type": "code",
   "execution_count": 21,
   "metadata": {},
   "outputs": [],
   "source": [
    "def cosine_distance(data):\n",
    "    \"\"\"After a `vector`, it calculates the cosine distance of each row/column.\n",
    "\n",
    "    Args:\n",
    "        data (Vector): Vector or strings\n",
    "\n",
    "    Returns:\n",
    "        [matrix]: Square matrix with the distances\n",
    "    \"\"\"\n",
    "    #Construct the required TF-IDF matrix by fitting and transforming the data\n",
    "    vectorizer = TfidfVectorizer(analyzer='word', ngram_range=(1, 3), min_df=0, stop_words='english', token_pattern=r'(?u)\\b[A-Za-z]+\\b')\n",
    "    vectorizer = vectorizer.fit(data)  \n",
    "    tfidf_matrix = vectorizer.transform(data)\n",
    "    # Calculate the distances\n",
    "    return linear_kernel(tfidf_matrix, tfidf_matrix)\n"
   ]
  },
  {
   "cell_type": "markdown",
   "metadata": {},
   "source": [
    "## Get recommendations ----\n",
    " The following is an **ad-hoc** function to calculate a distance between the reference review (`reviewerID_base`) and the rest of the available ones.<br>\n",
    " This implementation could be improved by tunning the -now fixed- `recomm_threshold`. This are the thresholds to define at which distance between reviews the rating should be 1 to 5.\n",
    " Also inside this function, is calculated the `RMSE` using a `data_test`."
   ]
  },
  {
   "cell_type": "code",
   "execution_count": 22,
   "metadata": {},
   "outputs": [],
   "source": [
    "def get_recommendation_content_model(reviewerID_base, data_train, data_train_cosine, data_test=None):\n",
    "    \"\"\"Calculates a `DataFrame` with the distance from the `reviewerID_base` and the `data_train`.\n",
    "\n",
    "    Args:\n",
    "        reviewerID_base ([string]): Customer ID from Amazon\n",
    "        data_train ([DataFrame]): DataFrame in the original format, for the training.\n",
    "        data_train_cosine ([matrix]): Matrix with the distances between reviews\n",
    "        data_test ([DataFrame], optional): DataFrame in the original format, for the test set. This will not be used for training. Defaults to None.\n",
    "\n",
    "    Returns:\n",
    "        [DataFrame, float]: The original dataframe, with the addition of the `predicted rating`. Also the RMSE.\n",
    "    \"\"\"\n",
    "    ## Train\n",
    "    # Parameter definition\n",
    "    recomm_threshold = [0, 0.02/32, 0.02/16, 0.02/4, 0.02, 1] # Needs optimization, values in ascending order [0, 1]\n",
    "\n",
    "    # Data from the current reviewer\n",
    "    data_distance_reviewer = data_train[data_train['reviewerID']==reviewerID_base]\n",
    "    # The `asin` that `reviewerID_base` likes the most\n",
    "    asin_base = data_distance_reviewer[data_distance_reviewer['overall']==data_distance_reviewer['overall'].max()]['asin']\n",
    "\n",
    "    # All the reviews for the `asin` required\n",
    "    idx_item = data_train.loc[data_train['asin'].isin(asin_base)].index\n",
    "    # Convert to `pd.DataFrame`\n",
    "    cb_distance = pd.DataFrame(data_train_cosine[idx_item], columns=data_train['asin'])\n",
    "    # Melt the DataFrame, group by `asin`, calculate mean distance, and sort\n",
    "    cb_distance = pd.melt(cb_distance).groupby('asin', as_index=False).agg('mean').sort_values(by='value', ascending=False)\n",
    "    # Apply rating\n",
    "    cb_distance['Rating'] = pd.cut(x=cb_distance['value'], bins=recomm_threshold, labels=[1,2,3,4,5])\n",
    "\n",
    "    ## Test\n",
    "    if data_test is not None:\n",
    "        data_test_reviewer = data_test[data_test['reviewerID']==reviewerID_base]\n",
    "        cb_merged = data_test_reviewer.merge(cb_distance, on='asin', how='left')\n",
    "        # RMSE\n",
    "        RMSE = mean_squared_error(cb_merged['overall'], cb_merged['Rating'], squared=False)\n",
    "    else:\n",
    "        RMSE = None\n",
    "\n",
    "    return cb_distance, RMSE\n"
   ]
  },
  {
   "cell_type": "markdown",
   "metadata": {},
   "source": [
    "### Testing with one `reviewerID` ----\n",
    " For code debuging and testing of the previously defined methodology, a one customer test is being done. Using `reviewerID_base` = `A2VYA302TO2K1C`.<br>\n",
    " Also the `cosine_distance` is being calculated. This is a CPU intensive operation."
   ]
  },
  {
   "cell_type": "code",
   "execution_count": 23,
   "metadata": {},
   "outputs": [],
   "source": [
    "data_train_cosine = cosine_distance(data_train['reviewText'])\n",
    "\n",
    "reviewerID_base = 'A2VYA302TO2K1C'\n",
    "recommendations = get_recommendation_content_model(reviewerID_base, data_train, data_train_cosine, data_test)\n"
   ]
  },
  {
   "cell_type": "markdown",
   "metadata": {},
   "source": [
    "## Performance benchmark ----\n",
    " Execution of the `content-based recommender system` for the first 10 **reviewers**. <br>\n",
    " The number of **reviewers** can be controlled by changing `first_reviewers`"
   ]
  },
  {
   "cell_type": "code",
   "execution_count": 24,
   "metadata": {},
   "outputs": [
    {
     "name": "stdout",
     "output_type": "stream",
     "text": [
      "RMSE of the content-based recommender system is 0.67.\n"
     ]
    }
   ],
   "source": [
    "# Limited to the first `10`, for speeding considerations\n",
    "first_reviewers = 10\n",
    "\n",
    "performance_ = []\n",
    "for reviewerID_base in data_test['reviewerID'].unique()[:first_reviewers]:\n",
    "    recommended_by_cb = get_recommendation_content_model(reviewerID_base, data_train, data_train_cosine, data_test)\n",
    "    recommended_by_cb = recommended_by_cb[1]\n",
    "    performance_.append(recommended_by_cb)\n",
    "\n",
    "print(f'RMSE of the content-based recommender system is {np.mean(performance_).round(2)}.')\n"
   ]
  },
  {
   "cell_type": "markdown",
   "metadata": {},
   "source": [
    "# Hybrid model ----\n",
    " This model is the combination of the `collaborative filtering` and the `content-based` recommender system.\n",
    "## Function definition ----"
   ]
  },
  {
   "cell_type": "code",
   "execution_count": 25,
   "metadata": {},
   "outputs": [],
   "source": [
    "def hybrid_content_svdpp_per_reviewer(reviewerID_base, data_train, data_train_cosine, data_test, svdpp_tuned):\n",
    "    \"\"\"Hybrid monolithic recommender system. The combination of the `collaborative filtering` and the `content-based` recommender system.\n",
    "\n",
    "    Args:\n",
    "        reviewerID_base ([str]): Customer ID from Amazon\n",
    "        data_train ([DataFrame]): DataFrame in the original format, for the training.\n",
    "        data_train_cosine ([Matrix]): Matrix with the distances between reviews\n",
    "        data_test ([DataFrame]): DataFrame in the original format, for the test set. This will not be used for training.\n",
    "        svdpp_tuned ([surprise model]): SVD++ model tuned and fitted to the train data\n",
    "\n",
    "    Returns:\n",
    "        [vector, RMSE]: List of recommendations and RMSE using the test set only\n",
    "    \"\"\"\n",
    "    recommendations_ = []\n",
    "    recommended_by_cb = get_recommendation_content_model(reviewerID_base, data_train, data_train_cosine, data_test)\n",
    "\n",
    "    for _, row in recommended_by_cb[0].iterrows():\n",
    "        predict = svdpp_tuned.predict(reviewerID_base, row['asin'])\n",
    "        recommendations_.append([reviewerID_base, row['asin'], predict.est])\n",
    "    recommendations_ = pd.DataFrame(recommendations_, columns=['reviewerID', 'asin', 'predict'])\n",
    "    recommendations_ = recommendations_.sort_values(by='predict', ascending=False)\n",
    "    return recommendations_, recommended_by_cb[1]\n"
   ]
  },
  {
   "cell_type": "markdown",
   "metadata": {},
   "source": [
    "### Testing with one `reviewerID` ----\n",
    " SVD++ model fitted to the trainset.<br>\n",
    " As before we are testing one single `reviewerID` for debug prepuse."
   ]
  },
  {
   "cell_type": "code",
   "execution_count": 26,
   "metadata": {},
   "outputs": [
    {
     "data": {
      "text/plain": [
       "(        reviewerID        asin   predict\n",
       " 155  A6HOWM08PLFZ5  B00FZJ9FXE  5.000000\n",
       " 908  A6HOWM08PLFZ5  B001AN7RGG  5.000000\n",
       " 783  A6HOWM08PLFZ5  B000FJYSHW  5.000000\n",
       " 747  A6HOWM08PLFZ5  B0012QLVRM  4.979889\n",
       " 427  A6HOWM08PLFZ5  B0071E238A  4.977554\n",
       " ..             ...         ...       ...\n",
       " 900  A6HOWM08PLFZ5  B000094YKM  3.278788\n",
       " 60   A6HOWM08PLFZ5  B00AQ4BYBO  3.209126\n",
       " 179  A6HOWM08PLFZ5  B001P82AHW  3.103981\n",
       " 158  A6HOWM08PLFZ5  B00G8R2RPK  2.861056\n",
       " 270  A6HOWM08PLFZ5  B009QARRP6  2.845861\n",
       " \n",
       " [962 rows x 3 columns],\n",
       " 1.0)"
      ]
     },
     "execution_count": 26,
     "metadata": {},
     "output_type": "execute_result"
    }
   ],
   "source": [
    "# https://surprise.readthedocs.io/en/stable/getting_started.html#train-on-a-whole-trainset-and-the-predict-method\n",
    "trainset = data_train_cf.build_full_trainset()\n",
    "svdpp_tuned.fit(trainset)\n",
    "\n",
    "reviewerID_base='A6HOWM08PLFZ5'\n",
    "hybrid_content_svdpp_per_reviewer(reviewerID_base, data_train, data_train_cosine, data_test, svdpp_tuned)\n"
   ]
  },
  {
   "cell_type": "markdown",
   "metadata": {},
   "source": [
    "# Test ----\n",
    "## Apply to all the reviewer ----\n",
    " For computing time considerations, we are allowing to limit the number of reviewers by changing `first_reviewers`.<br>\n",
    " Also we are limiting the number of recommendations per Amazon user by changing `top_n`."
   ]
  },
  {
   "cell_type": "code",
   "execution_count": 27,
   "metadata": {},
   "outputs": [],
   "source": [
    "first_reviewers = 1686\n",
    "top_n = 5\n",
    "\n",
    "recommendations_collector = pd.DataFrame()\n",
    "performance_collector = []\n",
    "\n",
    "for reviewerID_base in data_test['reviewerID'].unique()[:first_reviewers]:\n",
    "    recommendations_, performance_ = hybrid_content_svdpp_per_reviewer(reviewerID_base, data_train, data_train_cosine, data_test, svdpp_tuned)\n",
    "    recommendations_collector = recommendations_collector.append(recommendations_.head(top_n))\n",
    "    performance_collector.append(performance_)"
   ]
  },
  {
   "cell_type": "code",
   "execution_count": 28,
   "metadata": {},
   "outputs": [
    {
     "data": {
      "text/html": [
       "<div>\n",
       "<style scoped>\n",
       "    .dataframe tbody tr th:only-of-type {\n",
       "        vertical-align: middle;\n",
       "    }\n",
       "\n",
       "    .dataframe tbody tr th {\n",
       "        vertical-align: top;\n",
       "    }\n",
       "\n",
       "    .dataframe thead th {\n",
       "        text-align: right;\n",
       "    }\n",
       "</style>\n",
       "<table border=\"1\" class=\"dataframe\">\n",
       "  <thead>\n",
       "    <tr style=\"text-align: right;\">\n",
       "      <th></th>\n",
       "      <th>reviewerID</th>\n",
       "      <th>asin</th>\n",
       "      <th>predict</th>\n",
       "    </tr>\n",
       "  </thead>\n",
       "  <tbody>\n",
       "    <tr>\n",
       "      <th>155</th>\n",
       "      <td>A6HOWM08PLFZ5</td>\n",
       "      <td>B00FZJ9FXE</td>\n",
       "      <td>5.000000</td>\n",
       "    </tr>\n",
       "    <tr>\n",
       "      <th>908</th>\n",
       "      <td>A6HOWM08PLFZ5</td>\n",
       "      <td>B001AN7RGG</td>\n",
       "      <td>5.000000</td>\n",
       "    </tr>\n",
       "    <tr>\n",
       "      <th>783</th>\n",
       "      <td>A6HOWM08PLFZ5</td>\n",
       "      <td>B000FJYSHW</td>\n",
       "      <td>5.000000</td>\n",
       "    </tr>\n",
       "    <tr>\n",
       "      <th>747</th>\n",
       "      <td>A6HOWM08PLFZ5</td>\n",
       "      <td>B0012QLVRM</td>\n",
       "      <td>4.979889</td>\n",
       "    </tr>\n",
       "    <tr>\n",
       "      <th>427</th>\n",
       "      <td>A6HOWM08PLFZ5</td>\n",
       "      <td>B0071E238A</td>\n",
       "      <td>4.977554</td>\n",
       "    </tr>\n",
       "    <tr>\n",
       "      <th>417</th>\n",
       "      <td>A3L20U76EG3KP4</td>\n",
       "      <td>B000WEOQV8</td>\n",
       "      <td>4.968442</td>\n",
       "    </tr>\n",
       "    <tr>\n",
       "      <th>871</th>\n",
       "      <td>A3L20U76EG3KP4</td>\n",
       "      <td>B000NCWP44</td>\n",
       "      <td>4.880817</td>\n",
       "    </tr>\n",
       "    <tr>\n",
       "      <th>547</th>\n",
       "      <td>A3L20U76EG3KP4</td>\n",
       "      <td>B001AN7RGG</td>\n",
       "      <td>4.872792</td>\n",
       "    </tr>\n",
       "    <tr>\n",
       "      <th>786</th>\n",
       "      <td>A3L20U76EG3KP4</td>\n",
       "      <td>B00D2VUOU0</td>\n",
       "      <td>4.844005</td>\n",
       "    </tr>\n",
       "    <tr>\n",
       "      <th>234</th>\n",
       "      <td>A3L20U76EG3KP4</td>\n",
       "      <td>B00004U9VV</td>\n",
       "      <td>4.842439</td>\n",
       "    </tr>\n",
       "    <tr>\n",
       "      <th>497</th>\n",
       "      <td>A12F7BSYXFU5YC</td>\n",
       "      <td>B0000950Q2</td>\n",
       "      <td>5.000000</td>\n",
       "    </tr>\n",
       "    <tr>\n",
       "      <th>435</th>\n",
       "      <td>A12F7BSYXFU5YC</td>\n",
       "      <td>B000WEOQV8</td>\n",
       "      <td>5.000000</td>\n",
       "    </tr>\n",
       "    <tr>\n",
       "      <th>222</th>\n",
       "      <td>A12F7BSYXFU5YC</td>\n",
       "      <td>B00004U9VV</td>\n",
       "      <td>5.000000</td>\n",
       "    </tr>\n",
       "    <tr>\n",
       "      <th>581</th>\n",
       "      <td>A12F7BSYXFU5YC</td>\n",
       "      <td>B00AZXBDSU</td>\n",
       "      <td>5.000000</td>\n",
       "    </tr>\n",
       "    <tr>\n",
       "      <th>687</th>\n",
       "      <td>A12F7BSYXFU5YC</td>\n",
       "      <td>B000BQPW6A</td>\n",
       "      <td>5.000000</td>\n",
       "    </tr>\n",
       "    <tr>\n",
       "      <th>646</th>\n",
       "      <td>AIWDGRTLV7IQF</td>\n",
       "      <td>B00G8FF150</td>\n",
       "      <td>5.000000</td>\n",
       "    </tr>\n",
       "    <tr>\n",
       "      <th>908</th>\n",
       "      <td>AIWDGRTLV7IQF</td>\n",
       "      <td>B00ABGSX4S</td>\n",
       "      <td>5.000000</td>\n",
       "    </tr>\n",
       "    <tr>\n",
       "      <th>573</th>\n",
       "      <td>AIWDGRTLV7IQF</td>\n",
       "      <td>B00004U9VV</td>\n",
       "      <td>5.000000</td>\n",
       "    </tr>\n",
       "    <tr>\n",
       "      <th>57</th>\n",
       "      <td>AIWDGRTLV7IQF</td>\n",
       "      <td>B00D2VUOSW</td>\n",
       "      <td>5.000000</td>\n",
       "    </tr>\n",
       "    <tr>\n",
       "      <th>247</th>\n",
       "      <td>AIWDGRTLV7IQF</td>\n",
       "      <td>B0000950Q2</td>\n",
       "      <td>5.000000</td>\n",
       "    </tr>\n",
       "  </tbody>\n",
       "</table>\n",
       "</div>"
      ],
      "text/plain": [
       "         reviewerID        asin   predict\n",
       "155   A6HOWM08PLFZ5  B00FZJ9FXE  5.000000\n",
       "908   A6HOWM08PLFZ5  B001AN7RGG  5.000000\n",
       "783   A6HOWM08PLFZ5  B000FJYSHW  5.000000\n",
       "747   A6HOWM08PLFZ5  B0012QLVRM  4.979889\n",
       "427   A6HOWM08PLFZ5  B0071E238A  4.977554\n",
       "417  A3L20U76EG3KP4  B000WEOQV8  4.968442\n",
       "871  A3L20U76EG3KP4  B000NCWP44  4.880817\n",
       "547  A3L20U76EG3KP4  B001AN7RGG  4.872792\n",
       "786  A3L20U76EG3KP4  B00D2VUOU0  4.844005\n",
       "234  A3L20U76EG3KP4  B00004U9VV  4.842439\n",
       "497  A12F7BSYXFU5YC  B0000950Q2  5.000000\n",
       "435  A12F7BSYXFU5YC  B000WEOQV8  5.000000\n",
       "222  A12F7BSYXFU5YC  B00004U9VV  5.000000\n",
       "581  A12F7BSYXFU5YC  B00AZXBDSU  5.000000\n",
       "687  A12F7BSYXFU5YC  B000BQPW6A  5.000000\n",
       "646   AIWDGRTLV7IQF  B00G8FF150  5.000000\n",
       "908   AIWDGRTLV7IQF  B00ABGSX4S  5.000000\n",
       "573   AIWDGRTLV7IQF  B00004U9VV  5.000000\n",
       "57    AIWDGRTLV7IQF  B00D2VUOSW  5.000000\n",
       "247   AIWDGRTLV7IQF  B0000950Q2  5.000000"
      ]
     },
     "execution_count": 28,
     "metadata": {},
     "output_type": "execute_result"
    }
   ],
   "source": [
    "recommendations_collector.head(20)\n"
   ]
  },
  {
   "cell_type": "markdown",
   "metadata": {},
   "source": [
    " Performance of the hybrid model.<br>\n",
    " The RMSE has not been improved, but we are providing to the customer with products with more **serendipity** (outside of the current specialization)."
   ]
  },
  {
   "cell_type": "code",
   "execution_count": 29,
   "metadata": {},
   "outputs": [
    {
     "name": "stdout",
     "output_type": "stream",
     "text": [
      "RMSE of the hybrid monolithic recommender system is 1.27.\n"
     ]
    }
   ],
   "source": [
    "print(f'RMSE of the hybrid monolithic recommender system is {np.mean(performance_collector).round(2)}.')\n"
   ]
  }
 ],
 "metadata": {
  "kernelspec": {
   "display_name": "Python 3",
   "language": "python",
   "name": "python3"
  },
  "language_info": {
   "codemirror_mode": {
    "name": "ipython",
    "version": 3
   },
   "file_extension": ".py",
   "mimetype": "text/x-python",
   "name": "python",
   "nbconvert_exporter": "python",
   "pygments_lexer": "ipython3",
   "version": "3.8.3"
  }
 },
 "nbformat": 4,
 "nbformat_minor": 2
}
